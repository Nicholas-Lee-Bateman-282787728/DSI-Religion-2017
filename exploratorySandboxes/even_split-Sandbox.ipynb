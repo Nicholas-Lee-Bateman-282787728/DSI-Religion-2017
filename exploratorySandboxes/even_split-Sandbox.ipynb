{
 "cells": [
  {
   "cell_type": "code",
   "execution_count": 18,
   "metadata": {
    "collapsed": true
   },
   "outputs": [],
   "source": [
    "import os\n",
    "import random\n",
    "\n",
    "#os.remove()\n",
    "rawPath = '/Users/Seth/Documents/DSI/Capstone/DSI-Religion-2017/data_dsicap_EVEN/'"
   ]
  },
  {
   "cell_type": "code",
   "execution_count": 19,
   "metadata": {
    "collapsed": false
   },
   "outputs": [
    {
     "name": "stdout",
     "output_type": "stream",
     "text": [
      "['ACLU', 'Bahai', 'DorothyDay', 'Ghandi', 'IntegralYoga', 'ISIS', 'JohnPiper', 'MalcolmX', 'MehrBaba', 'NaumanKhan', 'PastorAnderson', 'Rabbinic', 'SeaShepherds', 'Shepherd', 'Unitarian', 'WBC']\n",
      "Bahai 50 files\n",
      "DorothyDay 774 files\n",
      "TOO MANY\n",
      "['860.html.txt', '268.html.txt', '709.html.txt', '590.html.txt', '300.html.txt', '630.html.txt', '792.html.txt', '565.html.txt', '503.html.txt', '161.html.txt', '649.html.txt', '673.html.txt', '865.html.txt', '694.html.txt', '216.html.txt', '849.html.txt', '12.html.txt', '589.html.txt', '553.html.txt', '631.html.txt', '279.html.txt', '212.html.txt', '472.html.txt', '533.html.txt', '397.html.txt', '398.html.txt', '575.html.txt', '217.html.txt', '748.html.txt', '678.html.txt', '53.html.txt', '716.html.txt', '41.html.txt', '724.html.txt', '730.html.txt', '899.html.txt', '308.html.txt', '227.html.txt', '466.html.txt', '720.html.txt', '657.html.txt', '757.html.txt', '150.html.txt', '554.html.txt', '672.html.txt', '610.html.txt', '331.html.txt', '569.html.txt', '330.html.txt', '527.html.txt']\n",
      "Ghandi 12 files\n",
      "IntegralYoga 59 files\n",
      "TOO MANY\n",
      "['YV28.txt', 'YV15.txt', 'YV32.txt', 'YV57.txt', 'YV13.txt', 'YV23.txt', 'YV10.txt', 'YV31.txt', 'YV21.txt', 'YV04.txt', 'YV17.txt', 'YV49.txt', 'YV22.txt', 'YV53.txt', 'YV16.txt', 'YV54.txt', 'YV56.txt', 'YV14.txt', 'YV50.txt', 'YV36.txt', 'YV45.txt', 'YV09.txt', 'YV06.txt', 'YV03.txt', 'YV40.txt', 'YV51.txt', 'YV52.txt', 'YV39.txt', 'YV18.txt', 'YV12.txt', 'YV58.txt', 'YV26.txt', 'YV20.txt', 'YV24.txt', 'YV47.txt', 'YV46.txt', 'YV30.txt', 'YV41.txt', 'YV05.txt', 'YV59.txt', 'YV38.txt', 'YV07.txt', 'YV48.txt', 'YV44.txt', 'YV11.txt', 'YV25.txt', 'YV55.txt', 'YV34.txt', 'YV27.txt', 'YV19.txt']\n",
      "ISIS 48 files\n",
      "JohnPiper 579 files\n",
      "TOO MANY\n",
      "['piper96 02-25-96.txt', 'piper86 jp86001c.txt', 'piper94 09-04-94.txt', 'piper98 6-14-98.txt', 'piper93 07-18-93.txt', 'piper87 jp870023.txt', 'piper94 04-24-94.txt', 'piper98 4-12-98.txt', 'piper87 jp870042.txt', 'piper89 10-15-89.txt', 'piper97 2-16-97.txt', 'piper87 jp870027.txt', 'piper89 4-7-89.txt', 'piper99 1-24-99.txt', 'piper94 01-23-94.txt', 'piper85 pn85002b.txt', 'piper94 02-27-94.txt', 'piper97 8-3-97.txt', 'piper90 11-25-90.txt', 'piper97 8-31-97.txt', 'piper99 11-21-99.txt', 'piper97 6-1-97.txt', 'piper82 042582m.txt', 'piper90 09-30-90.txt', 'piper96 10-06-96.txt', 'piper89 06-28-89.txt', 'piper89 5-21-89.txt', 'piper85 pn85001a.txt', 'piper2k 2-13-00.txt', 'piper87 jp870044.txt', 'piper96 06-23-96.txt', 'piper96 03-17-96.txt', 'piper91 03-31-91.txt', 'piper91 04-07-91.txt', 'piper94 10-23-94.txt', 'piper98 11-22-98.txt', 'piper87 jp870034.txt', 'piper96 09-01-96.txt', 'piper92 09-20-92.txt', 'piper91 02-17-91.txt', 'piper92 04-05-92.txt', 'piper85 pn850004.txt', 'piper97 11-09-97.txt', 'piper85 pn850017.txt', 'piper94 02-06-94.txt', 'piper95 06-11-95.txt', 'piper90 12-23-90.txt', 'piper98 6-21-98.txt', 'piper86 jp860006.txt', 'piper81 061481m.txt']\n",
      "MalcolmX 15 files\n",
      "MehrBaba 265 files\n",
      "TOO MANY\n",
      "['wgV1n2-2.txt', 'journal_2_3-8.txt', 'journal_2_1-11.txt', 'journal_2_2-9.txt', 'journal_2_1-10.txt', 'journal_1_1-6.txt', 'journal.02.05.03.txt', 'journal_1_2-9.txt', 'journal_2_3-4.txt', 'journal_1_6-4.txt', 'journal.01.07.05.txt', 'journal.1.11.09.txt', 'journal_1_3-6.txt', 'journal_1_2-12.txt', 'wgV1n10.01.txt', 'journal_2_1-5.txt', 'journal_2_1-3.txt', 'journal_1_3-12.txt', 'wgV1n1-2.txt', 'journal_1_3-2.txt', 'journal.01.08.11.txt', 'journal_1_5-4.txt', 'journal.02.04.07.txt', 'journal.01.08.13.txt', 'journal.01.08.07.txt', 'wgV1n5-2.txt', 'journal_1_4-17.txt', 'journal_2_2-1.txt', 'journal_1_4-9.txt', 'journal.1.9.06.txt', 'journal.02.06.04.txt', 'journal.01.08.03.txt', 'journal_1_3-16.txt', 'journal.02.05.05.txt', 'journal.1.10.05.txt', 'journal.01.07.07.txt', 'journal.01.08.08.txt', 'journal.1.12.01.txt', 'wgV1n07.01.txt', 'journal.1.9.10.txt', 'journal.02.06.10.txt', 'journal.1.9.07.txt', 'wgV1n9.01.txt', 'journal.1.10.06.txt', 'journal.01.08.09.txt', 'journal.1.12.04.txt', 'journal.1.9.03.txt', 'journal.1.9.04.txt', 'journal.02.04.11.txt', 'journal.01.07.02.txt']\n",
      "NaumanKhan 84 files\n",
      "TOO MANY\n",
      "['nak_transcript_3.docx.txt', 'divine_speech_prologue_part_ii.txt', 'are_you_living_a_dream.txt', 'nak-1.txt', 'punishments_versus_tests.docx.txt', 'leniency_in_leadership.docx.txt', 'InthefootstepsfAbrahamNAK.docx.txt', 'nak_money_matters.docx.txt', 'thelegacyofibrahimas-noumanalikhan.pdf.txt', 'happiness_fun_doc.txt', 'how_to_straighten_our_priorities__nouman_ali_khan_-_nouman_ali_khan_collection.docx.txt', 'taking_back_our_narrative.txt', 'why_should_i_believe_in_god_nak.docx.txt', 'nouman._the_want_of_plenty_distracted_you..docx.txt', 'khutbah.docx.txt', 'be_like_the_bee.docx.txt', 'level_of_faith_by_naumaan_ali_khan.docx.txt', 'following-the-lizard-nak.docx.txt', 'lessons_from_surah_ar_rehman.docx.txt', 'putting_life_in_perspective_khutbah_04-11-2014.docx.txt', 'the-man-of-two-gardens.txt', 'islam_and_ego_transcribed.txt', 'from_darkness_to_light__-_a_quranic_perspective.txt', 'ghaflah.txt', 'moses.docx.txt', 'blueprint_transcipction.docx.txt', 'when_muslims_work_together_7_transcript.docx.txt', 'returning_to_allah.docx.txt', 'brilliance_of_the_book.docx.txt', 'lessons_from_a_bird-2.docx.txt', 'islam_and_why_muslim_men_and_women_can.docx.txt', 'nak_-_the_story_of_robert_davila.docx.txt', 'flybacktoallah.txt', 'contradicting_community.docx.txt', 'sexual_desires.docx.txt', 'heart_mind_and_soulquranic_view_1.docx.txt', 'ramadan_a_gift_for_muslims.docx.txt', 'the_rights_and_responsibilities_of_marriage_by_nak.docx.txt', 'al_furqan_being_peaceful_and_greatful.docx.txt', 'time_love_praise_and_encouragement_in_relationship.docx.txt', 'the_search_for_the_sound_of_the_soul.docx.txt', 'importance_of_jummah_prayer-nouman_ali_khan_proof_read.docx.txt', 'distinctions_and_resp_of_muslim_ummah.docx.txt', 'dawahandyou.docx.txt', 'controlling_anger.docx.txt', 'signs_of_a_hypocrite.docx.txt', 'believers_response_by_nouman_ali_khan.txt', 'surah_fatiha_points_to_ponder.txt', 'khutbah_suruh_yusuf_dealing_with_grief_and_sadness.docx.txt', 'wmwt4_nak_voicing_your_concern2.docx.txt']\n",
      "PastorAnderson 228 files\n",
      "TOO MANY\n",
      "['transcript_back_bethel.html.txt', 'transcript_repentance_acts.html.txt', 'transcript_sw_instruction1.html.txt', 'transcript_berzins_camping.html.txt', 'transcript_restoring.html.txt', 'transcript_defying_god.html.txt', 'transcript_left_behind.html.txt', 'hinduism_in_light_of_the_bible.html.txt', 'transcript_commonism.html.txt', 'transcript_galatians_3.html.txt', 'transcript_defending_name_of_jesus.html.txt', 'transcript_sins_7_churches2.html.txt', 'lust.html.txt', 'transcript_dearborn.html.txt', 'transcript_marriage_advice.html.txt', 'realjews.html.txt', 'repentance_and_salvation.html.txt', 'transcript_2thess_2.html.txt', 'transcript_dont_matter.html.txt', 'transcript_heartily.html.txt', 'transcript_godly_sorrow.html.txt', 'transcript_blessed_readeth.html.txt', 'transcript_ramsey.html.txt', 'transcript_zechariah_3.html.txt', 'transcript_insanity.html.txt', 'transcript_sins_tongue.html.txt', 'transcript_truth_sodomites.html.txt', 'transcript_loving_truth.html.txt', 'transcript_departing_faith.html.txt', 'transcript_col_2.html.txt', 'transcript_example.html.txt', 'transcript_stammering.html.txt', 'transcript_raising_godly_children.html.txt', 'transcript_nakedness.html.txt', 'transcript_sos_5.html.txt', 'transcript_temptations.html.txt', 'transcript_having_a_plan.html.txt', 'transcript_net_cast_sea.html.txt', 'transcript_cost_serving_jesus.html.txt', 'transcript_new_morality.html.txt', 'transcript_zechariah_4.html.txt', 'transcript_galatians_2.html.txt', 'once_saved_always_saved.html.txt', 'transcript_using_right_words.html.txt', 'transcript_messiah_old.html.txt', 'transcript_name_of_god.html.txt', 'transcript_2thess_1.html.txt', 'transcript_denying_self.html.txt', 'transcript_substitutes.html.txt', 'transcript_zechariah_1.html.txt']\n",
      "Rabbinic 166 files\n",
      "TOO MANY\n",
      "['torahs-intent.txt', 'radical-hospitality.txt', 'life-we-have-chosen.txt', '%5Bfield_dateline-date%5D-16.txt', '%5Bfield_dateline-date%5D-45.txt', '%5Bfield_dateline-date%5D-42.txt', 'form-message.txt', 'these-things-i-will-never-forget.txt', '%5Bfield_dateline-date%5D-12.txt', '%5Bfield_dateline-date%5D-51.txt', 'blessed-are-introverts.txt', 'doing-jewish-other-jews.txt', 'freedom%E2%80%99s-journey.txt', '%5Bfield_dateline-date%5D-6.txt', 'keter.txt', '%5Bfield_dateline-date%5D-2.txt', '%5Bfield_dateline-date%5D-33.txt', 'will-believe.txt', 'hyphen-within.txt', 'brother-can-you-spare-blessing.txt', 'tipping-balance.txt', 'why-synagogue.txt', '%5Bfield_dateline-date%5D-3.txt', 'nothing-%E2%80%9Cjust-happens%E2%80%9D.txt', 'true-grit.txt', 'partings-sweet-sorrow-0.txt', 'hidden-question.txt', '%5Bfield_dateline-date%5D-68.txt', '615th-commandment.txt', '%5Bfield_dateline-date%5D-11.txt', '%5Bfield_dateline-date%5D-37.txt', 'god-enough-sometimes.txt', 'rules-rabbis.txt', '%5Bfield_dateline-date%5D-69.txt', 'abnormal-evil.txt', 'two-worlds-judaism.txt', 'liberty-and-its-limits.txt', 'arevut.txt', '%5Bfield_dateline-date%5D-48.txt', 'model-ministry.txt', 'what-comes-next.txt', 'fate-awaits-us-all.txt', '%5Bfield_dateline-date%5D-47.txt', 'keep-moving.txt', 'light-one-candle.txt', '%5Bfield_dateline-date%5D-36.txt', '%5Bfield_dateline-date%5D-35.txt', '%5Bfield_dateline-date%5D-43.txt', 'counterfactual.txt', 'enlarging-your-heart.txt']\n",
      "SeaShepherds 20 files\n",
      "Shepherd 728 files\n",
      "TOO MANY\n",
      "['what-must-be-taught-steve-shepherd-sermon-on-doctrine-161709.asp.txt', 'the-burden-god-laid-on-us-steve-shepherd-sermon-on-heaven-89895.asp.txt', 'tis-the-season-to-live-and-give-steve-shepherd-sermon-on-christmas-129751.asp.txt', 'i-cried-out-to-god-steve-shepherd-sermon-on-affliction-173147.asp.txt', 'drink-your-own-water-steve-shepherd-sermon-on-sexual-immorality-191442.asp.txt', 'all-in-the-family-steve-shepherd-sermon-on-children-110063.asp.txt', 'five-were-wise-and-five-were-foolish-steve-shepherd-sermon-on-jesus-ministry-104185.asp.txt', 'i-was-i-did-i-will-steve-shepherd-sermon-on-paul-124911.asp.txt', 'proverbial-wisdom-steve-shepherd-sermon-on-bible-influence-66261.asp.txt', 'bringing-home-the-bacon-steve-shepherd-sermon-on-fathers-day-158047.asp.txt', 'the-partys-over-steve-shepherd-sermon-on-doing-gods-will-42306.asp.txt', 'dont-be-ashamed-steve-shepherd-sermon-on-faith-160637.asp.txt', 'how-to-behave-in-church-steve-shepherd-sermon-on-church-body-of-christ-32814.asp.txt', 'righteousness-delivers-from-death-steve-shepherd-sermon-on-righteousness-192619.asp.txt', 'when-christians-disagree-steve-shepherd-sermon-on-forgiveness-general-58951.asp.txt', 'last-words-and-last-sighting-steve-shepherd-sermon-on-jesus-teachings-105889.asp.txt', 'in-this-you-greatly-rejoice-steve-shepherd-sermon-on-joy-131090.asp.txt', 'silence-the-ignorant-talk-of-foolish-men-steve-shepherd-sermon-on-authority-138370.asp.txt', 'help-from-on-high-steve-shepherd-sermon-on-gods-forgiveness-51078.asp.txt', 'a-memorial-to-my-mother-juanita-shepherd-steve-shepherd-sermon-on-christian-love-48324.asp.txt', 'what-the-church-should-be-steve-shepherd-sermon-on-church-body-of-christ-48372.asp.txt', 'committed-to-doing-something-part-ii-steve-shepherd-sermon-on-gifts-encouragement-87877.asp.txt', 'commitment-to-the-truth-steve-shepherd-sermon-on-bible-truth-85406.asp.txt', 'redeemed--oh-yes-steve-shepherd-sermon-on-salvation-137668.asp.txt', 'proverbial-wisdom-steve-shepherd-sermon-on-growth-in-christ-72280.asp.txt', 'good-days--bad-days-steve-shepherd-sermon-on-easter-palm-sunday-120161.asp.txt', 'for-granted-or-gratitude-steve-shepherd-sermon-on-knowing-gods-will-32146.asp.txt', 'the-only-hope-for-america-steve-shepherd-sermon-on-america-148019.asp.txt', 'you-adulterous-people-steve-shepherd-sermon-on-adultery-165397.asp.txt', 'safe-guidelines-for-life-steve-shepherd-sermon-on-doing-gods-will-35857.asp.txt', 'concerning-this-salvation-steve-shepherd-sermon-on-angels-133594.asp.txt', 'one-heart-and-mind-steve-shepherd-sermon-on-unity-109141.asp.txt', 'adultery-and-the-adulterous-woman-steve-shepherd-sermon-on-sexual-immorality-191772.asp.txt', 'holiday-attitudes-steve-shepherd-sermon-on-giving-general-63780.asp.txt', 'making-the-best-out-of-life--part-iii-steve-shepherd-sermon-on-christian-love-49964.asp.txt', 'gods-approved-worker-steve-shepherd-sermon-on-evangelism-how-to-161020.asp.txt', 'feeding-five-thousand-and-then-some-steve-shepherd-sermon-on-miracles-of-jesus-98621.asp.txt', 'building-the-church-building-you-steve-shepherd-sermon-on-evangelism-how-to-32137.asp.txt', 'avoiding-hell-steve-shepherd-sermon-on-jesus-teachings-98375.asp.txt', 'making-things-right-when-things-go-wrong-steve-shepherd-sermon-on-30200.asp.txt', 'the-game-of-life-steve-shepherd-sermon-on-doing-gods-will-32143.asp.txt', 'old-time-gospel-beliefs-steve-shepherd-sermon-on-doing-gods-will-36086.asp.txt', 'who-may-live-on-gods-holy-hill-steve-shepherd-sermon-on-heaven-170777.asp.txt', 'the-faithfulness-of-god-steve-shepherd-sermon-on-god-the-father-32142.asp.txt', 'commitment-to-thanksgiving-steve-shepherd-sermon-on-thanksgiving-holiday-85066.asp.txt', 'remembering-honoring-trusting-steve-shepherd-sermon-on-forgiveness-general-50131.asp.txt', 'jesus-is-the-one-steve-shepherd-sermon-on-christmas-163062.asp.txt', 'the-pattern-steve-shepherd-sermon-on-doctrine-160695.asp.txt', 'christmas-concerns-steve-shepherd-sermon-on-christmas-64147.asp.txt', 'godless-dreamers-steve-shepherd-sermon-on-false-teaching-127853.asp.txt']\n",
      "Unitarian 276 files\n",
      "TOO MANY\n",
      "['2006-01-22 Healing our Hurt, Rev. Mark Belletini.PDF.txt', '2002-01-27 Whole Persons, Tattered Lives, Rev. Mark Belletini.htm.txt', '2003-02-02 Anatomy of Sex and Power, Rev. Mark Belletini.htm.txt', '2005-02-13 Impact and Intimacy, Rev. Mark Belletini.PDF.txt', '2013-03-17 God and Gaps, Rev. Mark Belletini.pdf.txt', '2005-04-24 The Eternal Mystery Story, Rev. Mark Belletini.PDF.txt', '2010-03-28 Literalism, Rev. Mark Belletini.pdf.txt', '2002-01-13 Throwing Out the Bible with the Baptismal Water, Rev. Mark Belletini.htm.txt', '2003-01-19 Nocturn in Black and White, Rev. Mark Belletini.htm.txt', '2006-04-30 Anger Hot and Cold, Rev. Mark Belletini.PDF.txt', '2007-04-06 War and Peace, Rev. Mark Belletini.PDF.txt', '2004-11-07 Democracy--A Post-Election Sermon, Rev. Mark Belletini.PDF.txt', '2003-06-08 On Making Decisions, Rev. Mark Belletini.htm.txt', '2008-03-09 Rediscovering Unitarianism in Transylvania, Rev. Scott Gerard Prinster.PDF.txt', '2002-03-24 Salvation--Saved from What, Rev. Mark Belletini.htm.txt', '2005-02-06 How and Why To Sing, Rev. Mark Belletini.PDF.txt', '2008-12-07 Hope, Rev. Mark Belletini.pdf.txt', '2005-07-10 Promoting Acceptance and Spiritual Growth, James Bailey.PDF.txt', '2008-04-06 Accountability, Rev. Mark Belletini.txt', '2010-04-25 Fear of Life and Death, Rev. Mark Belletini.pdf.txt', '2014-03-02 Like-Minded Like-Hearted Like-Storied, Rev. Mark Belletini.pdf.txt', '2007-11-18 Crumbs, Rev. Mark Belletini.PDF.txt', '2013-04-21 Life and Death Beyond These Walls, Rev. Mark Belletini.pdf.txt', '2011-02-13 Listening to the Evolution Symphony, Rev. Dr. Mark Belletini.pdf.txt', '2005-01-16 Competing Oppressions, Rev. Mark Belletini.PDF.txt', '2002-03-10 Soul--Sermon and Celebration, Rev. Mark Belletini.htm.txt', '2002-05-26 Celebration of Life for Memorial Day Sunday, Rev. Mark Belletini.htm.txt', '2005-06-26 The Inherent Worth and Dignity of Every Person, Bob Gordon.PDF.txt', '2004-09-12 Water Sunday, Rev. Mark Belletini.PDF.txt', '2002-03-17 Surrender, Rev. Mark Belletini.htm.txt', '2011-12-11 Hope Not Hype, Rev. Mark Belletini.pdf.txt', '2006-06-11 Gay Pride Sermon, Rev. Mark Belletini.PDF.txt', '2008-01-27 Grief as a Spiritual Path, Rev. Mark Belletini.pdf.txt', '2012-03-04 Remembering Josseline, Rev. Eric Meter.pdf.txt', '2005-03-20 On Evil, Rev. Mark Belletini.PDF.txt', '2007-01-07 Along the Way, Joy, Rev. Mark Belletini.PDF.txt', '2014-08-24 Under the Sun, Rev. Mark Belletini.txt', '2008-10-05 Leftovers, Rev. Mark Belletini.pdf.txt', '2014-01-05 Authority and Fear, Rev. Mark Belletini.pdf.txt', '2005-07-24 The Power to Be, Kay Fisher.PDF.txt', '2003-02-23 The Most Famous and Influential Member of this Congregation in Sixty-Three Years, Rev. Mark Belletini.htm.txt', '2004-02-01 Blues Without Music, Revs. Mark Belletini and Wendy Fish.PDF.txt', '2012-01-15 Resisting Being Co-Opted (MLK Sunday), Rev. Mark Belletini.pdf.txt', '2008-08-24 Knoxville, Rev. Mark Belletini.pdf.txt', '2003-06-15 A Timely Homely on What I Never Seem to Have, Rev. Mark Belletini.htm.txt', '2005-12-24 Christmas Eve Compline, Rev. Mark Belletini.pdf.txt', '2011-04-24 Wanting to Rise Up, Rev. Dr. Mark Belletini.pdf.txt', '2007-12-24 Christmas Eve, Rev. Mark Belletini.txt', '2004-03-14 Fear,  Rev. Mark Belletini.PDF.txt', '2010-05-23 Edges, Rev. Mark Belletini.pdf.txt']\n",
      "WBC 419 files\n",
      "TOO MANY\n",
      "['WestboroBaptist_Sermon_20110619.pdf.txt', 'WestboroBaptist_Sermon_20150201.pdf.txt', 'WestboroBaptist_Sermon_20070916.pdf.txt', 'WestboroBaptist_Sermon_20150215.pdf.txt', 'WestboroBaptist_Sermon_20090607.pdf.txt', 'WestboroBaptist_Sermon_20110220.pdf.txt', 'WestboroBaptist_Sermon_20090125.pdf.txt', 'WestboroBaptist_Sermon_20110320.pdf.txt', 'WestboroBaptist_Sermon_20120617.pdf.txt', 'WestboroBaptist_Sermon_20110522.pdf.txt', 'WestboroBaptist_Sermon_20110626.pdf.txt', 'WestboroBaptist_Sermon_20131020.pdf.txt', 'WestboroBaptist_Sermon_20110529.pdf.txt', 'WestboroBaptist_Sermon_20141228.pdf.txt', 'WestboroBaptist_Sermon_20110807.pdf.txt', 'WestboroBaptist_Sermon_20111002.pdf.txt', 'WestboroBaptist_Sermon_20090104.pdf.txt', 'WestboroBaptist_Sermon_20090809.pdf.txt', 'WestboroBaptist_Sermon_20130901.pdf.txt', 'WestboroBaptist_Sermon_20110227.pdf.txt', 'WestboroBaptist_Sermon_20110123.pdf.txt', 'WestboroBaptist_Sermon_20120805.pdf.txt', 'WestboroBaptist_Sermon_20110102.pdf.txt', 'WestboroBaptist_Sermon_20100919.pdf.txt', 'WestboroBaptist_Sermon_20120610.pdf.txt', 'WestboroBaptist_Sermon_20130414.pdf.txt', 'WestboroBaptist_Sermon_20150510.pdf.txt', 'WestboroBaptist_Sermon_20080511.pdf.txt', 'WestboroBaptist_Sermon_20101017.pdf.txt', 'WestboroBaptist_Sermon_20120318.pdf.txt', 'WestboroBaptist_Sermon_20140413.pdf.txt', 'WestboroBaptist_Sermon_20090111.pdf.txt', 'WestboroBaptist_Sermon_20130421.pdf.txt', 'WestboroBaptist_Sermon_20111120.pdf.txt', 'WestboroBaptist_Sermon_20140608.pdf.txt', 'WestboroBaptist_Sermon_20140720.pdf.txt', 'WestboroBaptist_Sermon_20081005.pdf.txt', 'WestboroBaptist_Sermon_20130310.pdf.txt', 'WestboroBaptist_Sermon_20140727.pdf.txt', 'WestboroBaptist_Sermon_20090906.pdf.txt', 'WestboroBaptist_Sermon_20091004.pdf.txt', 'WestboroBaptist_Sermon_20150607.pdf.txt', 'WestboroBaptist_Sermon_20100110.pdf.txt', 'WestboroBaptist_Sermon_20130630.pdf.txt', 'WestboroBaptist_Sermon_20130818.pdf.txt', 'WestboroBaptist_Sermon_20120701.pdf.txt', 'WestboroBaptist_Sermon_20150614.pdf.txt', 'WestboroBaptist_Sermon_20090201.pdf.txt', 'WestboroBaptist_Sermon_20091213.pdf.txt', 'WestboroBaptist_Sermon_20140525.pdf.txt']\n"
     ]
    }
   ],
   "source": [
    "# get groups in \n",
    "groups = os.listdir(rawPath)\n",
    "\n",
    "# remove these red herrings if necessary\n",
    "naw = ['.DS_Store', 'test_train', 'norun', 'fake_data', 'ref']\n",
    "[groups.remove(x) for x in groups if x in naw]\n",
    "print(groups)\n",
    "#\n",
    "#rawFileList=[]\n",
    "for groupId in groups:\n",
    "    for dirpath, dirnames, filenames in os.walk(rawPath+groupId+'/raw'):\n",
    "        ## clean out non .txt files\n",
    "        filenames = [filename for filename in filenames if \".txt\" in filename]\n",
    "        print(groupId + ' ' + str(len(filenames)) + ' files')\n",
    "        # if more than 50 docs, randomly delete a bunch\n",
    "        if len(filenames) > 50:\n",
    "            print('TOO MANY')\n",
    "            keepers = random.sample(filenames, 50)\n",
    "            print(keepers)\n",
    "            #losers = [x for x in filenames if x not in keepers]\n",
    "            #print(len(losers))\n",
    "            for thisFile in filenames:\n",
    "                if thisFile not in keepers:\n",
    "                    os.remove(rawPath+groupId+'/raw/'+thisFile)\n",
    "            "
   ]
  },
  {
   "cell_type": "code",
   "execution_count": 20,
   "metadata": {
    "collapsed": false
   },
   "outputs": [
    {
     "name": "stdout",
     "output_type": "stream",
     "text": [
      "Bahai 50 files\n",
      "DorothyDay 50 files\n",
      "Ghandi 12 files\n",
      "IntegralYoga 50 files\n",
      "ISIS 48 files\n",
      "JohnPiper 50 files\n",
      "MalcolmX 15 files\n",
      "MehrBaba 50 files\n",
      "NaumanKhan 50 files\n",
      "PastorAnderson 50 files\n",
      "Rabbinic 50 files\n",
      "SeaShepherds 20 files\n",
      "Shepherd 50 files\n",
      "Unitarian 50 files\n",
      "WBC 50 files\n"
     ]
    }
   ],
   "source": [
    "for groupId in groups:\n",
    "    for dirpath, dirnames, filenames in os.walk(rawPath+groupId+'/raw'):\n",
    "        ## clean out non .txt files\n",
    "        filenames = [filename for filename in filenames if \".txt\" in filename]\n",
    "        print(groupId + ' ' + str(len(filenames)) + ' files')"
   ]
  },
  {
   "cell_type": "code",
   "execution_count": null,
   "metadata": {
    "collapsed": true
   },
   "outputs": [],
   "source": []
  }
 ],
 "metadata": {
  "kernelspec": {
   "display_name": "Python [py27]",
   "language": "python",
   "name": "Python [py27]"
  },
  "language_info": {
   "codemirror_mode": {
    "name": "ipython",
    "version": 2
   },
   "file_extension": ".py",
   "mimetype": "text/x-python",
   "name": "python",
   "nbconvert_exporter": "python",
   "pygments_lexer": "ipython2",
   "version": "2.7.12"
  }
 },
 "nbformat": 4,
 "nbformat_minor": 0
}
