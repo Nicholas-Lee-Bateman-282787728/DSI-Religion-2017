{
 "cells": [
  {
   "cell_type": "code",
   "execution_count": 1,
   "metadata": {
    "collapsed": false
   },
   "outputs": [
    {
     "name": "stdout",
     "output_type": "stream",
     "text": [
      "[nltk_data] Downloading package punkt to /Users/Seth/nltk_data...\n",
      "[nltk_data]   Package punkt is already up-to-date!\n",
      "[nltk_data] Downloading package maxent_treebank_pos_tagger to\n",
      "[nltk_data]     /Users/Seth/nltk_data...\n",
      "[nltk_data]   Package maxent_treebank_pos_tagger is already up-to-\n",
      "[nltk_data]       date!\n",
      "[nltk_data] Downloading package averaged_perceptron_tagger to\n",
      "[nltk_data]     /Users/Seth/nltk_data...\n",
      "[nltk_data]   Package averaged_perceptron_tagger is already up-to-\n",
      "[nltk_data]       date!\n",
      "2016-11-14 07:34:30.858021\n",
      "finished loading packages after 2.76092004776 seconds\n"
     ]
    }
   ],
   "source": [
    "# -*- coding: utf-8 -*-\n",
    "\"\"\"\n",
    "Created on Tue Jul 19 16:14:43 2016\n",
    "\n",
    "@author: nmvenuti\n",
    "\"\"\"\n",
    "\n",
    "# -*- coding: utf-8 -*-\n",
    "\"\"\"\n",
    "Created on Thu Jun  2 15:23:11 2016\n",
    "\n",
    "@author: nmvenuti\n",
    "\"\"\"\n",
    "import time\n",
    "start=time.time()\n",
    "import sys, os\n",
    "\n",
    "os.chdir('/Users/Seth/Documents/DSI/Capstone/DSI-Religion-2017')\n",
    "#from joblib import Parallel, delayed\n",
    "#import multiprocessing as mp\n",
    "import os.path\n",
    "import numpy as np\n",
    "import pandas as pd\n",
    "from datetime import datetime\n",
    "sys.path.append('./prototype_python/')\n",
    "import lingual as la\n",
    "import nltk\n",
    "nltk.download('punkt')\n",
    "nltk.download('maxent_treebank_pos_tagger')\n",
    "nltk.download('averaged_perceptron_tagger')\n",
    "\n",
    "\n",
    "end=time.time()\n",
    "#sys.stdout = open(\"output.txt\", \"a\")\n",
    "print(str(datetime.now()))\n",
    "print('finished loading packages after '+str(end-start)+' seconds')\n",
    "sys.stdout.flush()\n",
    "\n",
    "#\n",
    "import getNewDocs as gnd\n",
    "\n",
    "stemmer = nltk.stem.snowball.EnglishStemmer()\n"
   ]
  },
  {
   "cell_type": "code",
   "execution_count": 2,
   "metadata": {
    "collapsed": false
   },
   "outputs": [
    {
     "name": "stdout",
     "output_type": "stream",
     "text": [
      "50\n",
      "41\n",
      "59\n",
      "24\n",
      "20\n",
      "53\n",
      "[['DorothyDay', 'test0'], ['Bahai', 'train4'], ['IntegralYoga', 'train10'], ['SeaShepherds', 'test1'], ['IntegralYoga', 'test1'], ['WBC', 'test3'], ['WBC', 'train9'], ['DorothyDay', 'train5'], ['Rabbinic', 'test0'], ['IntegralYoga', 'train6'], ['WBC', 'train5'], ['DorothyDay', 'test1'], ['Rabbinic', 'train2'], ['Bahai', 'train5'], ['WBC', 'test1'], ['IntegralYoga', 'test0'], ['SeaShepherds', 'train3'], ['WBC', 'train8'], ['DorothyDay', 'train4'], ['IntegralYoga', 'train7'], ['IntegralYoga', 'train11'], ['WBC', 'train4'], ['IntegralYoga', 'train8'], ['Bahai', 'test2'], ['Rabbinic', 'train3'], ['IntegralYoga', 'test3'], ['SeaShepherds', 'train2'], ['DorothyDay', 'test2'], ['Bahai', 'train6'], ['DorothyDay', 'train8'], ['IntegralYoga', 'train9'], ['Bahai', 'test1'], ['DorothyDay', 'train7'], ['IntegralYoga', 'train4'], ['Bahai', 'train3'], ['WBC', 'train7'], ['WBC', 'train10'], ['Bahai', 'train8'], ['IntegralYoga', 'test2'], ['DorothyDay', 'train3'], ['Rabbinic', 'train4'], ['Bahai', 'train7'], ['SeaShepherds', 'test0'], ['WBC', 'test2'], ['Bahai', 'test0'], ['DorothyDay', 'train6'], ['Rabbinic', 'test1'], ['WBC', 'test0'], ['IntegralYoga', 'train5'], ['WBC', 'train6'], ['Bahai', 'train9']]\n",
      "%%%%%\n",
      "length of subgroupList is 51\n"
     ]
    }
   ],
   "source": [
    "fileDF=gnd.newDocsToDF('./data_dsicap/', bin=5) ################################### WHERE THE NEW FILES ARE\n",
    "\n",
    "fileList=fileDF.values.tolist()\n",
    "\n",
    "fileList=[[fileList[i][0],fileList[i][1],fileList[i][2]] for i in range(len(fileList))]\n",
    "\n",
    "\n",
    "#Get set of subgroups\n",
    "subgroupList=[ list(y) for y in set((x[0],x[2]) for x in fileList) ]\n",
    "print(subgroupList)\n",
    "print('%%%%%\\nlength of subgroupList is ' + str(len(subgroupList)))"
   ]
  },
  {
   "cell_type": "code",
   "execution_count": 3,
   "metadata": {
    "collapsed": true
   },
   "outputs": [],
   "source": [
    "rawPath = './data_dsicap/' ###############change this eventually\n",
    "runDirectory='./modelOutput/'\n",
    "#groupList=['DorothyDay','JohnPiper','MehrBaba','NaumanKhan','PastorAnderson',\n",
    "#   'Rabbinic','Shepherd','Unitarian','WBC']\n",
    "#groupList=['DorothyDay','NaumanKhan','Rabbinic','NawDawg','SeaShepherds','IntegralYoga','Bahai']\n",
    "#cocoWindow=int(sys.argv[1])\n",
    "#cvWindow=int(sys.argv[2])\n",
    "#startCount=int(sys.argv[3])\n",
    "#netAngle=int(sys.argv[4])\n",
    "cocoWindow=3\n",
    "cvWindow=3\n",
    "startCount=0\n",
    "netAngle=30\n",
    "groupSize=10\n",
    "#testSplit=.3\n",
    "targetWordCount=10\n",
    "svdInt=50\n",
    "simCount=1000"
   ]
  },
  {
   "cell_type": "code",
   "execution_count": 4,
   "metadata": {
    "collapsed": false
   },
   "outputs": [
    {
     "name": "stdout",
     "output_type": "stream",
     "text": [
      "51\n"
     ]
    }
   ],
   "source": [
    "#Create paramList\n",
    "paramList=[[x,fileList,targetWordCount,cocoWindow,svdInt,cvWindow,simCount,startCount,netAngle] for x in subgroupList]\n",
    "print(len(paramList))"
   ]
  },
  {
   "cell_type": "markdown",
   "metadata": {},
   "source": [
    "# PICK THE GROUP"
   ]
  },
  {
   "cell_type": "code",
   "execution_count": 5,
   "metadata": {
    "collapsed": false
   },
   "outputs": [],
   "source": [
    "#Run calculation \n",
    "#masterOutput=[textAnalysis(x) for x in paramList]  ### INSTEAD OF THIS, WE MAKE THE OBJECT\n",
    "paramPick = paramList[0] ### instead of looping through, we just pick one ############################### PICK GROUP###\n",
    "#print(paramPick)"
   ]
  },
  {
   "cell_type": "code",
   "execution_count": 6,
   "metadata": {
    "collapsed": false
   },
   "outputs": [
    {
     "name": "stdout",
     "output_type": "stream",
     "text": [
      "['DorothyDay', 'test0']\n"
     ]
    }
   ],
   "source": [
    "#def textAnalysis(paramPick):\n",
    "startTime=time.time()\n",
    "groupId=paramPick[0]\n",
    "fileList=paramPick[1]\n",
    "targetWordCount=paramPick[2]\n",
    "cocoWindow=paramPick[3]\n",
    "svdInt=paramPick[4]\n",
    "cvWindow=paramPick[5]\n",
    "simCount=paramPick[6]\n",
    "startCount=paramPick[7]\n",
    "netAngle=paramPick[8]    \n",
    "\n",
    "print(groupId)"
   ]
  },
  {
   "cell_type": "code",
   "execution_count": 7,
   "metadata": {
    "collapsed": false
   },
   "outputs": [
    {
     "name": "stdout",
     "output_type": "stream",
     "text": [
      "5\n",
      "['./data_dsicap/DorothyDay/raw/153.html.txt', './data_dsicap/DorothyDay/raw/160.html.txt', './data_dsicap/DorothyDay/raw/171.html.txt', './data_dsicap/DorothyDay/raw/176.html.txt', './data_dsicap/DorothyDay/raw/54.html.txt']\n"
     ]
    }
   ],
   "source": [
    "#Get list of subfiles\n",
    "subFileList=[x[1] for x in fileList if x[0]==groupId[0] and x[2]==groupId[1]]\n",
    "print(len(subFileList))\n",
    "print(subFileList)"
   ]
  },
  {
   "cell_type": "code",
   "execution_count": 8,
   "metadata": {
    "collapsed": false
   },
   "outputs": [],
   "source": [
    "############################\n",
    "#Create lingual object\n",
    "loTest=la.lingualObject(subFileList)\n",
    "############################"
   ]
  },
  {
   "cell_type": "code",
   "execution_count": 9,
   "metadata": {
    "collapsed": false
   },
   "outputs": [
    {
     "name": "stdout",
     "output_type": "stream",
     "text": [
      "DorothyDay\n"
     ]
    }
   ],
   "source": [
    "##### LOOK AT LIST OF TOKENS FOR FILE\n",
    "#print(subFileList[0])\n",
    "#loTest.tokens[subFileList[0]]\n",
    "print(loTest.group)"
   ]
  },
  {
   "cell_type": "markdown",
   "metadata": {
    "collapsed": true
   },
   "source": [
    "# the new way\n",
    "#### tfidfNoPro"
   ]
  },
  {
   "cell_type": "code",
   "execution_count": 193,
   "metadata": {
    "collapsed": false
   },
   "outputs": [
    {
     "name": "stdout",
     "output_type": "stream",
     "text": [
      "[u'love', u'want', u'get', u'bread', u'thing', u'christ', u'say', u'tri', u'talk', u'worker']\n"
     ]
    }
   ],
   "source": [
    "loTest.setKeywords('tfidfNoPro',targetWordCount,startCount)\n",
    "#print(loTest.keywords)\n",
    "#keys = [word for word in loTest.keywords if not 'codecerror']\n",
    "#keys = []\n",
    "#for word in loTest.keywords:\n",
    "#    if word != 'codecerror':\n",
    "#        keys = keys + [word]\n",
    "#print(keys)\n",
    "#loTest.keywords = keys\n",
    "print(loTest.keywords)"
   ]
  },
  {
   "cell_type": "code",
   "execution_count": null,
   "metadata": {
    "collapsed": true
   },
   "outputs": [],
   "source": []
  },
  {
   "cell_type": "code",
   "execution_count": null,
   "metadata": {
    "collapsed": true
   },
   "outputs": [],
   "source": []
  },
  {
   "cell_type": "markdown",
   "metadata": {},
   "source": [
    "## LOOKING AT TAGGING (for the purpose of pronoun + keyword sentences)"
   ]
  },
  {
   "cell_type": "code",
   "execution_count": 90,
   "metadata": {
    "collapsed": false
   },
   "outputs": [
    {
     "name": "stdout",
     "output_type": "stream",
     "text": [
      "['./data_dsicap/DorothyDay/raw/160.html.txt', './data_dsicap/DorothyDay/raw/171.html.txt', './data_dsicap/DorothyDay/raw/54.html.txt', './data_dsicap/DorothyDay/raw/176.html.txt', './data_dsicap/DorothyDay/raw/153.html.txt']\n"
     ]
    }
   ],
   "source": [
    "print(loTest.sentences.keys())"
   ]
  },
  {
   "cell_type": "code",
   "execution_count": 91,
   "metadata": {
    "collapsed": false
   },
   "outputs": [
    {
     "name": "stdout",
     "output_type": "stream",
     "text": [
      "['The Catholic Worker , July-August 1948 , 1,2 , 6 .', 'Summary : Argues that distributism is the only alternative to the US economy .', 'Distributism is an alternative to capitalism and socialism built around the village economy and a more just distribution of wealth .', 'Quotes four modern Popes in its support .', 'Summarizes its principles with the following Statements : land is the most natural form of property wages should enable man to purchase land the family is the most perfect when rooted in its own holdings agriculture is the first and most important of all arts .', '( See also DOC # 159 and DOC # 161 ) ( DDLW # 160 ) .', 'We have a farm at Newburgh of nearly six acres .', 'We are raising hay , corn , vegetables , pigs , chickens , a cow .', 'Every few days the dog , King , has brought in woodchucks and some of them weigh eight pounds .', 'He must have caught fifty this year .', 'Down at the docks the Negroes fish without a license for eels .', 'It is woodchuck season and you can eat the woodchucks now .', 'You skin them as you do rabbits , and roasted with sage dressing they make a good meal , and they are cleaner than chicken or hog .', 'Right now Carmela and Florence are sitting out under the crabapple tree stringing beans .', 'There are peas and broccoli and swiss chard besides lettuce for salads .', 'It is getting easier to feed the forty or so retreatants who come every few weeks to the farm and the twenty who are here all summer .', 'I tell these things to make the mouth water .', 'In the fall we are going to put in a field of wheat and next summer , God willing , we will have our own flour for the good whole wheat loaves that come out of the oven every day .', 'For the average worker it is more and more difficult to get food .', 'Butter , oleo and fat are sky high .', 'Meat costs a fortune .', 'Food prices have gone up 133 % and milk 85 % .', 'We saw these figures in a magazine recently to advertise milk as a food .', 'How to live , how to feed a family !', 'Most of all , how to find shelter !', '*** Every month I shall have to explain the title to this series .', 'We are not expecting utopia here on this earth .', 'But God meant things to be much easier than we have made them .', 'A man has a natural right to food , clothing , and shelter .', 'A certain amount of goods is necessary to lead a good life .', 'A family needs work as well as bread .', 'Properly is proper to man .', 'We must keep repeating these things .', 'Eternal life begins now .', 'All the way to heaven is heaven , because He said , I am the Way .', 'The Cross is there of course , but in the cross is joy of spirit .', 'And love makes all things easy .', 'If we are putting off the old man and putting on Christ , then we are walking in love , and love is what we all want .', 'But it is hard to love , from the human standpoint and from the divine standpoint , in a two room apartment .', 'We are eminently practical , realistic .', '*** Irene has charge of the clothes at Mott street ( besides having charge of the womens house and writing for the paper , and seeing visitors ) and the other day a mother of eleven children , nine of them living , came in to get clothes .', 'They are all living at the Municipal lodging house on Third street .', 'The other afternoon when the rain had stopped Irene and I walked down Mott street to Bleecker where Mott street ends , then over to the Bowery and up one block to third , and there , just to the east of the Bowery , is the big building that used to be the Bowery Y.M.C.A .', 'and which is now a municipal shelter .', 'I was familiar with the place because it used to have a clean up system before the blessed days of D.D.T .', 'which you can use like a talcum powder , and there once in a while I used to bring my old friend Mr.Breen .', 'He was a very dignified old man , with a beautiful beard and he walked with a cane .', 'He looked like Chief Justice Hughes .', 'He had worked as Sunday editor of the Washington Post , and he had worked for the N.Y. World , written reviews for the Commonweal , poetry for us , and had assisted us , during his last years , in answering our large correspondence .', 'His wife and children had died , he had fallen into bad times and during the depression we became his family .', 'For a time he had slept in the worlds largest bedroom , on a dock down at South Ferry , where the Municipality put up about 1,200 men every night .', 'He used to tell us a story of one old man who evidently thought he was in a cathedral , so vast was the long dim dock at night , and in his night shirt , with his long sticks of legs making him look like a strange bird , he used to make the stations down the inner aisle between the double-decker beds , pausing at every seventh bed to pray .', 'Mr.Breen had many such stories of the poor .', 'We had to take him , as I said before , to the Bowery Y , for a clean-up every now and then .', 'One could bathe at leisure , have ones clothes cleaned and pressed , and have a shave and a hair cut all for seventy-five cents .', 'We used to go in state in a taxi cab .', 'It was very hard to get Mr.Breen to go , and he would only go with me .', 'As we went up to the desk and the very courteous young man behind it , Mr.Breen would look at him haughtily and say in lordly fashion , I have come to be deloused .', 'Then he would turn to me with a sweeping bow , thank me for my escort , and I would leave him there for the night .', 'Now this building is part of the municipal lodging house .', 'On either side of the entrance hall there are beautiful rural scenes painted on the walls , a road through the woods , a country field , and around the tiled halls , children play , from one-year old and up , slipping in and out between the hordes of young and old , black and white , drunk and sober men who are also served , who also are clients getting their lodging for the night and several meals a day .', 'The men were registering at the desk as we came in .', 'They all could write their names on the ledger , they were all literate .', 'After they registered they were all taken upstairs to the dormitories to bed .', 'It was five-thirty .', 'No one was taken in after nine .', 'Downstairs meals were still being served .', 'They had soup or stew , as we could see from the windows outside , two slices of bread and huge mugs of cocoa .', 'I dont know how many thousands of men are served every day , are lodged every day .', 'What was occupying our minds was the fact that forty-five families were lodged there too , with six , eight , nine children .', 'The mothers sat around , the fathers came in to report the result of their days search for rooms , ( and who wants families of four children even , let alone nine ? )', 'The children restlessly ran from end to end of the hall , and we tried to talk .', 'Isnt there a play room ?', 'Yes , but the colored , the Puerto Rican the Italian and the American children fought .', 'It was nerve-racking .', 'There were separate bed rooms for different members of the family , it was not overcrowded , there is a doctor for the women and children .', 'The city was doing what it could .', 'Up at 26th street , another branch of the Municipal lodging house , there were other families and more men .', 'What they were trying to do was bring all the men down here to Third street , and get the women and children away from the Bowery and up to 26th where there was a playground , a dead end street , the river , and more light and air .', '*** Yesterday two Irish Christian brothers came to call and told us of Harlem where their order had a school in what was the largest parish in the world .', 'There were thirty thousand people in it , it was estimated .', 'Families fleeing the hunger of Porto Rico were living three families to an apartment .', 'It was the most congested , most neglected section of the city .', 'With all these thousands , the church on Sunday was only half full .', 'It is not a leakage from the Church , it is a landslide .', 'We have been working on these problems at the Catholic Worker for the past fifteen years , and we can say with all sincerity , that things have never been so bad as they are now , even in the worst of depression .', 'Now men may have work , but they lack homes .', 'There may be odd jobs , poorly-paid jobs , something coming in the way of work , but the housing situation gets worse and worse .', 'Everywhere it is the same .', 'In every city and town the story is the same .', 'There are no apartments , there are no houses .', 'Mr.ODaniel , father of the eleven we were visiting , had had a job as janitor .', 'In order to make their profits and avoid the penalties of rent gouging , the owners of the building he was in had transformed a twelve-apartment house into a twenty-four-apartment house of two and a half rooms each .', 'The board of health got after the owner for having a large family of children in the basement , and he had let them go .', 'No one wants to employ families , none want to rent to families .', 'And of course we can understand the home owners point of view .', 'Once we saw a cartoon in the Saturday Evening Post of a mother rebuking her child .', 'Dont deface the wall , William , we own this house .', 'In other words , what you own is taken care of .', 'Property means responsibility .', 'Property is proper to man .', 'This is a long preamble .', 'But what a need there is to arouse the conscience !', 'To call attention to the poor !', 'Are there any more poor ?', 'This fatuous question has been asked me so often by well meaning listeners at meetings that one must answer it .', 'What about the bricklayer and his huge wages ?', 'Never have wages been so high .', 'And what do high wages mean when there is no just price ?', 'Anyway , with all the talk of high wages , most of the people around here that I know are working for thirty and thirty five dollars a week .', 'Also the great white collar class of young men and young women are getting along by living at home , profiting by the industry and thrift and better housing opportunity of their parents .', 'People sooner or later will have to admit that things are rapidly getting worse , not better .', 'People said during the war that Hitler had the theory that the bigger the lie , the easier it was to get people to believe it .', 'It seems to me we have quite a number of these big lies .', 'There is the lie of high wages .', 'There is the lie of widespread ownership .', 'There is the plentiful production lie .', 'There is the everyone consuming more lie .', 'In the little pamphlet DISTRIBUTISM by S. Sagar , a reprint of six articles from the Weekly Review of London , says that the great danger of today is not a revolt of the proletariat but the lethargy of the proletariat .', 'He also says that the preliminary to any step taken towards Distributism was the creation of the will to take them .', 'Here is one quotation from Pope Pius XII which ought to be considered a mandate along these lines .', 'We confirm what only recently we had occasion to expound .', 'For Catholics , the only path to be followed in solving the social problem is clearly outlined in the doctrine of the Church .', 'The blessing of God will descend on your work if you do not swerve in the slightest degree from this path .', 'You have no need to think up specious solutions or to work with facile and empty formulas for results that prove only a delusion .', 'What you can and ought to strive for is a more just distribution of wealth .', 'This is and this remains a central point in Catholic social doctrine .', 'Joseph T. Nolan writes in Orate Fratres : Too long has idle talk made out of Distributism as something medieval and myopic , as if four modern popes were somehow talking nonsense when they said : the law should favor widespread ownership ( Leo XIII ) ; land is the most natural form of property ( Leo XIII and Pius XII ) ; wages should enable a man to purchase land ( Leo XIII and Pius XI ) ; the family is most perfect when rooted in its own holding ( Pius XII ) ; agriculture is the first and most important of all the arts ( Pius VII ) ; and the tiller of the soil still represents the natural order of things willed by God ( Pius XII ) .', \"But in general there is so little facing of the problem of the land , or of machinery , which the Franciscan Belliot calledone of the gravest and most disquieting elements in the social problem . ''\", 'How many Catholics , especially liturgists , share the anxiety of the present pope at the agglomeration of huge populations in the cities and the diminution of modern man by the domination of the machine ?', 'Neither the nihilists nor the optimists who still dream of abundant production can fill our present need ; a lot closer are the realists who are willing to rebuild an organic Christian society from the ground up , from the soil , who might escape the very real prospects of unemployment , hunger and despair .', 'There are numerous steps that can be taken , outlined in THE RESTORATION OF PROPERTY by Hilaire Belloc .', 'But how to create in men a desire to take them , a hope that they will be able to take them ?', 'Things have gotten so desperate , Mr.Sagar says , goods have gotten so scarce , the effort to find housing has become so heart breaking , that now at last today , after these many years , DISTRIBUTISM IS GOING TO BE DISCUSSED .', 'The alternatives are not capitalism or socialism .', 'Nor are they the corporatism that Fr .', 'Massey seems to be indicating in AMERICA .', 'We must take into consideration the nature of man and his needs , not just cashcommodities , food and clothing , but a home , a bit of land , and the tools with which to work , part ownership in workshops and stores and factories .', 'Distributism does not mean that everyone must be a farmer.The Distributist thinks in terms of the village economy , and as for the size of the CITY ( the city of God ) which Cardinal Suhard talks of our building , that is a matter of situation .', 'It may be five hundred , it may be five thousand , it may be fifty thousand .', 'The main thing to do is to distribute the cities before the atom bomb does it .', 'We are not suggesting that it be done by force but by education .', 'If that seems too slow a method , probably depression , war , hunger and homelessness will play their part .', 'We only know it is not human to live in a city of ten million .', 'It is not only not human , it is not possible .', 'Cities are the occasion of sin , Fr , Vincent McNabb said , and of course any theologian will say that we should flee the occasions of sin .', 'Pope Pius XII pointed out that it was difficult for modern youth to live in the cities without heroic virtue .', '( And it was never intended that the good life should demand heroic virtue . )', 'Distributism does not mean that we throw out the machine .', 'The machine , Peter Maurin used to say , should be the extension of the hand of man .', 'If we could do away with the assembly line , the slavery of the machine , and the useless and harmful and destructive machines , we would be doing well .', 'In the psalms it says , Lord , make me desire to walk in the way of thy commandments .', 'Daniel was called a man of desires , and because he was a man of desires , the Lord heard him .', 'But how , are we going to get people to desire , and to hope , when men like Fr .', 'Becker writing in America ; Fr .', 'Higgins , of the N.C.W.C .', 'and Fr .', 'FitzSimmons of Notre Dame , accept the status quo , endorse social security instead of pointing to the enormous dangers that go with it and in effect combat the desire of the people for land and for bread , and feed them on husks that the acceptance of the city and the factory result in .', 'Cardinal Suhard of Paris and Fr .', 'De Lubac , S.J.', ', both cry out against the refusal of some traditionalists to be co-creators with God and use the tools which science has put in mans hands .', 'But Fr .', 'De Lubac also writes ( in the Dublin Review ) Does not the discovery of new values involve the depreciation of other , perhaps more fundamental ones ?', 'And does it not breed , even while the discovery is still modest and tentative , a kind of intoxication , so that the passionate interest it arouses tends to make men oblivious of everything else , even of essentials ?', 'And so ambiguous situations pile up , leading inevitably to crises whose outcome no one can safely prophecy .', 'We are sure that these priests aforementioned have the interests of the worker at heart , and that in their social ideas and studies they are trying to remedy situations which have become well nigh intolerable .', 'But the essentials are food , clothing and shelter .', 'The essential is ownership which brings with it responsibility , and what is more essential than the earth on which we all spring , and from which comes our food , our clothes , our furniture , our homes .', 'It is as a woman , a mother , speaking for the family and the home , that I protest the work of priest-sociologists , who in their desire to help the worker , are going along with him in his errors , and are accepting the easy way of capitalist industrialism which leads to collectivism and the totalitarian state .', 'To conclude this particular installment of our series of articles on Distributism , the warning is there , Isaiah 26 , 5 .', 'He shall bring down them that dwell on high ; the high city he shall lay low .', 'He shall bring it down even unto the ground ; he shall pull it down even to the dust .', 'The foot shall tread it down ; the feet of the poor , the steps of the needy .', 'So , strengthen ye the feeble hands , and confirm the weak knees .', 'Say to the faint hearted , take courage and fear not .', 'Behold , your God will bring the bread of recompense .', 'God Himself will come and save YOU ,']\n"
     ]
    }
   ],
   "source": [
    "print(loTest.sentences['./data_dsicap/DorothyDay/raw/160.html.txt'])"
   ]
  },
  {
   "cell_type": "code",
   "execution_count": null,
   "metadata": {
    "collapsed": true
   },
   "outputs": [],
   "source": []
  },
  {
   "cell_type": "code",
   "execution_count": null,
   "metadata": {
    "collapsed": true
   },
   "outputs": [],
   "source": []
  },
  {
   "cell_type": "code",
   "execution_count": null,
   "metadata": {
    "collapsed": true
   },
   "outputs": [],
   "source": []
  },
  {
   "cell_type": "code",
   "execution_count": 92,
   "metadata": {
    "collapsed": false
   },
   "outputs": [
    {
     "name": "stdout",
     "output_type": "stream",
     "text": [
      "[u'The', u'Catholic', u'Worker', u',', u'July-August', u'1948', u',', u'1,2', u',', u'6', u'.', u'Summary', u':', u'Argues', u'that', u'distributism', u'is', u'the', u'only', u'alternative', u'to', u'the', u'US', u'economy', u'.', u'Distributism', u'is', u'an', u'alternative', u'to', u'capitalism', u'and', u'socialism', u'built', u'around', u'the', u'village', u'economy', u'and', u'a', u'more', u'just', u'distribution', u'of', u'wealth', u'.', u'Quotes', u'four', u'modern', u'Popes', u'in', u'its', u'support', u'.', u'Summarizes', u'its', u'principles', u'with', u'the', u'following', u'Statements', u':', u'land', u'is', u'the', u'most', u'natural', u'form', u'of', u'property', u'wages', u'should', u'enable', u'man', u'to', u'purchase', u'land', u'the', u'family', u'is', u'the', u'most', u'perfect', u'when', u'rooted', u'in', u'its', u'own', u'holdings', u'agriculture', u'is', u'the', u'first', u'and', u'most', u'important', u'of', u'all', u'arts', u'.', u'(', u'See', u'also', u'DOC', u'#', u'159', u'and', u'DOC', u'#', u'161', u')', u'(', u'DDLW', u'#', u'160', u')', u'.', u'We', u'have', u'a', u'farm', u'at', u'Newburgh', u'of', u'nearly', u'six', u'acres', u'.', u'We', u'are', u'raising', u'hay', u',', u'corn', u',', u'vegetables', u',', u'pigs', u',', u'chickens', u',', u'a', u'cow', u'.', u'Every', u'few', u'days', u'the', u'dog', u',', u'King', u',', u'has', u'brought', u'in', u'woodchucks', u'and', u'some', u'of', u'them', u'weigh', u'eight', u'pounds', u'.', u'He', u'must', u'have', u'caught', u'fifty', u'this', u'year', u'.', u'Down', u'at', u'the', u'docks', u'the', u'Negroes', u'fish', u'without', u'a', u'license', u'for', u'eels', u'.', u'It', u'is', u'woodchuck', u'season', u'and', u'you', u'can', u'eat', u'the', u'woodchucks', u'now', u'.', u'You', u'skin', u'them', u'as', u'you', u'do', u'rabbits', u',', u'and', u'roasted', u'with', u'sage', u'dressing', u'they', u'make', u'a', u'good', u'meal', u',', u'and', u'they', u'are', u'cleaner', u'than', u'chicken', u'or', u'hog', u'.', u'Right', u'now', u'Carmela', u'and', u'Florence', u'are', u'sitting', u'out', u'under', u'the', u'crabapple', u'tree', u'stringing', u'beans', u'.', u'There', u'are', u'peas', u'and', u'broccoli', u'and', u'swiss', u'chard', u'besides', u'lettuce', u'for', u'salads', u'.', u'It', u'is', u'getting', u'easier', u'to', u'feed', u'the', u'forty', u'or', u'so', u'retreatants', u'who', u'come', u'every', u'few', u'weeks', u'to', u'the', u'farm', u'and', u'the', u'twenty', u'who', u'are', u'here', u'all', u'summer', u'.', u'I', u'tell', u'these', u'things', u'to', u'make', u'the', u'mouth', u'water', u'.', u'In', u'the', u'fall', u'we', u'are', u'going', u'to', u'put', u'in', u'a', u'field', u'of', u'wheat', u'and', u'next', u'summer', u',', u'God', u'willing', u',', u'we', u'will', u'have', u'our', u'own', u'flour', u'for', u'the', u'good', u'whole', u'wheat', u'loaves', u'that', u'come', u'out', u'of', u'the', u'oven', u'every', u'day', u'.', u'For', u'the', u'average', u'worker', u'it', u'is', u'more', u'and', u'more', u'difficult', u'to', u'get', u'food', u'.', u'Butter', u',', u'oleo', u'and', u'fat', u'are', u'sky', u'high', u'.', u'Meat', u'costs', u'a', u'fortune', u'.', u'Food', u'prices', u'have', u'gone', u'up', u'133', u'%', u'and', u'milk', u'85', u'%', u'.', u'We', u'saw', u'these', u'figures', u'in', u'a', u'magazine', u'recently', u'to', u'advertise', u'milk', u'as', u'a', u'food', u'.', u'How', u'to', u'live', u',', u'how', u'to', u'feed', u'a', u'family', u'!', u'Most', u'of', u'all', u',', u'how', u'to', u'find', u'shelter', u'!', u'***', u'Every', u'month', u'I', u'shall', u'have', u'to', u'explain', u'the', u'title', u'to', u'this', u'series', u'.', u'We', u'are', u'not', u'expecting', u'utopia', u'here', u'on', u'this', u'earth', u'.', u'But', u'God', u'meant', u'things', u'to', u'be', u'much', u'easier', u'than', u'we', u'have', u'made', u'them', u'.', u'A', u'man', u'has', u'a', u'natural', u'right', u'to', u'food', u',', u'clothing', u',', u'and', u'shelter', u'.', u'A', u'certain', u'amount', u'of', u'goods', u'is', u'necessary', u'to', u'lead', u'a', u'good', u'life', u'.', u'A', u'family', u'needs', u'work', u'as', u'well', u'as', u'bread', u'.', u'Properly', u'is', u'proper', u'to', u'man', u'.', u'We', u'must', u'keep', u'repeating', u'these', u'things', u'.', u'Eternal', u'life', u'begins', u'now', u'.', u'All', u'the', u'way', u'to', u'heaven', u'is', u'heaven', u',', u'because', u'He', u'said', u',', u'I', u'am', u'the', u'Way', u'.', u'The', u'Cross', u'is', u'there', u'of', u'course', u',', u'but', u'in', u'the', u'cross', u'is', u'joy', u'of', u'spirit', u'.', u'And', u'love', u'makes', u'all', u'things', u'easy', u'.', u'If', u'we', u'are', u'putting', u'off', u'the', u'old', u'man', u'and', u'putting', u'on', u'Christ', u',', u'then', u'we', u'are', u'walking', u'in', u'love', u',', u'and', u'love', u'is', u'what', u'we', u'all', u'want', u'.', u'But', u'it', u'is', u'hard', u'to', u'love', u',', u'from', u'the', u'human', u'standpoint', u'and', u'from', u'the', u'divine', u'standpoint', u',', u'in', u'a', u'two', u'room', u'apartment', u'.', u'We', u'are', u'eminently', u'practical', u',', u'realistic', u'.', u'***', u'Irene', u'has', u'charge', u'of', u'the', u'clothes', u'at', u'Mott', u'street', u'(', u'besides', u'having', u'charge', u'of', u'the', u'womens', u'house', u'and', u'writing', u'for', u'the', u'paper', u',', u'and', u'seeing', u'visitors', u')', u'and', u'the', u'other', u'day', u'a', u'mother', u'of', u'eleven', u'children', u',', u'nine', u'of', u'them', u'living', u',', u'came', u'in', u'to', u'get', u'clothes', u'.', u'They', u'are', u'all', u'living', u'at', u'the', u'Municipal', u'lodging', u'house', u'on', u'Third', u'street', u'.', u'The', u'other', u'afternoon', u'when', u'the', u'rain', u'had', u'stopped', u'Irene', u'and', u'I', u'walked', u'down', u'Mott', u'street', u'to', u'Bleecker', u'where', u'Mott', u'street', u'ends', u',', u'then', u'over', u'to', u'the', u'Bowery', u'and', u'up', u'one', u'block', u'to', u'third', u',', u'and', u'there', u',', u'just', u'to', u'the', u'east', u'of', u'the', u'Bowery', u',', u'is', u'the', u'big', u'building', u'that', u'used', u'to', u'be', u'the', u'Bowery', u'Y.M.C.A', u'.', u'and', u'which', u'is', u'now', u'a', u'municipal', u'shelter', u'.', u'I', u'was', u'familiar', u'with', u'the', u'place', u'because', u'it', u'used', u'to', u'have', u'a', u'clean', u'up', u'system', u'before', u'the', u'blessed', u'days', u'of', u'D.D.T', u'.', u'which', u'you', u'can', u'use', u'like', u'a', u'talcum', u'powder', u',', u'and', u'there', u'once', u'in', u'a', u'while', u'I', u'used', u'to', u'bring', u'my', u'old', u'friend', u'Mr.Breen', u'.', u'He', u'was', u'a', u'very', u'dignified', u'old', u'man', u',', u'with', u'a', u'beautiful', u'beard', u'and', u'he', u'walked', u'with', u'a', u'cane', u'.', u'He', u'looked', u'like', u'Chief', u'Justice', u'Hughes', u'.', u'He', u'had', u'worked', u'as', u'Sunday', u'editor', u'of', u'the', u'Washington', u'Post', u',', u'and', u'he', u'had', u'worked', u'for', u'the', u'N.Y.', u'World', u',', u'written', u'reviews', u'for', u'the', u'Commonweal', u',', u'poetry', u'for', u'us', u',', u'and', u'had', u'assisted', u'us', u',', u'during', u'his', u'last', u'years', u',', u'in', u'answering', u'our', u'large', u'correspondence', u'.', u'His', u'wife', u'and', u'children', u'had', u'died', u',', u'he', u'had', u'fallen', u'into', u'bad', u'times', u'and', u'during', u'the', u'depression', u'we', u'became', u'his', u'family', u'.', u'For', u'a', u'time', u'he', u'had', u'slept', u'in', u'the', u'worlds', u'largest', u'bedroom', u',', u'on', u'a', u'dock', u'down', u'at', u'South', u'Ferry', u',', u'where', u'the', u'Municipality', u'put', u'up', u'about', u'1,200', u'men', u'every', u'night', u'.', u'He', u'used', u'to', u'tell', u'us', u'a', u'story', u'of', u'one', u'old', u'man', u'who', u'evidently', u'thought', u'he', u'was', u'in', u'a', u'cathedral', u',', u'so', u'vast', u'was', u'the', u'long', u'dim', u'dock', u'at', u'night', u',', u'and', u'in', u'his', u'night', u'shirt', u',', u'with', u'his', u'long', u'sticks', u'of', u'legs', u'making', u'him', u'look', u'like', u'a', u'strange', u'bird', u',', u'he', u'used', u'to', u'make', u'the', u'stations', u'down', u'the', u'inner', u'aisle', u'between', u'the', u'double-decker', u'beds', u',', u'pausing', u'at', u'every', u'seventh', u'bed', u'to', u'pray', u'.', u'Mr.Breen', u'had', u'many', u'such', u'stories', u'of', u'the', u'poor', u'.', u'We', u'had', u'to', u'take', u'him', u',', u'as', u'I', u'said', u'before', u',', u'to', u'the', u'Bowery', u'Y', u',', u'for', u'a', u'clean-up', u'every', u'now', u'and', u'then', u'.', u'One', u'could', u'bathe', u'at', u'leisure', u',', u'have', u'ones', u'clothes', u'cleaned', u'and', u'pressed', u',', u'and', u'have', u'a', u'shave', u'and', u'a', u'hair', u'cut', u'all', u'for', u'seventy-five', u'cents', u'.', u'We', u'used', u'to', u'go', u'in', u'state', u'in', u'a', u'taxi', u'cab', u'.', u'It', u'was', u'very', u'hard', u'to', u'get', u'Mr.Breen', u'to', u'go', u',', u'and', u'he', u'would', u'only', u'go', u'with', u'me', u'.', u'As', u'we', u'went', u'up', u'to', u'the', u'desk', u'and', u'the', u'very', u'courteous', u'young', u'man', u'behind', u'it', u',', u'Mr.Breen', u'would', u'look', u'at', u'him', u'haughtily', u'and', u'say', u'in', u'lordly', u'fashion', u',', u'I', u'have', u'come', u'to', u'be', u'deloused', u'.', u'Then', u'he', u'would', u'turn', u'to', u'me', u'with', u'a', u'sweeping', u'bow', u',', u'thank', u'me', u'for', u'my', u'escort', u',', u'and', u'I', u'would', u'leave', u'him', u'there', u'for', u'the', u'night', u'.', u'Now', u'this', u'building', u'is', u'part', u'of', u'the', u'municipal', u'lodging', u'house', u'.', u'On', u'either', u'side', u'of', u'the', u'entrance', u'hall', u'there', u'are', u'beautiful', u'rural', u'scenes', u'painted', u'on', u'the', u'walls', u',', u'a', u'road', u'through', u'the', u'woods', u',', u'a', u'country', u'field', u',', u'and', u'around', u'the', u'tiled', u'halls', u',', u'children', u'play', u',', u'from', u'one-year', u'old', u'and', u'up', u',', u'slipping', u'in', u'and', u'out', u'between', u'the', u'hordes', u'of', u'young', u'and', u'old', u',', u'black', u'and', u'white', u',', u'drunk', u'and', u'sober', u'men', u'who', u'are', u'also', u'served', u',', u'who', u'also', u'are', u'clients', u'getting', u'their', u'lodging', u'for', u'the', u'night', u'and', u'several', u'meals', u'a', u'day', u'.', u'The', u'men', u'were', u'registering', u'at', u'the', u'desk', u'as', u'we', u'came', u'in', u'.', u'They', u'all', u'could', u'write', u'their', u'names', u'on', u'the', u'ledger', u',', u'they', u'were', u'all', u'literate', u'.', u'After', u'they', u'registered', u'they', u'were', u'all', u'taken', u'upstairs', u'to', u'the', u'dormitories', u'to', u'bed', u'.', u'It', u'was', u'five-thirty', u'.', u'No', u'one', u'was', u'taken', u'in', u'after', u'nine', u'.', u'Downstairs', u'meals', u'were', u'still', u'being', u'served', u'.', u'They', u'had', u'soup', u'or', u'stew', u',', u'as', u'we', u'could', u'see', u'from', u'the', u'windows', u'outside', u',', u'two', u'slices', u'of', u'bread', u'and', u'huge', u'mugs', u'of', u'cocoa', u'.', u'I', u'dont', u'know', u'how', u'many', u'thousands', u'of', u'men', u'are', u'served', u'every', u'day', u',', u'are', u'lodged', u'every', u'day', u'.', u'What', u'was', u'occupying', u'our', u'minds', u'was', u'the', u'fact', u'that', u'forty-five', u'families', u'were', u'lodged', u'there', u'too', u',', u'with', u'six', u',', u'eight', u',', u'nine', u'children', u'.', u'The', u'mothers', u'sat', u'around', u',', u'the', u'fathers', u'came', u'in', u'to', u'report', u'the', u'result', u'of', u'their', u'days', u'search', u'for', u'rooms', u',', u'(', u'and', u'who', u'wants', u'families', u'of', u'four', u'children', u'even', u',', u'let', u'alone', u'nine', u'?', u')', u'The', u'children', u'restlessly', u'ran', u'from', u'end', u'to', u'end', u'of', u'the', u'hall', u',', u'and', u'we', u'tried', u'to', u'talk', u'.', u'Isnt', u'there', u'a', u'play', u'room', u'?', u'Yes', u',', u'but', u'the', u'colored', u',', u'the', u'Puerto', u'Rican', u'the', u'Italian', u'and', u'the', u'American', u'children', u'fought', u'.', u'It', u'was', u'nerve-racking', u'.', u'There', u'were', u'separate', u'bed', u'rooms', u'for', u'different', u'members', u'of', u'the', u'family', u',', u'it', u'was', u'not', u'overcrowded', u',', u'there', u'is', u'a', u'doctor', u'for', u'the', u'women', u'and', u'children', u'.', u'The', u'city', u'was', u'doing', u'what', u'it', u'could', u'.', u'Up', u'at', u'26th', u'street', u',', u'another', u'branch', u'of', u'the', u'Municipal', u'lodging', u'house', u',', u'there', u'were', u'other', u'families', u'and', u'more', u'men', u'.', u'What', u'they', u'were', u'trying', u'to', u'do', u'was', u'bring', u'all', u'the', u'men', u'down', u'here', u'to', u'Third', u'street', u',', u'and', u'get', u'the', u'women', u'and', u'children', u'away', u'from', u'the', u'Bowery', u'and', u'up', u'to', u'26th', u'where', u'there', u'was', u'a', u'playground', u',', u'a', u'dead', u'end', u'street', u',', u'the', u'river', u',', u'and', u'more', u'light', u'and', u'air', u'.', u'***', u'Yesterday', u'two', u'Irish', u'Christian', u'brothers', u'came', u'to', u'call', u'and', u'told', u'us', u'of', u'Harlem', u'where', u'their', u'order', u'had', u'a', u'school', u'in', u'what', u'was', u'the', u'largest', u'parish', u'in', u'the', u'world', u'.', u'There', u'were', u'thirty', u'thousand', u'people', u'in', u'it', u',', u'it', u'was', u'estimated', u'.', u'Families', u'fleeing', u'the', u'hunger', u'of', u'Porto', u'Rico', u'were', u'living', u'three', u'families', u'to', u'an', u'apartment', u'.', u'It', u'was', u'the', u'most', u'congested', u',', u'most', u'neglected', u'section', u'of', u'the', u'city', u'.', u'With', u'all', u'these', u'thousands', u',', u'the', u'church', u'on', u'Sunday', u'was', u'only', u'half', u'full', u'.', u'It', u'is', u'not', u'a', u'leakage', u'from', u'the', u'Church', u',', u'it', u'is', u'a', u'landslide', u'.', u'We', u'have', u'been', u'working', u'on', u'these', u'problems', u'at', u'the', u'Catholic', u'Worker', u'for', u'the', u'past', u'fifteen', u'years', u',', u'and', u'we', u'can', u'say', u'with', u'all', u'sincerity', u',', u'that', u'things', u'have', u'never', u'been', u'so', u'bad', u'as', u'they', u'are', u'now', u',', u'even', u'in', u'the', u'worst', u'of', u'depression', u'.', u'Now', u'men', u'may', u'have', u'work', u',', u'but', u'they', u'lack', u'homes', u'.', u'There', u'may', u'be', u'odd', u'jobs', u',', u'poorly-paid', u'jobs', u',', u'something', u'coming', u'in', u'the', u'way', u'of', u'work', u',', u'but', u'the', u'housing', u'situation', u'gets', u'worse', u'and', u'worse', u'.', u'Everywhere', u'it', u'is', u'the', u'same', u'.', u'In', u'every', u'city', u'and', u'town', u'the', u'story', u'is', u'the', u'same', u'.', u'There', u'are', u'no', u'apartments', u',', u'there', u'are', u'no', u'houses', u'.', u'Mr.ODaniel', u',', u'father', u'of', u'the', u'eleven', u'we', u'were', u'visiting', u',', u'had', u'had', u'a', u'job', u'as', u'janitor', u'.', u'In', u'order', u'to', u'make', u'their', u'profits', u'and', u'avoid', u'the', u'penalties', u'of', u'rent', u'gouging', u',', u'the', u'owners', u'of', u'the', u'building', u'he', u'was', u'in', u'had', u'transformed', u'a', u'twelve-apartment', u'house', u'into', u'a', u'twenty-four-apartment', u'house', u'of', u'two', u'and', u'a', u'half', u'rooms', u'each', u'.', u'The', u'board', u'of', u'health', u'got', u'after', u'the', u'owner', u'for', u'having', u'a', u'large', u'family', u'of', u'children', u'in', u'the', u'basement', u',', u'and', u'he', u'had', u'let', u'them', u'go', u'.', u'No', u'one', u'wants', u'to', u'employ', u'families', u',', u'none', u'want', u'to', u'rent', u'to', u'families', u'.', u'And', u'of', u'course', u'we', u'can', u'understand', u'the', u'home', u'owners', u'point', u'of', u'view', u'.', u'Once', u'we', u'saw', u'a', u'cartoon', u'in', u'the', u'Saturday', u'Evening', u'Post', u'of', u'a', u'mother', u'rebuking', u'her', u'child', u'.', u'Dont', u'deface', u'the', u'wall', u',', u'William', u',', u'we', u'own', u'this', u'house', u'.', u'In', u'other', u'words', u',', u'what', u'you', u'own', u'is', u'taken', u'care', u'of', u'.', u'Property', u'means', u'responsibility', u'.', u'Property', u'is', u'proper', u'to', u'man', u'.', u'This', u'is', u'a', u'long', u'preamble', u'.', u'But', u'what', u'a', u'need', u'there', u'is', u'to', u'arouse', u'the', u'conscience', u'!', u'To', u'call', u'attention', u'to', u'the', u'poor', u'!', u'Are', u'there', u'any', u'more', u'poor', u'?', u'This', u'fatuous', u'question', u'has', u'been', u'asked', u'me', u'so', u'often', u'by', u'well', u'meaning', u'listeners', u'at', u'meetings', u'that', u'one', u'must', u'answer', u'it', u'.', u'What', u'about', u'the', u'bricklayer', u'and', u'his', u'huge', u'wages', u'?', u'Never', u'have', u'wages', u'been', u'so', u'high', u'.', u'And', u'what', u'do', u'high', u'wages', u'mean', u'when', u'there', u'is', u'no', u'just', u'price', u'?', u'Anyway', u',', u'with', u'all', u'the', u'talk', u'of', u'high', u'wages', u',', u'most', u'of', u'the', u'people', u'around', u'here', u'that', u'I', u'know', u'are', u'working', u'for', u'thirty', u'and', u'thirty', u'five', u'dollars', u'a', u'week', u'.', u'Also', u'the', u'great', u'white', u'collar', u'class', u'of', u'young', u'men', u'and', u'young', u'women', u'are', u'getting', u'along', u'by', u'living', u'at', u'home', u',', u'profiting', u'by', u'the', u'industry', u'and', u'thrift', u'and', u'better', u'housing', u'opportunity', u'of', u'their', u'parents', u'.', u'People', u'sooner', u'or', u'later', u'will', u'have', u'to', u'admit', u'that', u'things', u'are', u'rapidly', u'getting', u'worse', u',', u'not', u'better', u'.', u'People', u'said', u'during', u'the', u'war', u'that', u'Hitler', u'had', u'the', u'theory', u'that', u'the', u'bigger', u'the', u'lie', u',', u'the', u'easier', u'it', u'was', u'to', u'get', u'people', u'to', u'believe', u'it', u'.', u'It', u'seems', u'to', u'me', u'we', u'have', u'quite', u'a', u'number', u'of', u'these', u'big', u'lies', u'.', u'There', u'is', u'the', u'lie', u'of', u'high', u'wages', u'.', u'There', u'is', u'the', u'lie', u'of', u'widespread', u'ownership', u'.', u'There', u'is', u'the', u'plentiful', u'production', u'lie', u'.', u'There', u'is', u'the', u'everyone', u'consuming', u'more', u'lie', u'.', u'In', u'the', u'little', u'pamphlet', u'DISTRIBUTISM', u'by', u'S.', u'Sagar', u',', u'a', u'reprint', u'of', u'six', u'articles', u'from', u'the', u'Weekly', u'Review', u'of', u'London', u',', u'says', u'that', u'the', u'great', u'danger', u'of', u'today', u'is', u'not', u'a', u'revolt', u'of', u'the', u'proletariat', u'but', u'the', u'lethargy', u'of', u'the', u'proletariat', u'.', u'He', u'also', u'says', u'that', u'the', u'preliminary', u'to', u'any', u'step', u'taken', u'towards', u'Distributism', u'was', u'the', u'creation', u'of', u'the', u'will', u'to', u'take', u'them', u'.', u'Here', u'is', u'one', u'quotation', u'from', u'Pope', u'Pius', u'XII', u'which', u'ought', u'to', u'be', u'considered', u'a', u'mandate', u'along', u'these', u'lines', u'.', u'We', u'confirm', u'what', u'only', u'recently', u'we', u'had', u'occasion', u'to', u'expound', u'.', u'For', u'Catholics', u',', u'the', u'only', u'path', u'to', u'be', u'followed', u'in', u'solving', u'the', u'social', u'problem', u'is', u'clearly', u'outlined', u'in', u'the', u'doctrine', u'of', u'the', u'Church', u'.', u'The', u'blessing', u'of', u'God', u'will', u'descend', u'on', u'your', u'work', u'if', u'you', u'do', u'not', u'swerve', u'in', u'the', u'slightest', u'degree', u'from', u'this', u'path', u'.', u'You', u'have', u'no', u'need', u'to', u'think', u'up', u'specious', u'solutions', u'or', u'to', u'work', u'with', u'facile', u'and', u'empty', u'formulas', u'for', u'results', u'that', u'prove', u'only', u'a', u'delusion', u'.', u'What', u'you', u'can', u'and', u'ought', u'to', u'strive', u'for', u'is', u'a', u'more', u'just', u'distribution', u'of', u'wealth', u'.', u'This', u'is', u'and', u'this', u'remains', u'a', u'central', u'point', u'in', u'Catholic', u'social', u'doctrine', u'.', u'Joseph', u'T.', u'Nolan', u'writes', u'in', u'Orate', u'Fratres', u':', u'Too', u'long', u'has', u'idle', u'talk', u'made', u'out', u'of', u'Distributism', u'as', u'something', u'medieval', u'and', u'myopic', u',', u'as', u'if', u'four', u'modern', u'popes', u'were', u'somehow', u'talking', u'nonsense', u'when', u'they', u'said', u':', u'the', u'law', u'should', u'favor', u'widespread', u'ownership', u'(', u'Leo', u'XIII', u')', u';', u'land', u'is', u'the', u'most', u'natural', u'form', u'of', u'property', u'(', u'Leo', u'XIII', u'and', u'Pius', u'XII', u')', u';', u'wages', u'should', u'enable', u'a', u'man', u'to', u'purchase', u'land', u'(', u'Leo', u'XIII', u'and', u'Pius', u'XI', u')', u';', u'the', u'family', u'is', u'most', u'perfect', u'when', u'rooted', u'in', u'its', u'own', u'holding', u'(', u'Pius', u'XII', u')', u';', u'agriculture', u'is', u'the', u'first', u'and', u'most', u'important', u'of', u'all', u'the', u'arts', u'(', u'Pius', u'VII', u')', u';', u'and', u'the', u'tiller', u'of', u'the', u'soil', u'still', u'represents', u'the', u'natural', u'order', u'of', u'things', u'willed', u'by', u'God', u'(', u'Pius', u'XII', u')', u'.', u'But', u'in', u'general', u'there', u'is', u'so', u'little', u'facing', u'of', u'the', u'problem', u'of', u'the', u'land', u',', u'or', u'of', u'machinery', u',', u'which', u'the', u'Franciscan', u'Belliot', u'calledone', u'of', u'the', u'gravest', u'and', u'most', u'disquieting', u'elements', u'in', u'the', u'social', u'problem', u'.', u\"''\", u'How', u'many', u'Catholics', u',', u'especially', u'liturgists', u',', u'share', u'the', u'anxiety', u'of', u'the', u'present', u'pope', u'at', u'the', u'agglomeration', u'of', u'huge', u'populations', u'in', u'the', u'cities', u'and', u'the', u'diminution', u'of', u'modern', u'man', u'by', u'the', u'domination', u'of', u'the', u'machine', u'?', u'Neither', u'the', u'nihilists', u'nor', u'the', u'optimists', u'who', u'still', u'dream', u'of', u'abundant', u'production', u'can', u'fill', u'our', u'present', u'need', u';', u'a', u'lot', u'closer', u'are', u'the', u'realists', u'who', u'are', u'willing', u'to', u'rebuild', u'an', u'organic', u'Christian', u'society', u'from', u'the', u'ground', u'up', u',', u'from', u'the', u'soil', u',', u'who', u'might', u'escape', u'the', u'very', u'real', u'prospects', u'of', u'unemployment', u',', u'hunger', u'and', u'despair', u'.', u'There', u'are', u'numerous', u'steps', u'that', u'can', u'be', u'taken', u',', u'outlined', u'in', u'THE', u'RESTORATION', u'OF', u'PROPERTY', u'by', u'Hilaire', u'Belloc', u'.', u'But', u'how', u'to', u'create', u'in', u'men', u'a', u'desire', u'to', u'take', u'them', u',', u'a', u'hope', u'that', u'they', u'will', u'be', u'able', u'to', u'take', u'them', u'?', u'Things', u'have', u'gotten', u'so', u'desperate', u',', u'Mr.Sagar', u'says', u',', u'goods', u'have', u'gotten', u'so', u'scarce', u',', u'the', u'effort', u'to', u'find', u'housing', u'has', u'become', u'so', u'heart', u'breaking', u',', u'that', u'now', u'at', u'last', u'today', u',', u'after', u'these', u'many', u'years', u',', u'DISTRIBUTISM', u'IS', u'GOING', u'TO', u'BE', u'DISCUSSED', u'.', u'The', u'alternatives', u'are', u'not', u'capitalism', u'or', u'socialism', u'.', u'Nor', u'are', u'they', u'the', u'corporatism', u'that', u'Fr', u'.', u'Massey', u'seems', u'to', u'be', u'indicating', u'in', u'AMERICA', u'.', u'We', u'must', u'take', u'into', u'consideration', u'the', u'nature', u'of', u'man', u'and', u'his', u'needs', u',', u'not', u'just', u'cashcommodities', u',', u'food', u'and', u'clothing', u',', u'but', u'a', u'home', u',', u'a', u'bit', u'of', u'land', u',', u'and', u'the', u'tools', u'with', u'which', u'to', u'work', u',', u'part', u'ownership', u'in', u'workshops', u'and', u'stores', u'and', u'factories', u'.', u'Distributism', u'does', u'not', u'mean', u'that', u'everyone', u'must', u'be', u'a', u'farmer.The', u'Distributist', u'thinks', u'in', u'terms', u'of', u'the', u'village', u'economy', u',', u'and', u'as', u'for', u'the', u'size', u'of', u'the', u'CITY', u'(', u'the', u'city', u'of', u'God', u')', u'which', u'Cardinal', u'Suhard', u'talks', u'of', u'our', u'building', u',', u'that', u'is', u'a', u'matter', u'of', u'situation', u'.', u'It', u'may', u'be', u'five', u'hundred', u',', u'it', u'may', u'be', u'five', u'thousand', u',', u'it', u'may', u'be', u'fifty', u'thousand', u'.', u'The', u'main', u'thing', u'to', u'do', u'is', u'to', u'distribute', u'the', u'cities', u'before', u'the', u'atom', u'bomb', u'does', u'it', u'.', u'We', u'are', u'not', u'suggesting', u'that', u'it', u'be', u'done', u'by', u'force', u'but', u'by', u'education', u'.', u'If', u'that', u'seems', u'too', u'slow', u'a', u'method', u',', u'probably', u'depression', u',', u'war', u',', u'hunger', u'and', u'homelessness', u'will', u'play', u'their', u'part', u'.', u'We', u'only', u'know', u'it', u'is', u'not', u'human', u'to', u'live', u'in', u'a', u'city', u'of', u'ten', u'million', u'.', u'It', u'is', u'not', u'only', u'not', u'human', u',', u'it', u'is', u'not', u'possible', u'.', u'Cities', u'are', u'the', u'occasion', u'of', u'sin', u',', u'Fr', u',', u'Vincent', u'McNabb', u'said', u',', u'and', u'of', u'course', u'any', u'theologian', u'will', u'say', u'that', u'we', u'should', u'flee', u'the', u'occasions', u'of', u'sin', u'.', u'Pope', u'Pius', u'XII', u'pointed', u'out', u'that', u'it', u'was', u'difficult', u'for', u'modern', u'youth', u'to', u'live', u'in', u'the', u'cities', u'without', u'heroic', u'virtue', u'.', u'(', u'And', u'it', u'was', u'never', u'intended', u'that', u'the', u'good', u'life', u'should', u'demand', u'heroic', u'virtue', u'.', u')', u'Distributism', u'does', u'not', u'mean', u'that', u'we', u'throw', u'out', u'the', u'machine', u'.', u'The', u'machine', u',', u'Peter', u'Maurin', u'used', u'to', u'say', u',', u'should', u'be', u'the', u'extension', u'of', u'the', u'hand', u'of', u'man', u'.', u'If', u'we', u'could', u'do', u'away', u'with', u'the', u'assembly', u'line', u',', u'the', u'slavery', u'of', u'the', u'machine', u',', u'and', u'the', u'useless', u'and', u'harmful', u'and', u'destructive', u'machines', u',', u'we', u'would', u'be', u'doing', u'well', u'.', u'In', u'the', u'psalms', u'it', u'says', u',', u'Lord', u',', u'make', u'me', u'desire', u'to', u'walk', u'in', u'the', u'way', u'of', u'thy', u'commandments', u'.', u'Daniel', u'was', u'called', u'a', u'man', u'of', u'desires', u',', u'and', u'because', u'he', u'was', u'a', u'man', u'of', u'desires', u',', u'the', u'Lord', u'heard', u'him', u'.', u'But', u'how', u',', u'are', u'we', u'going', u'to', u'get', u'people', u'to', u'desire', u',', u'and', u'to', u'hope', u',', u'when', u'men', u'like', u'Fr', u'.', u'Becker', u'writing', u'in', u'America', u';', u'Fr', u'.', u'Higgins', u',', u'of', u'the', u'N.C.W.C', u'.', u'and', u'Fr', u'.', u'FitzSimmons', u'of', u'Notre', u'Dame', u',', u'accept', u'the', u'status', u'quo', u',', u'endorse', u'social', u'security', u'instead', u'of', u'pointing', u'to', u'the', u'enormous', u'dangers', u'that', u'go', u'with', u'it', u'and', u'in', u'effect', u'combat', u'the', u'desire', u'of', u'the', u'people', u'for', u'land', u'and', u'for', u'bread', u',', u'and', u'feed', u'them', u'on', u'husks', u'that', u'the', u'acceptance', u'of', u'the', u'city', u'and', u'the', u'factory', u'result', u'in', u'.', u'Cardinal', u'Suhard', u'of', u'Paris', u'and', u'Fr', u'.', u'De', u'Lubac', u',', u'S.J.', u',', u'both', u'cry', u'out', u'against', u'the', u'refusal', u'of', u'some', u'traditionalists', u'to', u'be', u'co-creators', u'with', u'God', u'and', u'use', u'the', u'tools', u'which', u'science', u'has', u'put', u'in', u'mans', u'hands', u'.', u'But', u'Fr', u'.', u'De', u'Lubac', u'also', u'writes', u'(', u'in', u'the', u'Dublin', u'Review', u')', u'Does', u'not', u'the', u'discovery', u'of', u'new', u'values', u'involve', u'the', u'depreciation', u'of', u'other', u',', u'perhaps', u'more', u'fundamental', u'ones', u'?', u'And', u'does', u'it', u'not', u'breed', u',', u'even', u'while', u'the', u'discovery', u'is', u'still', u'modest', u'and', u'tentative', u',', u'a', u'kind', u'of', u'intoxication', u',', u'so', u'that', u'the', u'passionate', u'interest', u'it', u'arouses', u'tends', u'to', u'make', u'men', u'oblivious', u'of', u'everything', u'else', u',', u'even', u'of', u'essentials', u'?', u'And', u'so', u'ambiguous', u'situations', u'pile', u'up', u',', u'leading', u'inevitably', u'to', u'crises', u'whose', u'outcome', u'no', u'one', u'can', u'safely', u'prophecy', u'.', u'We', u'are', u'sure', u'that', u'these', u'priests', u'aforementioned', u'have', u'the', u'interests', u'of', u'the', u'worker', u'at', u'heart', u',', u'and', u'that', u'in', u'their', u'social', u'ideas', u'and', u'studies', u'they', u'are', u'trying', u'to', u'remedy', u'situations', u'which', u'have', u'become', u'well', u'nigh', u'intolerable', u'.', u'But', u'the', u'essentials', u'are', u'food', u',', u'clothing', u'and', u'shelter', u'.', u'The', u'essential', u'is', u'ownership', u'which', u'brings', u'with', u'it', u'responsibility', u',', u'and', u'what', u'is', u'more', u'essential', u'than', u'the', u'earth', u'on', u'which', u'we', u'all', u'spring', u',', u'and', u'from', u'which', u'comes', u'our', u'food', u',', u'our', u'clothes', u',', u'our', u'furniture', u',', u'our', u'homes', u'.', u'It', u'is', u'as', u'a', u'woman', u',', u'a', u'mother', u',', u'speaking', u'for', u'the', u'family', u'and', u'the', u'home', u',', u'that', u'I', u'protest', u'the', u'work', u'of', u'priest-sociologists', u',', u'who', u'in', u'their', u'desire', u'to', u'help', u'the', u'worker', u',', u'are', u'going', u'along', u'with', u'him', u'in', u'his', u'errors', u',', u'and', u'are', u'accepting', u'the', u'easy', u'way', u'of', u'capitalist', u'industrialism', u'which', u'leads', u'to', u'collectivism', u'and', u'the', u'totalitarian', u'state', u'.', u'To', u'conclude', u'this', u'particular', u'installment', u'of', u'our', u'series', u'of', u'articles', u'on', u'Distributism', u',', u'the', u'warning', u'is', u'there', u',', u'Isaiah', u'26', u',', u'5', u'.', u'He', u'shall', u'bring', u'down', u'them', u'that', u'dwell', u'on', u'high', u';', u'the', u'high', u'city', u'he', u'shall', u'lay', u'low', u'.', u'He', u'shall', u'bring', u'it', u'down', u'even', u'unto', u'the', u'ground', u';', u'he', u'shall', u'pull', u'it', u'down', u'even', u'to', u'the', u'dust', u'.', u'The', u'foot', u'shall', u'tread', u'it', u'down', u';', u'the', u'feet', u'of', u'the', u'poor', u',', u'the', u'steps', u'of', u'the', u'needy', u'.', u'So', u',', u'strengthen', u'ye', u'the', u'feeble', u'hands', u',', u'and', u'confirm', u'the', u'weak', u'knees', u'.', u'Say', u'to', u'the', u'faint', u'hearted', u',', u'take', u'courage', u'and', u'fear', u'not', u'.', u'Behold', u',', u'your', u'God', u'will', u'bring', u'the', u'bread', u'of', u'recompense', u'.', u'God', u'Himself', u'will', u'come', u'and', u'save', u'YOU', u',']\n"
     ]
    }
   ],
   "source": [
    "fileName = './data_dsicap/DorothyDay/raw/160.html.txt'\n",
    "rawData=unicode(open(fileName).read(), \"utf-8\", errors=\"ignore\")\n",
    "textList=nltk.word_tokenize(rawData)\n",
    "print(textList)"
   ]
  },
  {
   "cell_type": "code",
   "execution_count": 93,
   "metadata": {
    "collapsed": false
   },
   "outputs": [
    {
     "name": "stdout",
     "output_type": "stream",
     "text": [
      "['The', 'Catholic', 'Worker', ',', 'July-August', '1948', ',', '1,2', ',', '6', '.', 'Summary', ':', 'Argues', 'that', 'distributism', 'is', 'the', 'only', 'alternative', 'to', 'the', 'US', 'economy', '.', 'Distributism', 'is', 'an', 'alternative', 'to', 'capitalism', 'and', 'socialism', 'built', 'around', 'the', 'village', 'economy', 'and', 'a', 'more', 'just', 'distribution', 'of', 'wealth', '.', 'Quotes', 'four', 'modern', 'Popes', 'in', 'its', 'support', '.', 'Summarizes', 'its', 'principles', 'with', 'the', 'following', 'Statements', ':', 'land', 'is', 'the', 'most', 'natural', 'form', 'of', 'property', 'wages', 'should', 'enable', 'man', 'to', 'purchase', 'land', 'the', 'family', 'is', 'the', 'most', 'perfect', 'when', 'rooted', 'in', 'its', 'own', 'holdings', 'agriculture', 'is', 'the', 'first', 'and', 'most', 'important', 'of', 'all', 'arts', '.', '(', 'See', 'also', 'DOC', '#', '159', 'and', 'DOC', '#', '161', ')', '(', 'DDLW', '#', '160', ')', '.', 'We', 'have', 'a', 'farm', 'at', 'Newburgh', 'of', 'nearly', 'six', 'acres', '.', 'We', 'are', 'raising', 'hay', ',', 'corn', ',', 'vegetables', ',', 'pigs', ',', 'chickens', ',', 'a', 'cow', '.', 'Every', 'few', 'days', 'the', 'dog', ',', 'King', ',', 'has', 'brought', 'in', 'woodchucks', 'and', 'some', 'of', 'them', 'weigh', 'eight', 'pounds', '.', 'He', 'must', 'have', 'caught', 'fifty', 'this', 'year', '.', 'Down', 'at', 'the', 'docks', 'the', 'Negroes', 'fish', 'without', 'a', 'license', 'for', 'eels', '.', 'It', 'is', 'woodchuck', 'season', 'and', 'you', 'can', 'eat', 'the', 'woodchucks', 'now', '.', 'You', 'skin', 'them', 'as', 'you', 'do', 'rabbits', ',', 'and', 'roasted', 'with', 'sage', 'dressing', 'they', 'make', 'a', 'good', 'meal', ',', 'and', 'they', 'are', 'cleaner', 'than', 'chicken', 'or', 'hog', '.', 'Right', 'now', 'Carmela', 'and', 'Florence', 'are', 'sitting', 'out', 'under', 'the', 'crabapple', 'tree', 'stringing', 'beans', '.', 'There', 'are', 'peas', 'and', 'broccoli', 'and', 'swiss', 'chard', 'besides', 'lettuce', 'for', 'salads', '.', 'It', 'is', 'getting', 'easier', 'to', 'feed', 'the', 'forty', 'or', 'so', 'retreatants', 'who', 'come', 'every', 'few', 'weeks', 'to', 'the', 'farm', 'and', 'the', 'twenty', 'who', 'are', 'here', 'all', 'summer', '.', 'I', 'tell', 'these', 'things', 'to', 'make', 'the', 'mouth', 'water', '.', 'In', 'the', 'fall', 'we', 'are', 'going', 'to', 'put', 'in', 'a', 'field', 'of', 'wheat', 'and', 'next', 'summer', ',', 'God', 'willing', ',', 'we', 'will', 'have', 'our', 'own', 'flour', 'for', 'the', 'good', 'whole', 'wheat', 'loaves', 'that', 'come', 'out', 'of', 'the', 'oven', 'every', 'day', '.', 'For', 'the', 'average', 'worker', 'it', 'is', 'more', 'and', 'more', 'difficult', 'to', 'get', 'food', '.', 'Butter', ',', 'oleo', 'and', 'fat', 'are', 'sky', 'high', '.', 'Meat', 'costs', 'a', 'fortune', '.', 'Food', 'prices', 'have', 'gone', 'up', '133', '%', 'and', 'milk', '85', '%', '.', 'We', 'saw', 'these', 'figures', 'in', 'a', 'magazine', 'recently', 'to', 'advertise', 'milk', 'as', 'a', 'food', '.', 'How', 'to', 'live', ',', 'how', 'to', 'feed', 'a', 'family', '!', 'Most', 'of', 'all', ',', 'how', 'to', 'find', 'shelter', '!', '***', 'Every', 'month', 'I', 'shall', 'have', 'to', 'explain', 'the', 'title', 'to', 'this', 'series', '.', 'We', 'are', 'not', 'expecting', 'utopia', 'here', 'on', 'this', 'earth', '.', 'But', 'God', 'meant', 'things', 'to', 'be', 'much', 'easier', 'than', 'we', 'have', 'made', 'them', '.', 'A', 'man', 'has', 'a', 'natural', 'right', 'to', 'food', ',', 'clothing', ',', 'and', 'shelter', '.', 'A', 'certain', 'amount', 'of', 'goods', 'is', 'necessary', 'to', 'lead', 'a', 'good', 'life', '.', 'A', 'family', 'needs', 'work', 'as', 'well', 'as', 'bread', '.', 'Properly', 'is', 'proper', 'to', 'man', '.', 'We', 'must', 'keep', 'repeating', 'these', 'things', '.', 'Eternal', 'life', 'begins', 'now', '.', 'All', 'the', 'way', 'to', 'heaven', 'is', 'heaven', ',', 'because', 'He', 'said', ',', 'I', 'am', 'the', 'Way', '.', 'The', 'Cross', 'is', 'there', 'of', 'course', ',', 'but', 'in', 'the', 'cross', 'is', 'joy', 'of', 'spirit', '.', 'And', 'love', 'makes', 'all', 'things', 'easy', '.', 'If', 'we', 'are', 'putting', 'off', 'the', 'old', 'man', 'and', 'putting', 'on', 'Christ', ',', 'then', 'we', 'are', 'walking', 'in', 'love', ',', 'and', 'love', 'is', 'what', 'we', 'all', 'want', '.', 'But', 'it', 'is', 'hard', 'to', 'love', ',', 'from', 'the', 'human', 'standpoint', 'and', 'from', 'the', 'divine', 'standpoint', ',', 'in', 'a', 'two', 'room', 'apartment', '.', 'We', 'are', 'eminently', 'practical', ',', 'realistic', '.', '***', 'Irene', 'has', 'charge', 'of', 'the', 'clothes', 'at', 'Mott', 'street', '(', 'besides', 'having', 'charge', 'of', 'the', 'womens', 'house', 'and', 'writing', 'for', 'the', 'paper', ',', 'and', 'seeing', 'visitors', ')', 'and', 'the', 'other', 'day', 'a', 'mother', 'of', 'eleven', 'children', ',', 'nine', 'of', 'them', 'living', ',', 'came', 'in', 'to', 'get', 'clothes', '.', 'They', 'are', 'all', 'living', 'at', 'the', 'Municipal', 'lodging', 'house', 'on', 'Third', 'street', '.', 'The', 'other', 'afternoon', 'when', 'the', 'rain', 'had', 'stopped', 'Irene', 'and', 'I', 'walked', 'down', 'Mott', 'street', 'to', 'Bleecker', 'where', 'Mott', 'street', 'ends', ',', 'then', 'over', 'to', 'the', 'Bowery', 'and', 'up', 'one', 'block', 'to', 'third', ',', 'and', 'there', ',', 'just', 'to', 'the', 'east', 'of', 'the', 'Bowery', ',', 'is', 'the', 'big', 'building', 'that', 'used', 'to', 'be', 'the', 'Bowery', 'Y.M.C.A', '.', 'and', 'which', 'is', 'now', 'a', 'municipal', 'shelter', '.', 'I', 'was', 'familiar', 'with', 'the', 'place', 'because', 'it', 'used', 'to', 'have', 'a', 'clean', 'up', 'system', 'before', 'the', 'blessed', 'days', 'of', 'D.D.T', '.', 'which', 'you', 'can', 'use', 'like', 'a', 'talcum', 'powder', ',', 'and', 'there', 'once', 'in', 'a', 'while', 'I', 'used', 'to', 'bring', 'my', 'old', 'friend', 'Mr.Breen', '.', 'He', 'was', 'a', 'very', 'dignified', 'old', 'man', ',', 'with', 'a', 'beautiful', 'beard', 'and', 'he', 'walked', 'with', 'a', 'cane', '.', 'He', 'looked', 'like', 'Chief', 'Justice', 'Hughes', '.', 'He', 'had', 'worked', 'as', 'Sunday', 'editor', 'of', 'the', 'Washington', 'Post', ',', 'and', 'he', 'had', 'worked', 'for', 'the', 'N.Y.', 'World', ',', 'written', 'reviews', 'for', 'the', 'Commonweal', ',', 'poetry', 'for', 'us', ',', 'and', 'had', 'assisted', 'us', ',', 'during', 'his', 'last', 'years', ',', 'in', 'answering', 'our', 'large', 'correspondence', '.', 'His', 'wife', 'and', 'children', 'had', 'died', ',', 'he', 'had', 'fallen', 'into', 'bad', 'times', 'and', 'during', 'the', 'depression', 'we', 'became', 'his', 'family', '.', 'For', 'a', 'time', 'he', 'had', 'slept', 'in', 'the', 'worlds', 'largest', 'bedroom', ',', 'on', 'a', 'dock', 'down', 'at', 'South', 'Ferry', ',', 'where', 'the', 'Municipality', 'put', 'up', 'about', '1,200', 'men', 'every', 'night', '.', 'He', 'used', 'to', 'tell', 'us', 'a', 'story', 'of', 'one', 'old', 'man', 'who', 'evidently', 'thought', 'he', 'was', 'in', 'a', 'cathedral', ',', 'so', 'vast', 'was', 'the', 'long', 'dim', 'dock', 'at', 'night', ',', 'and', 'in', 'his', 'night', 'shirt', ',', 'with', 'his', 'long', 'sticks', 'of', 'legs', 'making', 'him', 'look', 'like', 'a', 'strange', 'bird', ',', 'he', 'used', 'to', 'make', 'the', 'stations', 'down', 'the', 'inner', 'aisle', 'between', 'the', 'double-decker', 'beds', ',', 'pausing', 'at', 'every', 'seventh', 'bed', 'to', 'pray', '.', 'Mr.Breen', 'had', 'many', 'such', 'stories', 'of', 'the', 'poor', '.', 'We', 'had', 'to', 'take', 'him', ',', 'as', 'I', 'said', 'before', ',', 'to', 'the', 'Bowery', 'Y', ',', 'for', 'a', 'clean-up', 'every', 'now', 'and', 'then', '.', 'One', 'could', 'bathe', 'at', 'leisure', ',', 'have', 'ones', 'clothes', 'cleaned', 'and', 'pressed', ',', 'and', 'have', 'a', 'shave', 'and', 'a', 'hair', 'cut', 'all', 'for', 'seventy-five', 'cents', '.', 'We', 'used', 'to', 'go', 'in', 'state', 'in', 'a', 'taxi', 'cab', '.', 'It', 'was', 'very', 'hard', 'to', 'get', 'Mr.Breen', 'to', 'go', ',', 'and', 'he', 'would', 'only', 'go', 'with', 'me', '.', 'As', 'we', 'went', 'up', 'to', 'the', 'desk', 'and', 'the', 'very', 'courteous', 'young', 'man', 'behind', 'it', ',', 'Mr.Breen', 'would', 'look', 'at', 'him', 'haughtily', 'and', 'say', 'in', 'lordly', 'fashion', ',', 'I', 'have', 'come', 'to', 'be', 'deloused', '.', 'Then', 'he', 'would', 'turn', 'to', 'me', 'with', 'a', 'sweeping', 'bow', ',', 'thank', 'me', 'for', 'my', 'escort', ',', 'and', 'I', 'would', 'leave', 'him', 'there', 'for', 'the', 'night', '.', 'Now', 'this', 'building', 'is', 'part', 'of', 'the', 'municipal', 'lodging', 'house', '.', 'On', 'either', 'side', 'of', 'the', 'entrance', 'hall', 'there', 'are', 'beautiful', 'rural', 'scenes', 'painted', 'on', 'the', 'walls', ',', 'a', 'road', 'through', 'the', 'woods', ',', 'a', 'country', 'field', ',', 'and', 'around', 'the', 'tiled', 'halls', ',', 'children', 'play', ',', 'from', 'one-year', 'old', 'and', 'up', ',', 'slipping', 'in', 'and', 'out', 'between', 'the', 'hordes', 'of', 'young', 'and', 'old', ',', 'black', 'and', 'white', ',', 'drunk', 'and', 'sober', 'men', 'who', 'are', 'also', 'served', ',', 'who', 'also', 'are', 'clients', 'getting', 'their', 'lodging', 'for', 'the', 'night', 'and', 'several', 'meals', 'a', 'day', '.', 'The', 'men', 'were', 'registering', 'at', 'the', 'desk', 'as', 'we', 'came', 'in', '.', 'They', 'all', 'could', 'write', 'their', 'names', 'on', 'the', 'ledger', ',', 'they', 'were', 'all', 'literate', '.', 'After', 'they', 'registered', 'they', 'were', 'all', 'taken', 'upstairs', 'to', 'the', 'dormitories', 'to', 'bed', '.', 'It', 'was', 'five-thirty', '.', 'No', 'one', 'was', 'taken', 'in', 'after', 'nine', '.', 'Downstairs', 'meals', 'were', 'still', 'being', 'served', '.', 'They', 'had', 'soup', 'or', 'stew', ',', 'as', 'we', 'could', 'see', 'from', 'the', 'windows', 'outside', ',', 'two', 'slices', 'of', 'bread', 'and', 'huge', 'mugs', 'of', 'cocoa', '.', 'I', 'dont', 'know', 'how', 'many', 'thousands', 'of', 'men', 'are', 'served', 'every', 'day', ',', 'are', 'lodged', 'every', 'day', '.', 'What', 'was', 'occupying', 'our', 'minds', 'was', 'the', 'fact', 'that', 'forty-five', 'families', 'were', 'lodged', 'there', 'too', ',', 'with', 'six', ',', 'eight', ',', 'nine', 'children', '.', 'The', 'mothers', 'sat', 'around', ',', 'the', 'fathers', 'came', 'in', 'to', 'report', 'the', 'result', 'of', 'their', 'days', 'search', 'for', 'rooms', ',', '(', 'and', 'who', 'wants', 'families', 'of', 'four', 'children', 'even', ',', 'let', 'alone', 'nine', '?', ')', 'The', 'children', 'restlessly', 'ran', 'from', 'end', 'to', 'end', 'of', 'the', 'hall', ',', 'and', 'we', 'tried', 'to', 'talk', '.', 'Isnt', 'there', 'a', 'play', 'room', '?', 'Yes', ',', 'but', 'the', 'colored', ',', 'the', 'Puerto', 'Rican', 'the', 'Italian', 'and', 'the', 'American', 'children', 'fought', '.', 'It', 'was', 'nerve-racking', '.', 'There', 'were', 'separate', 'bed', 'rooms', 'for', 'different', 'members', 'of', 'the', 'family', ',', 'it', 'was', 'not', 'overcrowded', ',', 'there', 'is', 'a', 'doctor', 'for', 'the', 'women', 'and', 'children', '.', 'The', 'city', 'was', 'doing', 'what', 'it', 'could', '.', 'Up', 'at', '26th', 'street', ',', 'another', 'branch', 'of', 'the', 'Municipal', 'lodging', 'house', ',', 'there', 'were', 'other', 'families', 'and', 'more', 'men', '.', 'What', 'they', 'were', 'trying', 'to', 'do', 'was', 'bring', 'all', 'the', 'men', 'down', 'here', 'to', 'Third', 'street', ',', 'and', 'get', 'the', 'women', 'and', 'children', 'away', 'from', 'the', 'Bowery', 'and', 'up', 'to', '26th', 'where', 'there', 'was', 'a', 'playground', ',', 'a', 'dead', 'end', 'street', ',', 'the', 'river', ',', 'and', 'more', 'light', 'and', 'air', '.', '***', 'Yesterday', 'two', 'Irish', 'Christian', 'brothers', 'came', 'to', 'call', 'and', 'told', 'us', 'of', 'Harlem', 'where', 'their', 'order', 'had', 'a', 'school', 'in', 'what', 'was', 'the', 'largest', 'parish', 'in', 'the', 'world', '.', 'There', 'were', 'thirty', 'thousand', 'people', 'in', 'it', ',', 'it', 'was', 'estimated', '.', 'Families', 'fleeing', 'the', 'hunger', 'of', 'Porto', 'Rico', 'were', 'living', 'three', 'families', 'to', 'an', 'apartment', '.', 'It', 'was', 'the', 'most', 'congested', ',', 'most', 'neglected', 'section', 'of', 'the', 'city', '.', 'With', 'all', 'these', 'thousands', ',', 'the', 'church', 'on', 'Sunday', 'was', 'only', 'half', 'full', '.', 'It', 'is', 'not', 'a', 'leakage', 'from', 'the', 'Church', ',', 'it', 'is', 'a', 'landslide', '.', 'We', 'have', 'been', 'working', 'on', 'these', 'problems', 'at', 'the', 'Catholic', 'Worker', 'for', 'the', 'past', 'fifteen', 'years', ',', 'and', 'we', 'can', 'say', 'with', 'all', 'sincerity', ',', 'that', 'things', 'have', 'never', 'been', 'so', 'bad', 'as', 'they', 'are', 'now', ',', 'even', 'in', 'the', 'worst', 'of', 'depression', '.', 'Now', 'men', 'may', 'have', 'work', ',', 'but', 'they', 'lack', 'homes', '.', 'There', 'may', 'be', 'odd', 'jobs', ',', 'poorly-paid', 'jobs', ',', 'something', 'coming', 'in', 'the', 'way', 'of', 'work', ',', 'but', 'the', 'housing', 'situation', 'gets', 'worse', 'and', 'worse', '.', 'Everywhere', 'it', 'is', 'the', 'same', '.', 'In', 'every', 'city', 'and', 'town', 'the', 'story', 'is', 'the', 'same', '.', 'There', 'are', 'no', 'apartments', ',', 'there', 'are', 'no', 'houses', '.', 'Mr.ODaniel', ',', 'father', 'of', 'the', 'eleven', 'we', 'were', 'visiting', ',', 'had', 'had', 'a', 'job', 'as', 'janitor', '.', 'In', 'order', 'to', 'make', 'their', 'profits', 'and', 'avoid', 'the', 'penalties', 'of', 'rent', 'gouging', ',', 'the', 'owners', 'of', 'the', 'building', 'he', 'was', 'in', 'had', 'transformed', 'a', 'twelve-apartment', 'house', 'into', 'a', 'twenty-four-apartment', 'house', 'of', 'two', 'and', 'a', 'half', 'rooms', 'each', '.', 'The', 'board', 'of', 'health', 'got', 'after', 'the', 'owner', 'for', 'having', 'a', 'large', 'family', 'of', 'children', 'in', 'the', 'basement', ',', 'and', 'he', 'had', 'let', 'them', 'go', '.', 'No', 'one', 'wants', 'to', 'employ', 'families', ',', 'none', 'want', 'to', 'rent', 'to', 'families', '.', 'And', 'of', 'course', 'we', 'can', 'understand', 'the', 'home', 'owners', 'point', 'of', 'view', '.', 'Once', 'we', 'saw', 'a', 'cartoon', 'in', 'the', 'Saturday', 'Evening', 'Post', 'of', 'a', 'mother', 'rebuking', 'her', 'child', '.', 'Dont', 'deface', 'the', 'wall', ',', 'William', ',', 'we', 'own', 'this', 'house', '.', 'In', 'other', 'words', ',', 'what', 'you', 'own', 'is', 'taken', 'care', 'of', '.', 'Property', 'means', 'responsibility', '.', 'Property', 'is', 'proper', 'to', 'man', '.', 'This', 'is', 'a', 'long', 'preamble', '.', 'But', 'what', 'a', 'need', 'there', 'is', 'to', 'arouse', 'the', 'conscience', '!', 'To', 'call', 'attention', 'to', 'the', 'poor', '!', 'Are', 'there', 'any', 'more', 'poor', '?', 'This', 'fatuous', 'question', 'has', 'been', 'asked', 'me', 'so', 'often', 'by', 'well', 'meaning', 'listeners', 'at', 'meetings', 'that', 'one', 'must', 'answer', 'it', '.', 'What', 'about', 'the', 'bricklayer', 'and', 'his', 'huge', 'wages', '?', 'Never', 'have', 'wages', 'been', 'so', 'high', '.', 'And', 'what', 'do', 'high', 'wages', 'mean', 'when', 'there', 'is', 'no', 'just', 'price', '?', 'Anyway', ',', 'with', 'all', 'the', 'talk', 'of', 'high', 'wages', ',', 'most', 'of', 'the', 'people', 'around', 'here', 'that', 'I', 'know', 'are', 'working', 'for', 'thirty', 'and', 'thirty', 'five', 'dollars', 'a', 'week', '.', 'Also', 'the', 'great', 'white', 'collar', 'class', 'of', 'young', 'men', 'and', 'young', 'women', 'are', 'getting', 'along', 'by', 'living', 'at', 'home', ',', 'profiting', 'by', 'the', 'industry', 'and', 'thrift', 'and', 'better', 'housing', 'opportunity', 'of', 'their', 'parents', '.', 'People', 'sooner', 'or', 'later', 'will', 'have', 'to', 'admit', 'that', 'things', 'are', 'rapidly', 'getting', 'worse', ',', 'not', 'better', '.', 'People', 'said', 'during', 'the', 'war', 'that', 'Hitler', 'had', 'the', 'theory', 'that', 'the', 'bigger', 'the', 'lie', ',', 'the', 'easier', 'it', 'was', 'to', 'get', 'people', 'to', 'believe', 'it', '.', 'It', 'seems', 'to', 'me', 'we', 'have', 'quite', 'a', 'number', 'of', 'these', 'big', 'lies', '.', 'There', 'is', 'the', 'lie', 'of', 'high', 'wages', '.', 'There', 'is', 'the', 'lie', 'of', 'widespread', 'ownership', '.', 'There', 'is', 'the', 'plentiful', 'production', 'lie', '.', 'There', 'is', 'the', 'everyone', 'consuming', 'more', 'lie', '.', 'In', 'the', 'little', 'pamphlet', 'DISTRIBUTISM', 'by', 'S.', 'Sagar', ',', 'a', 'reprint', 'of', 'six', 'articles', 'from', 'the', 'Weekly', 'Review', 'of', 'London', ',', 'says', 'that', 'the', 'great', 'danger', 'of', 'today', 'is', 'not', 'a', 'revolt', 'of', 'the', 'proletariat', 'but', 'the', 'lethargy', 'of', 'the', 'proletariat', '.', 'He', 'also', 'says', 'that', 'the', 'preliminary', 'to', 'any', 'step', 'taken', 'towards', 'Distributism', 'was', 'the', 'creation', 'of', 'the', 'will', 'to', 'take', 'them', '.', 'Here', 'is', 'one', 'quotation', 'from', 'Pope', 'Pius', 'XII', 'which', 'ought', 'to', 'be', 'considered', 'a', 'mandate', 'along', 'these', 'lines', '.', 'We', 'confirm', 'what', 'only', 'recently', 'we', 'had', 'occasion', 'to', 'expound', '.', 'For', 'Catholics', ',', 'the', 'only', 'path', 'to', 'be', 'followed', 'in', 'solving', 'the', 'social', 'problem', 'is', 'clearly', 'outlined', 'in', 'the', 'doctrine', 'of', 'the', 'Church', '.', 'The', 'blessing', 'of', 'God', 'will', 'descend', 'on', 'your', 'work', 'if', 'you', 'do', 'not', 'swerve', 'in', 'the', 'slightest', 'degree', 'from', 'this', 'path', '.', 'You', 'have', 'no', 'need', 'to', 'think', 'up', 'specious', 'solutions', 'or', 'to', 'work', 'with', 'facile', 'and', 'empty', 'formulas', 'for', 'results', 'that', 'prove', 'only', 'a', 'delusion', '.', 'What', 'you', 'can', 'and', 'ought', 'to', 'strive', 'for', 'is', 'a', 'more', 'just', 'distribution', 'of', 'wealth', '.', 'This', 'is', 'and', 'this', 'remains', 'a', 'central', 'point', 'in', 'Catholic', 'social', 'doctrine', '.', 'Joseph', 'T.', 'Nolan', 'writes', 'in', 'Orate', 'Fratres', ':', 'Too', 'long', 'has', 'idle', 'talk', 'made', 'out', 'of', 'Distributism', 'as', 'something', 'medieval', 'and', 'myopic', ',', 'as', 'if', 'four', 'modern', 'popes', 'were', 'somehow', 'talking', 'nonsense', 'when', 'they', 'said', ':', 'the', 'law', 'should', 'favor', 'widespread', 'ownership', '(', 'Leo', 'XIII', ')', ';', 'land', 'is', 'the', 'most', 'natural', 'form', 'of', 'property', '(', 'Leo', 'XIII', 'and', 'Pius', 'XII', ')', ';', 'wages', 'should', 'enable', 'a', 'man', 'to', 'purchase', 'land', '(', 'Leo', 'XIII', 'and', 'Pius', 'XI', ')', ';', 'the', 'family', 'is', 'most', 'perfect', 'when', 'rooted', 'in', 'its', 'own', 'holding', '(', 'Pius', 'XII', ')', ';', 'agriculture', 'is', 'the', 'first', 'and', 'most', 'important', 'of', 'all', 'the', 'arts', '(', 'Pius', 'VII', ')', ';', 'and', 'the', 'tiller', 'of', 'the', 'soil', 'still', 'represents', 'the', 'natural', 'order', 'of', 'things', 'willed', 'by', 'God', '(', 'Pius', 'XII', ')', '.', 'But', 'in', 'general', 'there', 'is', 'so', 'little', 'facing', 'of', 'the', 'problem', 'of', 'the', 'land', ',', 'or', 'of', 'machinery', ',', 'which', 'the', 'Franciscan', 'Belliot', 'calledone', 'of', 'the', 'gravest', 'and', 'most', 'disquieting', 'elements', 'in', 'the', 'social', 'problem', '.', \"''\", 'How', 'many', 'Catholics', ',', 'especially', 'liturgists', ',', 'share', 'the', 'anxiety', 'of', 'the', 'present', 'pope', 'at', 'the', 'agglomeration', 'of', 'huge', 'populations', 'in', 'the', 'cities', 'and', 'the', 'diminution', 'of', 'modern', 'man', 'by', 'the', 'domination', 'of', 'the', 'machine', '?', 'Neither', 'the', 'nihilists', 'nor', 'the', 'optimists', 'who', 'still', 'dream', 'of', 'abundant', 'production', 'can', 'fill', 'our', 'present', 'need', ';', 'a', 'lot', 'closer', 'are', 'the', 'realists', 'who', 'are', 'willing', 'to', 'rebuild', 'an', 'organic', 'Christian', 'society', 'from', 'the', 'ground', 'up', ',', 'from', 'the', 'soil', ',', 'who', 'might', 'escape', 'the', 'very', 'real', 'prospects', 'of', 'unemployment', ',', 'hunger', 'and', 'despair', '.', 'There', 'are', 'numerous', 'steps', 'that', 'can', 'be', 'taken', ',', 'outlined', 'in', 'THE', 'RESTORATION', 'OF', 'PROPERTY', 'by', 'Hilaire', 'Belloc', '.', 'But', 'how', 'to', 'create', 'in', 'men', 'a', 'desire', 'to', 'take', 'them', ',', 'a', 'hope', 'that', 'they', 'will', 'be', 'able', 'to', 'take', 'them', '?', 'Things', 'have', 'gotten', 'so', 'desperate', ',', 'Mr.Sagar', 'says', ',', 'goods', 'have', 'gotten', 'so', 'scarce', ',', 'the', 'effort', 'to', 'find', 'housing', 'has', 'become', 'so', 'heart', 'breaking', ',', 'that', 'now', 'at', 'last', 'today', ',', 'after', 'these', 'many', 'years', ',', 'DISTRIBUTISM', 'IS', 'GOING', 'TO', 'BE', 'DISCUSSED', '.', 'The', 'alternatives', 'are', 'not', 'capitalism', 'or', 'socialism', '.', 'Nor', 'are', 'they', 'the', 'corporatism', 'that', 'Fr', '.', 'Massey', 'seems', 'to', 'be', 'indicating', 'in', 'AMERICA', '.', 'We', 'must', 'take', 'into', 'consideration', 'the', 'nature', 'of', 'man', 'and', 'his', 'needs', ',', 'not', 'just', 'cashcommodities', ',', 'food', 'and', 'clothing', ',', 'but', 'a', 'home', ',', 'a', 'bit', 'of', 'land', ',', 'and', 'the', 'tools', 'with', 'which', 'to', 'work', ',', 'part', 'ownership', 'in', 'workshops', 'and', 'stores', 'and', 'factories', '.', 'Distributism', 'does', 'not', 'mean', 'that', 'everyone', 'must', 'be', 'a', 'farmer.The', 'Distributist', 'thinks', 'in', 'terms', 'of', 'the', 'village', 'economy', ',', 'and', 'as', 'for', 'the', 'size', 'of', 'the', 'CITY', '(', 'the', 'city', 'of', 'God', ')', 'which', 'Cardinal', 'Suhard', 'talks', 'of', 'our', 'building', ',', 'that', 'is', 'a', 'matter', 'of', 'situation', '.', 'It', 'may', 'be', 'five', 'hundred', ',', 'it', 'may', 'be', 'five', 'thousand', ',', 'it', 'may', 'be', 'fifty', 'thousand', '.', 'The', 'main', 'thing', 'to', 'do', 'is', 'to', 'distribute', 'the', 'cities', 'before', 'the', 'atom', 'bomb', 'does', 'it', '.', 'We', 'are', 'not', 'suggesting', 'that', 'it', 'be', 'done', 'by', 'force', 'but', 'by', 'education', '.', 'If', 'that', 'seems', 'too', 'slow', 'a', 'method', ',', 'probably', 'depression', ',', 'war', ',', 'hunger', 'and', 'homelessness', 'will', 'play', 'their', 'part', '.', 'We', 'only', 'know', 'it', 'is', 'not', 'human', 'to', 'live', 'in', 'a', 'city', 'of', 'ten', 'million', '.', 'It', 'is', 'not', 'only', 'not', 'human', ',', 'it', 'is', 'not', 'possible', '.', 'Cities', 'are', 'the', 'occasion', 'of', 'sin', ',', 'Fr', ',', 'Vincent', 'McNabb', 'said', ',', 'and', 'of', 'course', 'any', 'theologian', 'will', 'say', 'that', 'we', 'should', 'flee', 'the', 'occasions', 'of', 'sin', '.', 'Pope', 'Pius', 'XII', 'pointed', 'out', 'that', 'it', 'was', 'difficult', 'for', 'modern', 'youth', 'to', 'live', 'in', 'the', 'cities', 'without', 'heroic', 'virtue', '.', '(', 'And', 'it', 'was', 'never', 'intended', 'that', 'the', 'good', 'life', 'should', 'demand', 'heroic', 'virtue', '.', ')', 'Distributism', 'does', 'not', 'mean', 'that', 'we', 'throw', 'out', 'the', 'machine', '.', 'The', 'machine', ',', 'Peter', 'Maurin', 'used', 'to', 'say', ',', 'should', 'be', 'the', 'extension', 'of', 'the', 'hand', 'of', 'man', '.', 'If', 'we', 'could', 'do', 'away', 'with', 'the', 'assembly', 'line', ',', 'the', 'slavery', 'of', 'the', 'machine', ',', 'and', 'the', 'useless', 'and', 'harmful', 'and', 'destructive', 'machines', ',', 'we', 'would', 'be', 'doing', 'well', '.', 'In', 'the', 'psalms', 'it', 'says', ',', 'Lord', ',', 'make', 'me', 'desire', 'to', 'walk', 'in', 'the', 'way', 'of', 'thy', 'commandments', '.', 'Daniel', 'was', 'called', 'a', 'man', 'of', 'desires', ',', 'and', 'because', 'he', 'was', 'a', 'man', 'of', 'desires', ',', 'the', 'Lord', 'heard', 'him', '.', 'But', 'how', ',', 'are', 'we', 'going', 'to', 'get', 'people', 'to', 'desire', ',', 'and', 'to', 'hope', ',', 'when', 'men', 'like', 'Fr', '.', 'Becker', 'writing', 'in', 'America', ';', 'Fr', '.', 'Higgins', ',', 'of', 'the', 'N.C.W.C', '.', 'and', 'Fr', '.', 'FitzSimmons', 'of', 'Notre', 'Dame', ',', 'accept', 'the', 'status', 'quo', ',', 'endorse', 'social', 'security', 'instead', 'of', 'pointing', 'to', 'the', 'enormous', 'dangers', 'that', 'go', 'with', 'it', 'and', 'in', 'effect', 'combat', 'the', 'desire', 'of', 'the', 'people', 'for', 'land', 'and', 'for', 'bread', ',', 'and', 'feed', 'them', 'on', 'husks', 'that', 'the', 'acceptance', 'of', 'the', 'city', 'and', 'the', 'factory', 'result', 'in', '.', 'Cardinal', 'Suhard', 'of', 'Paris', 'and', 'Fr', '.', 'De', 'Lubac', ',', 'S.J.', ',', 'both', 'cry', 'out', 'against', 'the', 'refusal', 'of', 'some', 'traditionalists', 'to', 'be', 'co-creators', 'with', 'God', 'and', 'use', 'the', 'tools', 'which', 'science', 'has', 'put', 'in', 'mans', 'hands', '.', 'But', 'Fr', '.', 'De', 'Lubac', 'also', 'writes', '(', 'in', 'the', 'Dublin', 'Review', ')', 'Does', 'not', 'the', 'discovery', 'of', 'new', 'values', 'involve', 'the', 'depreciation', 'of', 'other', ',', 'perhaps', 'more', 'fundamental', 'ones', '?', 'And', 'does', 'it', 'not', 'breed', ',', 'even', 'while', 'the', 'discovery', 'is', 'still', 'modest', 'and', 'tentative', ',', 'a', 'kind', 'of', 'intoxication', ',', 'so', 'that', 'the', 'passionate', 'interest', 'it', 'arouses', 'tends', 'to', 'make', 'men', 'oblivious', 'of', 'everything', 'else', ',', 'even', 'of', 'essentials', '?', 'And', 'so', 'ambiguous', 'situations', 'pile', 'up', ',', 'leading', 'inevitably', 'to', 'crises', 'whose', 'outcome', 'no', 'one', 'can', 'safely', 'prophecy', '.', 'We', 'are', 'sure', 'that', 'these', 'priests', 'aforementioned', 'have', 'the', 'interests', 'of', 'the', 'worker', 'at', 'heart', ',', 'and', 'that', 'in', 'their', 'social', 'ideas', 'and', 'studies', 'they', 'are', 'trying', 'to', 'remedy', 'situations', 'which', 'have', 'become', 'well', 'nigh', 'intolerable', '.', 'But', 'the', 'essentials', 'are', 'food', ',', 'clothing', 'and', 'shelter', '.', 'The', 'essential', 'is', 'ownership', 'which', 'brings', 'with', 'it', 'responsibility', ',', 'and', 'what', 'is', 'more', 'essential', 'than', 'the', 'earth', 'on', 'which', 'we', 'all', 'spring', ',', 'and', 'from', 'which', 'comes', 'our', 'food', ',', 'our', 'clothes', ',', 'our', 'furniture', ',', 'our', 'homes', '.', 'It', 'is', 'as', 'a', 'woman', ',', 'a', 'mother', ',', 'speaking', 'for', 'the', 'family', 'and', 'the', 'home', ',', 'that', 'I', 'protest', 'the', 'work', 'of', 'priest-sociologists', ',', 'who', 'in', 'their', 'desire', 'to', 'help', 'the', 'worker', ',', 'are', 'going', 'along', 'with', 'him', 'in', 'his', 'errors', ',', 'and', 'are', 'accepting', 'the', 'easy', 'way', 'of', 'capitalist', 'industrialism', 'which', 'leads', 'to', 'collectivism', 'and', 'the', 'totalitarian', 'state', '.', 'To', 'conclude', 'this', 'particular', 'installment', 'of', 'our', 'series', 'of', 'articles', 'on', 'Distributism', ',', 'the', 'warning', 'is', 'there', ',', 'Isaiah', '26', ',', '5', '.', 'He', 'shall', 'bring', 'down', 'them', 'that', 'dwell', 'on', 'high', ';', 'the', 'high', 'city', 'he', 'shall', 'lay', 'low', '.', 'He', 'shall', 'bring', 'it', 'down', 'even', 'unto', 'the', 'ground', ';', 'he', 'shall', 'pull', 'it', 'down', 'even', 'to', 'the', 'dust', '.', 'The', 'foot', 'shall', 'tread', 'it', 'down', ';', 'the', 'feet', 'of', 'the', 'poor', ',', 'the', 'steps', 'of', 'the', 'needy', '.', 'So', ',', 'strengthen', 'ye', 'the', 'feeble', 'hands', ',', 'and', 'confirm', 'the', 'weak', 'knees', '.', 'Say', 'to', 'the', 'faint', 'hearted', ',', 'take', 'courage', 'and', 'fear', 'not', '.', 'Behold', ',', 'your', 'God', 'will', 'bring', 'the', 'bread', 'of', 'recompense', '.', 'God', 'Himself', 'will', 'come', 'and', 'save', 'YOU', ',']\n"
     ]
    }
   ],
   "source": [
    "tokenList=[]\n",
    "for token in textList:\n",
    "    try:\n",
    "        tokenList.append(str(token))\n",
    "    except:\n",
    "        tokenList.append('**CODEC_ERROR**')\n",
    "        \n",
    "print(tokenList)"
   ]
  },
  {
   "cell_type": "code",
   "execution_count": 95,
   "metadata": {
    "collapsed": false
   },
   "outputs": [
    {
     "name": "stdout",
     "output_type": "stream",
     "text": [
      "The Catholic Worker , July-August 1948 , 1,2 , 6 . Summary : Argues that distributism is the only alternative to the US economy . Distributism is an alternative to capitalism and socialism built around the village economy and a more just distribution of wealth . Quotes four modern Popes in its support . Summarizes its principles with the following Statements : land is the most natural form of property wages should enable man to purchase land the family is the most perfect when rooted in its own holdings agriculture is the first and most important of all arts . ( See also DOC # 159 and DOC # 161 ) ( DDLW # 160 ) . We have a farm at Newburgh of nearly six acres . We are raising hay , corn , vegetables , pigs , chickens , a cow . Every few days the dog , King , has brought in woodchucks and some of them weigh eight pounds . He must have caught fifty this year . Down at the docks the Negroes fish without a license for eels . It is woodchuck season and you can eat the woodchucks now . You skin them as you do rabbits , and roasted with sage dressing they make a good meal , and they are cleaner than chicken or hog . Right now Carmela and Florence are sitting out under the crabapple tree stringing beans . There are peas and broccoli and swiss chard besides lettuce for salads . It is getting easier to feed the forty or so retreatants who come every few weeks to the farm and the twenty who are here all summer . I tell these things to make the mouth water . In the fall we are going to put in a field of wheat and next summer , God willing , we will have our own flour for the good whole wheat loaves that come out of the oven every day . For the average worker it is more and more difficult to get food . Butter , oleo and fat are sky high . Meat costs a fortune . Food prices have gone up 133 % and milk 85 % . We saw these figures in a magazine recently to advertise milk as a food . How to live , how to feed a family ! Most of all , how to find shelter ! *** Every month I shall have to explain the title to this series . We are not expecting utopia here on this earth . But God meant things to be much easier than we have made them . A man has a natural right to food , clothing , and shelter . A certain amount of goods is necessary to lead a good life . A family needs work as well as bread . Properly is proper to man . We must keep repeating these things . Eternal life begins now . All the way to heaven is heaven , because He said , I am the Way . The Cross is there of course , but in the cross is joy of spirit . And love makes all things easy . If we are putting off the old man and putting on Christ , then we are walking in love , and love is what we all want . But it is hard to love , from the human standpoint and from the divine standpoint , in a two room apartment . We are eminently practical , realistic . *** Irene has charge of the clothes at Mott street ( besides having charge of the womens house and writing for the paper , and seeing visitors ) and the other day a mother of eleven children , nine of them living , came in to get clothes . They are all living at the Municipal lodging house on Third street . The other afternoon when the rain had stopped Irene and I walked down Mott street to Bleecker where Mott street ends , then over to the Bowery and up one block to third , and there , just to the east of the Bowery , is the big building that used to be the Bowery Y.M.C.A . and which is now a municipal shelter . I was familiar with the place because it used to have a clean up system before the blessed days of D.D.T . which you can use like a talcum powder , and there once in a while I used to bring my old friend Mr.Breen . He was a very dignified old man , with a beautiful beard and he walked with a cane . He looked like Chief Justice Hughes . He had worked as Sunday editor of the Washington Post , and he had worked for the N.Y. World , written reviews for the Commonweal , poetry for us , and had assisted us , during his last years , in answering our large correspondence . His wife and children had died , he had fallen into bad times and during the depression we became his family . For a time he had slept in the worlds largest bedroom , on a dock down at South Ferry , where the Municipality put up about 1,200 men every night . He used to tell us a story of one old man who evidently thought he was in a cathedral , so vast was the long dim dock at night , and in his night shirt , with his long sticks of legs making him look like a strange bird , he used to make the stations down the inner aisle between the double-decker beds , pausing at every seventh bed to pray . Mr.Breen had many such stories of the poor . We had to take him , as I said before , to the Bowery Y , for a clean-up every now and then . One could bathe at leisure , have ones clothes cleaned and pressed , and have a shave and a hair cut all for seventy-five cents . We used to go in state in a taxi cab . It was very hard to get Mr.Breen to go , and he would only go with me . As we went up to the desk and the very courteous young man behind it , Mr.Breen would look at him haughtily and say in lordly fashion , I have come to be deloused . Then he would turn to me with a sweeping bow , thank me for my escort , and I would leave him there for the night . Now this building is part of the municipal lodging house . On either side of the entrance hall there are beautiful rural scenes painted on the walls , a road through the woods , a country field , and around the tiled halls , children play , from one-year old and up , slipping in and out between the hordes of young and old , black and white , drunk and sober men who are also served , who also are clients getting their lodging for the night and several meals a day . The men were registering at the desk as we came in . They all could write their names on the ledger , they were all literate . After they registered they were all taken upstairs to the dormitories to bed . It was five-thirty . No one was taken in after nine . Downstairs meals were still being served . They had soup or stew , as we could see from the windows outside , two slices of bread and huge mugs of cocoa . I dont know how many thousands of men are served every day , are lodged every day . What was occupying our minds was the fact that forty-five families were lodged there too , with six , eight , nine children . The mothers sat around , the fathers came in to report the result of their days search for rooms , ( and who wants families of four children even , let alone nine ? ) The children restlessly ran from end to end of the hall , and we tried to talk . Isnt there a play room ? Yes , but the colored , the Puerto Rican the Italian and the American children fought . It was nerve-racking . There were separate bed rooms for different members of the family , it was not overcrowded , there is a doctor for the women and children . The city was doing what it could . Up at 26th street , another branch of the Municipal lodging house , there were other families and more men . What they were trying to do was bring all the men down here to Third street , and get the women and children away from the Bowery and up to 26th where there was a playground , a dead end street , the river , and more light and air . *** Yesterday two Irish Christian brothers came to call and told us of Harlem where their order had a school in what was the largest parish in the world . There were thirty thousand people in it , it was estimated . Families fleeing the hunger of Porto Rico were living three families to an apartment . It was the most congested , most neglected section of the city . With all these thousands , the church on Sunday was only half full . It is not a leakage from the Church , it is a landslide . We have been working on these problems at the Catholic Worker for the past fifteen years , and we can say with all sincerity , that things have never been so bad as they are now , even in the worst of depression . Now men may have work , but they lack homes . There may be odd jobs , poorly-paid jobs , something coming in the way of work , but the housing situation gets worse and worse . Everywhere it is the same . In every city and town the story is the same . There are no apartments , there are no houses . Mr.ODaniel , father of the eleven we were visiting , had had a job as janitor . In order to make their profits and avoid the penalties of rent gouging , the owners of the building he was in had transformed a twelve-apartment house into a twenty-four-apartment house of two and a half rooms each . The board of health got after the owner for having a large family of children in the basement , and he had let them go . No one wants to employ families , none want to rent to families . And of course we can understand the home owners point of view . Once we saw a cartoon in the Saturday Evening Post of a mother rebuking her child . Dont deface the wall , William , we own this house . In other words , what you own is taken care of . Property means responsibility . Property is proper to man . This is a long preamble . But what a need there is to arouse the conscience ! To call attention to the poor ! Are there any more poor ? This fatuous question has been asked me so often by well meaning listeners at meetings that one must answer it . What about the bricklayer and his huge wages ? Never have wages been so high . And what do high wages mean when there is no just price ? Anyway , with all the talk of high wages , most of the people around here that I know are working for thirty and thirty five dollars a week . Also the great white collar class of young men and young women are getting along by living at home , profiting by the industry and thrift and better housing opportunity of their parents . People sooner or later will have to admit that things are rapidly getting worse , not better . People said during the war that Hitler had the theory that the bigger the lie , the easier it was to get people to believe it . It seems to me we have quite a number of these big lies . There is the lie of high wages . There is the lie of widespread ownership . There is the plentiful production lie . There is the everyone consuming more lie . In the little pamphlet DISTRIBUTISM by S. Sagar , a reprint of six articles from the Weekly Review of London , says that the great danger of today is not a revolt of the proletariat but the lethargy of the proletariat . He also says that the preliminary to any step taken towards Distributism was the creation of the will to take them . Here is one quotation from Pope Pius XII which ought to be considered a mandate along these lines . We confirm what only recently we had occasion to expound . For Catholics , the only path to be followed in solving the social problem is clearly outlined in the doctrine of the Church . The blessing of God will descend on your work if you do not swerve in the slightest degree from this path . You have no need to think up specious solutions or to work with facile and empty formulas for results that prove only a delusion . What you can and ought to strive for is a more just distribution of wealth . This is and this remains a central point in Catholic social doctrine . Joseph T. Nolan writes in Orate Fratres : Too long has idle talk made out of Distributism as something medieval and myopic , as if four modern popes were somehow talking nonsense when they said : the law should favor widespread ownership ( Leo XIII ) ; land is the most natural form of property ( Leo XIII and Pius XII ) ; wages should enable a man to purchase land ( Leo XIII and Pius XI ) ; the family is most perfect when rooted in its own holding ( Pius XII ) ; agriculture is the first and most important of all the arts ( Pius VII ) ; and the tiller of the soil still represents the natural order of things willed by God ( Pius XII ) . But in general there is so little facing of the problem of the land , or of machinery , which the Franciscan Belliot calledone of the gravest and most disquieting elements in the social problem . '' How many Catholics , especially liturgists , share the anxiety of the present pope at the agglomeration of huge populations in the cities and the diminution of modern man by the domination of the machine ? Neither the nihilists nor the optimists who still dream of abundant production can fill our present need ; a lot closer are the realists who are willing to rebuild an organic Christian society from the ground up , from the soil , who might escape the very real prospects of unemployment , hunger and despair . There are numerous steps that can be taken , outlined in THE RESTORATION OF PROPERTY by Hilaire Belloc . But how to create in men a desire to take them , a hope that they will be able to take them ? Things have gotten so desperate , Mr.Sagar says , goods have gotten so scarce , the effort to find housing has become so heart breaking , that now at last today , after these many years , DISTRIBUTISM IS GOING TO BE DISCUSSED . The alternatives are not capitalism or socialism . Nor are they the corporatism that Fr . Massey seems to be indicating in AMERICA . We must take into consideration the nature of man and his needs , not just cashcommodities , food and clothing , but a home , a bit of land , and the tools with which to work , part ownership in workshops and stores and factories . Distributism does not mean that everyone must be a farmer.The Distributist thinks in terms of the village economy , and as for the size of the CITY ( the city of God ) which Cardinal Suhard talks of our building , that is a matter of situation . It may be five hundred , it may be five thousand , it may be fifty thousand . The main thing to do is to distribute the cities before the atom bomb does it . We are not suggesting that it be done by force but by education . If that seems too slow a method , probably depression , war , hunger and homelessness will play their part . We only know it is not human to live in a city of ten million . It is not only not human , it is not possible . Cities are the occasion of sin , Fr , Vincent McNabb said , and of course any theologian will say that we should flee the occasions of sin . Pope Pius XII pointed out that it was difficult for modern youth to live in the cities without heroic virtue . ( And it was never intended that the good life should demand heroic virtue . ) Distributism does not mean that we throw out the machine . The machine , Peter Maurin used to say , should be the extension of the hand of man . If we could do away with the assembly line , the slavery of the machine , and the useless and harmful and destructive machines , we would be doing well . In the psalms it says , Lord , make me desire to walk in the way of thy commandments . Daniel was called a man of desires , and because he was a man of desires , the Lord heard him . But how , are we going to get people to desire , and to hope , when men like Fr . Becker writing in America ; Fr . Higgins , of the N.C.W.C . and Fr . FitzSimmons of Notre Dame , accept the status quo , endorse social security instead of pointing to the enormous dangers that go with it and in effect combat the desire of the people for land and for bread , and feed them on husks that the acceptance of the city and the factory result in . Cardinal Suhard of Paris and Fr . De Lubac , S.J. , both cry out against the refusal of some traditionalists to be co-creators with God and use the tools which science has put in mans hands . But Fr . De Lubac also writes ( in the Dublin Review ) Does not the discovery of new values involve the depreciation of other , perhaps more fundamental ones ? And does it not breed , even while the discovery is still modest and tentative , a kind of intoxication , so that the passionate interest it arouses tends to make men oblivious of everything else , even of essentials ? And so ambiguous situations pile up , leading inevitably to crises whose outcome no one can safely prophecy . We are sure that these priests aforementioned have the interests of the worker at heart , and that in their social ideas and studies they are trying to remedy situations which have become well nigh intolerable . But the essentials are food , clothing and shelter . The essential is ownership which brings with it responsibility , and what is more essential than the earth on which we all spring , and from which comes our food , our clothes , our furniture , our homes . It is as a woman , a mother , speaking for the family and the home , that I protest the work of priest-sociologists , who in their desire to help the worker , are going along with him in his errors , and are accepting the easy way of capitalist industrialism which leads to collectivism and the totalitarian state . To conclude this particular installment of our series of articles on Distributism , the warning is there , Isaiah 26 , 5 . He shall bring down them that dwell on high ; the high city he shall lay low . He shall bring it down even unto the ground ; he shall pull it down even to the dust . The foot shall tread it down ; the feet of the poor , the steps of the needy . So , strengthen ye the feeble hands , and confirm the weak knees . Say to the faint hearted , take courage and fear not . Behold , your God will bring the bread of recompense . God Himself will come and save YOU ,\n"
     ]
    }
   ],
   "source": [
    "#Create clean text string and save as rawText\n",
    "txtString=' '.join(tokenList)\n",
    "rawText=txtString\n",
    "print(rawText)"
   ]
  },
  {
   "cell_type": "code",
   "execution_count": null,
   "metadata": {
    "collapsed": true
   },
   "outputs": [],
   "source": []
  },
  {
   "cell_type": "code",
   "execution_count": 103,
   "metadata": {
    "collapsed": false
   },
   "outputs": [],
   "source": [
    "from nltk.tag.perceptron import PerceptronTagger\n",
    "tagger = PerceptronTagger()"
   ]
  },
  {
   "cell_type": "code",
   "execution_count": 134,
   "metadata": {
    "collapsed": false
   },
   "outputs": [
    {
     "name": "stdout",
     "output_type": "stream",
     "text": [
      "[('The', 'DT'), ('Catholic', 'NNP'), ('Worker', 'NNP'), (',', ','), ('July-August', 'NNP'), ('1948', 'CD'), (',', ','), ('1,2', 'CD'), (',', ','), ('6', 'CD'), ('.', '.')]\n"
     ]
    }
   ],
   "source": [
    "sentences = loTest.sentences[loTest.sentences.keys()[0]][0:15]\n",
    "sent = sentences[0]\n",
    "\n",
    "tagList=tagger.tag(nltk.word_tokenize(sent))\n",
    "print(tagList)"
   ]
  },
  {
   "cell_type": "code",
   "execution_count": 135,
   "metadata": {
    "collapsed": false
   },
   "outputs": [
    {
     "name": "stdout",
     "output_type": "stream",
     "text": [
      "['The Catholic Worker , July-August 1948 , 1,2 , 6 .', 'Summary : Argues that distributism is the only alternative to the US economy .', 'Distributism is an alternative to capitalism and socialism built around the village economy and a more just distribution of wealth .', 'Quotes four modern Popes in its support .', 'Summarizes its principles with the following Statements : land is the most natural form of property wages should enable man to purchase land the family is the most perfect when rooted in its own holdings agriculture is the first and most important of all arts .', '( See also DOC # 159 and DOC # 161 ) ( DDLW # 160 ) .', 'We have a farm at Newburgh of nearly six acres .', 'We are raising hay , corn , vegetables , pigs , chickens , a cow .', 'Every few days the dog , King , has brought in woodchucks and some of them weigh eight pounds .', 'He must have caught fifty this year .', 'Down at the docks the Negroes fish without a license for eels .', 'It is woodchuck season and you can eat the woodchucks now .', 'You skin them as you do rabbits , and roasted with sage dressing they make a good meal , and they are cleaner than chicken or hog .', 'Right now Carmela and Florence are sitting out under the crabapple tree stringing beans .', 'There are peas and broccoli and swiss chard besides lettuce for salads .']\n"
     ]
    }
   ],
   "source": [
    "print(sentences)"
   ]
  },
  {
   "cell_type": "code",
   "execution_count": 167,
   "metadata": {
    "collapsed": false
   },
   "outputs": [
    {
     "name": "stdout",
     "output_type": "stream",
     "text": [
      "['We have a farm at Newburgh of nearly six acres .', 'We are raising hay , corn , vegetables , pigs , chickens , a cow .', 'Every few days the dog , King , has brought in woodchucks and some of them weigh eight pounds .', 'He must have caught fifty this year .', 'It is woodchuck season and you can eat the woodchucks now .', 'You skin them as you do rabbits , and roasted with sage dressing they make a good meal , and they are cleaner than chicken or hog .']\n"
     ]
    }
   ],
   "source": [
    "pronoun_sentence_list = []\n",
    "for sent in sentences:\n",
    "    #print(sent)\n",
    "    tagList=tagger.tag(nltk.word_tokenize(sent))\n",
    "    #print(tagList)\n",
    "    for tag in tagList:\n",
    "        if tag[1] == 'PRP':\n",
    "            #print('%%%%%%%%%%%\\n' + tag[0] + '\\n%%%%%%%%%%')\n",
    "            pronoun_sentence_list = pronoun_sentence_list + [sent]\n",
    "            break\n",
    "            \n",
    "print(pronoun_sentence_list)\n",
    "            "
   ]
  },
  {
   "cell_type": "code",
   "execution_count": null,
   "metadata": {
    "collapsed": false
   },
   "outputs": [],
   "source": []
  },
  {
   "cell_type": "code",
   "execution_count": 157,
   "metadata": {
    "collapsed": true
   },
   "outputs": [],
   "source": [
    "stemmer = nltk.stem.snowball.EnglishStemmer()"
   ]
  },
  {
   "cell_type": "code",
   "execution_count": 158,
   "metadata": {
    "collapsed": false
   },
   "outputs": [
    {
     "data": {
      "text/plain": [
       "[u'there',\n",
       " u'are',\n",
       " u'pea',\n",
       " u'and',\n",
       " u'broccoli',\n",
       " u'and',\n",
       " u'swiss',\n",
       " u'chard',\n",
       " u'besid',\n",
       " u'lettuc',\n",
       " u'for',\n",
       " u'salad',\n",
       " '.']"
      ]
     },
     "execution_count": 158,
     "metadata": {},
     "output_type": "execute_result"
    }
   ],
   "source": [
    "#sentList = nltk.word_tokenize(sent)\n",
    "\n",
    "[stemmer.stem(word) for word in nltk.word_tokenize(sent)]"
   ]
  },
  {
   "cell_type": "code",
   "execution_count": 180,
   "metadata": {
    "collapsed": true
   },
   "outputs": [],
   "source": [
    "#loTest.keywords\n",
    "fakeKeywords = ['farm','hog']"
   ]
  },
  {
   "cell_type": "code",
   "execution_count": 182,
   "metadata": {
    "collapsed": false
   },
   "outputs": [
    {
     "name": "stdout",
     "output_type": "stream",
     "text": [
      "['We have a farm at Newburgh of nearly six acres .', 'You skin them as you do rabbits , and roasted with sage dressing they make a good meal , and they are cleaner than chicken or hog .']\n"
     ]
    }
   ],
   "source": [
    "# this works, but is the same as the next cell, and this one is uglier (but it is one line!)\n",
    "winners = [sent for sent in pronoun_sentence_list if any(key in sent for key in fakeKeywords)]\n",
    "print(winners)"
   ]
  },
  {
   "cell_type": "code",
   "execution_count": 183,
   "metadata": {
    "collapsed": false
   },
   "outputs": [
    {
     "name": "stdout",
     "output_type": "stream",
     "text": [
      "['We have a farm at Newburgh of nearly six acres .', 'You skin them as you do rabbits , and roasted with sage dressing they make a good meal , and they are cleaner than chicken or hog .']\n"
     ]
    }
   ],
   "source": [
    "winners = []\n",
    "for sent in pronoun_sentence_list:\n",
    "    if any(key in sent for key in fakeKeywords):\n",
    "        winners.append(sent)\n",
    "\n",
    "print(winners)"
   ]
  },
  {
   "cell_type": "markdown",
   "metadata": {},
   "source": [
    "### The full pronoun + keyword function"
   ]
  },
  {
   "cell_type": "code",
   "execution_count": 194,
   "metadata": {
    "collapsed": false
   },
   "outputs": [
    {
     "name": "stdout",
     "output_type": "stream",
     "text": [
      "[u'love', u'want', u'get', u'bread', u'thing', u'christ', u'say', u'tri', u'talk', u'worker']\n",
      "$$$$\n",
      "get\n",
      "It is getting easier to feed the forty or so retreatants who come every few weeks to the farm and the twenty who are here all summer .\n",
      "$$$$\n",
      "$$$$\n",
      "thing\n",
      "I tell these things to make the mouth water .\n",
      "$$$$\n",
      "$$$$\n",
      "get\n",
      "For the average worker it is more and more difficult to get food .\n",
      "$$$$\n",
      "$$$$\n",
      "thing\n",
      "But God meant things to be much easier than we have made them .\n",
      "$$$$\n",
      "$$$$\n",
      "thing\n",
      "We must keep repeating these things .\n",
      "$$$$\n",
      "$$$$\n",
      "love\n",
      "If we are putting off the old man and putting on Christ , then we are walking in love , and love is what we all want .\n",
      "$$$$\n",
      "$$$$\n",
      "love\n",
      "But it is hard to love , from the human standpoint and from the divine standpoint , in a two room apartment .\n",
      "$$$$\n",
      "$$$$\n",
      "get\n",
      "*** Irene has charge of the clothes at Mott street ( besides having charge of the womens house and writing for the paper , and seeing visitors ) and the other day a mother of eleven children , nine of them living , came in to get clothes .\n",
      "$$$$\n",
      "$$$$\n",
      "get\n",
      "It was very hard to get Mr.Breen to go , and he would only go with me .\n",
      "$$$$\n",
      "$$$$\n",
      "say\n",
      "As we went up to the desk and the very courteous young man behind it , Mr.Breen would look at him haughtily and say in lordly fashion , I have come to be deloused .\n",
      "$$$$\n",
      "$$$$\n",
      "get\n",
      "On either side of the entrance hall there are beautiful rural scenes painted on the walls , a road through the woods , a country field , and around the tiled halls , children play , from one-year old and up , slipping in and out between the hordes of young and old , black and white , drunk and sober men who are also served , who also are clients getting their lodging for the night and several meals a day .\n",
      "$$$$\n",
      "$$$$\n",
      "bread\n",
      "They had soup or stew , as we could see from the windows outside , two slices of bread and huge mugs of cocoa .\n",
      "$$$$\n",
      "$$$$\n",
      "want\n",
      "The mothers sat around , the fathers came in to report the result of their days search for rooms , ( and who wants families of four children even , let alone nine ? )\n",
      "$$$$\n",
      "$$$$\n",
      "tri\n",
      "The children restlessly ran from end to end of the hall , and we tried to talk .\n",
      "$$$$\n",
      "$$$$\n",
      "get\n",
      "What they were trying to do was bring all the men down here to Third street , and get the women and children away from the Bowery and up to 26th where there was a playground , a dead end street , the river , and more light and air .\n",
      "$$$$\n",
      "$$$$\n",
      "thing\n",
      "We have been working on these problems at the Catholic Worker for the past fifteen years , and we can say with all sincerity , that things have never been so bad as they are now , even in the worst of depression .\n",
      "$$$$\n",
      "$$$$\n",
      "talk\n",
      "Anyway , with all the talk of high wages , most of the people around here that I know are working for thirty and thirty five dollars a week .\n",
      "$$$$\n",
      "$$$$\n",
      "get\n",
      "Also the great white collar class of young men and young women are getting along by living at home , profiting by the industry and thrift and better housing opportunity of their parents .\n",
      "$$$$\n",
      "$$$$\n",
      "get\n",
      "People said during the war that Hitler had the theory that the bigger the lie , the easier it was to get people to believe it .\n",
      "$$$$\n",
      "$$$$\n",
      "say\n",
      "He also says that the preliminary to any step taken towards Distributism was the creation of the will to take them .\n",
      "$$$$\n",
      "$$$$\n",
      "thing\n",
      "Joseph T. Nolan writes in Orate Fratres : Too long has idle talk made out of Distributism as something medieval and myopic , as if four modern popes were somehow talking nonsense when they said : the law should favor widespread ownership ( Leo XIII ) ; land is the most natural form of property ( Leo XIII and Pius XII ) ; wages should enable a man to purchase land ( Leo XIII and Pius XI ) ; the family is most perfect when rooted in its own holding ( Pius XII ) ; agriculture is the first and most important of all the arts ( Pius VII ) ; and the tiller of the soil still represents the natural order of things willed by God ( Pius XII ) .\n",
      "$$$$\n",
      "$$$$\n",
      "talk\n",
      "Distributism does not mean that everyone must be a farmer.The Distributist thinks in terms of the village economy , and as for the size of the CITY ( the city of God ) which Cardinal Suhard talks of our building , that is a matter of situation .\n",
      "$$$$\n",
      "$$$$\n",
      "thing\n",
      "The main thing to do is to distribute the cities before the atom bomb does it .\n",
      "$$$$\n",
      "$$$$\n",
      "say\n",
      "Cities are the occasion of sin , Fr , Vincent McNabb said , and of course any theologian will say that we should flee the occasions of sin .\n",
      "$$$$\n",
      "$$$$\n",
      "say\n",
      "In the psalms it says , Lord , make me desire to walk in the way of thy commandments .\n",
      "$$$$\n",
      "$$$$\n",
      "get\n",
      "But how , are we going to get people to desire , and to hope , when men like Fr .\n",
      "$$$$\n",
      "$$$$\n",
      "bread\n",
      "FitzSimmons of Notre Dame , accept the status quo , endorse social security instead of pointing to the enormous dangers that go with it and in effect combat the desire of the people for land and for bread , and feed them on husks that the acceptance of the city and the factory result in .\n",
      "$$$$\n",
      "$$$$\n",
      "tri\n",
      "We are sure that these priests aforementioned have the interests of the worker at heart , and that in their social ideas and studies they are trying to remedy situations which have become well nigh intolerable .\n",
      "$$$$\n",
      "$$$$\n",
      "worker\n",
      "It is as a woman , a mother , speaking for the family and the home , that I protest the work of priest-sociologists , who in their desire to help the worker , are going along with him in his errors , and are accepting the easy way of capitalist industrialism which leads to collectivism and the totalitarian state .\n",
      "$$$$\n",
      "$$$$\n",
      "bread\n",
      "Behold , your God will bring the bread of recompense .\n",
      "$$$$\n",
      "30\n"
     ]
    }
   ],
   "source": [
    "#sentences = loTest.sentences[loTest.sentences.keys()[0]][0:15]\n",
    "sentences = loTest.sentences[loTest.sentences.keys()[0]]\n",
    "\n",
    "pronoun_sentence_list = []\n",
    "for sent in sentences:\n",
    "    tagList=tagger.tag(nltk.word_tokenize(sent))\n",
    "    for tag in tagList:\n",
    "        if (tag[1] == 'PRP') | (tag[1] == 'PRP$'):\n",
    "            pronoun_sentence_list = pronoun_sentence_list + [sent]\n",
    "            break\n",
    "\n",
    "########## DELETE ##########       \n",
    "keywords = loTest.keywords\n",
    "#keywords = ['farm','hog']\n",
    "print(keywords)\n",
    "############################\n",
    "\n",
    "winners = []\n",
    "for sent in pronoun_sentence_list:\n",
    "    sent_stems = [stemmer.stem(word) for word in nltk.word_tokenize(sent)]\n",
    "    for key in keywords:\n",
    "        if key in sent_stems:\n",
    "            winners.append(sent)\n",
    "            print('$$$$\\n' + key) ############# delete this\n",
    "            print(sent + '\\n$$$$') ############## delete this\n",
    "            break\n",
    "\n",
    "print(len(winners))"
   ]
  },
  {
   "cell_type": "code",
   "execution_count": null,
   "metadata": {
    "collapsed": true
   },
   "outputs": [],
   "source": []
  }
 ],
 "metadata": {
  "anaconda-cloud": {},
  "kernelspec": {
   "display_name": "Python [py27]",
   "language": "python",
   "name": "Python [py27]"
  },
  "language_info": {
   "codemirror_mode": {
    "name": "ipython",
    "version": 2
   },
   "file_extension": ".py",
   "mimetype": "text/x-python",
   "name": "python",
   "nbconvert_exporter": "python",
   "pygments_lexer": "ipython2",
   "version": "2.7.12"
  }
 },
 "nbformat": 4,
 "nbformat_minor": 0
}
