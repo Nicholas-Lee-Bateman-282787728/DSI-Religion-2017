{
 "cells": [
  {
   "cell_type": "code",
   "execution_count": 2,
   "metadata": {
    "collapsed": false
   },
   "outputs": [
    {
     "name": "stdout",
     "output_type": "stream",
     "text": [
      "[nltk_data] Downloading package punkt to /Users/Seth/nltk_data...\n",
      "[nltk_data]   Package punkt is already up-to-date!\n",
      "[nltk_data] Downloading package maxent_treebank_pos_tagger to\n",
      "[nltk_data]     /Users/Seth/nltk_data...\n",
      "[nltk_data]   Package maxent_treebank_pos_tagger is already up-to-\n",
      "[nltk_data]       date!\n",
      "[nltk_data] Downloading package averaged_perceptron_tagger to\n",
      "[nltk_data]     /Users/Seth/nltk_data...\n",
      "[nltk_data]   Package averaged_perceptron_tagger is already up-to-\n",
      "[nltk_data]       date!\n",
      "2016-10-26 07:19:04.898574\n",
      "finished loading packages after 0.00240778923035 seconds\n"
     ]
    }
   ],
   "source": [
    "# -*- coding: utf-8 -*-\n",
    "\"\"\"\n",
    "Created on Tue Jul 19 16:14:43 2016\n",
    "\n",
    "@author: nmvenuti\n",
    "\"\"\"\n",
    "\n",
    "# -*- coding: utf-8 -*-\n",
    "\"\"\"\n",
    "Created on Thu Jun  2 15:23:11 2016\n",
    "\n",
    "@author: nmvenuti\n",
    "\"\"\"\n",
    "import time\n",
    "start=time.time()\n",
    "import sys, os\n",
    "\n",
    "os.chdir('/Users/Seth/Documents/DSI/Capstone/DSI-Religion-2017')\n",
    "#from joblib import Parallel, delayed\n",
    "#import multiprocessing as mp\n",
    "import os.path\n",
    "import numpy as np\n",
    "import pandas as pd\n",
    "from datetime import datetime\n",
    "sys.path.append('./prototype_python/')\n",
    "#import lingual as la\n",
    "import lingualPrinting as la\n",
    "import nltk\n",
    "nltk.download('punkt')\n",
    "nltk.download('maxent_treebank_pos_tagger')\n",
    "nltk.download('averaged_perceptron_tagger')\n",
    "\n",
    "\n",
    "end=time.time()\n",
    "#sys.stdout = open(\"output.txt\", \"a\")\n",
    "print(str(datetime.now()))\n",
    "print('finished loading packages after '+str(end-start)+' seconds')\n",
    "sys.stdout.flush()\n",
    "\n",
    "#\n",
    "import getNewDocs as gnd\n",
    "\n",
    "stemmer = nltk.stem.snowball.EnglishStemmer()\n"
   ]
  },
  {
   "cell_type": "code",
   "execution_count": 13,
   "metadata": {
    "collapsed": false
   },
   "outputs": [
    {
     "name": "stdout",
     "output_type": "stream",
     "text": [
      "50\n",
      "59\n",
      "20\n",
      "[['IntegralYoga', 'test11'], ['SeaShepherds', 'test1'], ['IntegralYoga', 'test1'], ['Bahai', 'test7'], ['IntegralYoga', 'test8'], ['Bahai', 'test3'], ['IntegralYoga', 'test4'], ['IntegralYoga', 'test10'], ['SeaShepherds', 'test2'], ['IntegralYoga', 'test0'], ['Bahai', 'test6'], ['Bahai', 'test2'], ['IntegralYoga', 'test7'], ['Bahai', 'test9'], ['SeaShepherds', 'test3'], ['IntegralYoga', 'test3'], ['Bahai', 'test5'], ['Bahai', 'test1'], ['IntegralYoga', 'test6'], ['Bahai', 'test8'], ['IntegralYoga', 'test2'], ['Bahai', 'test4'], ['SeaShepherds', 'test0'], ['Bahai', 'test0'], ['IntegralYoga', 'test9'], ['IntegralYoga', 'test5']]\n",
      "%%%%%\n",
      "length of subgroupList 26\n"
     ]
    }
   ],
   "source": [
    "fileDF=gnd.newDocsToDF('./data_dsicap/', bin=5) ################################### WHERE THE NEW FILES ARE\n",
    "\n",
    "fileList=fileDF.values.tolist()\n",
    "\n",
    "fileList=[[fileList[i][0],fileList[i][1],fileList[i][2]] for i in range(len(fileList))]\n",
    "\n",
    "\n",
    "#Get set of subgroups\n",
    "subgroupList=[ list(y) for y in set((x[0],x[2]) for x in fileList) ]\n",
    "print(subgroupList)\n",
    "print('%%%%%\\nlength of subgroupList is ' + str(len(subgroupList)))"
   ]
  },
  {
   "cell_type": "code",
   "execution_count": 5,
   "metadata": {
    "collapsed": true
   },
   "outputs": [],
   "source": [
    "rawPath = './data_dsicap/' ###############change this eventually\n",
    "runDirectory='./modelOutput/'\n",
    "#groupList=['DorothyDay','JohnPiper','MehrBaba','NaumanKhan','PastorAnderson',\n",
    "#   'Rabbinic','Shepherd','Unitarian','WBC']\n",
    "groupList=['DorothyDay','NaumanKhan','Rabbinic','NawDawg','SeaShepherds','IntegralYoga','Bahai']\n",
    "#cocoWindow=int(sys.argv[1])\n",
    "#cvWindow=int(sys.argv[2])\n",
    "#startCount=int(sys.argv[3])\n",
    "#netAngle=int(sys.argv[4])\n",
    "cocoWindow=3\n",
    "cvWindow=3\n",
    "startCount=0\n",
    "netAngle=30\n",
    "groupSize=10\n",
    "#testSplit=.3\n",
    "targetWordCount=10\n",
    "svdInt=50\n",
    "simCount=1000"
   ]
  },
  {
   "cell_type": "code",
   "execution_count": 11,
   "metadata": {
    "collapsed": false
   },
   "outputs": [
    {
     "name": "stdout",
     "output_type": "stream",
     "text": [
      "26\n"
     ]
    }
   ],
   "source": [
    "#Create paramList\n",
    "paramList=[[x,fileList,targetWordCount,cocoWindow,svdInt,cvWindow,simCount,startCount,netAngle] for x in subgroupList]\n",
    "print(len(paramList))"
   ]
  },
  {
   "cell_type": "code",
   "execution_count": 17,
   "metadata": {
    "collapsed": true
   },
   "outputs": [],
   "source": [
    "#Run calculation \n",
    "#masterOutput=[textAnalysis(x) for x in paramList]  ### INSTEAD OF THIS, WE MAKE THE OBJECT\n",
    "paramPick = paramList[0] ### instead of looping through, we just pick one"
   ]
  },
  {
   "cell_type": "code",
   "execution_count": 22,
   "metadata": {
    "collapsed": false
   },
   "outputs": [
    {
     "name": "stdout",
     "output_type": "stream",
     "text": [
      "['IntegralYoga', 'test11']\n"
     ]
    }
   ],
   "source": [
    "#def textAnalysis(paramPick):\n",
    "startTime=time.time()\n",
    "groupId=paramPick[0]\n",
    "fileList=paramPick[1]\n",
    "targetWordCount=paramPick[2]\n",
    "cocoWindow=paramPick[3]\n",
    "svdInt=paramPick[4]\n",
    "cvWindow=paramPick[5]\n",
    "simCount=paramPick[6]\n",
    "startCount=paramPick[7]\n",
    "netAngle=paramPick[8]    \n",
    "\n",
    "print(groupId)"
   ]
  },
  {
   "cell_type": "code",
   "execution_count": 46,
   "metadata": {
    "collapsed": false
   },
   "outputs": [
    {
     "name": "stdout",
     "output_type": "stream",
     "text": [
      "4\n",
      "['./data_dsicap/IntegralYoga/raw/YV12.txt', './data_dsicap/IntegralYoga/raw/YV37.txt', './data_dsicap/IntegralYoga/raw/YV38.txt', './data_dsicap/IntegralYoga/raw/YV43.txt']\n"
     ]
    }
   ],
   "source": [
    "#Get list of subfiles\n",
    "subFileList=[x[1] for x in fileList if x[0]==groupId[0] and x[2]==groupId[1]]\n",
    "print(len(subFileList))\n",
    "print(subFileList)"
   ]
  },
  {
   "cell_type": "code",
   "execution_count": 24,
   "metadata": {
    "collapsed": true
   },
   "outputs": [],
   "source": [
    "#Create lingual object\n",
    "loTest=la.lingualObject(subFileList)"
   ]
  },
  {
   "cell_type": "code",
   "execution_count": 42,
   "metadata": {
    "collapsed": false
   },
   "outputs": [
    {
     "name": "stdout",
     "output_type": "stream",
     "text": [
      "%%%%\n",
      "cocoDict, length 757\n",
      "---the first ten keys:\n",
      "[u'all', u'forget', u'founder', u'rod', u'focus', u'mile', u'customari', u'abil', u'go', u'follow']\n",
      "---the first entry:\n",
      "{u'all': 2, u'codecerror': 1, u'over': 2, u'move': 1, u'cheap': 1, u'becaus': 1, u'bring': 2, u'access': 1, u'send': 1, u'should': 1, 'to': 5, u'gave': 1, u'then': 1, u'them': 1, u'rememb': 1, u'seren': 1, u'wave': 1, u'util': 1, u'they': 1, u'not': 2, u'world': 1, u'necessari': 1, u'yantra': 1, u'bone': 1, u'ailment': 1, u'individu': 1, u'resist': 1, u'are': 2, u'will': 1, u'god': 1, u'away': 2, u'poison': 2, u'current': 1, u'religion': 1, u'various': 1, u'approach': 1, 'we': 2, u'immun': 1, u'bodi': 2, u'let': 1, u'path': 1, 'by': 1, u'faith': 1, 'of': 7, u'mani': 1, 'or': 1, u'into': 1, u'walk': 1, u'limb': 1, u'hatha': 1, u'your': 1, u'from': 3, u'give': 1, u'breath': 1, u'type': 1, u'that': 4, u'peopl': 1, u'tool': 1, u'but': 1, u'understand': 1, u'togeth': 1, u'compani': 1, u'with': 1, 'he': 1, u'kind': 1, u'these': 3, 'us': 2, u'air': 1, u'aim': 1, u'ail': 1, u'can': 1, u'learn': 1, u'aid': 1, u'cosmos': 1, u'purpos': 1, u'and': 8, u'transcend': 1, u'do': 1, 'is': 5, u'mind': 1, 'it': 2, 'at': 1, u'have': 1, 'in': 1, u'need': 1, u'ray': 1, u'strength': 1, u'yoga': 4, u'make': 1, u'toxin': 2, u'which': 1, u'you': 2, u'medit': 2, u'pain': 1, u'symbol': 1, u'whi': 1, u'stay': 1, u'eight': 1, u'veri': 1, u'robust': 1, u'peac': 1, 'a': 1, u'practic': 5, 'so': 1, u'clean': 1, u'time': 2, u'the': 20, u'spend': 1}\n"
     ]
    }
   ],
   "source": [
    "#Get coco\n",
    "loTest.getCoco(cocoWindow)\n",
    "\n",
    "#        self.cocoWindow=k\n",
    "#        self.cocoDict={}\n",
    "#        self.TF={}\n",
    "#        self.docTF={}\n",
    "\n",
    "print('%%%%\\ncocoDict, length ' + str(len(loTest.cocoDict)))\n",
    "print('---the first ten keys:')\n",
    "print(loTest.cocoDict.keys()[:10])\n",
    "print('---the first entry:')\n",
    "print(loTest.cocoDict[loTest.cocoDict.keys()[0]])"
   ]
  },
  {
   "cell_type": "code",
   "execution_count": 43,
   "metadata": {
    "collapsed": false
   },
   "outputs": [
    {
     "name": "stdout",
     "output_type": "stream",
     "text": [
      "loTest.svdK: 50\n",
      "%%%%\n",
      "DSM, length 757\n",
      "---the first ten keys:\n",
      "[u'all', u'forget', u'chain', u'whatev', u'rod', u'focus', u'mile', u'customari', u'abil', u'dish']\n",
      "---the first entry:\n",
      "{0: 0.30793645998372027, 1: 0.008859848532153573, 2: 0.64271035027153911, 3: 0.27572242070120689, 4: -0.10392338752453978, 5: -0.65942479408698718, 6: -0.54621335389052705, 7: 0.34495970606751841, 8: 0.038953878245611251, 9: 0.051637993586715648, 10: -0.36793979481043321, 11: -0.067323461692883918, 12: -0.1611049561432151, 13: -0.25946558742264525, 14: -0.22027729579887756, 15: 0.17270209446663354, 16: -0.21745620416317324, 17: 0.029231190701872096, 18: 0.088393261247169314, 19: 0.06033199561124622, 20: -0.20426670446051856, 21: 0.14257302588998219, 22: -0.16459811637347516, 23: 0.069100837219998906, 24: 0.28878823382838914, 25: -0.055969808999803042, 26: 0.029894371176366948, 27: -0.05117613795496067, 28: -0.12168761027433433, 29: -0.15319293580792506, 30: 0.041193984031315259, 31: 0.030242246308157097, 32: 0.0018430872808987647, 33: -0.093426036204208127, 34: -0.17538933711316596, 35: -0.096225302629982148, 36: -0.08369829577170175, 37: 0.084420928558226083, 38: 0.034567173858380741, 39: 0.064846279563761586, 40: 0.10195765551659745, 41: 0.32435645404975622, 42: 0.16374212068071853, 43: -0.21119206586469316, 44: 0.09603711124386248, 45: 0.028461539302310282, 46: -0.10114621441033113, 47: -0.068374217797760747, 48: 0.19615216077574923, 49: 0.02230344008606196}\n"
     ]
    }
   ],
   "source": [
    "#Get DSM\n",
    "loTest.getDSM(svdInt)\n",
    "print('loTest.svdK: ' + str(loTest.svdK))\n",
    "\n",
    "print('%%%%\\nDSM, length ' + str(len(loTest.DSM)))\n",
    "print('---the first ten keys:')\n",
    "print(loTest.DSM.keys()[:10])\n",
    "print('---the first entry:')\n",
    "print(loTest.DSM[loTest.DSM.keys()[0]])"
   ]
  },
  {
   "cell_type": "code",
   "execution_count": 44,
   "metadata": {
    "collapsed": false
   },
   "outputs": [
    {
     "name": "stdout",
     "output_type": "stream",
     "text": [
      "['very', 'not', 'then', 'physical', 'so', 'other', 'good', 'when', 'little', 'healthy']\n"
     ]
    },
    {
     "name": "stderr",
     "output_type": "stream",
     "text": [
      "./prototype_python/lingualPrinting.py:468: FutureWarning: sort(columns=....) is deprecated, use sort_values(by=.....)\n",
      "  targetDF.sort(['count'],inplace=True,ascending=False)\n"
     ]
    }
   ],
   "source": [
    "#Set keywords\n",
    "loTest.setKeywords('adjAdv',targetWordCount,startCount)\n",
    "print(loTest.keywords)\n"
   ]
  },
  {
   "cell_type": "code",
   "execution_count": 61,
   "metadata": {
    "collapsed": false
   },
   "outputs": [
    {
     "name": "stdout",
     "output_type": "stream",
     "text": [
      "loTest.cvWindow: 3\n",
      "%%%%\n",
      "cvDict, length 4\n",
      "---the first ten keys:\n",
      "['./data_dsicap/IntegralYoga/raw/YV38.txt', './data_dsicap/IntegralYoga/raw/YV43.txt', './data_dsicap/IntegralYoga/raw/YV37.txt', './data_dsicap/IntegralYoga/raw/YV12.txt']\n",
      "---the keywords each entry:\n",
      "./data_dsicap/IntegralYoga/raw/YV38.txt: [u'then', u'good', u'when', u'other', 'so', u'not']\n",
      "./data_dsicap/IntegralYoga/raw/YV43.txt: [u'not', u'when', u'other', 'so']\n",
      "./data_dsicap/IntegralYoga/raw/YV37.txt: [u'then', u'good', u'when', u'other', 'so', u'not']\n",
      "./data_dsicap/IntegralYoga/raw/YV12.txt: [u'not', u'then', u'other', u'when']\n",
      "---the first entry (length 5):\n",
      "first.keys(): [u'then', u'good', u'when', u'other', 'so', u'not']\n",
      "{1: {0: 12.155717923809192, 1: -1.3279140103422213, 2: 3.2508529371842778, 3: -0.09684545389297658, 4: 3.7601608361765582, 5: 0.79983624045921198, 6: 1.9336271111416865, 7: -0.88098285480102867, 8: 1.140279195210735, 9: -0.14917813007578726, 10: 1.1555346193753935, 11: -0.74713417208068633, 12: 0.35675322377971563, 13: -0.96546174053487366, 14: -0.63852919528964214, 15: 0.7823632832946471, 16: 0.8950496072090447, 17: -2.2754185034242891, 18: 0.3559464283639181, 19: 0.21666906712856823, 20: -0.064537961098940805, 21: 0.15026890478546823, 22: 0.65792359285677027, 23: -0.85920099269343908, 24: 0.78887783289178992, 25: 1.5828774323960733, 26: 0.45039517455478933, 27: 0.99740271169894379, 28: -0.87482833394517678, 29: -0.20918436050427269, 30: -0.76563505459306125, 31: 0.34900799991152598, 32: 0.68893432693345402, 33: -1.5609278940066447, 34: -1.1954115959527376, 35: -0.68134394844028967, 36: 1.0022279524480189, 37: 1.5884282014437907, 38: 0.28656440058461169, 39: -1.5545452578358641, 40: 0.11335410348090963, 41: 0.56766887095820295, 42: -0.21657665927932424, 43: -0.67478435249902879, 44: 1.3023958503999391, 45: 0.47579476654823033, 46: 0.73384401488094109, 47: -0.81764752659510853, 48: 1.5392580011028565, 49: 0.045202906605421762}, 2: {0: 8.0437123200093996, 1: 1.9583805274615695, 2: 2.2545697454987064, 3: 1.0858623465530504, 4: -0.61709886418140858, 5: -0.66724001656621834, 6: -1.6670046446054609, 7: 0.16454717975250799, 8: -0.70180341761318932, 9: 0.39672418953962307, 10: 2.0222949172015841, 11: -0.11261856966339154, 12: -1.3466343991384875, 13: 1.2244464321763866, 14: -0.95147262658881882, 15: -0.76959809905848364, 16: -1.0455964620963392, 17: 0.83304853921146815, 18: 1.164312673380991, 19: 0.74464444412099118, 20: -0.32226248976163185, 21: 1.265179215189371, 22: 1.2663895200668867, 23: 0.31019523281580391, 24: 1.0218370507968721, 25: -1.0970369773249184, 26: 0.35116793386256911, 27: 1.0881482902228039, 28: 1.840316349619461, 29: 0.30504607295983527, 30: 0.38188523700956978, 31: 0.082551585634255631, 32: -0.25104359877256749, 33: -0.55019676768381054, 34: -1.3421446321380734, 35: 0.59877831097545675, 36: 0.42653834437246196, 37: 0.72529967180956401, 38: 0.88792052512552555, 39: 0.39089040897518096, 40: -0.96878023977409655, 41: 0.90709334253777163, 42: 0.94910265959943785, 43: 0.43970465656226321, 44: -0.059594183683530484, 45: -1.1923834431282452, 46: -1.2488748527055398, 47: 0.11863495282592634, 48: -1.1265361278670345, 49: 0.7742573820450579}, 3: {0: 19.817587216111232, 1: -2.138793670317364, 2: 6.1442456841076849, 3: -0.078587134995809715, 4: 4.9598761000714982, 5: 2.0119826879289193, 6: -1.1983418560183916, 7: -3.9020978214328292, 8: 0.87477965143295355, 9: 1.8042780477887972, 10: 0.20538216514977004, 11: 0.31845648356786616, 12: 3.9351598625996687, 13: 0.47134640859747606, 14: -1.075382354926417, 15: -1.4369580541482503, 16: 2.9679997965142233, 17: -3.2142200169484214, 18: -1.7116288962006467, 19: 0.24218976481082977, 20: 0.53209352831124368, 21: 0.59906323517251403, 22: 0.59565007149222493, 23: -1.7899045114415562, 24: 3.0686560922521884, 25: 3.5956345837425623, 26: -0.79149665388396939, 27: -0.30235892982796431, 28: 1.4679047292250358, 29: -1.4058263142690139, 30: -2.8275582304822255, 31: 1.2067970098314471, 32: 2.9935419059926369, 33: 0.45169194894554221, 34: 1.7860504141166853, 35: -0.73412621938133005, 36: -1.6061220327893517, 37: 1.8058056203391226, 38: 3.0733755930542634, 39: -0.94462494397084007, 40: 1.8635293452936836, 41: 0.67630982790734495, 42: 2.6000605964059504, 43: -1.0457132614362543, 44: 2.2458093813285251, 45: -0.90398733079361826, 46: -1.0789702524596725, 47: -0.45040658939585443, 48: 2.3788869008468234, 49: 0.14290455379240485}, 4: {0: 12.759218975661224, 1: -2.6882274748822481, 2: 1.8650275693041753, 3: 1.0943294680431639, 4: 3.1150189669295911, 5: -0.044340281425073819, 6: -0.52041363397180129, 7: -1.8450810082586182, 8: 0.6058941642144311, 9: -0.5710904485673417, 10: -1.0143092902428825, 11: -0.34693466257034866, 12: 3.156550811262969, 13: -0.48650544129455514, 14: -0.39813121895010417, 15: 1.5353140874375426, 16: 3.3266957745196537, 17: -3.4107881187594451, 18: 1.7298942130270585, 19: -0.14484924940529292, 20: 0.084913891436029898, 21: 1.2404472238683235, 22: -0.0038174167704489587, 23: -1.4415140734620675, 24: -0.16597047253522679, 25: 0.65189862043705449, 26: -0.26030567489281664, 27: -0.53711591713663631, 28: 1.8245502354831491, 29: -0.40709194268639082, 30: -1.2613883873625988, 31: 0.93164879584831906, 32: 1.3693635984282369, 33: -0.31728569770720161, 34: 2.225055162461639, 35: 0.66892418862447356, 36: -2.0883081847749265, 37: 0.11727903919876151, 38: 3.5002083483521571, 39: 0.52785335308473769, 40: 0.95791327126612202, 41: 0.69834604791971833, 42: 2.0551959779804374, 43: -1.2785031417887012, 44: 0.85494413669113634, 45: 0.40644620629042877, 46: -2.0990733305416964, 47: 0.13952564568742959, 48: 0.69426226452817841, 49: 0.58306386718501446}, 5: {0: 12.944740100808032, 1: -2.8551326216390014, 2: 3.252893683844543, 3: 2.1276684675957909, 4: 2.7655080655045725, 5: 0.48552672978533673, 6: 0.008076721014123267, 7: -1.8647880609338405, 8: 0.27287224628612328, 9: -0.54520291272010646, 10: -0.61352705113930184, 11: 0.0038102332870131664, 12: 3.2527967449061412, 13: -0.49477880892761911, 14: -0.14147902366366871, 15: 1.4668589950352338, 16: 3.18047775955029, 17: -2.6223438773386922, 18: 1.4432534595505668, 19: 0.054372609229499005, 20: 0.049220735194808539, 21: 1.039253507026721, 22: 0.28736146157630438, 23: -0.99509727648549262, 24: 0.23358489976412711, 25: 1.2894309966123148, 26: 0.16462068990038534, 27: -0.83034172255819394, 28: 1.7628714379417092, 29: -0.0097456521527767848, 30: -1.312693022030335, 31: 1.3538351449235075, 32: 1.0298947695718361, 33: -0.069811018907441152, 34: 2.1805272822912833, 35: 0.75525654862008684, 36: -1.9929711474644722, 37: 0.28148661343507175, 38: 2.9545058934042094, 39: 0.74265150148009029, 40: 0.88123888355396141, 41: 0.94171954092014132, 42: 1.6394996326601996, 43: -0.79921975388460154, 44: 1.4152319251121657, 45: 0.39486244229422246, 46: -1.6283897623804948, 47: 0.4144170687280514, 48: 0.71439447326252992, 49: 0.33310156857432388}}\n",
      "---the second entry (length 3):\n",
      "{1: {0: 21.832201915092227, 1: -4.0864748901630028, 2: 0.36374755711117712, 3: -0.62718289149946693, 4: -0.24730566761634187, 5: -0.51095269261529497, 6: 0.73452849952627397, 7: -0.53700545805854705, 8: -0.2977907366062319, 9: -1.3256989633608125, 10: 2.9852217697670822, 11: 0.68937128331921183, 12: -2.3369093155094398, 13: 1.0853241093417778, 14: 0.57798415397515346, 15: 6.0055341540828868, 16: -0.80098208932303905, 17: 0.53420350448857734, 18: -0.96749560354023989, 19: 1.4365640886341036, 20: 1.5269948157699924, 21: 1.9777193834632842, 22: 4.8815428715844575, 23: 1.8808021171416802, 24: 0.93354234750418741, 25: -3.0888794267760082, 26: 3.1821605420838632, 27: 1.4126400546853817, 28: 0.87683948945669044, 29: -1.206624537966319, 30: -1.6244717732056662, 31: -2.2871052483890941, 32: 4.701171124959, 33: 1.3135555836391646, 34: 0.47986792995211391, 35: 0.36134950379129493, 36: -0.13552903389305573, 37: 1.9745507970846414, 38: -0.791724402028674, 39: -0.8135713439107457, 40: 0.047124637184286833, 41: 0.67235451455274253, 42: -1.6728341317981654, 43: -0.12464463072692195, 44: -1.0490601760626612, 45: 0.78108663330849504, 46: -0.62694353456129925, 47: 0.24811972515430994, 48: 1.1527158285257029, 49: -0.44091659420524659}, 2: {0: 29.876318334073034, 1: -4.4528609495280902, 2: 5.3979405616824732, 3: 0.91740651612977164, 4: 2.9008509191895397, 5: -0.5338559860694525, 6: 0.9940793107036362, 7: -0.60395524219661767, 8: 0.094210681996774071, 9: 0.14301089666684091, 10: 1.0861571611738445, 11: -0.34939494256133857, 12: 0.70152509827815068, 13: -0.78547766551002451, 14: 0.7562090840683473, 15: 6.9226927238934657, 16: 2.0243397441468627, 17: -2.1701160214971433, 18: -0.83239916721712559, 19: -0.2098723619490401, 20: 0.91710005803643802, 21: 1.3828076298058223, 22: 4.8580573212896745, 23: 1.2884192363719555, 24: 1.4063221963437398, 25: -3.0042746717604309, 26: 2.4967383573161084, 27: 0.024470374562414236, 28: 2.288381956797477, 29: -2.8471406231035097, 30: -2.0660003784219749, 31: -0.21682082799757202, 32: 5.0041543785249072, 33: 1.2465603118747588, 34: 1.7611037586968978, 35: 0.36778097615519589, 36: -2.8595395954461846, 37: 1.2104440508179428, 38: 2.0735567064034428, 39: -0.89448613726741577, 40: 1.4793402718988193, 41: 3.2294350789723869, 42: 1.0794730969161546, 43: -0.56518781946693053, 44: 0.53628228420993029, 45: 1.1594016208036022, 46: -1.7645567246295371, 47: -0.031316471402411658, 48: 1.0493588996082073, 49: -0.47184288716757505}, 3: {0: 27.853574791144379, 1: -1.5985760241895237, 2: 3.7051749403215553, 3: 3.1071282252404537, 4: 3.0085175146399967, 5: 0.082613285957430393, 6: -0.017092964853478054, 7: 0.90060363088129591, 8: -0.98715113063111992, 9: 0.042320420807651749, 10: -1.6579188769334443, 11: -2.9447846583288291, 12: 3.1298157010170291, 13: -0.17912782304380148, 14: -0.49817065436394037, 15: -0.13986951764535949, 16: -2.5153432379008169, 17: -3.0489889496033196, 18: 0.30372704117405924, 19: 1.0993592490678208, 20: -2.0478659272610109, 21: 2.4270286867942605, 22: 2.0621536668758171, 23: -1.0629685997448817, 24: 2.3547926021214125, 25: -0.1616503210546073, 26: -1.1841012633807864, 27: -0.63029080939190596, 28: 2.74304913203264, 29: -2.0026042809260067, 30: 1.2045289794750917, 31: 1.310108205327766, 32: 0.46923550472684417, 33: -0.5318919192698538, 34: 2.1250318060556523, 35: 2.4048470677997442, 36: -1.5249599016092334, 37: 2.0902589424701072, 38: 2.1026813022364599, 39: 0.32549326395200018, 40: 1.869763859167684, 41: 2.1335312015492085, 42: 2.5492937636678055, 43: -1.4223584745048614, 44: 0.98896456817195266, 45: -2.3446558098787675, 46: -2.4124766489504301, 47: -1.6217085780423905, 48: -0.35607565374893718, 49: 0.18267636235329746}}\n"
     ]
    }
   ],
   "source": [
    "#######################            \n",
    "###Semantic analysis###\n",
    "#######################\n",
    "\n",
    "#Get context vectors\n",
    "loTest.getContextVectors(cvWindow)\n",
    "print('loTest.cvWindow: ' + str(loTest.cvWindow))\n",
    "\n",
    "#        self.cvWindow=k\n",
    "#        self.cvDict={}\n",
    "\n",
    "print('%%%%\\ncvDict, length ' + str(len(loTest.cvDict)))\n",
    "print('---the first ten keys:')\n",
    "print(loTest.cvDict.keys()[:10])\n",
    "print('---the keywords each entry:')\n",
    "for key in loTest.cvDict.keys():\n",
    "    print(key + ': ' + str(loTest.cvDict[key].keys()))\n",
    "\n",
    "first = loTest.cvDict[loTest.cvDict.keys()[0]]\n",
    "print('---the first entry (length ' + str(len(first[first.keys()[0]])) + '):')\n",
    "print('first.keys(): ' + str(first.keys()))\n",
    "print(first[first.keys()[0]])\n",
    "\n",
    "second = loTest.cvDict[loTest.cvDict.keys()[1]]\n",
    "print('---the second entry (length ' + str(len(second[second.keys()[0]])) + '):')\n",
    "print(second[second.keys()[0]])"
   ]
  },
  {
   "cell_type": "code",
   "execution_count": null,
   "metadata": {
    "collapsed": true
   },
   "outputs": [],
   "source": [
    "#Get average semantic density\n",
    "avgSD=np.mean([x[1] for x in loTest.getSD(simCount)])\n",
    "\n",
    "########################################\n",
    "###POS Tagging and Judgement Analysis###\n",
    "########################################\n",
    "judgementAvg=list(np.mean(np.array([[x[1],x[2]] for x in loTest.getJudgements()]),axis=0))\n",
    "\n",
    "########################\n",
    "###Sentiment Analysis###\n",
    "########################\n",
    "\n",
    "sentimentList=loTest.sentimentLookup()\n",
    "\n",
    "############################\n",
    "###Network Quantification###\n",
    "############################\n",
    "loTest.setNetwork(netAngle)\n",
    "\n",
    "avgEVC=loTest.evc()\n",
    "\n",
    "endTime=time.time()\n",
    "timeRun=endTime-startTime\n",
    "print('finished running'+'_'.join(groupId)+' in '+str(end-start)+' seconds')\n",
    "sys.stdout.flush()\n",
    "\n",
    "#Append outputs to masterOutput\n",
    "return(['_'.join(groupId)]+[len(subFileList),timeRun]+sentimentList+judgementAvg+[avgSD]+[avgEVC])   "
   ]
  }
 ],
 "metadata": {
  "anaconda-cloud": {},
  "kernelspec": {
   "display_name": "Python [py27]",
   "language": "python",
   "name": "Python [py27]"
  },
  "language_info": {
   "codemirror_mode": {
    "name": "ipython",
    "version": 2
   },
   "file_extension": ".py",
   "mimetype": "text/x-python",
   "name": "python",
   "nbconvert_exporter": "python",
   "pygments_lexer": "ipython2",
   "version": "2.7.12"
  }
 },
 "nbformat": 4,
 "nbformat_minor": 0
}
