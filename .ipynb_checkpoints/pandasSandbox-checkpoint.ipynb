{
 "cells": [
  {
   "cell_type": "code",
   "execution_count": 77,
   "metadata": {
    "collapsed": false
   },
   "outputs": [],
   "source": [
    "import pandas as pd\n",
    "import numpy as np\n",
    "import os"
   ]
  },
  {
   "cell_type": "code",
   "execution_count": 78,
   "metadata": {
    "collapsed": false
   },
   "outputs": [],
   "source": [
    "rawPath = './data_dsicap/'\n",
    "groups = os.listdir(rawPath)"
   ]
  },
  {
   "cell_type": "code",
   "execution_count": 79,
   "metadata": {
    "collapsed": false
   },
   "outputs": [
    {
     "name": "stdout",
     "output_type": "stream",
     "text": [
      "['.DS_Store', 'DorothyDay', 'NaumanKhan', 'NawDawg', 'Rabbinic', 'test_train']\n"
     ]
    }
   ],
   "source": [
    "#print(groups)"
   ]
  },
  {
   "cell_type": "code",
   "execution_count": 80,
   "metadata": {
    "collapsed": false
   },
   "outputs": [
    {
     "data": {
      "text/plain": [
       "[None, None]"
      ]
     },
     "execution_count": 80,
     "metadata": {},
     "output_type": "execute_result"
    }
   ],
   "source": [
    "naw = ['.DS_Store', 'test_train', 'paw']\n",
    "[groups.remove(x) for x in groups if x in naw]"
   ]
  },
  {
   "cell_type": "code",
   "execution_count": 81,
   "metadata": {
    "collapsed": false
   },
   "outputs": [
    {
     "data": {
      "text/plain": [
       "['DorothyDay', 'NaumanKhan', 'NawDawg', 'Rabbinic']"
      ]
     },
     "execution_count": 81,
     "metadata": {},
     "output_type": "execute_result"
    }
   ],
   "source": [
    "groups"
   ]
  },
  {
   "cell_type": "code",
   "execution_count": 40,
   "metadata": {
    "collapsed": false
   },
   "outputs": [],
   "source": [
    "#paths = ['./data_dsicap/'+x+'/raw/' for x in groups]"
   ]
  },
  {
   "cell_type": "code",
   "execution_count": 44,
   "metadata": {
    "collapsed": false
   },
   "outputs": [],
   "source": [
    "#files = [os.listdir(path) for path in paths]"
   ]
  },
  {
   "cell_type": "code",
   "execution_count": 73,
   "metadata": {
    "collapsed": false
   },
   "outputs": [],
   "source": [
    "    rawFileList=[]\n",
    "    for groupId in groups:\n",
    "        for dirpath, dirnames, filenames in os.walk(rawPath+groupId+'/raw'):\n",
    "            for filename in [f for f in filenames ]:\n",
    "                if '.txt' in filename:\n",
    "                    rawFileList.append([groupId,os.path.join(dirpath, filename),'test'])"
   ]
  },
  {
   "cell_type": "code",
   "execution_count": 74,
   "metadata": {
    "collapsed": false
   },
   "outputs": [
    {
     "data": {
      "text/plain": [
       "[['DorothyDay', './data_dsicap/DorothyDay/raw/12.html.txt', 'test'],\n",
       " ['DorothyDay', './data_dsicap/DorothyDay/raw/13.html.txt', 'test'],\n",
       " ['DorothyDay', './data_dsicap/DorothyDay/raw/142.html.txt', 'test'],\n",
       " ['DorothyDay', './data_dsicap/DorothyDay/raw/143.html.txt', 'test'],\n",
       " ['DorothyDay', './data_dsicap/DorothyDay/raw/145.html.txt', 'test'],\n",
       " ['DorothyDay', './data_dsicap/DorothyDay/raw/146.html.txt', 'test'],\n",
       " ['DorothyDay', './data_dsicap/DorothyDay/raw/147.html.txt', 'test'],\n",
       " ['DorothyDay', './data_dsicap/DorothyDay/raw/148.html.txt', 'test'],\n",
       " ['DorothyDay', './data_dsicap/DorothyDay/raw/149.html.txt', 'test'],\n",
       " ['DorothyDay', './data_dsicap/DorothyDay/raw/15.html.txt', 'test'],\n",
       " ['DorothyDay', './data_dsicap/DorothyDay/raw/150.html.txt', 'test'],\n",
       " ['DorothyDay', './data_dsicap/DorothyDay/raw/151.html.txt', 'test'],\n",
       " ['DorothyDay', './data_dsicap/DorothyDay/raw/152.html.txt', 'test'],\n",
       " ['DorothyDay', './data_dsicap/DorothyDay/raw/153.html.txt', 'test'],\n",
       " ['DorothyDay', './data_dsicap/DorothyDay/raw/154.html.txt', 'test'],\n",
       " ['DorothyDay', './data_dsicap/DorothyDay/raw/155.html.txt', 'test'],\n",
       " ['DorothyDay', './data_dsicap/DorothyDay/raw/156.html.txt', 'test'],\n",
       " ['DorothyDay', './data_dsicap/DorothyDay/raw/158.html.txt', 'test'],\n",
       " ['DorothyDay', './data_dsicap/DorothyDay/raw/159.html.txt', 'test'],\n",
       " ['DorothyDay', './data_dsicap/DorothyDay/raw/16.html.txt', 'test'],\n",
       " ['DorothyDay', './data_dsicap/DorothyDay/raw/160.html.txt', 'test'],\n",
       " ['DorothyDay', './data_dsicap/DorothyDay/raw/161.html.txt', 'test'],\n",
       " ['DorothyDay', './data_dsicap/DorothyDay/raw/162.html.txt', 'test'],\n",
       " ['DorothyDay', './data_dsicap/DorothyDay/raw/164.html.txt', 'test'],\n",
       " ['DorothyDay', './data_dsicap/DorothyDay/raw/165.html.txt', 'test'],\n",
       " ['DorothyDay', './data_dsicap/DorothyDay/raw/166.html.txt', 'test'],\n",
       " ['DorothyDay', './data_dsicap/DorothyDay/raw/167.html.txt', 'test'],\n",
       " ['DorothyDay', './data_dsicap/DorothyDay/raw/169.html.txt', 'test'],\n",
       " ['DorothyDay', './data_dsicap/DorothyDay/raw/170.html.txt', 'test'],\n",
       " ['DorothyDay', './data_dsicap/DorothyDay/raw/171.html.txt', 'test'],\n",
       " ['DorothyDay', './data_dsicap/DorothyDay/raw/172.html.txt', 'test'],\n",
       " ['DorothyDay', './data_dsicap/DorothyDay/raw/173.html.txt', 'test'],\n",
       " ['DorothyDay', './data_dsicap/DorothyDay/raw/174.html.txt', 'test'],\n",
       " ['DorothyDay', './data_dsicap/DorothyDay/raw/175.html.txt', 'test'],\n",
       " ['DorothyDay', './data_dsicap/DorothyDay/raw/176.html.txt', 'test'],\n",
       " ['DorothyDay', './data_dsicap/DorothyDay/raw/177.html.txt', 'test'],\n",
       " ['DorothyDay', './data_dsicap/DorothyDay/raw/178.html.txt', 'test'],\n",
       " ['DorothyDay', './data_dsicap/DorothyDay/raw/179.html.txt', 'test'],\n",
       " ['DorothyDay', './data_dsicap/DorothyDay/raw/180.html.txt', 'test'],\n",
       " ['DorothyDay', './data_dsicap/DorothyDay/raw/182.html.txt', 'test'],\n",
       " ['DorothyDay', './data_dsicap/DorothyDay/raw/183.html.txt', 'test'],\n",
       " ['DorothyDay', './data_dsicap/DorothyDay/raw/184.html.txt', 'test'],\n",
       " ['DorothyDay', './data_dsicap/DorothyDay/raw/186.html.txt', 'test'],\n",
       " ['DorothyDay', './data_dsicap/DorothyDay/raw/188.html.txt', 'test'],\n",
       " ['DorothyDay', './data_dsicap/DorothyDay/raw/189.html.txt', 'test'],\n",
       " ['DorothyDay', './data_dsicap/DorothyDay/raw/191.html.txt', 'test'],\n",
       " ['DorothyDay', './data_dsicap/DorothyDay/raw/192.html.txt', 'test'],\n",
       " ['DorothyDay', './data_dsicap/DorothyDay/raw/193.html.txt', 'test'],\n",
       " ['DorothyDay', './data_dsicap/DorothyDay/raw/194.html.txt', 'test'],\n",
       " ['DorothyDay', './data_dsicap/DorothyDay/raw/195.html.txt', 'test'],\n",
       " ['DorothyDay', './data_dsicap/DorothyDay/raw/196.html.txt', 'test'],\n",
       " ['DorothyDay', './data_dsicap/DorothyDay/raw/197.html.txt', 'test'],\n",
       " ['DorothyDay', './data_dsicap/DorothyDay/raw/198.html.txt', 'test'],\n",
       " ['DorothyDay', './data_dsicap/DorothyDay/raw/199.html.txt', 'test'],\n",
       " ['DorothyDay', './data_dsicap/DorothyDay/raw/2.html.txt', 'test'],\n",
       " ['DorothyDay', './data_dsicap/DorothyDay/raw/200.html.txt', 'test'],\n",
       " ['DorothyDay', './data_dsicap/DorothyDay/raw/201.html.txt', 'test'],\n",
       " ['DorothyDay', './data_dsicap/DorothyDay/raw/202.html.txt', 'test'],\n",
       " ['DorothyDay', './data_dsicap/DorothyDay/raw/203.html.txt', 'test'],\n",
       " ['DorothyDay', './data_dsicap/DorothyDay/raw/204.html.txt', 'test'],\n",
       " ['DorothyDay', './data_dsicap/DorothyDay/raw/205.html.txt', 'test'],\n",
       " ['DorothyDay', './data_dsicap/DorothyDay/raw/206.html.txt', 'test'],\n",
       " ['DorothyDay', './data_dsicap/DorothyDay/raw/207.html.txt', 'test'],\n",
       " ['DorothyDay', './data_dsicap/DorothyDay/raw/208.html.txt', 'test'],\n",
       " ['DorothyDay', './data_dsicap/DorothyDay/raw/209.html.txt', 'test'],\n",
       " ['DorothyDay', './data_dsicap/DorothyDay/raw/210.html.txt', 'test'],\n",
       " ['DorothyDay', './data_dsicap/DorothyDay/raw/211.html.txt', 'test'],\n",
       " ['DorothyDay', './data_dsicap/DorothyDay/raw/212.html.txt', 'test'],\n",
       " ['DorothyDay', './data_dsicap/DorothyDay/raw/213.html.txt', 'test'],\n",
       " ['DorothyDay', './data_dsicap/DorothyDay/raw/214.html.txt', 'test'],\n",
       " ['DorothyDay', './data_dsicap/DorothyDay/raw/215.html.txt', 'test'],\n",
       " ['DorothyDay', './data_dsicap/DorothyDay/raw/216.html.txt', 'test'],\n",
       " ['DorothyDay', './data_dsicap/DorothyDay/raw/217.html.txt', 'test'],\n",
       " ['DorothyDay', './data_dsicap/DorothyDay/raw/218.html.txt', 'test'],\n",
       " ['DorothyDay', './data_dsicap/DorothyDay/raw/219.html.txt', 'test'],\n",
       " ['DorothyDay', './data_dsicap/DorothyDay/raw/220.html.txt', 'test'],\n",
       " ['DorothyDay', './data_dsicap/DorothyDay/raw/221.html.txt', 'test'],\n",
       " ['DorothyDay', './data_dsicap/DorothyDay/raw/222.html.txt', 'test'],\n",
       " ['DorothyDay', './data_dsicap/DorothyDay/raw/223.html.txt', 'test'],\n",
       " ['DorothyDay', './data_dsicap/DorothyDay/raw/224.html.txt', 'test'],\n",
       " ['DorothyDay', './data_dsicap/DorothyDay/raw/225.html.txt', 'test'],\n",
       " ['DorothyDay', './data_dsicap/DorothyDay/raw/226.html.txt', 'test'],\n",
       " ['DorothyDay', './data_dsicap/DorothyDay/raw/227.html.txt', 'test'],\n",
       " ['DorothyDay', './data_dsicap/DorothyDay/raw/228.html.txt', 'test'],\n",
       " ['DorothyDay', './data_dsicap/DorothyDay/raw/229.html.txt', 'test'],\n",
       " ['DorothyDay', './data_dsicap/DorothyDay/raw/230.html.txt', 'test'],\n",
       " ['DorothyDay', './data_dsicap/DorothyDay/raw/231.html.txt', 'test'],\n",
       " ['DorothyDay', './data_dsicap/DorothyDay/raw/232.html.txt', 'test'],\n",
       " ['DorothyDay', './data_dsicap/DorothyDay/raw/233.html.txt', 'test'],\n",
       " ['DorothyDay', './data_dsicap/DorothyDay/raw/234.html.txt', 'test'],\n",
       " ['DorothyDay', './data_dsicap/DorothyDay/raw/235.html.txt', 'test'],\n",
       " ['DorothyDay', './data_dsicap/DorothyDay/raw/236.html.txt', 'test'],\n",
       " ['DorothyDay', './data_dsicap/DorothyDay/raw/237.html.txt', 'test'],\n",
       " ['DorothyDay', './data_dsicap/DorothyDay/raw/238.html.txt', 'test'],\n",
       " ['DorothyDay', './data_dsicap/DorothyDay/raw/239.html.txt', 'test'],\n",
       " ['DorothyDay', './data_dsicap/DorothyDay/raw/240.html.txt', 'test'],\n",
       " ['DorothyDay', './data_dsicap/DorothyDay/raw/241.html.txt', 'test'],\n",
       " ['DorothyDay', './data_dsicap/DorothyDay/raw/242.html.txt', 'test'],\n",
       " ['DorothyDay', './data_dsicap/DorothyDay/raw/243.html.txt', 'test'],\n",
       " ['DorothyDay', './data_dsicap/DorothyDay/raw/244.html.txt', 'test'],\n",
       " ['DorothyDay', './data_dsicap/DorothyDay/raw/245.html.txt', 'test'],\n",
       " ['DorothyDay', './data_dsicap/DorothyDay/raw/246.html.txt', 'test'],\n",
       " ['DorothyDay', './data_dsicap/DorothyDay/raw/247.html.txt', 'test'],\n",
       " ['DorothyDay', './data_dsicap/DorothyDay/raw/248.html.txt', 'test'],\n",
       " ['DorothyDay', './data_dsicap/DorothyDay/raw/249.html.txt', 'test'],\n",
       " ['DorothyDay', './data_dsicap/DorothyDay/raw/250.html.txt', 'test'],\n",
       " ['DorothyDay', './data_dsicap/DorothyDay/raw/251.html.txt', 'test'],\n",
       " ['DorothyDay', './data_dsicap/DorothyDay/raw/252.html.txt', 'test'],\n",
       " ['DorothyDay', './data_dsicap/DorothyDay/raw/253.html.txt', 'test'],\n",
       " ['DorothyDay', './data_dsicap/DorothyDay/raw/254.html.txt', 'test'],\n",
       " ['DorothyDay', './data_dsicap/DorothyDay/raw/256.html.txt', 'test'],\n",
       " ['DorothyDay', './data_dsicap/DorothyDay/raw/257.html.txt', 'test'],\n",
       " ['DorothyDay', './data_dsicap/DorothyDay/raw/258.html.txt', 'test'],\n",
       " ['DorothyDay', './data_dsicap/DorothyDay/raw/260.html.txt', 'test'],\n",
       " ['DorothyDay', './data_dsicap/DorothyDay/raw/261.html.txt', 'test'],\n",
       " ['DorothyDay', './data_dsicap/DorothyDay/raw/262.html.txt', 'test'],\n",
       " ['DorothyDay', './data_dsicap/DorothyDay/raw/263.html.txt', 'test'],\n",
       " ['DorothyDay', './data_dsicap/DorothyDay/raw/264.html.txt', 'test'],\n",
       " ['DorothyDay', './data_dsicap/DorothyDay/raw/266.html.txt', 'test'],\n",
       " ['DorothyDay', './data_dsicap/DorothyDay/raw/267.html.txt', 'test'],\n",
       " ['DorothyDay', './data_dsicap/DorothyDay/raw/268.html.txt', 'test'],\n",
       " ['DorothyDay', './data_dsicap/DorothyDay/raw/269.html.txt', 'test'],\n",
       " ['DorothyDay', './data_dsicap/DorothyDay/raw/270.html.txt', 'test'],\n",
       " ['DorothyDay', './data_dsicap/DorothyDay/raw/271.html.txt', 'test'],\n",
       " ['DorothyDay', './data_dsicap/DorothyDay/raw/272.html.txt', 'test'],\n",
       " ['DorothyDay', './data_dsicap/DorothyDay/raw/274.html.txt', 'test'],\n",
       " ['DorothyDay', './data_dsicap/DorothyDay/raw/275.html.txt', 'test'],\n",
       " ['DorothyDay', './data_dsicap/DorothyDay/raw/276.html.txt', 'test'],\n",
       " ['DorothyDay', './data_dsicap/DorothyDay/raw/277.html.txt', 'test'],\n",
       " ['DorothyDay', './data_dsicap/DorothyDay/raw/278.html.txt', 'test'],\n",
       " ['DorothyDay', './data_dsicap/DorothyDay/raw/279.html.txt', 'test'],\n",
       " ['DorothyDay', './data_dsicap/DorothyDay/raw/280.html.txt', 'test'],\n",
       " ['DorothyDay', './data_dsicap/DorothyDay/raw/281.html.txt', 'test'],\n",
       " ['DorothyDay', './data_dsicap/DorothyDay/raw/282.html.txt', 'test'],\n",
       " ['DorothyDay', './data_dsicap/DorothyDay/raw/283.html.txt', 'test'],\n",
       " ['DorothyDay', './data_dsicap/DorothyDay/raw/284.html.txt', 'test'],\n",
       " ['DorothyDay', './data_dsicap/DorothyDay/raw/286.html.txt', 'test'],\n",
       " ['DorothyDay', './data_dsicap/DorothyDay/raw/287.html.txt', 'test'],\n",
       " ['DorothyDay', './data_dsicap/DorothyDay/raw/288.html.txt', 'test'],\n",
       " ['DorothyDay', './data_dsicap/DorothyDay/raw/289.html.txt', 'test'],\n",
       " ['DorothyDay', './data_dsicap/DorothyDay/raw/290.html.txt', 'test'],\n",
       " ['DorothyDay', './data_dsicap/DorothyDay/raw/291.html.txt', 'test'],\n",
       " ['DorothyDay', './data_dsicap/DorothyDay/raw/292.html.txt', 'test'],\n",
       " ['DorothyDay', './data_dsicap/DorothyDay/raw/293.html.txt', 'test'],\n",
       " ['DorothyDay', './data_dsicap/DorothyDay/raw/294.html.txt', 'test'],\n",
       " ['DorothyDay', './data_dsicap/DorothyDay/raw/295.html.txt', 'test'],\n",
       " ['DorothyDay', './data_dsicap/DorothyDay/raw/296.html.txt', 'test'],\n",
       " ['DorothyDay', './data_dsicap/DorothyDay/raw/297.html.txt', 'test'],\n",
       " ['DorothyDay', './data_dsicap/DorothyDay/raw/298.html.txt', 'test'],\n",
       " ['DorothyDay', './data_dsicap/DorothyDay/raw/299.html.txt', 'test'],\n",
       " ['DorothyDay', './data_dsicap/DorothyDay/raw/3.html.txt', 'test'],\n",
       " ['DorothyDay', './data_dsicap/DorothyDay/raw/300.html.txt', 'test'],\n",
       " ['DorothyDay', './data_dsicap/DorothyDay/raw/301.html.txt', 'test'],\n",
       " ['DorothyDay', './data_dsicap/DorothyDay/raw/302.html.txt', 'test'],\n",
       " ['DorothyDay', './data_dsicap/DorothyDay/raw/303.html.txt', 'test'],\n",
       " ['DorothyDay', './data_dsicap/DorothyDay/raw/304.html.txt', 'test'],\n",
       " ['DorothyDay', './data_dsicap/DorothyDay/raw/305.html.txt', 'test'],\n",
       " ['DorothyDay', './data_dsicap/DorothyDay/raw/306.html.txt', 'test'],\n",
       " ['DorothyDay', './data_dsicap/DorothyDay/raw/307.html.txt', 'test'],\n",
       " ['DorothyDay', './data_dsicap/DorothyDay/raw/308.html.txt', 'test'],\n",
       " ['DorothyDay', './data_dsicap/DorothyDay/raw/310.html.txt', 'test'],\n",
       " ['DorothyDay', './data_dsicap/DorothyDay/raw/311.html.txt', 'test'],\n",
       " ['DorothyDay', './data_dsicap/DorothyDay/raw/313.html.txt', 'test'],\n",
       " ['DorothyDay', './data_dsicap/DorothyDay/raw/314.html.txt', 'test'],\n",
       " ['DorothyDay', './data_dsicap/DorothyDay/raw/315.html.txt', 'test'],\n",
       " ['DorothyDay', './data_dsicap/DorothyDay/raw/316.html.txt', 'test'],\n",
       " ['DorothyDay', './data_dsicap/DorothyDay/raw/317.html.txt', 'test'],\n",
       " ['DorothyDay', './data_dsicap/DorothyDay/raw/318.html.txt', 'test'],\n",
       " ['DorothyDay', './data_dsicap/DorothyDay/raw/319.html.txt', 'test'],\n",
       " ['DorothyDay', './data_dsicap/DorothyDay/raw/320.html.txt', 'test'],\n",
       " ['DorothyDay', './data_dsicap/DorothyDay/raw/321.html.txt', 'test'],\n",
       " ['DorothyDay', './data_dsicap/DorothyDay/raw/322.html.txt', 'test'],\n",
       " ['DorothyDay', './data_dsicap/DorothyDay/raw/323.html.txt', 'test'],\n",
       " ['DorothyDay', './data_dsicap/DorothyDay/raw/324.html.txt', 'test'],\n",
       " ['DorothyDay', './data_dsicap/DorothyDay/raw/325.html.txt', 'test'],\n",
       " ['DorothyDay', './data_dsicap/DorothyDay/raw/326.html.txt', 'test'],\n",
       " ['DorothyDay', './data_dsicap/DorothyDay/raw/327.html.txt', 'test'],\n",
       " ['DorothyDay', './data_dsicap/DorothyDay/raw/328.html.txt', 'test'],\n",
       " ['DorothyDay', './data_dsicap/DorothyDay/raw/329.html.txt', 'test'],\n",
       " ['DorothyDay', './data_dsicap/DorothyDay/raw/330.html.txt', 'test'],\n",
       " ['DorothyDay', './data_dsicap/DorothyDay/raw/331.html.txt', 'test'],\n",
       " ['DorothyDay', './data_dsicap/DorothyDay/raw/332.html.txt', 'test'],\n",
       " ['DorothyDay', './data_dsicap/DorothyDay/raw/333.html.txt', 'test'],\n",
       " ['DorothyDay', './data_dsicap/DorothyDay/raw/334.html.txt', 'test'],\n",
       " ['DorothyDay', './data_dsicap/DorothyDay/raw/335.html.txt', 'test'],\n",
       " ['DorothyDay', './data_dsicap/DorothyDay/raw/336.html.txt', 'test'],\n",
       " ['DorothyDay', './data_dsicap/DorothyDay/raw/337.html.txt', 'test'],\n",
       " ['DorothyDay', './data_dsicap/DorothyDay/raw/338.html.txt', 'test'],\n",
       " ['DorothyDay', './data_dsicap/DorothyDay/raw/339.html.txt', 'test'],\n",
       " ['DorothyDay', './data_dsicap/DorothyDay/raw/340.html.txt', 'test'],\n",
       " ['DorothyDay', './data_dsicap/DorothyDay/raw/341.html.txt', 'test'],\n",
       " ['DorothyDay', './data_dsicap/DorothyDay/raw/342.html.txt', 'test'],\n",
       " ['DorothyDay', './data_dsicap/DorothyDay/raw/343.html.txt', 'test'],\n",
       " ['DorothyDay', './data_dsicap/DorothyDay/raw/344.html.txt', 'test'],\n",
       " ['DorothyDay', './data_dsicap/DorothyDay/raw/345.html.txt', 'test'],\n",
       " ['DorothyDay', './data_dsicap/DorothyDay/raw/346.html.txt', 'test'],\n",
       " ['DorothyDay', './data_dsicap/DorothyDay/raw/347.html.txt', 'test'],\n",
       " ['DorothyDay', './data_dsicap/DorothyDay/raw/348.html.txt', 'test'],\n",
       " ['DorothyDay', './data_dsicap/DorothyDay/raw/349.html.txt', 'test'],\n",
       " ['DorothyDay', './data_dsicap/DorothyDay/raw/350.html.txt', 'test'],\n",
       " ['DorothyDay', './data_dsicap/DorothyDay/raw/351.html.txt', 'test'],\n",
       " ['DorothyDay', './data_dsicap/DorothyDay/raw/352.html.txt', 'test'],\n",
       " ['DorothyDay', './data_dsicap/DorothyDay/raw/353.html.txt', 'test'],\n",
       " ['DorothyDay', './data_dsicap/DorothyDay/raw/354.html.txt', 'test'],\n",
       " ['DorothyDay', './data_dsicap/DorothyDay/raw/355.html.txt', 'test'],\n",
       " ['DorothyDay', './data_dsicap/DorothyDay/raw/356.html.txt', 'test'],\n",
       " ['DorothyDay', './data_dsicap/DorothyDay/raw/357.html.txt', 'test'],\n",
       " ['DorothyDay', './data_dsicap/DorothyDay/raw/358.html.txt', 'test'],\n",
       " ['DorothyDay', './data_dsicap/DorothyDay/raw/359.html.txt', 'test'],\n",
       " ['DorothyDay', './data_dsicap/DorothyDay/raw/360.html.txt', 'test'],\n",
       " ['DorothyDay', './data_dsicap/DorothyDay/raw/361.html.txt', 'test'],\n",
       " ['DorothyDay', './data_dsicap/DorothyDay/raw/362.html.txt', 'test'],\n",
       " ['DorothyDay', './data_dsicap/DorothyDay/raw/363.html.txt', 'test'],\n",
       " ['DorothyDay', './data_dsicap/DorothyDay/raw/364.html.txt', 'test'],\n",
       " ['DorothyDay', './data_dsicap/DorothyDay/raw/365.html.txt', 'test'],\n",
       " ['DorothyDay', './data_dsicap/DorothyDay/raw/366.html.txt', 'test'],\n",
       " ['DorothyDay', './data_dsicap/DorothyDay/raw/367.html.txt', 'test'],\n",
       " ['DorothyDay', './data_dsicap/DorothyDay/raw/368.html.txt', 'test'],\n",
       " ['DorothyDay', './data_dsicap/DorothyDay/raw/369.html.txt', 'test'],\n",
       " ['DorothyDay', './data_dsicap/DorothyDay/raw/370.html.txt', 'test'],\n",
       " ['DorothyDay', './data_dsicap/DorothyDay/raw/371.html.txt', 'test'],\n",
       " ['DorothyDay', './data_dsicap/DorothyDay/raw/372.html.txt', 'test'],\n",
       " ['DorothyDay', './data_dsicap/DorothyDay/raw/373.html.txt', 'test'],\n",
       " ['DorothyDay', './data_dsicap/DorothyDay/raw/374.html.txt', 'test'],\n",
       " ['DorothyDay', './data_dsicap/DorothyDay/raw/375.html.txt', 'test'],\n",
       " ['DorothyDay', './data_dsicap/DorothyDay/raw/376.html.txt', 'test'],\n",
       " ['DorothyDay', './data_dsicap/DorothyDay/raw/377.html.txt', 'test'],\n",
       " ['DorothyDay', './data_dsicap/DorothyDay/raw/378.html.txt', 'test'],\n",
       " ['DorothyDay', './data_dsicap/DorothyDay/raw/380.html.txt', 'test'],\n",
       " ['DorothyDay', './data_dsicap/DorothyDay/raw/381.html.txt', 'test'],\n",
       " ['DorothyDay', './data_dsicap/DorothyDay/raw/382.html.txt', 'test'],\n",
       " ['DorothyDay', './data_dsicap/DorothyDay/raw/383.html.txt', 'test'],\n",
       " ['DorothyDay', './data_dsicap/DorothyDay/raw/384.html.txt', 'test'],\n",
       " ['DorothyDay', './data_dsicap/DorothyDay/raw/385.html.txt', 'test'],\n",
       " ['DorothyDay', './data_dsicap/DorothyDay/raw/386.html.txt', 'test'],\n",
       " ['DorothyDay', './data_dsicap/DorothyDay/raw/387.html.txt', 'test'],\n",
       " ['DorothyDay', './data_dsicap/DorothyDay/raw/388.html.txt', 'test'],\n",
       " ['DorothyDay', './data_dsicap/DorothyDay/raw/389.html.txt', 'test'],\n",
       " ['DorothyDay', './data_dsicap/DorothyDay/raw/390.html.txt', 'test'],\n",
       " ['DorothyDay', './data_dsicap/DorothyDay/raw/391.html.txt', 'test'],\n",
       " ['DorothyDay', './data_dsicap/DorothyDay/raw/392.html.txt', 'test'],\n",
       " ['DorothyDay', './data_dsicap/DorothyDay/raw/393.html.txt', 'test'],\n",
       " ['DorothyDay', './data_dsicap/DorothyDay/raw/394.html.txt', 'test'],\n",
       " ['DorothyDay', './data_dsicap/DorothyDay/raw/395.html.txt', 'test'],\n",
       " ['DorothyDay', './data_dsicap/DorothyDay/raw/396.html.txt', 'test'],\n",
       " ['DorothyDay', './data_dsicap/DorothyDay/raw/397.html.txt', 'test'],\n",
       " ['DorothyDay', './data_dsicap/DorothyDay/raw/398.html.txt', 'test'],\n",
       " ['DorothyDay', './data_dsicap/DorothyDay/raw/399.html.txt', 'test'],\n",
       " ['DorothyDay', './data_dsicap/DorothyDay/raw/400.html.txt', 'test'],\n",
       " ['DorothyDay', './data_dsicap/DorothyDay/raw/401.html.txt', 'test'],\n",
       " ['DorothyDay', './data_dsicap/DorothyDay/raw/402.html.txt', 'test'],\n",
       " ['DorothyDay', './data_dsicap/DorothyDay/raw/403.html.txt', 'test'],\n",
       " ['DorothyDay', './data_dsicap/DorothyDay/raw/404.html.txt', 'test'],\n",
       " ['DorothyDay', './data_dsicap/DorothyDay/raw/405.html.txt', 'test'],\n",
       " ['DorothyDay', './data_dsicap/DorothyDay/raw/406.html.txt', 'test'],\n",
       " ['DorothyDay', './data_dsicap/DorothyDay/raw/407.html.txt', 'test'],\n",
       " ['DorothyDay', './data_dsicap/DorothyDay/raw/408.html.txt', 'test'],\n",
       " ['DorothyDay', './data_dsicap/DorothyDay/raw/409.html.txt', 'test'],\n",
       " ['DorothyDay', './data_dsicap/DorothyDay/raw/41.html.txt', 'test'],\n",
       " ['DorothyDay', './data_dsicap/DorothyDay/raw/410.html.txt', 'test'],\n",
       " ['DorothyDay', './data_dsicap/DorothyDay/raw/411.html.txt', 'test'],\n",
       " ['DorothyDay', './data_dsicap/DorothyDay/raw/412.html.txt', 'test'],\n",
       " ['DorothyDay', './data_dsicap/DorothyDay/raw/413.html.txt', 'test'],\n",
       " ['DorothyDay', './data_dsicap/DorothyDay/raw/414.html.txt', 'test'],\n",
       " ['DorothyDay', './data_dsicap/DorothyDay/raw/415.html.txt', 'test'],\n",
       " ['DorothyDay', './data_dsicap/DorothyDay/raw/416.html.txt', 'test'],\n",
       " ['DorothyDay', './data_dsicap/DorothyDay/raw/418.html.txt', 'test'],\n",
       " ['DorothyDay', './data_dsicap/DorothyDay/raw/419.html.txt', 'test'],\n",
       " ['DorothyDay', './data_dsicap/DorothyDay/raw/42.html.txt', 'test'],\n",
       " ['DorothyDay', './data_dsicap/DorothyDay/raw/420.html.txt', 'test'],\n",
       " ['DorothyDay', './data_dsicap/DorothyDay/raw/421.html.txt', 'test'],\n",
       " ['DorothyDay', './data_dsicap/DorothyDay/raw/422.html.txt', 'test'],\n",
       " ['DorothyDay', './data_dsicap/DorothyDay/raw/423.html.txt', 'test'],\n",
       " ['DorothyDay', './data_dsicap/DorothyDay/raw/424.html.txt', 'test'],\n",
       " ['DorothyDay', './data_dsicap/DorothyDay/raw/425.html.txt', 'test'],\n",
       " ['DorothyDay', './data_dsicap/DorothyDay/raw/426.html.txt', 'test'],\n",
       " ['DorothyDay', './data_dsicap/DorothyDay/raw/427.html.txt', 'test'],\n",
       " ['DorothyDay', './data_dsicap/DorothyDay/raw/428.html.txt', 'test'],\n",
       " ['DorothyDay', './data_dsicap/DorothyDay/raw/429.html.txt', 'test'],\n",
       " ['DorothyDay', './data_dsicap/DorothyDay/raw/430.html.txt', 'test'],\n",
       " ['DorothyDay', './data_dsicap/DorothyDay/raw/431.html.txt', 'test'],\n",
       " ['DorothyDay', './data_dsicap/DorothyDay/raw/432.html.txt', 'test'],\n",
       " ['DorothyDay', './data_dsicap/DorothyDay/raw/433.html.txt', 'test'],\n",
       " ['DorothyDay', './data_dsicap/DorothyDay/raw/435.html.txt', 'test'],\n",
       " ['DorothyDay', './data_dsicap/DorothyDay/raw/436.html.txt', 'test'],\n",
       " ['DorothyDay', './data_dsicap/DorothyDay/raw/437.html.txt', 'test'],\n",
       " ['DorothyDay', './data_dsicap/DorothyDay/raw/438.html.txt', 'test'],\n",
       " ['DorothyDay', './data_dsicap/DorothyDay/raw/439.html.txt', 'test'],\n",
       " ['DorothyDay', './data_dsicap/DorothyDay/raw/44.html.txt', 'test'],\n",
       " ['DorothyDay', './data_dsicap/DorothyDay/raw/440.html.txt', 'test'],\n",
       " ['DorothyDay', './data_dsicap/DorothyDay/raw/441.html.txt', 'test'],\n",
       " ['DorothyDay', './data_dsicap/DorothyDay/raw/442.html.txt', 'test'],\n",
       " ['DorothyDay', './data_dsicap/DorothyDay/raw/443.html.txt', 'test'],\n",
       " ['DorothyDay', './data_dsicap/DorothyDay/raw/444.html.txt', 'test'],\n",
       " ['DorothyDay', './data_dsicap/DorothyDay/raw/445.html.txt', 'test'],\n",
       " ['DorothyDay', './data_dsicap/DorothyDay/raw/446.html.txt', 'test'],\n",
       " ['DorothyDay', './data_dsicap/DorothyDay/raw/447.html.txt', 'test'],\n",
       " ['DorothyDay', './data_dsicap/DorothyDay/raw/448.html.txt', 'test'],\n",
       " ['DorothyDay', './data_dsicap/DorothyDay/raw/449.html.txt', 'test'],\n",
       " ['DorothyDay', './data_dsicap/DorothyDay/raw/450.html.txt', 'test'],\n",
       " ['DorothyDay', './data_dsicap/DorothyDay/raw/451.html.txt', 'test'],\n",
       " ['DorothyDay', './data_dsicap/DorothyDay/raw/452.html.txt', 'test'],\n",
       " ['DorothyDay', './data_dsicap/DorothyDay/raw/453.html.txt', 'test'],\n",
       " ['DorothyDay', './data_dsicap/DorothyDay/raw/454.html.txt', 'test'],\n",
       " ['DorothyDay', './data_dsicap/DorothyDay/raw/455.html.txt', 'test'],\n",
       " ['DorothyDay', './data_dsicap/DorothyDay/raw/456.html.txt', 'test'],\n",
       " ['DorothyDay', './data_dsicap/DorothyDay/raw/457.html.txt', 'test'],\n",
       " ['DorothyDay', './data_dsicap/DorothyDay/raw/458.html.txt', 'test'],\n",
       " ['DorothyDay', './data_dsicap/DorothyDay/raw/459.html.txt', 'test'],\n",
       " ['DorothyDay', './data_dsicap/DorothyDay/raw/460.html.txt', 'test'],\n",
       " ['DorothyDay', './data_dsicap/DorothyDay/raw/461.html.txt', 'test'],\n",
       " ['DorothyDay', './data_dsicap/DorothyDay/raw/462.html.txt', 'test'],\n",
       " ['DorothyDay', './data_dsicap/DorothyDay/raw/463.html.txt', 'test'],\n",
       " ['DorothyDay', './data_dsicap/DorothyDay/raw/464.html.txt', 'test'],\n",
       " ['DorothyDay', './data_dsicap/DorothyDay/raw/465.html.txt', 'test'],\n",
       " ['DorothyDay', './data_dsicap/DorothyDay/raw/466.html.txt', 'test'],\n",
       " ['DorothyDay', './data_dsicap/DorothyDay/raw/467.html.txt', 'test'],\n",
       " ['DorothyDay', './data_dsicap/DorothyDay/raw/468.html.txt', 'test'],\n",
       " ['DorothyDay', './data_dsicap/DorothyDay/raw/469.html.txt', 'test'],\n",
       " ['DorothyDay', './data_dsicap/DorothyDay/raw/470.html.txt', 'test'],\n",
       " ['DorothyDay', './data_dsicap/DorothyDay/raw/471.html.txt', 'test'],\n",
       " ['DorothyDay', './data_dsicap/DorothyDay/raw/472.html.txt', 'test'],\n",
       " ['DorothyDay', './data_dsicap/DorothyDay/raw/473.html.txt', 'test'],\n",
       " ['DorothyDay', './data_dsicap/DorothyDay/raw/474.html.txt', 'test'],\n",
       " ['DorothyDay', './data_dsicap/DorothyDay/raw/475.html.txt', 'test'],\n",
       " ['DorothyDay', './data_dsicap/DorothyDay/raw/476.html.txt', 'test'],\n",
       " ['DorothyDay', './data_dsicap/DorothyDay/raw/477.html.txt', 'test'],\n",
       " ['DorothyDay', './data_dsicap/DorothyDay/raw/478.html.txt', 'test'],\n",
       " ['DorothyDay', './data_dsicap/DorothyDay/raw/479.html.txt', 'test'],\n",
       " ['DorothyDay', './data_dsicap/DorothyDay/raw/480.html.txt', 'test'],\n",
       " ['DorothyDay', './data_dsicap/DorothyDay/raw/481.html.txt', 'test'],\n",
       " ['DorothyDay', './data_dsicap/DorothyDay/raw/482.html.txt', 'test'],\n",
       " ['DorothyDay', './data_dsicap/DorothyDay/raw/483.html.txt', 'test'],\n",
       " ['DorothyDay', './data_dsicap/DorothyDay/raw/484.html.txt', 'test'],\n",
       " ['DorothyDay', './data_dsicap/DorothyDay/raw/485.html.txt', 'test'],\n",
       " ['DorothyDay', './data_dsicap/DorothyDay/raw/486.html.txt', 'test'],\n",
       " ['DorothyDay', './data_dsicap/DorothyDay/raw/487.html.txt', 'test'],\n",
       " ['DorothyDay', './data_dsicap/DorothyDay/raw/488.html.txt', 'test'],\n",
       " ['DorothyDay', './data_dsicap/DorothyDay/raw/489.html.txt', 'test'],\n",
       " ['DorothyDay', './data_dsicap/DorothyDay/raw/490.html.txt', 'test'],\n",
       " ['DorothyDay', './data_dsicap/DorothyDay/raw/491.html.txt', 'test'],\n",
       " ['DorothyDay', './data_dsicap/DorothyDay/raw/492.html.txt', 'test'],\n",
       " ['DorothyDay', './data_dsicap/DorothyDay/raw/493.html.txt', 'test'],\n",
       " ['DorothyDay', './data_dsicap/DorothyDay/raw/495.html.txt', 'test'],\n",
       " ['DorothyDay', './data_dsicap/DorothyDay/raw/496.html.txt', 'test'],\n",
       " ['DorothyDay', './data_dsicap/DorothyDay/raw/497.html.txt', 'test'],\n",
       " ['DorothyDay', './data_dsicap/DorothyDay/raw/498.html.txt', 'test'],\n",
       " ['DorothyDay', './data_dsicap/DorothyDay/raw/499.html.txt', 'test'],\n",
       " ['DorothyDay', './data_dsicap/DorothyDay/raw/5.html.txt', 'test'],\n",
       " ['DorothyDay', './data_dsicap/DorothyDay/raw/500.html.txt', 'test'],\n",
       " ['DorothyDay', './data_dsicap/DorothyDay/raw/501.html.txt', 'test'],\n",
       " ['DorothyDay', './data_dsicap/DorothyDay/raw/502.html.txt', 'test'],\n",
       " ['DorothyDay', './data_dsicap/DorothyDay/raw/503.html.txt', 'test'],\n",
       " ['DorothyDay', './data_dsicap/DorothyDay/raw/504.html.txt', 'test'],\n",
       " ['DorothyDay', './data_dsicap/DorothyDay/raw/505.html.txt', 'test'],\n",
       " ['DorothyDay', './data_dsicap/DorothyDay/raw/506.html.txt', 'test'],\n",
       " ['DorothyDay', './data_dsicap/DorothyDay/raw/508.html.txt', 'test'],\n",
       " ['DorothyDay', './data_dsicap/DorothyDay/raw/509.html.txt', 'test'],\n",
       " ['DorothyDay', './data_dsicap/DorothyDay/raw/510.html.txt', 'test'],\n",
       " ['DorothyDay', './data_dsicap/DorothyDay/raw/511.html.txt', 'test'],\n",
       " ['DorothyDay', './data_dsicap/DorothyDay/raw/512.html.txt', 'test'],\n",
       " ['DorothyDay', './data_dsicap/DorothyDay/raw/513.html.txt', 'test'],\n",
       " ['DorothyDay', './data_dsicap/DorothyDay/raw/514.html.txt', 'test'],\n",
       " ['DorothyDay', './data_dsicap/DorothyDay/raw/515.html.txt', 'test'],\n",
       " ['DorothyDay', './data_dsicap/DorothyDay/raw/516.html.txt', 'test'],\n",
       " ['DorothyDay', './data_dsicap/DorothyDay/raw/517.html.txt', 'test'],\n",
       " ['DorothyDay', './data_dsicap/DorothyDay/raw/518.html.txt', 'test'],\n",
       " ['DorothyDay', './data_dsicap/DorothyDay/raw/520.html.txt', 'test'],\n",
       " ['DorothyDay', './data_dsicap/DorothyDay/raw/522.html.txt', 'test'],\n",
       " ['DorothyDay', './data_dsicap/DorothyDay/raw/523.html.txt', 'test'],\n",
       " ['DorothyDay', './data_dsicap/DorothyDay/raw/524.html.txt', 'test'],\n",
       " ['DorothyDay', './data_dsicap/DorothyDay/raw/525.html.txt', 'test'],\n",
       " ['DorothyDay', './data_dsicap/DorothyDay/raw/526.html.txt', 'test'],\n",
       " ['DorothyDay', './data_dsicap/DorothyDay/raw/527.html.txt', 'test'],\n",
       " ['DorothyDay', './data_dsicap/DorothyDay/raw/528.html.txt', 'test'],\n",
       " ['DorothyDay', './data_dsicap/DorothyDay/raw/529.html.txt', 'test'],\n",
       " ['DorothyDay', './data_dsicap/DorothyDay/raw/53.html.txt', 'test'],\n",
       " ['DorothyDay', './data_dsicap/DorothyDay/raw/530.html.txt', 'test'],\n",
       " ['DorothyDay', './data_dsicap/DorothyDay/raw/531.html.txt', 'test'],\n",
       " ['DorothyDay', './data_dsicap/DorothyDay/raw/532.html.txt', 'test'],\n",
       " ['DorothyDay', './data_dsicap/DorothyDay/raw/533.html.txt', 'test'],\n",
       " ['DorothyDay', './data_dsicap/DorothyDay/raw/534.html.txt', 'test'],\n",
       " ['DorothyDay', './data_dsicap/DorothyDay/raw/535.html.txt', 'test'],\n",
       " ['DorothyDay', './data_dsicap/DorothyDay/raw/536.html.txt', 'test'],\n",
       " ['DorothyDay', './data_dsicap/DorothyDay/raw/537.html.txt', 'test'],\n",
       " ['DorothyDay', './data_dsicap/DorothyDay/raw/538.html.txt', 'test'],\n",
       " ['DorothyDay', './data_dsicap/DorothyDay/raw/539.html.txt', 'test'],\n",
       " ['DorothyDay', './data_dsicap/DorothyDay/raw/54.html.txt', 'test'],\n",
       " ['DorothyDay', './data_dsicap/DorothyDay/raw/540.html.txt', 'test'],\n",
       " ['DorothyDay', './data_dsicap/DorothyDay/raw/541.html.txt', 'test'],\n",
       " ['DorothyDay', './data_dsicap/DorothyDay/raw/542.html.txt', 'test'],\n",
       " ['DorothyDay', './data_dsicap/DorothyDay/raw/543.html.txt', 'test'],\n",
       " ['DorothyDay', './data_dsicap/DorothyDay/raw/544.html.txt', 'test'],\n",
       " ['DorothyDay', './data_dsicap/DorothyDay/raw/545.html.txt', 'test'],\n",
       " ['DorothyDay', './data_dsicap/DorothyDay/raw/546.html.txt', 'test'],\n",
       " ['DorothyDay', './data_dsicap/DorothyDay/raw/547.html.txt', 'test'],\n",
       " ['DorothyDay', './data_dsicap/DorothyDay/raw/548.html.txt', 'test'],\n",
       " ['DorothyDay', './data_dsicap/DorothyDay/raw/550.html.txt', 'test'],\n",
       " ['DorothyDay', './data_dsicap/DorothyDay/raw/551.html.txt', 'test'],\n",
       " ['DorothyDay', './data_dsicap/DorothyDay/raw/552.html.txt', 'test'],\n",
       " ['DorothyDay', './data_dsicap/DorothyDay/raw/553.html.txt', 'test'],\n",
       " ['DorothyDay', './data_dsicap/DorothyDay/raw/554.html.txt', 'test'],\n",
       " ['DorothyDay', './data_dsicap/DorothyDay/raw/555.html.txt', 'test'],\n",
       " ['DorothyDay', './data_dsicap/DorothyDay/raw/556.html.txt', 'test'],\n",
       " ['DorothyDay', './data_dsicap/DorothyDay/raw/557.html.txt', 'test'],\n",
       " ['DorothyDay', './data_dsicap/DorothyDay/raw/558.html.txt', 'test'],\n",
       " ['DorothyDay', './data_dsicap/DorothyDay/raw/559.html.txt', 'test'],\n",
       " ['DorothyDay', './data_dsicap/DorothyDay/raw/560.html.txt', 'test'],\n",
       " ['DorothyDay', './data_dsicap/DorothyDay/raw/561.html.txt', 'test'],\n",
       " ['DorothyDay', './data_dsicap/DorothyDay/raw/562.html.txt', 'test'],\n",
       " ['DorothyDay', './data_dsicap/DorothyDay/raw/563.html.txt', 'test'],\n",
       " ['DorothyDay', './data_dsicap/DorothyDay/raw/564.html.txt', 'test'],\n",
       " ['DorothyDay', './data_dsicap/DorothyDay/raw/565.html.txt', 'test'],\n",
       " ['DorothyDay', './data_dsicap/DorothyDay/raw/566.html.txt', 'test'],\n",
       " ['DorothyDay', './data_dsicap/DorothyDay/raw/567.html.txt', 'test'],\n",
       " ['DorothyDay', './data_dsicap/DorothyDay/raw/568.html.txt', 'test'],\n",
       " ['DorothyDay', './data_dsicap/DorothyDay/raw/569.html.txt', 'test'],\n",
       " ['DorothyDay', './data_dsicap/DorothyDay/raw/570.html.txt', 'test'],\n",
       " ['DorothyDay', './data_dsicap/DorothyDay/raw/571.html.txt', 'test'],\n",
       " ['DorothyDay', './data_dsicap/DorothyDay/raw/572.html.txt', 'test'],\n",
       " ['DorothyDay', './data_dsicap/DorothyDay/raw/574.html.txt', 'test'],\n",
       " ['DorothyDay', './data_dsicap/DorothyDay/raw/575.html.txt', 'test'],\n",
       " ['DorothyDay', './data_dsicap/DorothyDay/raw/576.html.txt', 'test'],\n",
       " ['DorothyDay', './data_dsicap/DorothyDay/raw/577.html.txt', 'test'],\n",
       " ['DorothyDay', './data_dsicap/DorothyDay/raw/578.html.txt', 'test'],\n",
       " ['DorothyDay', './data_dsicap/DorothyDay/raw/579.html.txt', 'test'],\n",
       " ['DorothyDay', './data_dsicap/DorothyDay/raw/580.html.txt', 'test'],\n",
       " ['DorothyDay', './data_dsicap/DorothyDay/raw/581.html.txt', 'test'],\n",
       " ['DorothyDay', './data_dsicap/DorothyDay/raw/582.html.txt', 'test'],\n",
       " ['DorothyDay', './data_dsicap/DorothyDay/raw/583.html.txt', 'test'],\n",
       " ['DorothyDay', './data_dsicap/DorothyDay/raw/584.html.txt', 'test'],\n",
       " ['DorothyDay', './data_dsicap/DorothyDay/raw/585.html.txt', 'test'],\n",
       " ['DorothyDay', './data_dsicap/DorothyDay/raw/587.html.txt', 'test'],\n",
       " ['DorothyDay', './data_dsicap/DorothyDay/raw/588.html.txt', 'test'],\n",
       " ['DorothyDay', './data_dsicap/DorothyDay/raw/589.html.txt', 'test'],\n",
       " ['DorothyDay', './data_dsicap/DorothyDay/raw/590.html.txt', 'test'],\n",
       " ['DorothyDay', './data_dsicap/DorothyDay/raw/591.html.txt', 'test'],\n",
       " ['DorothyDay', './data_dsicap/DorothyDay/raw/592.html.txt', 'test'],\n",
       " ['DorothyDay', './data_dsicap/DorothyDay/raw/593.html.txt', 'test'],\n",
       " ['DorothyDay', './data_dsicap/DorothyDay/raw/594.html.txt', 'test'],\n",
       " ['DorothyDay', './data_dsicap/DorothyDay/raw/595.html.txt', 'test'],\n",
       " ['DorothyDay', './data_dsicap/DorothyDay/raw/596.html.txt', 'test'],\n",
       " ['DorothyDay', './data_dsicap/DorothyDay/raw/597.html.txt', 'test'],\n",
       " ['DorothyDay', './data_dsicap/DorothyDay/raw/598.html.txt', 'test'],\n",
       " ['DorothyDay', './data_dsicap/DorothyDay/raw/599.html.txt', 'test'],\n",
       " ['DorothyDay', './data_dsicap/DorothyDay/raw/60.html.txt', 'test'],\n",
       " ['DorothyDay', './data_dsicap/DorothyDay/raw/600.html.txt', 'test'],\n",
       " ['DorothyDay', './data_dsicap/DorothyDay/raw/601.html.txt', 'test'],\n",
       " ['DorothyDay', './data_dsicap/DorothyDay/raw/602.html.txt', 'test'],\n",
       " ['DorothyDay', './data_dsicap/DorothyDay/raw/603.html.txt', 'test'],\n",
       " ['DorothyDay', './data_dsicap/DorothyDay/raw/604.html.txt', 'test'],\n",
       " ['DorothyDay', './data_dsicap/DorothyDay/raw/605.html.txt', 'test'],\n",
       " ['DorothyDay', './data_dsicap/DorothyDay/raw/606.html.txt', 'test'],\n",
       " ['DorothyDay', './data_dsicap/DorothyDay/raw/607.html.txt', 'test'],\n",
       " ['DorothyDay', './data_dsicap/DorothyDay/raw/608.html.txt', 'test'],\n",
       " ['DorothyDay', './data_dsicap/DorothyDay/raw/609.html.txt', 'test'],\n",
       " ['DorothyDay', './data_dsicap/DorothyDay/raw/610.html.txt', 'test'],\n",
       " ['DorothyDay', './data_dsicap/DorothyDay/raw/611.html.txt', 'test'],\n",
       " ['DorothyDay', './data_dsicap/DorothyDay/raw/612.html.txt', 'test'],\n",
       " ['DorothyDay', './data_dsicap/DorothyDay/raw/613.html.txt', 'test'],\n",
       " ['DorothyDay', './data_dsicap/DorothyDay/raw/614.html.txt', 'test'],\n",
       " ['DorothyDay', './data_dsicap/DorothyDay/raw/615.html.txt', 'test'],\n",
       " ['DorothyDay', './data_dsicap/DorothyDay/raw/616.html.txt', 'test'],\n",
       " ['DorothyDay', './data_dsicap/DorothyDay/raw/617.html.txt', 'test'],\n",
       " ['DorothyDay', './data_dsicap/DorothyDay/raw/618.html.txt', 'test'],\n",
       " ['DorothyDay', './data_dsicap/DorothyDay/raw/619.html.txt', 'test'],\n",
       " ['DorothyDay', './data_dsicap/DorothyDay/raw/620.html.txt', 'test'],\n",
       " ['DorothyDay', './data_dsicap/DorothyDay/raw/621.html.txt', 'test'],\n",
       " ['DorothyDay', './data_dsicap/DorothyDay/raw/622.html.txt', 'test'],\n",
       " ['DorothyDay', './data_dsicap/DorothyDay/raw/624.html.txt', 'test'],\n",
       " ['DorothyDay', './data_dsicap/DorothyDay/raw/625.html.txt', 'test'],\n",
       " ['DorothyDay', './data_dsicap/DorothyDay/raw/626.html.txt', 'test'],\n",
       " ['DorothyDay', './data_dsicap/DorothyDay/raw/627.html.txt', 'test'],\n",
       " ['DorothyDay', './data_dsicap/DorothyDay/raw/628.html.txt', 'test'],\n",
       " ['DorothyDay', './data_dsicap/DorothyDay/raw/629.html.txt', 'test'],\n",
       " ['DorothyDay', './data_dsicap/DorothyDay/raw/630.html.txt', 'test'],\n",
       " ['DorothyDay', './data_dsicap/DorothyDay/raw/631.html.txt', 'test'],\n",
       " ['DorothyDay', './data_dsicap/DorothyDay/raw/632.html.txt', 'test'],\n",
       " ['DorothyDay', './data_dsicap/DorothyDay/raw/633.html.txt', 'test'],\n",
       " ['DorothyDay', './data_dsicap/DorothyDay/raw/634.html.txt', 'test'],\n",
       " ['DorothyDay', './data_dsicap/DorothyDay/raw/635.html.txt', 'test'],\n",
       " ['DorothyDay', './data_dsicap/DorothyDay/raw/636.html.txt', 'test'],\n",
       " ['DorothyDay', './data_dsicap/DorothyDay/raw/637.html.txt', 'test'],\n",
       " ['DorothyDay', './data_dsicap/DorothyDay/raw/638.html.txt', 'test'],\n",
       " ['DorothyDay', './data_dsicap/DorothyDay/raw/639.html.txt', 'test'],\n",
       " ['DorothyDay', './data_dsicap/DorothyDay/raw/640.html.txt', 'test'],\n",
       " ['DorothyDay', './data_dsicap/DorothyDay/raw/641.html.txt', 'test'],\n",
       " ['DorothyDay', './data_dsicap/DorothyDay/raw/642.html.txt', 'test'],\n",
       " ['DorothyDay', './data_dsicap/DorothyDay/raw/643.html.txt', 'test'],\n",
       " ['DorothyDay', './data_dsicap/DorothyDay/raw/644.html.txt', 'test'],\n",
       " ['DorothyDay', './data_dsicap/DorothyDay/raw/645.html.txt', 'test'],\n",
       " ['DorothyDay', './data_dsicap/DorothyDay/raw/646.html.txt', 'test'],\n",
       " ['DorothyDay', './data_dsicap/DorothyDay/raw/647.html.txt', 'test'],\n",
       " ['DorothyDay', './data_dsicap/DorothyDay/raw/648.html.txt', 'test'],\n",
       " ['DorothyDay', './data_dsicap/DorothyDay/raw/649.html.txt', 'test'],\n",
       " ['DorothyDay', './data_dsicap/DorothyDay/raw/650.html.txt', 'test'],\n",
       " ['DorothyDay', './data_dsicap/DorothyDay/raw/651.html.txt', 'test'],\n",
       " ['DorothyDay', './data_dsicap/DorothyDay/raw/653.html.txt', 'test'],\n",
       " ['DorothyDay', './data_dsicap/DorothyDay/raw/654.html.txt', 'test'],\n",
       " ['DorothyDay', './data_dsicap/DorothyDay/raw/655.html.txt', 'test'],\n",
       " ['DorothyDay', './data_dsicap/DorothyDay/raw/656.html.txt', 'test'],\n",
       " ['DorothyDay', './data_dsicap/DorothyDay/raw/657.html.txt', 'test'],\n",
       " ['DorothyDay', './data_dsicap/DorothyDay/raw/658.html.txt', 'test'],\n",
       " ['DorothyDay', './data_dsicap/DorothyDay/raw/659.html.txt', 'test'],\n",
       " ['DorothyDay', './data_dsicap/DorothyDay/raw/660.html.txt', 'test'],\n",
       " ['DorothyDay', './data_dsicap/DorothyDay/raw/661.html.txt', 'test'],\n",
       " ['DorothyDay', './data_dsicap/DorothyDay/raw/662.html.txt', 'test'],\n",
       " ['DorothyDay', './data_dsicap/DorothyDay/raw/663.html.txt', 'test'],\n",
       " ['DorothyDay', './data_dsicap/DorothyDay/raw/664.html.txt', 'test'],\n",
       " ['DorothyDay', './data_dsicap/DorothyDay/raw/665.html.txt', 'test'],\n",
       " ['DorothyDay', './data_dsicap/DorothyDay/raw/666.html.txt', 'test'],\n",
       " ['DorothyDay', './data_dsicap/DorothyDay/raw/667.html.txt', 'test'],\n",
       " ['DorothyDay', './data_dsicap/DorothyDay/raw/668.html.txt', 'test'],\n",
       " ['DorothyDay', './data_dsicap/DorothyDay/raw/669.html.txt', 'test'],\n",
       " ['DorothyDay', './data_dsicap/DorothyDay/raw/670.html.txt', 'test'],\n",
       " ['DorothyDay', './data_dsicap/DorothyDay/raw/671.html.txt', 'test'],\n",
       " ['DorothyDay', './data_dsicap/DorothyDay/raw/672.html.txt', 'test'],\n",
       " ['DorothyDay', './data_dsicap/DorothyDay/raw/673.html.txt', 'test'],\n",
       " ['DorothyDay', './data_dsicap/DorothyDay/raw/674.html.txt', 'test'],\n",
       " ['DorothyDay', './data_dsicap/DorothyDay/raw/675.html.txt', 'test'],\n",
       " ['DorothyDay', './data_dsicap/DorothyDay/raw/676.html.txt', 'test'],\n",
       " ['DorothyDay', './data_dsicap/DorothyDay/raw/677.html.txt', 'test'],\n",
       " ['DorothyDay', './data_dsicap/DorothyDay/raw/678.html.txt', 'test'],\n",
       " ['DorothyDay', './data_dsicap/DorothyDay/raw/679.html.txt', 'test'],\n",
       " ['DorothyDay', './data_dsicap/DorothyDay/raw/680.html.txt', 'test'],\n",
       " ['DorothyDay', './data_dsicap/DorothyDay/raw/681.html.txt', 'test'],\n",
       " ['DorothyDay', './data_dsicap/DorothyDay/raw/682.html.txt', 'test'],\n",
       " ['DorothyDay', './data_dsicap/DorothyDay/raw/683.html.txt', 'test'],\n",
       " ['DorothyDay', './data_dsicap/DorothyDay/raw/684.html.txt', 'test'],\n",
       " ['DorothyDay', './data_dsicap/DorothyDay/raw/685.html.txt', 'test'],\n",
       " ['DorothyDay', './data_dsicap/DorothyDay/raw/686.html.txt', 'test'],\n",
       " ['DorothyDay', './data_dsicap/DorothyDay/raw/687.html.txt', 'test'],\n",
       " ['DorothyDay', './data_dsicap/DorothyDay/raw/688.html.txt', 'test'],\n",
       " ['DorothyDay', './data_dsicap/DorothyDay/raw/689.html.txt', 'test'],\n",
       " ['DorothyDay', './data_dsicap/DorothyDay/raw/690.html.txt', 'test'],\n",
       " ['DorothyDay', './data_dsicap/DorothyDay/raw/691.html.txt', 'test'],\n",
       " ['DorothyDay', './data_dsicap/DorothyDay/raw/692.html.txt', 'test'],\n",
       " ['DorothyDay', './data_dsicap/DorothyDay/raw/694.html.txt', 'test'],\n",
       " ['DorothyDay', './data_dsicap/DorothyDay/raw/695.html.txt', 'test'],\n",
       " ['DorothyDay', './data_dsicap/DorothyDay/raw/696.html.txt', 'test'],\n",
       " ['DorothyDay', './data_dsicap/DorothyDay/raw/697.html.txt', 'test'],\n",
       " ['DorothyDay', './data_dsicap/DorothyDay/raw/698.html.txt', 'test'],\n",
       " ['DorothyDay', './data_dsicap/DorothyDay/raw/699.html.txt', 'test'],\n",
       " ['DorothyDay', './data_dsicap/DorothyDay/raw/700.html.txt', 'test'],\n",
       " ['DorothyDay', './data_dsicap/DorothyDay/raw/701.html.txt', 'test'],\n",
       " ['DorothyDay', './data_dsicap/DorothyDay/raw/702.html.txt', 'test'],\n",
       " ['DorothyDay', './data_dsicap/DorothyDay/raw/703.html.txt', 'test'],\n",
       " ['DorothyDay', './data_dsicap/DorothyDay/raw/704.html.txt', 'test'],\n",
       " ['DorothyDay', './data_dsicap/DorothyDay/raw/705.html.txt', 'test'],\n",
       " ['DorothyDay', './data_dsicap/DorothyDay/raw/706.html.txt', 'test'],\n",
       " ['DorothyDay', './data_dsicap/DorothyDay/raw/707.html.txt', 'test'],\n",
       " ['DorothyDay', './data_dsicap/DorothyDay/raw/708.html.txt', 'test'],\n",
       " ['DorothyDay', './data_dsicap/DorothyDay/raw/709.html.txt', 'test'],\n",
       " ['DorothyDay', './data_dsicap/DorothyDay/raw/710.html.txt', 'test'],\n",
       " ['DorothyDay', './data_dsicap/DorothyDay/raw/711.html.txt', 'test'],\n",
       " ['DorothyDay', './data_dsicap/DorothyDay/raw/712.html.txt', 'test'],\n",
       " ['DorothyDay', './data_dsicap/DorothyDay/raw/713.html.txt', 'test'],\n",
       " ['DorothyDay', './data_dsicap/DorothyDay/raw/714.html.txt', 'test'],\n",
       " ['DorothyDay', './data_dsicap/DorothyDay/raw/715.html.txt', 'test'],\n",
       " ['DorothyDay', './data_dsicap/DorothyDay/raw/716.html.txt', 'test'],\n",
       " ['DorothyDay', './data_dsicap/DorothyDay/raw/717.html.txt', 'test'],\n",
       " ['DorothyDay', './data_dsicap/DorothyDay/raw/718.html.txt', 'test'],\n",
       " ['DorothyDay', './data_dsicap/DorothyDay/raw/719.html.txt', 'test'],\n",
       " ['DorothyDay', './data_dsicap/DorothyDay/raw/720.html.txt', 'test'],\n",
       " ['DorothyDay', './data_dsicap/DorothyDay/raw/721.html.txt', 'test'],\n",
       " ['DorothyDay', './data_dsicap/DorothyDay/raw/722.html.txt', 'test'],\n",
       " ['DorothyDay', './data_dsicap/DorothyDay/raw/723.html.txt', 'test'],\n",
       " ['DorothyDay', './data_dsicap/DorothyDay/raw/724.html.txt', 'test'],\n",
       " ['DorothyDay', './data_dsicap/DorothyDay/raw/725.html.txt', 'test'],\n",
       " ['DorothyDay', './data_dsicap/DorothyDay/raw/726.html.txt', 'test'],\n",
       " ['DorothyDay', './data_dsicap/DorothyDay/raw/727.html.txt', 'test'],\n",
       " ['DorothyDay', './data_dsicap/DorothyDay/raw/728.html.txt', 'test'],\n",
       " ['DorothyDay', './data_dsicap/DorothyDay/raw/729.html.txt', 'test'],\n",
       " ['DorothyDay', './data_dsicap/DorothyDay/raw/730.html.txt', 'test'],\n",
       " ['DorothyDay', './data_dsicap/DorothyDay/raw/731.html.txt', 'test'],\n",
       " ['DorothyDay', './data_dsicap/DorothyDay/raw/732.html.txt', 'test'],\n",
       " ['DorothyDay', './data_dsicap/DorothyDay/raw/733.html.txt', 'test'],\n",
       " ['DorothyDay', './data_dsicap/DorothyDay/raw/734.html.txt', 'test'],\n",
       " ['DorothyDay', './data_dsicap/DorothyDay/raw/735.html.txt', 'test'],\n",
       " ['DorothyDay', './data_dsicap/DorothyDay/raw/736.html.txt', 'test'],\n",
       " ['DorothyDay', './data_dsicap/DorothyDay/raw/737.html.txt', 'test'],\n",
       " ['DorothyDay', './data_dsicap/DorothyDay/raw/738.html.txt', 'test'],\n",
       " ['DorothyDay', './data_dsicap/DorothyDay/raw/739.html.txt', 'test'],\n",
       " ['DorothyDay', './data_dsicap/DorothyDay/raw/740.html.txt', 'test'],\n",
       " ['DorothyDay', './data_dsicap/DorothyDay/raw/741.html.txt', 'test'],\n",
       " ['DorothyDay', './data_dsicap/DorothyDay/raw/742.html.txt', 'test'],\n",
       " ['DorothyDay', './data_dsicap/DorothyDay/raw/743.html.txt', 'test'],\n",
       " ['DorothyDay', './data_dsicap/DorothyDay/raw/744.html.txt', 'test'],\n",
       " ['DorothyDay', './data_dsicap/DorothyDay/raw/745.html.txt', 'test'],\n",
       " ['DorothyDay', './data_dsicap/DorothyDay/raw/746.html.txt', 'test'],\n",
       " ['DorothyDay', './data_dsicap/DorothyDay/raw/747.html.txt', 'test'],\n",
       " ['DorothyDay', './data_dsicap/DorothyDay/raw/748.html.txt', 'test'],\n",
       " ['DorothyDay', './data_dsicap/DorothyDay/raw/749.html.txt', 'test'],\n",
       " ['DorothyDay', './data_dsicap/DorothyDay/raw/750.html.txt', 'test'],\n",
       " ['DorothyDay', './data_dsicap/DorothyDay/raw/752.html.txt', 'test'],\n",
       " ['DorothyDay', './data_dsicap/DorothyDay/raw/753.html.txt', 'test'],\n",
       " ['DorothyDay', './data_dsicap/DorothyDay/raw/754.html.txt', 'test'],\n",
       " ['DorothyDay', './data_dsicap/DorothyDay/raw/755.html.txt', 'test'],\n",
       " ['DorothyDay', './data_dsicap/DorothyDay/raw/756.html.txt', 'test'],\n",
       " ['DorothyDay', './data_dsicap/DorothyDay/raw/757.html.txt', 'test'],\n",
       " ['DorothyDay', './data_dsicap/DorothyDay/raw/758.html.txt', 'test'],\n",
       " ['DorothyDay', './data_dsicap/DorothyDay/raw/759.html.txt', 'test'],\n",
       " ['DorothyDay', './data_dsicap/DorothyDay/raw/760.html.txt', 'test'],\n",
       " ['DorothyDay', './data_dsicap/DorothyDay/raw/761.html.txt', 'test'],\n",
       " ['DorothyDay', './data_dsicap/DorothyDay/raw/762.html.txt', 'test'],\n",
       " ['DorothyDay', './data_dsicap/DorothyDay/raw/763.html.txt', 'test'],\n",
       " ['DorothyDay', './data_dsicap/DorothyDay/raw/764.html.txt', 'test'],\n",
       " ['DorothyDay', './data_dsicap/DorothyDay/raw/765.html.txt', 'test'],\n",
       " ['DorothyDay', './data_dsicap/DorothyDay/raw/766.html.txt', 'test'],\n",
       " ['DorothyDay', './data_dsicap/DorothyDay/raw/767.html.txt', 'test'],\n",
       " ['DorothyDay', './data_dsicap/DorothyDay/raw/768.html.txt', 'test'],\n",
       " ['DorothyDay', './data_dsicap/DorothyDay/raw/769.html.txt', 'test'],\n",
       " ['DorothyDay', './data_dsicap/DorothyDay/raw/770.html.txt', 'test'],\n",
       " ['DorothyDay', './data_dsicap/DorothyDay/raw/771.html.txt', 'test'],\n",
       " ['DorothyDay', './data_dsicap/DorothyDay/raw/772.html.txt', 'test'],\n",
       " ['DorothyDay', './data_dsicap/DorothyDay/raw/773.html.txt', 'test'],\n",
       " ['DorothyDay', './data_dsicap/DorothyDay/raw/774.html.txt', 'test'],\n",
       " ['DorothyDay', './data_dsicap/DorothyDay/raw/775.html.txt', 'test'],\n",
       " ['DorothyDay', './data_dsicap/DorothyDay/raw/776.html.txt', 'test'],\n",
       " ['DorothyDay', './data_dsicap/DorothyDay/raw/777.html.txt', 'test'],\n",
       " ['DorothyDay', './data_dsicap/DorothyDay/raw/778.html.txt', 'test'],\n",
       " ['DorothyDay', './data_dsicap/DorothyDay/raw/779.html.txt', 'test'],\n",
       " ['DorothyDay', './data_dsicap/DorothyDay/raw/780.html.txt', 'test'],\n",
       " ['DorothyDay', './data_dsicap/DorothyDay/raw/781.html.txt', 'test'],\n",
       " ['DorothyDay', './data_dsicap/DorothyDay/raw/782.html.txt', 'test'],\n",
       " ['DorothyDay', './data_dsicap/DorothyDay/raw/783.html.txt', 'test'],\n",
       " ['DorothyDay', './data_dsicap/DorothyDay/raw/784.html.txt', 'test'],\n",
       " ['DorothyDay', './data_dsicap/DorothyDay/raw/785.html.txt', 'test'],\n",
       " ['DorothyDay', './data_dsicap/DorothyDay/raw/786.html.txt', 'test'],\n",
       " ['DorothyDay', './data_dsicap/DorothyDay/raw/787.html.txt', 'test'],\n",
       " ['DorothyDay', './data_dsicap/DorothyDay/raw/788.html.txt', 'test'],\n",
       " ['DorothyDay', './data_dsicap/DorothyDay/raw/789.html.txt', 'test'],\n",
       " ['DorothyDay', './data_dsicap/DorothyDay/raw/790.html.txt', 'test'],\n",
       " ['DorothyDay', './data_dsicap/DorothyDay/raw/792.html.txt', 'test'],\n",
       " ['DorothyDay', './data_dsicap/DorothyDay/raw/793.html.txt', 'test'],\n",
       " ['DorothyDay', './data_dsicap/DorothyDay/raw/794.html.txt', 'test'],\n",
       " ['DorothyDay', './data_dsicap/DorothyDay/raw/795.html.txt', 'test'],\n",
       " ['DorothyDay', './data_dsicap/DorothyDay/raw/796.html.txt', 'test'],\n",
       " ['DorothyDay', './data_dsicap/DorothyDay/raw/797.html.txt', 'test'],\n",
       " ['DorothyDay', './data_dsicap/DorothyDay/raw/798.html.txt', 'test'],\n",
       " ['DorothyDay', './data_dsicap/DorothyDay/raw/799.html.txt', 'test'],\n",
       " ['DorothyDay', './data_dsicap/DorothyDay/raw/800.html.txt', 'test'],\n",
       " ['DorothyDay', './data_dsicap/DorothyDay/raw/801.html.txt', 'test'],\n",
       " ['DorothyDay', './data_dsicap/DorothyDay/raw/802.html.txt', 'test'],\n",
       " ['DorothyDay', './data_dsicap/DorothyDay/raw/803.html.txt', 'test'],\n",
       " ['DorothyDay', './data_dsicap/DorothyDay/raw/804.html.txt', 'test'],\n",
       " ['DorothyDay', './data_dsicap/DorothyDay/raw/805.html.txt', 'test'],\n",
       " ['DorothyDay', './data_dsicap/DorothyDay/raw/806.html.txt', 'test'],\n",
       " ['DorothyDay', './data_dsicap/DorothyDay/raw/807.html.txt', 'test'],\n",
       " ['DorothyDay', './data_dsicap/DorothyDay/raw/808.html.txt', 'test'],\n",
       " ['DorothyDay', './data_dsicap/DorothyDay/raw/809.html.txt', 'test'],\n",
       " ['DorothyDay', './data_dsicap/DorothyDay/raw/810.html.txt', 'test'],\n",
       " ['DorothyDay', './data_dsicap/DorothyDay/raw/811.html.txt', 'test'],\n",
       " ['DorothyDay', './data_dsicap/DorothyDay/raw/812.html.txt', 'test'],\n",
       " ['DorothyDay', './data_dsicap/DorothyDay/raw/813.html.txt', 'test'],\n",
       " ['DorothyDay', './data_dsicap/DorothyDay/raw/814.html.txt', 'test'],\n",
       " ['DorothyDay', './data_dsicap/DorothyDay/raw/815.html.txt', 'test'],\n",
       " ['DorothyDay', './data_dsicap/DorothyDay/raw/816.html.txt', 'test'],\n",
       " ['DorothyDay', './data_dsicap/DorothyDay/raw/817.html.txt', 'test'],\n",
       " ['DorothyDay', './data_dsicap/DorothyDay/raw/818.html.txt', 'test'],\n",
       " ['DorothyDay', './data_dsicap/DorothyDay/raw/819.html.txt', 'test'],\n",
       " ['DorothyDay', './data_dsicap/DorothyDay/raw/820.html.txt', 'test'],\n",
       " ['DorothyDay', './data_dsicap/DorothyDay/raw/821.html.txt', 'test'],\n",
       " ['DorothyDay', './data_dsicap/DorothyDay/raw/822.html.txt', 'test'],\n",
       " ['DorothyDay', './data_dsicap/DorothyDay/raw/823.html.txt', 'test'],\n",
       " ['DorothyDay', './data_dsicap/DorothyDay/raw/824.html.txt', 'test'],\n",
       " ['DorothyDay', './data_dsicap/DorothyDay/raw/825.html.txt', 'test'],\n",
       " ['DorothyDay', './data_dsicap/DorothyDay/raw/826.html.txt', 'test'],\n",
       " ['DorothyDay', './data_dsicap/DorothyDay/raw/827.html.txt', 'test'],\n",
       " ['DorothyDay', './data_dsicap/DorothyDay/raw/828.html.txt', 'test'],\n",
       " ['DorothyDay', './data_dsicap/DorothyDay/raw/829.html.txt', 'test'],\n",
       " ['DorothyDay', './data_dsicap/DorothyDay/raw/830.html.txt', 'test'],\n",
       " ['DorothyDay', './data_dsicap/DorothyDay/raw/831.html.txt', 'test'],\n",
       " ['DorothyDay', './data_dsicap/DorothyDay/raw/832.html.txt', 'test'],\n",
       " ['DorothyDay', './data_dsicap/DorothyDay/raw/833.html.txt', 'test'],\n",
       " ['DorothyDay', './data_dsicap/DorothyDay/raw/834.html.txt', 'test'],\n",
       " ['DorothyDay', './data_dsicap/DorothyDay/raw/835.html.txt', 'test'],\n",
       " ['DorothyDay', './data_dsicap/DorothyDay/raw/836.html.txt', 'test'],\n",
       " ['DorothyDay', './data_dsicap/DorothyDay/raw/837.html.txt', 'test'],\n",
       " ['DorothyDay', './data_dsicap/DorothyDay/raw/838.html.txt', 'test'],\n",
       " ['DorothyDay', './data_dsicap/DorothyDay/raw/839.html.txt', 'test'],\n",
       " ['DorothyDay', './data_dsicap/DorothyDay/raw/840.html.txt', 'test'],\n",
       " ['DorothyDay', './data_dsicap/DorothyDay/raw/841.html.txt', 'test'],\n",
       " ['DorothyDay', './data_dsicap/DorothyDay/raw/842.html.txt', 'test'],\n",
       " ['DorothyDay', './data_dsicap/DorothyDay/raw/843.html.txt', 'test'],\n",
       " ['DorothyDay', './data_dsicap/DorothyDay/raw/844.html.txt', 'test'],\n",
       " ['DorothyDay', './data_dsicap/DorothyDay/raw/845.html.txt', 'test'],\n",
       " ['DorothyDay', './data_dsicap/DorothyDay/raw/846.html.txt', 'test'],\n",
       " ['DorothyDay', './data_dsicap/DorothyDay/raw/847.html.txt', 'test'],\n",
       " ['DorothyDay', './data_dsicap/DorothyDay/raw/848.html.txt', 'test'],\n",
       " ['DorothyDay', './data_dsicap/DorothyDay/raw/849.html.txt', 'test'],\n",
       " ['DorothyDay', './data_dsicap/DorothyDay/raw/850.html.txt', 'test'],\n",
       " ['DorothyDay', './data_dsicap/DorothyDay/raw/851.html.txt', 'test'],\n",
       " ['DorothyDay', './data_dsicap/DorothyDay/raw/852.html.txt', 'test'],\n",
       " ['DorothyDay', './data_dsicap/DorothyDay/raw/853.html.txt', 'test'],\n",
       " ['DorothyDay', './data_dsicap/DorothyDay/raw/854.html.txt', 'test'],\n",
       " ['DorothyDay', './data_dsicap/DorothyDay/raw/855.html.txt', 'test'],\n",
       " ['DorothyDay', './data_dsicap/DorothyDay/raw/856.html.txt', 'test'],\n",
       " ['DorothyDay', './data_dsicap/DorothyDay/raw/857.html.txt', 'test'],\n",
       " ['DorothyDay', './data_dsicap/DorothyDay/raw/858.html.txt', 'test'],\n",
       " ['DorothyDay', './data_dsicap/DorothyDay/raw/859.html.txt', 'test'],\n",
       " ['DorothyDay', './data_dsicap/DorothyDay/raw/860.html.txt', 'test'],\n",
       " ['DorothyDay', './data_dsicap/DorothyDay/raw/861.html.txt', 'test'],\n",
       " ['DorothyDay', './data_dsicap/DorothyDay/raw/862.html.txt', 'test'],\n",
       " ['DorothyDay', './data_dsicap/DorothyDay/raw/863.html.txt', 'test'],\n",
       " ['DorothyDay', './data_dsicap/DorothyDay/raw/864.html.txt', 'test'],\n",
       " ['DorothyDay', './data_dsicap/DorothyDay/raw/865.html.txt', 'test'],\n",
       " ['DorothyDay', './data_dsicap/DorothyDay/raw/866.html.txt', 'test'],\n",
       " ['DorothyDay', './data_dsicap/DorothyDay/raw/867.html.txt', 'test'],\n",
       " ['DorothyDay', './data_dsicap/DorothyDay/raw/868.html.txt', 'test'],\n",
       " ['DorothyDay', './data_dsicap/DorothyDay/raw/883.html.txt', 'test'],\n",
       " ['DorothyDay', './data_dsicap/DorothyDay/raw/884.html.txt', 'test'],\n",
       " ['DorothyDay', './data_dsicap/DorothyDay/raw/885.html.txt', 'test'],\n",
       " ['DorothyDay', './data_dsicap/DorothyDay/raw/886.html.txt', 'test'],\n",
       " ['DorothyDay', './data_dsicap/DorothyDay/raw/887.html.txt', 'test'],\n",
       " ['DorothyDay', './data_dsicap/DorothyDay/raw/888.html.txt', 'test'],\n",
       " ['DorothyDay', './data_dsicap/DorothyDay/raw/889.html.txt', 'test'],\n",
       " ['DorothyDay', './data_dsicap/DorothyDay/raw/890.html.txt', 'test'],\n",
       " ['DorothyDay', './data_dsicap/DorothyDay/raw/891.html.txt', 'test'],\n",
       " ['DorothyDay', './data_dsicap/DorothyDay/raw/892.html.txt', 'test'],\n",
       " ['DorothyDay', './data_dsicap/DorothyDay/raw/893.html.txt', 'test'],\n",
       " ['DorothyDay', './data_dsicap/DorothyDay/raw/894.html.txt', 'test'],\n",
       " ['DorothyDay', './data_dsicap/DorothyDay/raw/895.html.txt', 'test'],\n",
       " ['DorothyDay', './data_dsicap/DorothyDay/raw/896.html.txt', 'test'],\n",
       " ['DorothyDay', './data_dsicap/DorothyDay/raw/897.html.txt', 'test'],\n",
       " ['DorothyDay', './data_dsicap/DorothyDay/raw/898.html.txt', 'test'],\n",
       " ['DorothyDay', './data_dsicap/DorothyDay/raw/899.html.txt', 'test'],\n",
       " ['DorothyDay', './data_dsicap/DorothyDay/raw/900.html.txt', 'test'],\n",
       " ['DorothyDay', './data_dsicap/DorothyDay/raw/901.html.txt', 'test'],\n",
       " ['DorothyDay', './data_dsicap/DorothyDay/raw/902.html.txt', 'test'],\n",
       " ['DorothyDay', './data_dsicap/DorothyDay/raw/903.html.txt', 'test'],\n",
       " ['DorothyDay', './data_dsicap/DorothyDay/raw/904.html.txt', 'test'],\n",
       " ['DorothyDay', './data_dsicap/DorothyDay/raw/905.html.txt', 'test'],\n",
       " ['DorothyDay', './data_dsicap/DorothyDay/raw/906.html.txt', 'test'],\n",
       " ['DorothyDay', './data_dsicap/DorothyDay/raw/907.html.txt', 'test'],\n",
       " ['DorothyDay', './data_dsicap/DorothyDay/raw/908.html.txt', 'test'],\n",
       " ['DorothyDay', './data_dsicap/DorothyDay/raw/909.html.txt', 'test'],\n",
       " ['DorothyDay', './data_dsicap/DorothyDay/raw/910.html.txt', 'test'],\n",
       " ['DorothyDay', './data_dsicap/DorothyDay/raw/911.html.txt', 'test'],\n",
       " ['DorothyDay', './data_dsicap/DorothyDay/raw/912.html.txt', 'test'],\n",
       " ['DorothyDay', './data_dsicap/DorothyDay/raw/913.html.txt', 'test'],\n",
       " ['DorothyDay', './data_dsicap/DorothyDay/raw/914.html.txt', 'test'],\n",
       " ['DorothyDay', './data_dsicap/DorothyDay/raw/915.html.txt', 'test'],\n",
       " ['DorothyDay', './data_dsicap/DorothyDay/raw/916.html.txt', 'test'],\n",
       " ['DorothyDay', './data_dsicap/DorothyDay/raw/917.html.txt', 'test'],\n",
       " ['DorothyDay', './data_dsicap/DorothyDay/raw/918.html.txt', 'test'],\n",
       " ['DorothyDay', './data_dsicap/DorothyDay/raw/919.html.txt', 'test'],\n",
       " ['DorothyDay', './data_dsicap/DorothyDay/raw/920.html.txt', 'test'],\n",
       " ['DorothyDay', './data_dsicap/DorothyDay/raw/921.html.txt', 'test'],\n",
       " ['DorothyDay', './data_dsicap/DorothyDay/raw/922.html.txt', 'test'],\n",
       " ['DorothyDay', './data_dsicap/DorothyDay/raw/923.html.txt', 'test'],\n",
       " ['DorothyDay', './data_dsicap/DorothyDay/raw/924.html.txt', 'test'],\n",
       " ['DorothyDay', './data_dsicap/DorothyDay/raw/925.html.txt', 'test'],\n",
       " ['DorothyDay', './data_dsicap/DorothyDay/raw/926.html.txt', 'test'],\n",
       " ['DorothyDay', './data_dsicap/DorothyDay/raw/927.html.txt', 'test'],\n",
       " ['DorothyDay', './data_dsicap/DorothyDay/raw/928.html.txt', 'test'],\n",
       " ['DorothyDay', './data_dsicap/DorothyDay/raw/929.html.txt', 'test'],\n",
       " ['DorothyDay', './data_dsicap/DorothyDay/raw/930.html.txt', 'test'],\n",
       " ['DorothyDay', './data_dsicap/DorothyDay/raw/931.html.txt', 'test'],\n",
       " ['DorothyDay', './data_dsicap/DorothyDay/raw/933.html.txt', 'test'],\n",
       " ['DorothyDay', './data_dsicap/DorothyDay/raw/934.html.txt', 'test'],\n",
       " ['DorothyDay', './data_dsicap/DorothyDay/raw/935.html.txt', 'test'],\n",
       " ['DorothyDay', './data_dsicap/DorothyDay/raw/936.html.txt', 'test'],\n",
       " ['DorothyDay', './data_dsicap/DorothyDay/raw/937.html.txt', 'test'],\n",
       " ['DorothyDay', './data_dsicap/DorothyDay/raw/938.html.txt', 'test'],\n",
       " ['DorothyDay', './data_dsicap/DorothyDay/raw/939.html.txt', 'test'],\n",
       " ['DorothyDay', './data_dsicap/DorothyDay/raw/940.html.txt', 'test'],\n",
       " ['DorothyDay', './data_dsicap/DorothyDay/raw/941.html.txt', 'test'],\n",
       " ['DorothyDay', './data_dsicap/DorothyDay/raw/943.html.txt', 'test'],\n",
       " ['DorothyDay', './data_dsicap/DorothyDay/raw/944.html.txt', 'test'],\n",
       " ['DorothyDay', './data_dsicap/DorothyDay/raw/945.html.txt', 'test'],\n",
       " ['DorothyDay', './data_dsicap/DorothyDay/raw/946.html.txt', 'test'],\n",
       " ['DorothyDay', './data_dsicap/DorothyDay/raw/947.html.txt', 'test'],\n",
       " ['DorothyDay', './data_dsicap/DorothyDay/raw/949.html.txt', 'test'],\n",
       " ['NaumanKhan',\n",
       "  './data_dsicap/NaumanKhan/raw/al_furqan_being_peaceful_and_greatful.docx.txt',\n",
       "  'test'],\n",
       " ['NaumanKhan',\n",
       "  './data_dsicap/NaumanKhan/raw/are_you_living_a_dream.txt',\n",
       "  'test'],\n",
       " ['NaumanKhan',\n",
       "  './data_dsicap/NaumanKhan/raw/be_like_the_bee.docx.txt',\n",
       "  'test'],\n",
       " ['NaumanKhan',\n",
       "  './data_dsicap/NaumanKhan/raw/believers_response_by_nouman_ali_khan.txt',\n",
       "  'test'],\n",
       " ['NaumanKhan',\n",
       "  './data_dsicap/NaumanKhan/raw/beware_bad_trendsetters.txt',\n",
       "  'test'],\n",
       " ['NaumanKhan',\n",
       "  './data_dsicap/NaumanKhan/raw/blueprint_transcipction.docx.txt',\n",
       "  'test'],\n",
       " ['NaumanKhan',\n",
       "  './data_dsicap/NaumanKhan/raw/brilliance_of_the_book.docx.txt',\n",
       "  'test'],\n",
       " ['NaumanKhan',\n",
       "  './data_dsicap/NaumanKhan/raw/chronicles_of_the_sahaba_in_their_youth.docx.txt',\n",
       "  'test'],\n",
       " ['NaumanKhan',\n",
       "  './data_dsicap/NaumanKhan/raw/contradicting_community.docx.txt',\n",
       "  'test'],\n",
       " ['NaumanKhan',\n",
       "  './data_dsicap/NaumanKhan/raw/controlling_anger.docx.txt',\n",
       "  'test'],\n",
       " ['NaumanKhan', './data_dsicap/NaumanKhan/raw/dawahandyou.docx.txt', 'test'],\n",
       " ['NaumanKhan',\n",
       "  './data_dsicap/NaumanKhan/raw/distinctions_and_resp_of_muslim_ummah.docx.txt',\n",
       "  'test'],\n",
       " ['NaumanKhan',\n",
       "  './data_dsicap/NaumanKhan/raw/divine_speech_prologue_part_i.txt',\n",
       "  'test'],\n",
       " ['NaumanKhan',\n",
       "  './data_dsicap/NaumanKhan/raw/divine_speech_prologue_part_ii.txt',\n",
       "  'test'],\n",
       " ['NaumanKhan', './data_dsicap/NaumanKhan/raw/flybacktoallah.txt', 'test'],\n",
       " ['NaumanKhan',\n",
       "  './data_dsicap/NaumanKhan/raw/following-the-lizard-nak.docx.txt',\n",
       "  'test'],\n",
       " ['NaumanKhan',\n",
       "  './data_dsicap/NaumanKhan/raw/from_darkness_to_light__-_a_quranic_perspective.txt',\n",
       "  'test'],\n",
       " ['NaumanKhan', './data_dsicap/NaumanKhan/raw/ghaflah.txt', 'test'],\n",
       " ['NaumanKhan', './data_dsicap/NaumanKhan/raw/happiness_fun_doc.txt', 'test'],\n",
       " ['NaumanKhan',\n",
       "  './data_dsicap/NaumanKhan/raw/heart_mind_and_soulquranic_view_1.docx.txt',\n",
       "  'test'],\n",
       " ['NaumanKhan',\n",
       "  './data_dsicap/NaumanKhan/raw/how_to_straighten_our_priorities__nouman_ali_khan_-_nouman_ali_khan_collection.docx.txt',\n",
       "  'test'],\n",
       " ['NaumanKhan',\n",
       "  './data_dsicap/NaumanKhan/raw/importance_of_jummah_prayer-nouman_ali_khan_proof_read.docx.txt',\n",
       "  'test'],\n",
       " ['NaumanKhan',\n",
       "  './data_dsicap/NaumanKhan/raw/InthefootstepsfAbrahamNAK.docx.txt',\n",
       "  'test'],\n",
       " ['NaumanKhan',\n",
       "  './data_dsicap/NaumanKhan/raw/islam_and_ego_transcribed.txt',\n",
       "  'test'],\n",
       " ['NaumanKhan',\n",
       "  './data_dsicap/NaumanKhan/raw/islam_and_why_muslim_men_and_women_can.docx.txt',\n",
       "  'test'],\n",
       " ['NaumanKhan', './data_dsicap/NaumanKhan/raw/khutbah.docx.txt', 'test'],\n",
       " ['NaumanKhan',\n",
       "  './data_dsicap/NaumanKhan/raw/khutbah_suruh_yusuf_dealing_with_grief_and_sadness.docx.txt',\n",
       "  'test'],\n",
       " ['NaumanKhan',\n",
       "  './data_dsicap/NaumanKhan/raw/leniency_in_leadership.docx.txt',\n",
       "  'test'],\n",
       " ['NaumanKhan',\n",
       "  './data_dsicap/NaumanKhan/raw/lessons_from_a_bird-2.docx.txt',\n",
       "  'test'],\n",
       " ['NaumanKhan',\n",
       "  './data_dsicap/NaumanKhan/raw/lessons_from_surah_ar_rehman.docx.txt',\n",
       "  'test'],\n",
       " ['NaumanKhan',\n",
       "  './data_dsicap/NaumanKhan/raw/level_of_faith_by_naumaan_ali_khan.docx.txt',\n",
       "  'test'],\n",
       " ['NaumanKhan',\n",
       "  './data_dsicap/NaumanKhan/raw/Litmus Test transcript.txt',\n",
       "  'test'],\n",
       " ['NaumanKhan', './data_dsicap/NaumanKhan/raw/moses.docx.txt', 'test'],\n",
       " ['NaumanKhan',\n",
       "  './data_dsicap/NaumanKhan/raw/muslim_teenagers.docx.txt',\n",
       "  'test'],\n",
       " ['NaumanKhan', './data_dsicap/NaumanKhan/raw/nak-1.txt', 'test'],\n",
       " ['NaumanKhan', './data_dsicap/NaumanKhan/raw/nak-2.txt', 'test'],\n",
       " ['NaumanKhan', './data_dsicap/NaumanKhan/raw/nak-4.docx.txt', 'test'],\n",
       " ['NaumanKhan',\n",
       "  './data_dsicap/NaumanKhan/raw/nak_-_being_the_best_to_our_parents.docx.txt',\n",
       "  'test'],\n",
       " ['NaumanKhan',\n",
       "  './data_dsicap/NaumanKhan/raw/nak_-_the_story_of_robert_davila.docx.txt',\n",
       "  'test'],\n",
       " ['NaumanKhan',\n",
       "  './data_dsicap/NaumanKhan/raw/nak_money_matters.docx.txt',\n",
       "  'test'],\n",
       " ['NaumanKhan',\n",
       "  './data_dsicap/NaumanKhan/raw/nak_transcript_2.docx.txt',\n",
       "  'test'],\n",
       " ['NaumanKhan',\n",
       "  './data_dsicap/NaumanKhan/raw/nak_transcript_3.docx.txt',\n",
       "  'test'],\n",
       " ['NaumanKhan',\n",
       "  './data_dsicap/NaumanKhan/raw/nak_transcript_80_surah_al_kahf.txt',\n",
       "  'test'],\n",
       " ['NaumanKhan', './data_dsicap/NaumanKhan/raw/naw_dawg.txt', 'test'],\n",
       " ['NaumanKhan',\n",
       "  './data_dsicap/NaumanKhan/raw/nouman._the_want_of_plenty_distracted_you..docx.txt',\n",
       "  'test'],\n",
       " ['NaumanKhan',\n",
       "  './data_dsicap/NaumanKhan/raw/our_relationship_with_the_quran_-_ustadh_nouman_ali_khan.txt',\n",
       "  'test'],\n",
       " ['NaumanKhan',\n",
       "  './data_dsicap/NaumanKhan/raw/power_of_quran_-_part_1.txt',\n",
       "  'test'],\n",
       " ['NaumanKhan',\n",
       "  './data_dsicap/NaumanKhan/raw/power_of_quran_2.docx.txt',\n",
       "  'test'],\n",
       " ['NaumanKhan', './data_dsicap/NaumanKhan/raw/ppl_of_taqwa.txt', 'test'],\n",
       " ['NaumanKhan',\n",
       "  './data_dsicap/NaumanKhan/raw/punishments_versus_tests.docx.txt',\n",
       "  'test'],\n",
       " ['NaumanKhan',\n",
       "  './data_dsicap/NaumanKhan/raw/putting_life_in_perspective_khutbah_04-11-2014.docx.txt',\n",
       "  'test'],\n",
       " ['NaumanKhan',\n",
       "  './data_dsicap/NaumanKhan/raw/quran_and_science-transcript.docx.txt',\n",
       "  'test'],\n",
       " ['NaumanKhan', './data_dsicap/NaumanKhan/raw/quran_at_fajr.docx.txt', 'test'],\n",
       " ['NaumanKhan', './data_dsicap/NaumanKhan/raw/quran_weekly.txt', 'test'],\n",
       " ['NaumanKhan',\n",
       "  './data_dsicap/NaumanKhan/raw/ramadan_a_gift_for_muslims.docx.txt',\n",
       "  'test'],\n",
       " ['NaumanKhan',\n",
       "  './data_dsicap/NaumanKhan/raw/ramadan_and_quran_by_nouman_ali_khan.docx.txt',\n",
       "  'test'],\n",
       " ['NaumanKhan',\n",
       "  './data_dsicap/NaumanKhan/raw/responsibilityofbeingwitnesstohumanity.docx.docx.txt',\n",
       "  'test'],\n",
       " ['NaumanKhan',\n",
       "  './data_dsicap/NaumanKhan/raw/returning_to_allah.docx.txt',\n",
       "  'test'],\n",
       " ['NaumanKhan',\n",
       "  './data_dsicap/NaumanKhan/raw/sexual_desires.docx.txt',\n",
       "  'test'],\n",
       " ['NaumanKhan',\n",
       "  './data_dsicap/NaumanKhan/raw/shield-of-honor-raw-transcription.txt',\n",
       "  'test'],\n",
       " ['NaumanKhan',\n",
       "  './data_dsicap/NaumanKhan/raw/signs_of_a_hypocrite.docx.txt',\n",
       "  'test'],\n",
       " ['NaumanKhan',\n",
       "  './data_dsicap/NaumanKhan/raw/surah_fatiha_points_to_ponder.txt',\n",
       "  'test'],\n",
       " ['NaumanKhan',\n",
       "  './data_dsicap/NaumanKhan/raw/surah_nahal_nak.docx.txt',\n",
       "  'test'],\n",
       " ['NaumanKhan',\n",
       "  './data_dsicap/NaumanKhan/raw/taking_back_our_narrative.txt',\n",
       "  'test'],\n",
       " ['NaumanKhan',\n",
       "  './data_dsicap/NaumanKhan/raw/the-man-of-two-gardens.txt',\n",
       "  'test'],\n",
       " ['NaumanKhan',\n",
       "  './data_dsicap/NaumanKhan/raw/the_importance_of_jumma.docx.txt',\n",
       "  'test'],\n",
       " ['NaumanKhan',\n",
       "  './data_dsicap/NaumanKhan/raw/the_rights_and_responsibilities_of_marriage_by_nak.docx.txt',\n",
       "  'test'],\n",
       " ['NaumanKhan',\n",
       "  './data_dsicap/NaumanKhan/raw/the_search_for_the_sound_of_the_soul.docx.txt',\n",
       "  'test'],\n",
       " ['NaumanKhan',\n",
       "  './data_dsicap/NaumanKhan/raw/thelegacyofibrahimas-noumanalikhan.pdf.txt',\n",
       "  'test'],\n",
       " ['NaumanKhan',\n",
       "  './data_dsicap/NaumanKhan/raw/time_love_praise_and_encouragement_in_relationship.docx.txt',\n",
       "  'test'],\n",
       " ['NaumanKhan',\n",
       "  './data_dsicap/NaumanKhan/raw/tips_to_improve_your_character.txt',\n",
       "  'test'],\n",
       " ['NaumanKhan',\n",
       "  './data_dsicap/NaumanKhan/raw/transcript_my_favourite_dua_in_the_quran.docx.txt',\n",
       "  'test'],\n",
       " ['NaumanKhan',\n",
       "  './data_dsicap/NaumanKhan/raw/transcript_nak_the_quran__the_word_of_god.docx.txt',\n",
       "  'test'],\n",
       " ['NaumanKhan',\n",
       "  './data_dsicap/NaumanKhan/raw/transcription_of_heart_or_mind_by_nouman_ali_khan.docx.txt',\n",
       "  'test'],\n",
       " ['NaumanKhan',\n",
       "  './data_dsicap/NaumanKhan/raw/types_of_friends_mentioned_in_the_holy_quran.docx.txt',\n",
       "  'test'],\n",
       " ['NaumanKhan',\n",
       "  './data_dsicap/NaumanKhan/raw/when_muslims_work_together_7_transcript.docx.txt',\n",
       "  'test'],\n",
       " ['NaumanKhan',\n",
       "  './data_dsicap/NaumanKhan/raw/when_will_you_submit.txt',\n",
       "  'test'],\n",
       " ['NaumanKhan',\n",
       "  './data_dsicap/NaumanKhan/raw/why_should_i_believe_in_god_nak.docx.txt',\n",
       "  'test'],\n",
       " ['NaumanKhan',\n",
       "  './data_dsicap/NaumanKhan/raw/wmwt4_nak_voicing_your_concern2.docx.txt',\n",
       "  'test'],\n",
       " ['NaumanKhan', './data_dsicap/NaumanKhan/raw/wmwt5najawa2.docx.txt', 'test'],\n",
       " ['NaumanKhan', './data_dsicap/NaumanKhan/raw/wmwt6.docx.txt', 'test'],\n",
       " ['NaumanKhan',\n",
       "  './data_dsicap/NaumanKhan/raw/wmwt_1_transcript_b.docx.txt',\n",
       "  'test'],\n",
       " ['NaumanKhan', './data_dsicap/NaumanKhan/raw/wmwt_2.docx.txt', 'test'],\n",
       " ['NaumanKhan', './data_dsicap/NaumanKhan/raw/wmwt_3.docx.txt', 'test'],\n",
       " ['NaumanKhan',\n",
       "  './data_dsicap/NaumanKhan/raw/words_of_advice_surah_luqman_transcript.txt',\n",
       "  'test'],\n",
       " ['NaumanKhan', './data_dsicap/NaumanKhan/raw/yea_dawg.txt', 'test'],\n",
       " ['Rabbinic',\n",
       "  './data_dsicap/Rabbinic/raw/%5Bfield_dateline-date%5D-10.txt',\n",
       "  'test'],\n",
       " ['Rabbinic',\n",
       "  './data_dsicap/Rabbinic/raw/%5Bfield_dateline-date%5D-11.txt',\n",
       "  'test'],\n",
       " ['Rabbinic',\n",
       "  './data_dsicap/Rabbinic/raw/%5Bfield_dateline-date%5D-12.txt',\n",
       "  'test'],\n",
       " ['Rabbinic',\n",
       "  './data_dsicap/Rabbinic/raw/%5Bfield_dateline-date%5D-13.txt',\n",
       "  'test'],\n",
       " ['Rabbinic',\n",
       "  './data_dsicap/Rabbinic/raw/%5Bfield_dateline-date%5D-14.txt',\n",
       "  'test'],\n",
       " ['Rabbinic',\n",
       "  './data_dsicap/Rabbinic/raw/%5Bfield_dateline-date%5D-15.txt',\n",
       "  'test'],\n",
       " ['Rabbinic',\n",
       "  './data_dsicap/Rabbinic/raw/%5Bfield_dateline-date%5D-16.txt',\n",
       "  'test'],\n",
       " ['Rabbinic',\n",
       "  './data_dsicap/Rabbinic/raw/%5Bfield_dateline-date%5D-17.txt',\n",
       "  'test'],\n",
       " ['Rabbinic',\n",
       "  './data_dsicap/Rabbinic/raw/%5Bfield_dateline-date%5D-18.txt',\n",
       "  'test'],\n",
       " ['Rabbinic',\n",
       "  './data_dsicap/Rabbinic/raw/%5Bfield_dateline-date%5D-19.txt',\n",
       "  'test'],\n",
       " ['Rabbinic',\n",
       "  './data_dsicap/Rabbinic/raw/%5Bfield_dateline-date%5D-2.txt',\n",
       "  'test'],\n",
       " ['Rabbinic',\n",
       "  './data_dsicap/Rabbinic/raw/%5Bfield_dateline-date%5D-20.txt',\n",
       "  'test'],\n",
       " ['Rabbinic',\n",
       "  './data_dsicap/Rabbinic/raw/%5Bfield_dateline-date%5D-21.txt',\n",
       "  'test'],\n",
       " ['Rabbinic',\n",
       "  './data_dsicap/Rabbinic/raw/%5Bfield_dateline-date%5D-22.txt',\n",
       "  'test'],\n",
       " ['Rabbinic',\n",
       "  './data_dsicap/Rabbinic/raw/%5Bfield_dateline-date%5D-23.txt',\n",
       "  'test'],\n",
       " ['Rabbinic',\n",
       "  './data_dsicap/Rabbinic/raw/%5Bfield_dateline-date%5D-24.txt',\n",
       "  'test'],\n",
       " ['Rabbinic',\n",
       "  './data_dsicap/Rabbinic/raw/%5Bfield_dateline-date%5D-25.txt',\n",
       "  'test'],\n",
       " ['Rabbinic',\n",
       "  './data_dsicap/Rabbinic/raw/%5Bfield_dateline-date%5D-26.txt',\n",
       "  'test'],\n",
       " ['Rabbinic',\n",
       "  './data_dsicap/Rabbinic/raw/%5Bfield_dateline-date%5D-27.txt',\n",
       "  'test'],\n",
       " ['Rabbinic',\n",
       "  './data_dsicap/Rabbinic/raw/%5Bfield_dateline-date%5D-29.txt',\n",
       "  'test'],\n",
       " ['Rabbinic',\n",
       "  './data_dsicap/Rabbinic/raw/%5Bfield_dateline-date%5D-3.txt',\n",
       "  'test'],\n",
       " ['Rabbinic',\n",
       "  './data_dsicap/Rabbinic/raw/%5Bfield_dateline-date%5D-30.txt',\n",
       "  'test'],\n",
       " ['Rabbinic',\n",
       "  './data_dsicap/Rabbinic/raw/%5Bfield_dateline-date%5D-33.txt',\n",
       "  'test'],\n",
       " ['Rabbinic',\n",
       "  './data_dsicap/Rabbinic/raw/%5Bfield_dateline-date%5D-35.txt',\n",
       "  'test'],\n",
       " ['Rabbinic',\n",
       "  './data_dsicap/Rabbinic/raw/%5Bfield_dateline-date%5D-36.txt',\n",
       "  'test'],\n",
       " ['Rabbinic',\n",
       "  './data_dsicap/Rabbinic/raw/%5Bfield_dateline-date%5D-37.txt',\n",
       "  'test'],\n",
       " ['Rabbinic',\n",
       "  './data_dsicap/Rabbinic/raw/%5Bfield_dateline-date%5D-38.txt',\n",
       "  'test'],\n",
       " ['Rabbinic',\n",
       "  './data_dsicap/Rabbinic/raw/%5Bfield_dateline-date%5D-4.txt',\n",
       "  'test'],\n",
       " ['Rabbinic',\n",
       "  './data_dsicap/Rabbinic/raw/%5Bfield_dateline-date%5D-42.txt',\n",
       "  'test'],\n",
       " ['Rabbinic',\n",
       "  './data_dsicap/Rabbinic/raw/%5Bfield_dateline-date%5D-43.txt',\n",
       "  'test'],\n",
       " ['Rabbinic',\n",
       "  './data_dsicap/Rabbinic/raw/%5Bfield_dateline-date%5D-45.txt',\n",
       "  'test'],\n",
       " ['Rabbinic',\n",
       "  './data_dsicap/Rabbinic/raw/%5Bfield_dateline-date%5D-47.txt',\n",
       "  'test'],\n",
       " ['Rabbinic',\n",
       "  './data_dsicap/Rabbinic/raw/%5Bfield_dateline-date%5D-48.txt',\n",
       "  'test'],\n",
       " ['Rabbinic',\n",
       "  './data_dsicap/Rabbinic/raw/%5Bfield_dateline-date%5D-5.txt',\n",
       "  'test'],\n",
       " ['Rabbinic',\n",
       "  './data_dsicap/Rabbinic/raw/%5Bfield_dateline-date%5D-50.txt',\n",
       "  'test'],\n",
       " ['Rabbinic',\n",
       "  './data_dsicap/Rabbinic/raw/%5Bfield_dateline-date%5D-51.txt',\n",
       "  'test'],\n",
       " ['Rabbinic',\n",
       "  './data_dsicap/Rabbinic/raw/%5Bfield_dateline-date%5D-52.txt',\n",
       "  'test'],\n",
       " ['Rabbinic',\n",
       "  './data_dsicap/Rabbinic/raw/%5Bfield_dateline-date%5D-54.txt',\n",
       "  'test'],\n",
       " ['Rabbinic',\n",
       "  './data_dsicap/Rabbinic/raw/%5Bfield_dateline-date%5D-56.txt',\n",
       "  'test'],\n",
       " ['Rabbinic',\n",
       "  './data_dsicap/Rabbinic/raw/%5Bfield_dateline-date%5D-57.txt',\n",
       "  'test'],\n",
       " ['Rabbinic',\n",
       "  './data_dsicap/Rabbinic/raw/%5Bfield_dateline-date%5D-59.txt',\n",
       "  'test'],\n",
       " ['Rabbinic',\n",
       "  './data_dsicap/Rabbinic/raw/%5Bfield_dateline-date%5D-6.txt',\n",
       "  'test'],\n",
       " ['Rabbinic',\n",
       "  './data_dsicap/Rabbinic/raw/%5Bfield_dateline-date%5D-61.txt',\n",
       "  'test'],\n",
       " ['Rabbinic',\n",
       "  './data_dsicap/Rabbinic/raw/%5Bfield_dateline-date%5D-62.txt',\n",
       "  'test'],\n",
       " ['Rabbinic',\n",
       "  './data_dsicap/Rabbinic/raw/%5Bfield_dateline-date%5D-65.txt',\n",
       "  'test'],\n",
       " ['Rabbinic',\n",
       "  './data_dsicap/Rabbinic/raw/%5Bfield_dateline-date%5D-67.txt',\n",
       "  'test'],\n",
       " ['Rabbinic',\n",
       "  './data_dsicap/Rabbinic/raw/%5Bfield_dateline-date%5D-68.txt',\n",
       "  'test'],\n",
       " ['Rabbinic',\n",
       "  './data_dsicap/Rabbinic/raw/%5Bfield_dateline-date%5D-69.txt',\n",
       "  'test'],\n",
       " ['Rabbinic',\n",
       "  './data_dsicap/Rabbinic/raw/%5Bfield_dateline-date%5D-7.txt',\n",
       "  'test'],\n",
       " ['Rabbinic',\n",
       "  './data_dsicap/Rabbinic/raw/%5Bfield_dateline-date%5D-70.txt',\n",
       "  'test'],\n",
       " ['Rabbinic',\n",
       "  './data_dsicap/Rabbinic/raw/%5Bfield_dateline-date%5D-72.txt',\n",
       "  'test'],\n",
       " ['Rabbinic',\n",
       "  './data_dsicap/Rabbinic/raw/%5Bfield_dateline-date%5D-74.txt',\n",
       "  'test'],\n",
       " ['Rabbinic',\n",
       "  './data_dsicap/Rabbinic/raw/%5Bfield_dateline-date%5D-76.txt',\n",
       "  'test'],\n",
       " ['Rabbinic',\n",
       "  './data_dsicap/Rabbinic/raw/%5Bfield_dateline-date%5D-8.txt',\n",
       "  'test'],\n",
       " ['Rabbinic',\n",
       "  './data_dsicap/Rabbinic/raw/%5Bfield_dateline-date%5D-9.txt',\n",
       "  'test'],\n",
       " ['Rabbinic', './data_dsicap/Rabbinic/raw/1938-vs-2012.txt', 'test'],\n",
       " ['Rabbinic', './data_dsicap/Rabbinic/raw/45.txt', 'test'],\n",
       " ['Rabbinic', './data_dsicap/Rabbinic/raw/615th-commandment.txt', 'test'],\n",
       " ['Rabbinic', './data_dsicap/Rabbinic/raw/aba-gate.txt', 'test'],\n",
       " ['Rabbinic', './data_dsicap/Rabbinic/raw/abnormal-evil.txt', 'test'],\n",
       " ['Rabbinic', './data_dsicap/Rabbinic/raw/acting-now-ever.txt', 'test'],\n",
       " ['Rabbinic', './data_dsicap/Rabbinic/raw/arevut.txt', 'test'],\n",
       " ['Rabbinic', './data_dsicap/Rabbinic/raw/attitude-gratitude.txt', 'test'],\n",
       " ['Rabbinic', './data_dsicap/Rabbinic/raw/ayekha.txt', 'test'],\n",
       " ['Rabbinic', './data_dsicap/Rabbinic/raw/benchmark-breach.txt', 'test'],\n",
       " ['Rabbinic', './data_dsicap/Rabbinic/raw/best-defense.txt', 'test'],\n",
       " ['Rabbinic', './data_dsicap/Rabbinic/raw/big-picture.txt', 'test'],\n",
       " ['Rabbinic', './data_dsicap/Rabbinic/raw/bitul-ha-yesh.txt', 'test'],\n",
       " ['Rabbinic', './data_dsicap/Rabbinic/raw/blessed-are-introverts.txt', 'test'],\n",
       " ['Rabbinic', './data_dsicap/Rabbinic/raw/blessing-assimilation.txt', 'test'],\n",
       " ['Rabbinic',\n",
       "  './data_dsicap/Rabbinic/raw/brother-can-you-spare-blessing.txt',\n",
       "  'test'],\n",
       " ['Rabbinic', './data_dsicap/Rabbinic/raw/caves-our-lives.txt', 'test'],\n",
       " ['Rabbinic',\n",
       "  './data_dsicap/Rabbinic/raw/cells-without-numbers-prisoners-without-names.txt',\n",
       "  'test'],\n",
       " ['Rabbinic',\n",
       "  './data_dsicap/Rabbinic/raw/check-your-jewish-privilege.txt',\n",
       "  'test'],\n",
       " ['Rabbinic', './data_dsicap/Rabbinic/raw/choosing-right-pond.txt', 'test'],\n",
       " ['Rabbinic', './data_dsicap/Rabbinic/raw/convergence-twain.txt', 'test'],\n",
       " ['Rabbinic', './data_dsicap/Rabbinic/raw/counterfactual.txt', 'test'],\n",
       " ['Rabbinic', './data_dsicap/Rabbinic/raw/destiny-knocking.txt', 'test'],\n",
       " ['Rabbinic', './data_dsicap/Rabbinic/raw/dew.txt', 'test'],\n",
       " ['Rabbinic',\n",
       "  './data_dsicap/Rabbinic/raw/dialogue-between-generations.txt',\n",
       "  'test'],\n",
       " ['Rabbinic',\n",
       "  './data_dsicap/Rabbinic/raw/doing-jewish-other-jews.txt',\n",
       "  'test'],\n",
       " ['Rabbinic', './data_dsicap/Rabbinic/raw/driven-leaf.txt', 'test'],\n",
       " ['Rabbinic',\n",
       "  './data_dsicap/Rabbinic/raw/elementary-forms-religious-life.txt',\n",
       "  'test'],\n",
       " ['Rabbinic', './data_dsicap/Rabbinic/raw/enlarging-your-heart.txt', 'test'],\n",
       " ['Rabbinic',\n",
       "  './data_dsicap/Rabbinic/raw/european-jewry-stay-or-go.txt',\n",
       "  'test'],\n",
       " ['Rabbinic',\n",
       "  './data_dsicap/Rabbinic/raw/Failing in Good Spirits.txt',\n",
       "  'test'],\n",
       " ['Rabbinic', './data_dsicap/Rabbinic/raw/far-tree.txt', 'test'],\n",
       " ['Rabbinic', './data_dsicap/Rabbinic/raw/fate-awaits-us-all.txt', 'test'],\n",
       " ['Rabbinic', './data_dsicap/Rabbinic/raw/favorable-judgment.txt', 'test'],\n",
       " ['Rabbinic', './data_dsicap/Rabbinic/raw/form-message.txt', 'test'],\n",
       " ['Rabbinic', './data_dsicap/Rabbinic/raw/foundational-questions.txt', 'test'],\n",
       " ['Rabbinic',\n",
       "  './data_dsicap/Rabbinic/raw/freedom%E2%80%99s-journey.txt',\n",
       "  'test'],\n",
       " ['Rabbinic', './data_dsicap/Rabbinic/raw/friend-and-foe.txt', 'test'],\n",
       " ['Rabbinic', './data_dsicap/Rabbinic/raw/gen-ex-connection.txt', 'test'],\n",
       " ['Rabbinic', './data_dsicap/Rabbinic/raw/giving-room-grow.txt', 'test'],\n",
       " ['Rabbinic', './data_dsicap/Rabbinic/raw/god-enough-sometimes.txt', 'test'],\n",
       " ['Rabbinic', './data_dsicap/Rabbinic/raw/gods-love-we-forgive.txt', 'test'],\n",
       " ['Rabbinic', './data_dsicap/Rabbinic/raw/heart-many-rooms.txt', 'test'],\n",
       " ['Rabbinic', './data_dsicap/Rabbinic/raw/hidden-question.txt', 'test'],\n",
       " ['Rabbinic', './data_dsicap/Rabbinic/raw/hineni.txt', 'test'],\n",
       " ['Rabbinic', './data_dsicap/Rabbinic/raw/house-divided.txt', 'test'],\n",
       " ['Rabbinic', './data_dsicap/Rabbinic/raw/house-laban.txt', 'test'],\n",
       " ['Rabbinic',\n",
       "  './data_dsicap/Rabbinic/raw/house-prayer-all-people.txt',\n",
       "  'test'],\n",
       " ['Rabbinic',\n",
       "  './data_dsicap/Rabbinic/raw/how-jewish-should-jewish-state-be.txt',\n",
       "  'test'],\n",
       " ['Rabbinic', './data_dsicap/Rabbinic/raw/humanity-and-hope.txt', 'test'],\n",
       " ['Rabbinic', './data_dsicap/Rabbinic/raw/hyphen-within.txt', 'test'],\n",
       " ['Rabbinic',\n",
       "  './data_dsicap/Rabbinic/raw/i-will-be-what-i-will-be.txt',\n",
       "  'test'],\n",
       " ['Rabbinic', './data_dsicap/Rabbinic/raw/image-within.txt', 'test'],\n",
       " ['Rabbinic', './data_dsicap/Rabbinic/raw/imagining-past.txt', 'test'],\n",
       " ['Rabbinic', './data_dsicap/Rabbinic/raw/immodest-proposal.txt', 'test'],\n",
       " ['Rabbinic',\n",
       "  './data_dsicap/Rabbinic/raw/israel-cant-we-all-just-get-along.txt',\n",
       "  'test'],\n",
       " ['Rabbinic',\n",
       "  './data_dsicap/Rabbinic/raw/israels-promise-and-challenge.txt',\n",
       "  'test'],\n",
       " ['Rabbinic',\n",
       "  './data_dsicap/Rabbinic/raw/it%E2%80%99s-not-just-bus-it%E2%80%99s-israel.txt',\n",
       "  'test'],\n",
       " ['Rabbinic', './data_dsicap/Rabbinic/raw/its-about-time.txt', 'test'],\n",
       " ['Rabbinic', './data_dsicap/Rabbinic/raw/its-not-about-you.txt', 'test'],\n",
       " ['Rabbinic', './data_dsicap/Rabbinic/raw/its-not-just-menorah.txt', 'test'],\n",
       " ['Rabbinic', './data_dsicap/Rabbinic/raw/keep-moving.txt', 'test'],\n",
       " ['Rabbinic', './data_dsicap/Rabbinic/raw/keter.txt', 'test'],\n",
       " ['Rabbinic', './data_dsicap/Rabbinic/raw/la-clemenza-de-joseph.txt', 'test'],\n",
       " ['Rabbinic', './data_dsicap/Rabbinic/raw/later-may-be-too-late.txt', 'test'],\n",
       " ['Rabbinic', './data_dsicap/Rabbinic/raw/liberty-and-its-limits.txt', 'test'],\n",
       " ['Rabbinic', './data_dsicap/Rabbinic/raw/life-we-have-chosen.txt', 'test'],\n",
       " ['Rabbinic', './data_dsicap/Rabbinic/raw/light-one-candle.txt', 'test'],\n",
       " ['Rabbinic', './data_dsicap/Rabbinic/raw/model-ministry.txt', 'test'],\n",
       " ['Rabbinic',\n",
       "  './data_dsicap/Rabbinic/raw/my-birthright-experience.txt',\n",
       "  'test'],\n",
       " ['Rabbinic',\n",
       "  './data_dsicap/Rabbinic/raw/nothing-%E2%80%9Cjust-happens%E2%80%9D.txt',\n",
       "  'test'],\n",
       " ['Rabbinic', './data_dsicap/Rabbinic/raw/one-way-peak-secaucus.txt', 'test'],\n",
       " ['Rabbinic', './data_dsicap/Rabbinic/raw/parenting.txt', 'test'],\n",
       " ['Rabbinic',\n",
       "  './data_dsicap/Rabbinic/raw/partings-sweet-sorrow-0.txt',\n",
       "  'test'],\n",
       " ['Rabbinic', './data_dsicap/Rabbinic/raw/plastic-shmastic.txt', 'test'],\n",
       " ['Rabbinic', './data_dsicap/Rabbinic/raw/prophetic-imagination.txt', 'test'],\n",
       " ['Rabbinic', './data_dsicap/Rabbinic/raw/rachels-tears.txt', 'test'],\n",
       " ['Rabbinic', './data_dsicap/Rabbinic/raw/radical-hospitality.txt', 'test'],\n",
       " ['Rabbinic', './data_dsicap/Rabbinic/raw/regret-and-hope.txt', 'test'],\n",
       " ['Rabbinic', './data_dsicap/Rabbinic/raw/religious-leadership.txt', 'test'],\n",
       " ['Rabbinic', './data_dsicap/Rabbinic/raw/renewing-covenant.txt', 'test'],\n",
       " ['Rabbinic', './data_dsicap/Rabbinic/raw/return.txt', 'test'],\n",
       " ['Rabbinic', './data_dsicap/Rabbinic/raw/revisitations-yizkor.txt', 'test'],\n",
       " ['Rabbinic', './data_dsicap/Rabbinic/raw/ritual-innovation.txt', 'test'],\n",
       " ['Rabbinic',\n",
       "  './data_dsicap/Rabbinic/raw/round-%E2%80%98em-mantle.txt',\n",
       "  'test'],\n",
       " ...]"
      ]
     },
     "execution_count": 74,
     "metadata": {},
     "output_type": "execute_result"
    }
   ],
   "source": [
    "#print(rawFileList)\n"
   ]
  },
  {
   "cell_type": "code",
   "execution_count": 75,
   "metadata": {
    "collapsed": false
   },
   "outputs": [
    {
     "name": "stdout",
     "output_type": "stream",
     "text": [
      "<type 'list'>\n"
     ]
    }
   ],
   "source": [
    "len(rawFileList)\n",
    "print(type(rawFileList))"
   ]
  },
  {
   "cell_type": "code",
   "execution_count": 76,
   "metadata": {
    "collapsed": false
   },
   "outputs": [
    {
     "name": "stdout",
     "output_type": "stream",
     "text": [
      "           group                                           filepath subgroup\n",
      "0     DorothyDay           ./data_dsicap/DorothyDay/raw/12.html.txt     test\n",
      "1     DorothyDay           ./data_dsicap/DorothyDay/raw/13.html.txt     test\n",
      "2     DorothyDay          ./data_dsicap/DorothyDay/raw/142.html.txt     test\n",
      "3     DorothyDay          ./data_dsicap/DorothyDay/raw/143.html.txt     test\n",
      "4     DorothyDay          ./data_dsicap/DorothyDay/raw/145.html.txt     test\n",
      "5     DorothyDay          ./data_dsicap/DorothyDay/raw/146.html.txt     test\n",
      "6     DorothyDay          ./data_dsicap/DorothyDay/raw/147.html.txt     test\n",
      "7     DorothyDay          ./data_dsicap/DorothyDay/raw/148.html.txt     test\n",
      "8     DorothyDay          ./data_dsicap/DorothyDay/raw/149.html.txt     test\n",
      "9     DorothyDay           ./data_dsicap/DorothyDay/raw/15.html.txt     test\n",
      "10    DorothyDay          ./data_dsicap/DorothyDay/raw/150.html.txt     test\n",
      "11    DorothyDay          ./data_dsicap/DorothyDay/raw/151.html.txt     test\n",
      "12    DorothyDay          ./data_dsicap/DorothyDay/raw/152.html.txt     test\n",
      "13    DorothyDay          ./data_dsicap/DorothyDay/raw/153.html.txt     test\n",
      "14    DorothyDay          ./data_dsicap/DorothyDay/raw/154.html.txt     test\n",
      "15    DorothyDay          ./data_dsicap/DorothyDay/raw/155.html.txt     test\n",
      "16    DorothyDay          ./data_dsicap/DorothyDay/raw/156.html.txt     test\n",
      "17    DorothyDay          ./data_dsicap/DorothyDay/raw/158.html.txt     test\n",
      "18    DorothyDay          ./data_dsicap/DorothyDay/raw/159.html.txt     test\n",
      "19    DorothyDay           ./data_dsicap/DorothyDay/raw/16.html.txt     test\n",
      "20    DorothyDay          ./data_dsicap/DorothyDay/raw/160.html.txt     test\n",
      "21    DorothyDay          ./data_dsicap/DorothyDay/raw/161.html.txt     test\n",
      "22    DorothyDay          ./data_dsicap/DorothyDay/raw/162.html.txt     test\n",
      "23    DorothyDay          ./data_dsicap/DorothyDay/raw/164.html.txt     test\n",
      "24    DorothyDay          ./data_dsicap/DorothyDay/raw/165.html.txt     test\n",
      "25    DorothyDay          ./data_dsicap/DorothyDay/raw/166.html.txt     test\n",
      "26    DorothyDay          ./data_dsicap/DorothyDay/raw/167.html.txt     test\n",
      "27    DorothyDay          ./data_dsicap/DorothyDay/raw/169.html.txt     test\n",
      "28    DorothyDay          ./data_dsicap/DorothyDay/raw/170.html.txt     test\n",
      "29    DorothyDay          ./data_dsicap/DorothyDay/raw/171.html.txt     test\n",
      "...          ...                                                ...      ...\n",
      "996     Rabbinic              ./data_dsicap/Rabbinic/raw/return.txt     test\n",
      "997     Rabbinic  ./data_dsicap/Rabbinic/raw/revisitations-yizko...     test\n",
      "998     Rabbinic   ./data_dsicap/Rabbinic/raw/ritual-innovation.txt     test\n",
      "999     Rabbinic  ./data_dsicap/Rabbinic/raw/round-%E2%80%98em-m...     test\n",
      "1000    Rabbinic        ./data_dsicap/Rabbinic/raw/rules-rabbis.txt     test\n",
      "1001    Rabbinic        ./data_dsicap/Rabbinic/raw/search-truth.txt     test\n",
      "1002    Rabbinic             ./data_dsicap/Rabbinic/raw/shlihut.txt     test\n",
      "1003    Rabbinic  ./data_dsicap/Rabbinic/raw/something-talk-abou...     test\n",
      "1004    Rabbinic        ./data_dsicap/Rabbinic/raw/sons-fathers.txt     test\n",
      "1005    Rabbinic  ./data_dsicap/Rabbinic/raw/strangers-land-not-...     test\n",
      "1006    Rabbinic  ./data_dsicap/Rabbinic/raw/these-things-i-will...     test\n",
      "1007    Rabbinic  ./data_dsicap/Rabbinic/raw/time-stand-down-not...     test\n",
      "1008    Rabbinic             ./data_dsicap/Rabbinic/raw/timshel.txt     test\n",
      "1009    Rabbinic     ./data_dsicap/Rabbinic/raw/tipping-balance.txt     test\n",
      "1010    Rabbinic       ./data_dsicap/Rabbinic/raw/torahs-intent.txt     test\n",
      "1011    Rabbinic      ./data_dsicap/Rabbinic/raw/towers-heavens.txt     test\n",
      "1012    Rabbinic           ./data_dsicap/Rabbinic/raw/true-grit.txt     test\n",
      "1013    Rabbinic     ./data_dsicap/Rabbinic/raw/two-leaders-one.txt     test\n",
      "1014    Rabbinic  ./data_dsicap/Rabbinic/raw/two-worlds-judaism.txt     test\n",
      "1015    Rabbinic  ./data_dsicap/Rabbinic/raw/uses-and-abuses-his...     test\n",
      "1016    Rabbinic      ./data_dsicap/Rabbinic/raw/vive-la-france.txt     test\n",
      "1017    Rabbinic  ./data_dsicap/Rabbinic/raw/wandering-arameans.txt     test\n",
      "1018    Rabbinic  ./data_dsicap/Rabbinic/raw/warsaw-ghetto-upris...     test\n",
      "1019    Rabbinic     ./data_dsicap/Rabbinic/raw/what-comes-next.txt     test\n",
      "1020    Rabbinic  ./data_dsicap/Rabbinic/raw/what-we-talk-about-...     test\n",
      "1021    Rabbinic  ./data_dsicap/Rabbinic/raw/where-do-you-put-yo...     test\n",
      "1022    Rabbinic   ./data_dsicap/Rabbinic/raw/who-jew-revisited.txt     test\n",
      "1023    Rabbinic       ./data_dsicap/Rabbinic/raw/why-synagogue.txt     test\n",
      "1024    Rabbinic        ./data_dsicap/Rabbinic/raw/will-believe.txt     test\n",
      "1025    Rabbinic             ./data_dsicap/Rabbinic/raw/zerizus.txt     test\n",
      "\n",
      "[1026 rows x 3 columns]\n"
     ]
    }
   ],
   "source": [
    "rfdf = pd.DataFrame(rawFileList, columns=[\"group\",\"filepath\",\"subgroup\"])\n",
    "print(rfdf)"
   ]
  },
  {
   "cell_type": "code",
   "execution_count": null,
   "metadata": {
    "collapsed": false
   },
   "outputs": [],
   "source": []
  },
  {
   "cell_type": "code",
   "execution_count": null,
   "metadata": {
    "collapsed": true
   },
   "outputs": [],
   "source": []
  },
  {
   "cell_type": "code",
   "execution_count": null,
   "metadata": {
    "collapsed": true
   },
   "outputs": [],
   "source": []
  },
  {
   "cell_type": "code",
   "execution_count": null,
   "metadata": {
    "collapsed": true
   },
   "outputs": [],
   "source": []
  },
  {
   "cell_type": "code",
   "execution_count": 25,
   "metadata": {
    "collapsed": false
   },
   "outputs": [
    {
     "data": {
      "text/plain": [
       "{'evc': [8.40869233866716,\n",
       "  9.244981940586152,\n",
       "  4.0985708978026345,\n",
       "  4.2811674404889635,\n",
       "  0.8279760568696604],\n",
       " 'group': ['test1', 'train6', 'test2', 'train7', 'test3'],\n",
       " 'svd': [0.6514441330066267,\n",
       "  7.5657623754698475,\n",
       "  2.278599371485023,\n",
       "  9.45074050589628,\n",
       "  8.124956615987264]}"
      ]
     },
     "execution_count": 25,
     "metadata": {},
     "output_type": "execute_result"
    }
   ],
   "source": [
    "data1 = {'group':['test1','train6','test2','train7','test3'],\n",
    "        #'group2':['test10','train5','test6','train11','test7'],\n",
    "        'svd':np.random.uniform(0,10,5).tolist(),\n",
    "        'evc':np.random.uniform(0,10,5).tolist()}\n",
    "data1"
   ]
  },
  {
   "cell_type": "code",
   "execution_count": 26,
   "metadata": {
    "collapsed": false
   },
   "outputs": [
    {
     "data": {
      "text/plain": [
       "{'evc': [0.19339514579827966,\n",
       "  7.888362189076781,\n",
       "  6.89969611770144,\n",
       "  8.237055375895403,\n",
       "  4.0463421636751935],\n",
       " 'group': ['train8', 'test4', 'train9', 'test5', 'train10'],\n",
       " 'svd': [8.904268055841722,\n",
       "  2.3066332112382737,\n",
       "  7.894165287979288,\n",
       "  5.830232428356581,\n",
       "  8.38148787336355]}"
      ]
     },
     "execution_count": 26,
     "metadata": {},
     "output_type": "execute_result"
    }
   ],
   "source": [
    "data2 = {'group':['train8','test4','train9','test5', 'train10'],\n",
    "        'svd':np.random.uniform(0,10,5).tolist(),\n",
    "        'evc':np.random.uniform(0,10,5).tolist()}\n",
    "data2"
   ]
  },
  {
   "cell_type": "code",
   "execution_count": 27,
   "metadata": {
    "collapsed": false
   },
   "outputs": [
    {
     "data": {
      "text/html": [
       "<div>\n",
       "<table border=\"1\" class=\"dataframe\">\n",
       "  <thead>\n",
       "    <tr style=\"text-align: right;\">\n",
       "      <th></th>\n",
       "      <th>group</th>\n",
       "      <th>svd</th>\n",
       "      <th>evc</th>\n",
       "    </tr>\n",
       "  </thead>\n",
       "  <tbody>\n",
       "    <tr>\n",
       "      <th>0</th>\n",
       "      <td>test1</td>\n",
       "      <td>0.651444</td>\n",
       "      <td>8.408692</td>\n",
       "    </tr>\n",
       "    <tr>\n",
       "      <th>1</th>\n",
       "      <td>train6</td>\n",
       "      <td>7.565762</td>\n",
       "      <td>9.244982</td>\n",
       "    </tr>\n",
       "    <tr>\n",
       "      <th>2</th>\n",
       "      <td>test2</td>\n",
       "      <td>2.278599</td>\n",
       "      <td>4.098571</td>\n",
       "    </tr>\n",
       "    <tr>\n",
       "      <th>3</th>\n",
       "      <td>train7</td>\n",
       "      <td>9.450741</td>\n",
       "      <td>4.281167</td>\n",
       "    </tr>\n",
       "    <tr>\n",
       "      <th>4</th>\n",
       "      <td>test3</td>\n",
       "      <td>8.124957</td>\n",
       "      <td>0.827976</td>\n",
       "    </tr>\n",
       "  </tbody>\n",
       "</table>\n",
       "</div>"
      ],
      "text/plain": [
       "    group       svd       evc\n",
       "0   test1  0.651444  8.408692\n",
       "1  train6  7.565762  9.244982\n",
       "2   test2  2.278599  4.098571\n",
       "3  train7  9.450741  4.281167\n",
       "4   test3  8.124957  0.827976"
      ]
     },
     "execution_count": 27,
     "metadata": {},
     "output_type": "execute_result"
    }
   ],
   "source": [
    "df1 = pd.DataFrame(data1, columns=['group','svd','evc'])\n",
    "df1"
   ]
  },
  {
   "cell_type": "code",
   "execution_count": 28,
   "metadata": {
    "collapsed": false
   },
   "outputs": [
    {
     "data": {
      "text/html": [
       "<div>\n",
       "<table border=\"1\" class=\"dataframe\">\n",
       "  <thead>\n",
       "    <tr style=\"text-align: right;\">\n",
       "      <th></th>\n",
       "      <th>group</th>\n",
       "      <th>svd</th>\n",
       "      <th>evc</th>\n",
       "    </tr>\n",
       "  </thead>\n",
       "  <tbody>\n",
       "    <tr>\n",
       "      <th>0</th>\n",
       "      <td>train8</td>\n",
       "      <td>8.904268</td>\n",
       "      <td>0.193395</td>\n",
       "    </tr>\n",
       "    <tr>\n",
       "      <th>1</th>\n",
       "      <td>test4</td>\n",
       "      <td>2.306633</td>\n",
       "      <td>7.888362</td>\n",
       "    </tr>\n",
       "    <tr>\n",
       "      <th>2</th>\n",
       "      <td>train9</td>\n",
       "      <td>7.894165</td>\n",
       "      <td>6.899696</td>\n",
       "    </tr>\n",
       "    <tr>\n",
       "      <th>3</th>\n",
       "      <td>test5</td>\n",
       "      <td>5.830232</td>\n",
       "      <td>8.237055</td>\n",
       "    </tr>\n",
       "    <tr>\n",
       "      <th>4</th>\n",
       "      <td>train10</td>\n",
       "      <td>8.381488</td>\n",
       "      <td>4.046342</td>\n",
       "    </tr>\n",
       "  </tbody>\n",
       "</table>\n",
       "</div>"
      ],
      "text/plain": [
       "     group       svd       evc\n",
       "0   train8  8.904268  0.193395\n",
       "1    test4  2.306633  7.888362\n",
       "2   train9  7.894165  6.899696\n",
       "3    test5  5.830232  8.237055\n",
       "4  train10  8.381488  4.046342"
      ]
     },
     "execution_count": 28,
     "metadata": {},
     "output_type": "execute_result"
    }
   ],
   "source": [
    "df2 = pd.DataFrame(data2, columns=['group','svd','evc'])\n",
    "df2"
   ]
  },
  {
   "cell_type": "code",
   "execution_count": 29,
   "metadata": {
    "collapsed": false
   },
   "outputs": [],
   "source": [
    "df1.replace('test','train1', regex=True, inplace=True)\n",
    "df2.replace('train','test1', regex=True, inplace=True)"
   ]
  },
  {
   "cell_type": "code",
   "execution_count": 30,
   "metadata": {
    "collapsed": false
   },
   "outputs": [
    {
     "data": {
      "text/html": [
       "<div>\n",
       "<table border=\"1\" class=\"dataframe\">\n",
       "  <thead>\n",
       "    <tr style=\"text-align: right;\">\n",
       "      <th></th>\n",
       "      <th>group</th>\n",
       "      <th>svd</th>\n",
       "      <th>evc</th>\n",
       "    </tr>\n",
       "  </thead>\n",
       "  <tbody>\n",
       "    <tr>\n",
       "      <th>0</th>\n",
       "      <td>train11</td>\n",
       "      <td>0.651444</td>\n",
       "      <td>8.408692</td>\n",
       "    </tr>\n",
       "    <tr>\n",
       "      <th>1</th>\n",
       "      <td>train6</td>\n",
       "      <td>7.565762</td>\n",
       "      <td>9.244982</td>\n",
       "    </tr>\n",
       "    <tr>\n",
       "      <th>2</th>\n",
       "      <td>train12</td>\n",
       "      <td>2.278599</td>\n",
       "      <td>4.098571</td>\n",
       "    </tr>\n",
       "    <tr>\n",
       "      <th>3</th>\n",
       "      <td>train7</td>\n",
       "      <td>9.450741</td>\n",
       "      <td>4.281167</td>\n",
       "    </tr>\n",
       "    <tr>\n",
       "      <th>4</th>\n",
       "      <td>train13</td>\n",
       "      <td>8.124957</td>\n",
       "      <td>0.827976</td>\n",
       "    </tr>\n",
       "  </tbody>\n",
       "</table>\n",
       "</div>"
      ],
      "text/plain": [
       "     group       svd       evc\n",
       "0  train11  0.651444  8.408692\n",
       "1   train6  7.565762  9.244982\n",
       "2  train12  2.278599  4.098571\n",
       "3   train7  9.450741  4.281167\n",
       "4  train13  8.124957  0.827976"
      ]
     },
     "execution_count": 30,
     "metadata": {},
     "output_type": "execute_result"
    }
   ],
   "source": [
    "df1"
   ]
  },
  {
   "cell_type": "code",
   "execution_count": 31,
   "metadata": {
    "collapsed": false
   },
   "outputs": [
    {
     "data": {
      "text/html": [
       "<div>\n",
       "<table border=\"1\" class=\"dataframe\">\n",
       "  <thead>\n",
       "    <tr style=\"text-align: right;\">\n",
       "      <th></th>\n",
       "      <th>group</th>\n",
       "      <th>svd</th>\n",
       "      <th>evc</th>\n",
       "    </tr>\n",
       "  </thead>\n",
       "  <tbody>\n",
       "    <tr>\n",
       "      <th>0</th>\n",
       "      <td>test18</td>\n",
       "      <td>8.904268</td>\n",
       "      <td>0.193395</td>\n",
       "    </tr>\n",
       "    <tr>\n",
       "      <th>1</th>\n",
       "      <td>test4</td>\n",
       "      <td>2.306633</td>\n",
       "      <td>7.888362</td>\n",
       "    </tr>\n",
       "    <tr>\n",
       "      <th>2</th>\n",
       "      <td>test19</td>\n",
       "      <td>7.894165</td>\n",
       "      <td>6.899696</td>\n",
       "    </tr>\n",
       "    <tr>\n",
       "      <th>3</th>\n",
       "      <td>test5</td>\n",
       "      <td>5.830232</td>\n",
       "      <td>8.237055</td>\n",
       "    </tr>\n",
       "    <tr>\n",
       "      <th>4</th>\n",
       "      <td>test110</td>\n",
       "      <td>8.381488</td>\n",
       "      <td>4.046342</td>\n",
       "    </tr>\n",
       "  </tbody>\n",
       "</table>\n",
       "</div>"
      ],
      "text/plain": [
       "     group       svd       evc\n",
       "0   test18  8.904268  0.193395\n",
       "1    test4  2.306633  7.888362\n",
       "2   test19  7.894165  6.899696\n",
       "3    test5  5.830232  8.237055\n",
       "4  test110  8.381488  4.046342"
      ]
     },
     "execution_count": 31,
     "metadata": {},
     "output_type": "execute_result"
    }
   ],
   "source": [
    "df2"
   ]
  },
  {
   "cell_type": "code",
   "execution_count": 32,
   "metadata": {
    "collapsed": false
   },
   "outputs": [
    {
     "data": {
      "text/html": [
       "<div>\n",
       "<table border=\"1\" class=\"dataframe\">\n",
       "  <thead>\n",
       "    <tr style=\"text-align: right;\">\n",
       "      <th></th>\n",
       "      <th>group</th>\n",
       "      <th>svd</th>\n",
       "      <th>evc</th>\n",
       "    </tr>\n",
       "  </thead>\n",
       "  <tbody>\n",
       "    <tr>\n",
       "      <th>0</th>\n",
       "      <td>train11</td>\n",
       "      <td>0.651444</td>\n",
       "      <td>8.408692</td>\n",
       "    </tr>\n",
       "    <tr>\n",
       "      <th>1</th>\n",
       "      <td>train6</td>\n",
       "      <td>7.565762</td>\n",
       "      <td>9.244982</td>\n",
       "    </tr>\n",
       "    <tr>\n",
       "      <th>2</th>\n",
       "      <td>train12</td>\n",
       "      <td>2.278599</td>\n",
       "      <td>4.098571</td>\n",
       "    </tr>\n",
       "    <tr>\n",
       "      <th>3</th>\n",
       "      <td>train7</td>\n",
       "      <td>9.450741</td>\n",
       "      <td>4.281167</td>\n",
       "    </tr>\n",
       "    <tr>\n",
       "      <th>4</th>\n",
       "      <td>train13</td>\n",
       "      <td>8.124957</td>\n",
       "      <td>0.827976</td>\n",
       "    </tr>\n",
       "    <tr>\n",
       "      <th>0</th>\n",
       "      <td>test18</td>\n",
       "      <td>8.904268</td>\n",
       "      <td>0.193395</td>\n",
       "    </tr>\n",
       "    <tr>\n",
       "      <th>1</th>\n",
       "      <td>test4</td>\n",
       "      <td>2.306633</td>\n",
       "      <td>7.888362</td>\n",
       "    </tr>\n",
       "    <tr>\n",
       "      <th>2</th>\n",
       "      <td>test19</td>\n",
       "      <td>7.894165</td>\n",
       "      <td>6.899696</td>\n",
       "    </tr>\n",
       "    <tr>\n",
       "      <th>3</th>\n",
       "      <td>test5</td>\n",
       "      <td>5.830232</td>\n",
       "      <td>8.237055</td>\n",
       "    </tr>\n",
       "    <tr>\n",
       "      <th>4</th>\n",
       "      <td>test110</td>\n",
       "      <td>8.381488</td>\n",
       "      <td>4.046342</td>\n",
       "    </tr>\n",
       "  </tbody>\n",
       "</table>\n",
       "</div>"
      ],
      "text/plain": [
       "     group       svd       evc\n",
       "0  train11  0.651444  8.408692\n",
       "1   train6  7.565762  9.244982\n",
       "2  train12  2.278599  4.098571\n",
       "3   train7  9.450741  4.281167\n",
       "4  train13  8.124957  0.827976\n",
       "0   test18  8.904268  0.193395\n",
       "1    test4  2.306633  7.888362\n",
       "2   test19  7.894165  6.899696\n",
       "3    test5  5.830232  8.237055\n",
       "4  test110  8.381488  4.046342"
      ]
     },
     "execution_count": 32,
     "metadata": {},
     "output_type": "execute_result"
    }
   ],
   "source": [
    "df = df1.append(df2)\n",
    "df"
   ]
  },
  {
   "cell_type": "code",
   "execution_count": 34,
   "metadata": {
    "collapsed": false
   },
   "outputs": [
    {
     "data": {
      "text/html": [
       "<div>\n",
       "<table border=\"1\" class=\"dataframe\">\n",
       "  <thead>\n",
       "    <tr style=\"text-align: right;\">\n",
       "      <th></th>\n",
       "      <th>group</th>\n",
       "      <th>svd</th>\n",
       "      <th>evc</th>\n",
       "    </tr>\n",
       "  </thead>\n",
       "  <tbody>\n",
       "    <tr>\n",
       "      <th>0</th>\n",
       "      <td>train11</td>\n",
       "      <td>0.651444</td>\n",
       "      <td>8.408692</td>\n",
       "    </tr>\n",
       "    <tr>\n",
       "      <th>1</th>\n",
       "      <td>train6</td>\n",
       "      <td>7.565762</td>\n",
       "      <td>9.244982</td>\n",
       "    </tr>\n",
       "    <tr>\n",
       "      <th>2</th>\n",
       "      <td>train12</td>\n",
       "      <td>2.278599</td>\n",
       "      <td>4.098571</td>\n",
       "    </tr>\n",
       "    <tr>\n",
       "      <th>3</th>\n",
       "      <td>train7</td>\n",
       "      <td>9.450741</td>\n",
       "      <td>4.281167</td>\n",
       "    </tr>\n",
       "    <tr>\n",
       "      <th>4</th>\n",
       "      <td>train13</td>\n",
       "      <td>8.124957</td>\n",
       "      <td>0.827976</td>\n",
       "    </tr>\n",
       "  </tbody>\n",
       "</table>\n",
       "</div>"
      ],
      "text/plain": [
       "     group       svd       evc\n",
       "0  train11  0.651444  8.408692\n",
       "1   train6  7.565762  9.244982\n",
       "2  train12  2.278599  4.098571\n",
       "3   train7  9.450741  4.281167\n",
       "4  train13  8.124957  0.827976"
      ]
     },
     "execution_count": 34,
     "metadata": {},
     "output_type": "execute_result"
    }
   ],
   "source": [
    "df[df['group'].str.contains(\"train\")]"
   ]
  },
  {
   "cell_type": "code",
   "execution_count": 23,
   "metadata": {
    "collapsed": false
   },
   "outputs": [
    {
     "data": {
      "text/plain": [
       "(10, 3)"
      ]
     },
     "execution_count": 23,
     "metadata": {},
     "output_type": "execute_result"
    }
   ],
   "source": [
    "df.shape\n"
   ]
  },
  {
   "cell_type": "code",
   "execution_count": 24,
   "metadata": {
    "collapsed": false
   },
   "outputs": [
    {
     "data": {
      "text/html": [
       "<div>\n",
       "<table border=\"1\" class=\"dataframe\">\n",
       "  <thead>\n",
       "    <tr style=\"text-align: right;\">\n",
       "      <th></th>\n",
       "      <th>group</th>\n",
       "      <th>svd</th>\n",
       "      <th>evc</th>\n",
       "    </tr>\n",
       "  </thead>\n",
       "  <tbody>\n",
       "    <tr>\n",
       "      <th>0</th>\n",
       "      <td>test11</td>\n",
       "      <td>0.748191</td>\n",
       "      <td>4.692376</td>\n",
       "    </tr>\n",
       "    <tr>\n",
       "      <th>1</th>\n",
       "      <td>test6</td>\n",
       "      <td>1.594136</td>\n",
       "      <td>2.939828</td>\n",
       "    </tr>\n",
       "    <tr>\n",
       "      <th>2</th>\n",
       "      <td>test12</td>\n",
       "      <td>2.568794</td>\n",
       "      <td>7.791322</td>\n",
       "    </tr>\n",
       "    <tr>\n",
       "      <th>3</th>\n",
       "      <td>test7</td>\n",
       "      <td>8.752117</td>\n",
       "      <td>4.136545</td>\n",
       "    </tr>\n",
       "    <tr>\n",
       "      <th>4</th>\n",
       "      <td>test13</td>\n",
       "      <td>6.680392</td>\n",
       "      <td>5.086551</td>\n",
       "    </tr>\n",
       "    <tr>\n",
       "      <th>0</th>\n",
       "      <td>test18</td>\n",
       "      <td>7.723534</td>\n",
       "      <td>6.552723</td>\n",
       "    </tr>\n",
       "    <tr>\n",
       "      <th>1</th>\n",
       "      <td>test4</td>\n",
       "      <td>2.673423</td>\n",
       "      <td>0.404621</td>\n",
       "    </tr>\n",
       "    <tr>\n",
       "      <th>2</th>\n",
       "      <td>test19</td>\n",
       "      <td>0.339915</td>\n",
       "      <td>3.491163</td>\n",
       "    </tr>\n",
       "    <tr>\n",
       "      <th>3</th>\n",
       "      <td>test5</td>\n",
       "      <td>7.455976</td>\n",
       "      <td>5.023388</td>\n",
       "    </tr>\n",
       "    <tr>\n",
       "      <th>4</th>\n",
       "      <td>test110</td>\n",
       "      <td>7.160990</td>\n",
       "      <td>0.021421</td>\n",
       "    </tr>\n",
       "  </tbody>\n",
       "</table>\n",
       "</div>"
      ],
      "text/plain": [
       "     group       svd       evc\n",
       "0   test11  0.748191  4.692376\n",
       "1    test6  1.594136  2.939828\n",
       "2   test12  2.568794  7.791322\n",
       "3    test7  8.752117  4.136545\n",
       "4   test13  6.680392  5.086551\n",
       "0   test18  7.723534  6.552723\n",
       "1    test4  2.673423  0.404621\n",
       "2   test19  0.339915  3.491163\n",
       "3    test5  7.455976  5.023388\n",
       "4  test110  7.160990  0.021421"
      ]
     },
     "execution_count": 24,
     "metadata": {},
     "output_type": "execute_result"
    }
   ],
   "source": [
    "df\n"
   ]
  },
  {
   "cell_type": "code",
   "execution_count": 11,
   "metadata": {
    "collapsed": false
   },
   "outputs": [
    {
     "data": {
      "text/html": [
       "<div>\n",
       "<table border=\"1\" class=\"dataframe\">\n",
       "  <thead>\n",
       "    <tr style=\"text-align: right;\">\n",
       "      <th></th>\n",
       "      <th>groupId</th>\n",
       "      <th>files</th>\n",
       "      <th>timeRun</th>\n",
       "      <th>perPos</th>\n",
       "      <th>perNeg</th>\n",
       "      <th>perPosDoc</th>\n",
       "      <th>perNegDoc</th>\n",
       "      <th>judgementCount</th>\n",
       "      <th>judgementFrac</th>\n",
       "      <th>avgSD</th>\n",
       "      <th>avgEVC</th>\n",
       "    </tr>\n",
       "  </thead>\n",
       "  <tbody>\n",
       "    <tr>\n",
       "      <th>0</th>\n",
       "      <td>Rabbinic_test04</td>\n",
       "      <td>1</td>\n",
       "      <td>1.372558</td>\n",
       "      <td>0.016289</td>\n",
       "      <td>0.016289</td>\n",
       "      <td>0.0</td>\n",
       "      <td>1.0</td>\n",
       "      <td>12.000000</td>\n",
       "      <td>0.187500</td>\n",
       "      <td>NaN</td>\n",
       "      <td>0.644278</td>\n",
       "    </tr>\n",
       "    <tr>\n",
       "      <th>1</th>\n",
       "      <td>Rabbinic_train06</td>\n",
       "      <td>1</td>\n",
       "      <td>1.271175</td>\n",
       "      <td>0.036082</td>\n",
       "      <td>0.036082</td>\n",
       "      <td>0.0</td>\n",
       "      <td>1.0</td>\n",
       "      <td>24.000000</td>\n",
       "      <td>0.358209</td>\n",
       "      <td>NaN</td>\n",
       "      <td>0.686979</td>\n",
       "    </tr>\n",
       "    <tr>\n",
       "      <th>2</th>\n",
       "      <td>NaumanKhan_train00</td>\n",
       "      <td>1</td>\n",
       "      <td>2.737447</td>\n",
       "      <td>0.028998</td>\n",
       "      <td>0.028998</td>\n",
       "      <td>0.0</td>\n",
       "      <td>1.0</td>\n",
       "      <td>37.000000</td>\n",
       "      <td>0.105413</td>\n",
       "      <td>0.745575</td>\n",
       "      <td>0.801251</td>\n",
       "    </tr>\n",
       "    <tr>\n",
       "      <th>3</th>\n",
       "      <td>Rabbinic_train09</td>\n",
       "      <td>1</td>\n",
       "      <td>1.259793</td>\n",
       "      <td>0.015854</td>\n",
       "      <td>0.015854</td>\n",
       "      <td>0.0</td>\n",
       "      <td>1.0</td>\n",
       "      <td>15.000000</td>\n",
       "      <td>0.180723</td>\n",
       "      <td>NaN</td>\n",
       "      <td>0.476694</td>\n",
       "    </tr>\n",
       "    <tr>\n",
       "      <th>4</th>\n",
       "      <td>NaumanKhan_train01</td>\n",
       "      <td>1</td>\n",
       "      <td>2.216873</td>\n",
       "      <td>0.026152</td>\n",
       "      <td>0.026152</td>\n",
       "      <td>0.0</td>\n",
       "      <td>1.0</td>\n",
       "      <td>37.000000</td>\n",
       "      <td>0.266187</td>\n",
       "      <td>NaN</td>\n",
       "      <td>0.781618</td>\n",
       "    </tr>\n",
       "    <tr>\n",
       "      <th>5</th>\n",
       "      <td>Rabbinic_train00</td>\n",
       "      <td>1</td>\n",
       "      <td>1.328951</td>\n",
       "      <td>0.026549</td>\n",
       "      <td>0.026549</td>\n",
       "      <td>0.0</td>\n",
       "      <td>1.0</td>\n",
       "      <td>22.000000</td>\n",
       "      <td>0.323529</td>\n",
       "      <td>NaN</td>\n",
       "      <td>0.577280</td>\n",
       "    </tr>\n",
       "    <tr>\n",
       "      <th>6</th>\n",
       "      <td>Rabbinic_train11</td>\n",
       "      <td>1</td>\n",
       "      <td>1.437911</td>\n",
       "      <td>0.030083</td>\n",
       "      <td>0.030083</td>\n",
       "      <td>0.0</td>\n",
       "      <td>1.0</td>\n",
       "      <td>17.000000</td>\n",
       "      <td>0.200000</td>\n",
       "      <td>0.713544</td>\n",
       "      <td>0.587283</td>\n",
       "    </tr>\n",
       "    <tr>\n",
       "      <th>7</th>\n",
       "      <td>NaumanKhan_train03</td>\n",
       "      <td>1</td>\n",
       "      <td>2.969007</td>\n",
       "      <td>0.045699</td>\n",
       "      <td>0.045699</td>\n",
       "      <td>0.0</td>\n",
       "      <td>1.0</td>\n",
       "      <td>45.000000</td>\n",
       "      <td>0.104895</td>\n",
       "      <td>0.737506</td>\n",
       "      <td>0.604842</td>\n",
       "    </tr>\n",
       "    <tr>\n",
       "      <th>8</th>\n",
       "      <td>NaumanKhan_train04</td>\n",
       "      <td>3</td>\n",
       "      <td>10.255893</td>\n",
       "      <td>0.041586</td>\n",
       "      <td>0.041586</td>\n",
       "      <td>0.0</td>\n",
       "      <td>1.0</td>\n",
       "      <td>44.666667</td>\n",
       "      <td>0.099022</td>\n",
       "      <td>0.633314</td>\n",
       "      <td>0.734824</td>\n",
       "    </tr>\n",
       "    <tr>\n",
       "      <th>9</th>\n",
       "      <td>NawDawg_train100</td>\n",
       "      <td>2</td>\n",
       "      <td>0.405190</td>\n",
       "      <td>0.025212</td>\n",
       "      <td>0.025212</td>\n",
       "      <td>0.0</td>\n",
       "      <td>1.0</td>\n",
       "      <td>2.000000</td>\n",
       "      <td>0.148352</td>\n",
       "      <td>NaN</td>\n",
       "      <td>0.729830</td>\n",
       "    </tr>\n",
       "    <tr>\n",
       "      <th>10</th>\n",
       "      <td>Rabbinic_train08</td>\n",
       "      <td>1</td>\n",
       "      <td>0.986815</td>\n",
       "      <td>0.038106</td>\n",
       "      <td>0.038106</td>\n",
       "      <td>0.0</td>\n",
       "      <td>1.0</td>\n",
       "      <td>16.000000</td>\n",
       "      <td>0.197531</td>\n",
       "      <td>NaN</td>\n",
       "      <td>0.396489</td>\n",
       "    </tr>\n",
       "  </tbody>\n",
       "</table>\n",
       "</div>"
      ],
      "text/plain": [
       "               groupId  files    timeRun    perPos    perNeg  perPosDoc  \\\n",
       "0      Rabbinic_test04      1   1.372558  0.016289  0.016289        0.0   \n",
       "1     Rabbinic_train06      1   1.271175  0.036082  0.036082        0.0   \n",
       "2   NaumanKhan_train00      1   2.737447  0.028998  0.028998        0.0   \n",
       "3     Rabbinic_train09      1   1.259793  0.015854  0.015854        0.0   \n",
       "4   NaumanKhan_train01      1   2.216873  0.026152  0.026152        0.0   \n",
       "5     Rabbinic_train00      1   1.328951  0.026549  0.026549        0.0   \n",
       "6     Rabbinic_train11      1   1.437911  0.030083  0.030083        0.0   \n",
       "7   NaumanKhan_train03      1   2.969007  0.045699  0.045699        0.0   \n",
       "8   NaumanKhan_train04      3  10.255893  0.041586  0.041586        0.0   \n",
       "9     NawDawg_train100      2   0.405190  0.025212  0.025212        0.0   \n",
       "10    Rabbinic_train08      1   0.986815  0.038106  0.038106        0.0   \n",
       "\n",
       "    perNegDoc  judgementCount  judgementFrac     avgSD    avgEVC  \n",
       "0         1.0       12.000000       0.187500       NaN  0.644278  \n",
       "1         1.0       24.000000       0.358209       NaN  0.686979  \n",
       "2         1.0       37.000000       0.105413  0.745575  0.801251  \n",
       "3         1.0       15.000000       0.180723       NaN  0.476694  \n",
       "4         1.0       37.000000       0.266187       NaN  0.781618  \n",
       "5         1.0       22.000000       0.323529       NaN  0.577280  \n",
       "6         1.0       17.000000       0.200000  0.713544  0.587283  \n",
       "7         1.0       45.000000       0.104895  0.737506  0.604842  \n",
       "8         1.0       44.666667       0.099022  0.633314  0.734824  \n",
       "9         1.0        2.000000       0.148352       NaN  0.729830  \n",
       "10        1.0       16.000000       0.197531       NaN  0.396489  "
      ]
     },
     "execution_count": 11,
     "metadata": {},
     "output_type": "execute_result"
    }
   ],
   "source": [
    "mo = pd.read_csv('masterOutput.csv', index_col=0)\n",
    "mo"
   ]
  },
  {
   "cell_type": "code",
   "execution_count": 6,
   "metadata": {
    "collapsed": false
   },
   "outputs": [
    {
     "data": {
      "text/plain": [
       "9"
      ]
     },
     "execution_count": 6,
     "metadata": {},
     "output_type": "execute_result"
    }
   ],
   "source": [
    "4+5"
   ]
  },
  {
   "cell_type": "code",
   "execution_count": 7,
   "metadata": {
    "collapsed": true
   },
   "outputs": [],
   "source": [
    "squares_list = [1,4,9,16,25]\n"
   ]
  },
  {
   "cell_type": "code",
   "execution_count": 8,
   "metadata": {
    "collapsed": false
   },
   "outputs": [
    {
     "data": {
      "text/plain": [
       "[1, 4, 9, 16, 25]"
      ]
     },
     "execution_count": 8,
     "metadata": {},
     "output_type": "execute_result"
    }
   ],
   "source": [
    "squares_list\n"
   ]
  },
  {
   "cell_type": "code",
   "execution_count": 9,
   "metadata": {
    "collapsed": false
   },
   "outputs": [
    {
     "ename": "NameError",
     "evalue": "name 'Squares_list' is not defined",
     "output_type": "error",
     "traceback": [
      "\u001b[0;31m---------------------------------------------------------------------------\u001b[0m",
      "\u001b[0;31mNameError\u001b[0m                                 Traceback (most recent call last)",
      "\u001b[0;32m<ipython-input-9-a6848d6a6bb0>\u001b[0m in \u001b[0;36m<module>\u001b[0;34m()\u001b[0m\n\u001b[0;32m----> 1\u001b[0;31m \u001b[0mSquares_list\u001b[0m\u001b[0;34m\u001b[0m\u001b[0m\n\u001b[0m",
      "\u001b[0;31mNameError\u001b[0m: name 'Squares_list' is not defined"
     ]
    }
   ],
   "source": [
    "Squares_list\n"
   ]
  },
  {
   "cell_type": "code",
   "execution_count": 10,
   "metadata": {
    "collapsed": false
   },
   "outputs": [
    {
     "data": {
      "text/plain": [
       "[1,\n",
       " 4,\n",
       " 9,\n",
       " 16,\n",
       " 25,\n",
       " 1,\n",
       " 4,\n",
       " 9,\n",
       " 16,\n",
       " 25,\n",
       " 1,\n",
       " 4,\n",
       " 9,\n",
       " 16,\n",
       " 25,\n",
       " 1,\n",
       " 4,\n",
       " 9,\n",
       " 16,\n",
       " 25,\n",
       " 1,\n",
       " 4,\n",
       " 9,\n",
       " 16,\n",
       " 25]"
      ]
     },
     "execution_count": 10,
     "metadata": {},
     "output_type": "execute_result"
    }
   ],
   "source": [
    "squares_list * 5"
   ]
  },
  {
   "cell_type": "code",
   "execution_count": 11,
   "metadata": {
    "collapsed": false
   },
   "outputs": [
    {
     "data": {
      "text/plain": [
       "[9, 16]"
      ]
     },
     "execution_count": 11,
     "metadata": {},
     "output_type": "execute_result"
    }
   ],
   "source": [
    "squares_list[2:4\n",
    "            ]"
   ]
  },
  {
   "cell_type": "code",
   "execution_count": 12,
   "metadata": {
    "collapsed": false
   },
   "outputs": [
    {
     "data": {
      "text/plain": [
       "25"
      ]
     },
     "execution_count": 12,
     "metadata": {},
     "output_type": "execute_result"
    }
   ],
   "source": [
    "squares_list[4\n",
    "            ]"
   ]
  },
  {
   "cell_type": "code",
   "execution_count": 13,
   "metadata": {
    "collapsed": false
   },
   "outputs": [
    {
     "data": {
      "text/plain": [
       "[9, 16, 25]"
      ]
     },
     "execution_count": 13,
     "metadata": {},
     "output_type": "execute_result"
    }
   ],
   "source": [
    "squares_list[2:5]"
   ]
  },
  {
   "cell_type": "code",
   "execution_count": 14,
   "metadata": {
    "collapsed": false
   },
   "outputs": [
    {
     "ename": "IndexError",
     "evalue": "list index out of range",
     "output_type": "error",
     "traceback": [
      "\u001b[0;31m---------------------------------------------------------------------------\u001b[0m",
      "\u001b[0;31mIndexError\u001b[0m                                Traceback (most recent call last)",
      "\u001b[0;32m<ipython-input-14-9b369d6fdefc>\u001b[0m in \u001b[0;36m<module>\u001b[0;34m()\u001b[0m\n\u001b[0;32m----> 1\u001b[0;31m squares_list[5\n\u001b[0m\u001b[1;32m      2\u001b[0m             ]\n",
      "\u001b[0;31mIndexError\u001b[0m: list index out of range"
     ]
    }
   ],
   "source": [
    "squares_list[5\n",
    "            ]"
   ]
  },
  {
   "cell_type": "code",
   "execution_count": 15,
   "metadata": {
    "collapsed": true
   },
   "outputs": [],
   "source": [
    "hi = 'hello'"
   ]
  },
  {
   "cell_type": "code",
   "execution_count": 16,
   "metadata": {
    "collapsed": false
   },
   "outputs": [
    {
     "data": {
      "text/plain": [
       "'hello'"
      ]
     },
     "execution_count": 16,
     "metadata": {},
     "output_type": "execute_result"
    }
   ],
   "source": [
    "hi\n",
    "\n"
   ]
  },
  {
   "cell_type": "code",
   "execution_count": 17,
   "metadata": {
    "collapsed": false
   },
   "outputs": [
    {
     "data": {
      "text/plain": [
       "'e'"
      ]
     },
     "execution_count": 17,
     "metadata": {},
     "output_type": "execute_result"
    }
   ],
   "source": [
    "hi[1\n",
    "  \n",
    "  ]"
   ]
  },
  {
   "cell_type": "code",
   "execution_count": 18,
   "metadata": {
    "collapsed": false
   },
   "outputs": [
    {
     "data": {
      "text/plain": [
       "'h'"
      ]
     },
     "execution_count": 18,
     "metadata": {},
     "output_type": "execute_result"
    }
   ],
   "source": [
    "hi[0]"
   ]
  },
  {
   "cell_type": "code",
   "execution_count": 19,
   "metadata": {
    "collapsed": false
   },
   "outputs": [
    {
     "data": {
      "text/plain": [
       "'he'"
      ]
     },
     "execution_count": 19,
     "metadata": {},
     "output_type": "execute_result"
    }
   ],
   "source": [
    "hi[0:2]"
   ]
  },
  {
   "cell_type": "code",
   "execution_count": 20,
   "metadata": {
    "collapsed": false
   },
   "outputs": [
    {
     "data": {
      "text/plain": [
       "'hel'"
      ]
     },
     "execution_count": 20,
     "metadata": {},
     "output_type": "execute_result"
    }
   ],
   "source": [
    "hi[0:3]"
   ]
  },
  {
   "cell_type": "code",
   "execution_count": 21,
   "metadata": {
    "collapsed": false
   },
   "outputs": [
    {
     "data": {
      "text/plain": [
       "5"
      ]
     },
     "execution_count": 21,
     "metadata": {},
     "output_type": "execute_result"
    }
   ],
   "source": [
    "len(hi)"
   ]
  },
  {
   "cell_type": "code",
   "execution_count": 22,
   "metadata": {
    "collapsed": false
   },
   "outputs": [
    {
     "data": {
      "text/plain": [
       "'llo'"
      ]
     },
     "execution_count": 22,
     "metadata": {},
     "output_type": "execute_result"
    }
   ],
   "source": [
    "hi[2:len(hi)]"
   ]
  },
  {
   "cell_type": "code",
   "execution_count": 23,
   "metadata": {
    "collapsed": false
   },
   "outputs": [
    {
     "data": {
      "text/plain": [
       "'llo'"
      ]
     },
     "execution_count": 23,
     "metadata": {},
     "output_type": "execute_result"
    }
   ],
   "source": [
    "hi[2:5]"
   ]
  },
  {
   "cell_type": "code",
   "execution_count": 24,
   "metadata": {
    "collapsed": false
   },
   "outputs": [
    {
     "data": {
      "text/plain": [
       "'o'"
      ]
     },
     "execution_count": 24,
     "metadata": {},
     "output_type": "execute_result"
    }
   ],
   "source": [
    "hi[4]"
   ]
  },
  {
   "cell_type": "code",
   "execution_count": 25,
   "metadata": {
    "collapsed": false
   },
   "outputs": [
    {
     "ename": "SyntaxError",
     "evalue": "Missing parentheses in call to 'print' (<ipython-input-25-bd9dded9aab9>, line 1)",
     "output_type": "error",
     "traceback": [
      "\u001b[0;36m  File \u001b[0;32m\"<ipython-input-25-bd9dded9aab9>\"\u001b[0;36m, line \u001b[0;32m1\u001b[0m\n\u001b[0;31m    print hi[2:5]\u001b[0m\n\u001b[0m           ^\u001b[0m\n\u001b[0;31mSyntaxError\u001b[0m\u001b[0;31m:\u001b[0m Missing parentheses in call to 'print'\n"
     ]
    }
   ],
   "source": [
    "print hi[2:5]"
   ]
  },
  {
   "cell_type": "code",
   "execution_count": 26,
   "metadata": {
    "collapsed": false
   },
   "outputs": [
    {
     "ename": "SyntaxError",
     "evalue": "Missing parentheses in call to 'print' (<ipython-input-26-6b17e9f06229>, line 1)",
     "output_type": "error",
     "traceback": [
      "\u001b[0;36m  File \u001b[0;32m\"<ipython-input-26-6b17e9f06229>\"\u001b[0;36m, line \u001b[0;32m1\u001b[0m\n\u001b[0;31m    print hi\u001b[0m\n\u001b[0m           ^\u001b[0m\n\u001b[0;31mSyntaxError\u001b[0m\u001b[0;31m:\u001b[0m Missing parentheses in call to 'print'\n"
     ]
    }
   ],
   "source": [
    "print hi\n"
   ]
  },
  {
   "cell_type": "code",
   "execution_count": 27,
   "metadata": {
    "collapsed": false
   },
   "outputs": [
    {
     "data": {
      "text/plain": [
       "'hello'"
      ]
     },
     "execution_count": 27,
     "metadata": {},
     "output_type": "execute_result"
    }
   ],
   "source": [
    "hi"
   ]
  },
  {
   "cell_type": "code",
   "execution_count": 28,
   "metadata": {
    "collapsed": false
   },
   "outputs": [
    {
     "ename": "SyntaxError",
     "evalue": "Missing parentheses in call to 'print' (<ipython-input-28-cf66817c8381>, line 1)",
     "output_type": "error",
     "traceback": [
      "\u001b[0;36m  File \u001b[0;32m\"<ipython-input-28-cf66817c8381>\"\u001b[0;36m, line \u001b[0;32m1\u001b[0m\n\u001b[0;31m    print \"hi\"\u001b[0m\n\u001b[0m             ^\u001b[0m\n\u001b[0;31mSyntaxError\u001b[0m\u001b[0;31m:\u001b[0m Missing parentheses in call to 'print'\n"
     ]
    }
   ],
   "source": [
    "print \"hi\""
   ]
  },
  {
   "cell_type": "code",
   "execution_count": 29,
   "metadata": {
    "collapsed": false
   },
   "outputs": [
    {
     "name": "stdout",
     "output_type": "stream",
     "text": [
      "hello\n"
     ]
    }
   ],
   "source": [
    "print(hi\n",
    "     )"
   ]
  },
  {
   "cell_type": "code",
   "execution_count": 30,
   "metadata": {
    "collapsed": false
   },
   "outputs": [
    {
     "name": "stdout",
     "output_type": "stream",
     "text": [
      "hello word\n"
     ]
    }
   ],
   "source": [
    "print(hi + \" word\")"
   ]
  },
  {
   "cell_type": "code",
   "execution_count": 31,
   "metadata": {
    "collapsed": true
   },
   "outputs": [],
   "source": [
    "raw = r'/n is a newline char'"
   ]
  },
  {
   "cell_type": "code",
   "execution_count": 32,
   "metadata": {
    "collapsed": false
   },
   "outputs": [
    {
     "data": {
      "text/plain": [
       "'/n is a newline char'"
      ]
     },
     "execution_count": 32,
     "metadata": {},
     "output_type": "execute_result"
    }
   ],
   "source": [
    "raw\n"
   ]
  },
  {
   "cell_type": "code",
   "execution_count": 33,
   "metadata": {
    "collapsed": true
   },
   "outputs": [],
   "source": [
    "naw = '/n is a newline char'"
   ]
  },
  {
   "cell_type": "code",
   "execution_count": 34,
   "metadata": {
    "collapsed": false
   },
   "outputs": [
    {
     "data": {
      "text/plain": [
       "'/n is a newline char'"
      ]
     },
     "execution_count": 34,
     "metadata": {},
     "output_type": "execute_result"
    }
   ],
   "source": [
    "naw\n"
   ]
  },
  {
   "cell_type": "code",
   "execution_count": 35,
   "metadata": {
    "collapsed": true
   },
   "outputs": [],
   "source": [
    "raw = r'\\n is a newline char'"
   ]
  },
  {
   "cell_type": "code",
   "execution_count": 36,
   "metadata": {
    "collapsed": false
   },
   "outputs": [
    {
     "data": {
      "text/plain": [
       "'\\\\n is a newline char'"
      ]
     },
     "execution_count": 36,
     "metadata": {},
     "output_type": "execute_result"
    }
   ],
   "source": [
    "raw\n"
   ]
  },
  {
   "cell_type": "code",
   "execution_count": 37,
   "metadata": {
    "collapsed": true
   },
   "outputs": [],
   "source": [
    "raww = r'\\n is a newline char'"
   ]
  },
  {
   "cell_type": "code",
   "execution_count": 38,
   "metadata": {
    "collapsed": false
   },
   "outputs": [
    {
     "data": {
      "text/plain": [
       "'\\\\n is a newline char'"
      ]
     },
     "execution_count": 38,
     "metadata": {},
     "output_type": "execute_result"
    }
   ],
   "source": [
    "raww"
   ]
  },
  {
   "cell_type": "code",
   "execution_count": 39,
   "metadata": {
    "collapsed": false
   },
   "outputs": [
    {
     "ename": "SyntaxError",
     "evalue": "EOL while scanning string literal (<ipython-input-39-1c472564cc81>, line 1)",
     "output_type": "error",
     "traceback": [
      "\u001b[0;36m  File \u001b[0;32m\"<ipython-input-39-1c472564cc81>\"\u001b[0;36m, line \u001b[0;32m1\u001b[0m\n\u001b[0;31m    raw.replace(\"a\", \"x\u001b[0m\n\u001b[0m                       ^\u001b[0m\n\u001b[0;31mSyntaxError\u001b[0m\u001b[0;31m:\u001b[0m EOL while scanning string literal\n"
     ]
    }
   ],
   "source": [
    "raw.replace(\"a\", \"x\n",
    "            \")"
   ]
  },
  {
   "cell_type": "code",
   "execution_count": 40,
   "metadata": {
    "collapsed": false
   },
   "outputs": [
    {
     "ename": "SyntaxError",
     "evalue": "EOL while scanning string literal (<ipython-input-40-a54c83b18397>, line 1)",
     "output_type": "error",
     "traceback": [
      "\u001b[0;36m  File \u001b[0;32m\"<ipython-input-40-a54c83b18397>\"\u001b[0;36m, line \u001b[0;32m1\u001b[0m\n\u001b[0;31m    b = raw.replace(\"a\", \"x\u001b[0m\n\u001b[0m                           ^\u001b[0m\n\u001b[0;31mSyntaxError\u001b[0m\u001b[0;31m:\u001b[0m EOL while scanning string literal\n"
     ]
    }
   ],
   "source": [
    "b = raw.replace(\"a\", \"x\n",
    "            \")\n",
    "                "
   ]
  },
  {
   "cell_type": "code",
   "execution_count": 41,
   "metadata": {
    "collapsed": false
   },
   "outputs": [
    {
     "data": {
      "text/plain": [
       "'/n is a newline char'"
      ]
     },
     "execution_count": 41,
     "metadata": {},
     "output_type": "execute_result"
    }
   ],
   "source": [
    "naw\n"
   ]
  },
  {
   "cell_type": "code",
   "execution_count": 42,
   "metadata": {
    "collapsed": true
   },
   "outputs": [],
   "source": [
    "naw = '\\n is a newline char'"
   ]
  },
  {
   "cell_type": "code",
   "execution_count": 43,
   "metadata": {
    "collapsed": false
   },
   "outputs": [
    {
     "data": {
      "text/plain": [
       "'\\n is a newline char'"
      ]
     },
     "execution_count": 43,
     "metadata": {},
     "output_type": "execute_result"
    }
   ],
   "source": [
    "naw\n"
   ]
  },
  {
   "cell_type": "code",
   "execution_count": 44,
   "metadata": {
    "collapsed": false
   },
   "outputs": [
    {
     "ename": "TypeError",
     "evalue": "'str' object does not support item assignment",
     "output_type": "error",
     "traceback": [
      "\u001b[0;31m---------------------------------------------------------------------------\u001b[0m",
      "\u001b[0;31mTypeError\u001b[0m                                 Traceback (most recent call last)",
      "\u001b[0;32m<ipython-input-44-bb49309e93d7>\u001b[0m in \u001b[0;36m<module>\u001b[0;34m()\u001b[0m\n\u001b[0;32m----> 1\u001b[0;31m \u001b[0mnaw\u001b[0m\u001b[0;34m[\u001b[0m\u001b[0;36m5\u001b[0m\u001b[0;34m]\u001b[0m \u001b[0;34m=\u001b[0m \u001b[0;34m\"u\"\u001b[0m\u001b[0;34m\u001b[0m\u001b[0m\n\u001b[0m",
      "\u001b[0;31mTypeError\u001b[0m: 'str' object does not support item assignment"
     ]
    }
   ],
   "source": [
    "naw[5] = \"u\""
   ]
  },
  {
   "cell_type": "code",
   "execution_count": 45,
   "metadata": {
    "collapsed": false
   },
   "outputs": [
    {
     "data": {
      "text/plain": [
       "'\\n IS A NEWLINE CHAR'"
      ]
     },
     "execution_count": 45,
     "metadata": {},
     "output_type": "execute_result"
    }
   ],
   "source": [
    "naw.upper()\n"
   ]
  },
  {
   "cell_type": "code",
   "execution_count": 46,
   "metadata": {
    "collapsed": false
   },
   "outputs": [
    {
     "data": {
      "text/plain": [
       "'\\\\N IS A NEWLINE CHAR'"
      ]
     },
     "execution_count": 46,
     "metadata": {},
     "output_type": "execute_result"
    }
   ],
   "source": [
    "raww.upper()\n"
   ]
  },
  {
   "cell_type": "code",
   "execution_count": 47,
   "metadata": {
    "collapsed": false
   },
   "outputs": [
    {
     "data": {
      "text/plain": [
       "'\\n is a newline char'"
      ]
     },
     "execution_count": 47,
     "metadata": {},
     "output_type": "execute_result"
    }
   ],
   "source": [
    "naw"
   ]
  },
  {
   "cell_type": "code",
   "execution_count": 48,
   "metadata": {
    "collapsed": false
   },
   "outputs": [
    {
     "data": {
      "text/plain": [
       "'\\n is a newline char'"
      ]
     },
     "execution_count": 48,
     "metadata": {},
     "output_type": "execute_result"
    }
   ],
   "source": [
    "naw.strip('a')"
   ]
  },
  {
   "cell_type": "code",
   "execution_count": 49,
   "metadata": {
    "collapsed": true
   },
   "outputs": [],
   "source": [
    "tuple_sq = 1,4,9,16,25"
   ]
  },
  {
   "cell_type": "code",
   "execution_count": 50,
   "metadata": {
    "collapsed": false
   },
   "outputs": [
    {
     "data": {
      "text/plain": [
       "(1, 4, 9, 16, 25)"
      ]
     },
     "execution_count": 50,
     "metadata": {},
     "output_type": "execute_result"
    }
   ],
   "source": [
    "tuple_sq"
   ]
  },
  {
   "cell_type": "code",
   "execution_count": 51,
   "metadata": {
    "collapsed": false
   },
   "outputs": [
    {
     "data": {
      "text/plain": [
       "16"
      ]
     },
     "execution_count": 51,
     "metadata": {},
     "output_type": "execute_result"
    }
   ],
   "source": [
    "tuple_sq[3]"
   ]
  },
  {
   "cell_type": "code",
   "execution_count": 52,
   "metadata": {
    "collapsed": true
   },
   "outputs": [],
   "source": [
    "zips = {'ivy':22903, 'cville':22902, 'earlysville':22901}"
   ]
  },
  {
   "cell_type": "code",
   "execution_count": 53,
   "metadata": {
    "collapsed": false
   },
   "outputs": [
    {
     "data": {
      "text/plain": [
       "{'cville': 22902, 'earlysville': 22901, 'ivy': 22903}"
      ]
     },
     "execution_count": 53,
     "metadata": {},
     "output_type": "execute_result"
    }
   ],
   "source": [
    "zips\n"
   ]
  },
  {
   "cell_type": "code",
   "execution_count": 54,
   "metadata": {
    "collapsed": false
   },
   "outputs": [
    {
     "data": {
      "text/plain": [
       "22902"
      ]
     },
     "execution_count": 54,
     "metadata": {},
     "output_type": "execute_result"
    }
   ],
   "source": [
    "zips['cville']"
   ]
  },
  {
   "cell_type": "code",
   "execution_count": 55,
   "metadata": {
    "collapsed": false
   },
   "outputs": [
    {
     "data": {
      "text/plain": [
       "dict_keys(['ivy', 'earlysville', 'cville'])"
      ]
     },
     "execution_count": 55,
     "metadata": {},
     "output_type": "execute_result"
    }
   ],
   "source": [
    "zips.keys()"
   ]
  },
  {
   "cell_type": "code",
   "execution_count": 56,
   "metadata": {
    "collapsed": false
   },
   "outputs": [
    {
     "name": "stdout",
     "output_type": "stream",
     "text": [
      "ivy\n",
      "earlysville\n",
      "cville\n"
     ]
    }
   ],
   "source": [
    "for i in zips.keys():\n",
    "    print(i)"
   ]
  },
  {
   "cell_type": "code",
   "execution_count": 57,
   "metadata": {
    "collapsed": false
   },
   "outputs": [
    {
     "name": "stdout",
     "output_type": "stream",
     "text": [
      "ivy\n",
      "earlysville\n",
      "cville\n"
     ]
    }
   ],
   "source": [
    "for i in zips:\n",
    "    print(i)"
   ]
  },
  {
   "cell_type": "code",
   "execution_count": 58,
   "metadata": {
    "collapsed": false
   },
   "outputs": [
    {
     "ename": "KeyError",
     "evalue": "2",
     "output_type": "error",
     "traceback": [
      "\u001b[0;31m---------------------------------------------------------------------------\u001b[0m",
      "\u001b[0;31mKeyError\u001b[0m                                  Traceback (most recent call last)",
      "\u001b[0;32m<ipython-input-58-c2b82be7945b>\u001b[0m in \u001b[0;36m<module>\u001b[0;34m()\u001b[0m\n\u001b[0;32m----> 1\u001b[0;31m \u001b[0mzips\u001b[0m\u001b[0;34m[\u001b[0m\u001b[0;36m2\u001b[0m\u001b[0;34m]\u001b[0m\u001b[0;34m\u001b[0m\u001b[0m\n\u001b[0m",
      "\u001b[0;31mKeyError\u001b[0m: 2"
     ]
    }
   ],
   "source": [
    "zips[2]"
   ]
  },
  {
   "cell_type": "code",
   "execution_count": 59,
   "metadata": {
    "collapsed": false
   },
   "outputs": [
    {
     "name": "stdout",
     "output_type": "stream",
     "text": [
      "22903\n",
      "22901\n",
      "22902\n"
     ]
    }
   ],
   "source": [
    "for i in zips:\n",
    "    print(zips[i])"
   ]
  },
  {
   "cell_type": "code",
   "execution_count": 60,
   "metadata": {
    "collapsed": false
   },
   "outputs": [
    {
     "ename": "TypeError",
     "evalue": "Can't convert 'int' object to str implicitly",
     "output_type": "error",
     "traceback": [
      "\u001b[0;31m---------------------------------------------------------------------------\u001b[0m",
      "\u001b[0;31mTypeError\u001b[0m                                 Traceback (most recent call last)",
      "\u001b[0;32m<ipython-input-60-25e4f0264a86>\u001b[0m in \u001b[0;36m<module>\u001b[0;34m()\u001b[0m\n\u001b[1;32m      1\u001b[0m \u001b[0;32mfor\u001b[0m \u001b[0mi\u001b[0m \u001b[0;32min\u001b[0m \u001b[0mzips\u001b[0m\u001b[0;34m:\u001b[0m\u001b[0;34m\u001b[0m\u001b[0m\n\u001b[0;32m----> 2\u001b[0;31m     \u001b[0mprint\u001b[0m\u001b[0;34m(\u001b[0m\u001b[0mi\u001b[0m \u001b[0;34m+\u001b[0m \u001b[0mzips\u001b[0m\u001b[0;34m[\u001b[0m\u001b[0mi\u001b[0m\u001b[0;34m]\u001b[0m\u001b[0;34m)\u001b[0m\u001b[0;34m\u001b[0m\u001b[0m\n\u001b[0m",
      "\u001b[0;31mTypeError\u001b[0m: Can't convert 'int' object to str implicitly"
     ]
    }
   ],
   "source": [
    "for i in zips:\n",
    "    print(i + zips[i])"
   ]
  },
  {
   "cell_type": "code",
   "execution_count": 61,
   "metadata": {
    "collapsed": false
   },
   "outputs": [
    {
     "name": "stdout",
     "output_type": "stream",
     "text": [
      "ivy\n",
      "22903\n",
      "earlysville\n",
      "22901\n",
      "cville\n",
      "22902\n"
     ]
    }
   ],
   "source": [
    "for i in zips:\n",
    "    print(i)\n",
    "    print(zips[i])"
   ]
  },
  {
   "cell_type": "code",
   "execution_count": 62,
   "metadata": {
    "collapsed": false
   },
   "outputs": [
    {
     "ename": "SyntaxError",
     "evalue": "invalid syntax (<ipython-input-62-cfdbe8200f32>, line 2)",
     "output_type": "error",
     "traceback": [
      "\u001b[0;36m  File \u001b[0;32m\"<ipython-input-62-cfdbe8200f32>\"\u001b[0;36m, line \u001b[0;32m2\u001b[0m\n\u001b[0;31m    print(i zips[i])\u001b[0m\n\u001b[0m               ^\u001b[0m\n\u001b[0;31mSyntaxError\u001b[0m\u001b[0;31m:\u001b[0m invalid syntax\n"
     ]
    }
   ],
   "source": [
    "for i in zips:\n",
    "    print(i zips[i])"
   ]
  },
  {
   "cell_type": "code",
   "execution_count": 63,
   "metadata": {
    "collapsed": false
   },
   "outputs": [
    {
     "name": "stdout",
     "output_type": "stream",
     "text": [
      "ivy 22903\n",
      "earlysville 22901\n",
      "cville 22902\n"
     ]
    }
   ],
   "source": [
    "for i in zips:\n",
    "    print(i, zips[i])"
   ]
  },
  {
   "cell_type": "code",
   "execution_count": 64,
   "metadata": {
    "collapsed": false
   },
   "outputs": [
    {
     "name": "stdout",
     "output_type": "stream",
     "text": [
      "ivy :  22903\n",
      "earlysville :  22901\n",
      "cville :  22902\n"
     ]
    }
   ],
   "source": [
    "for i in zips:\n",
    "    print(i, \": \", zips[i])"
   ]
  },
  {
   "cell_type": "code",
   "execution_count": 65,
   "metadata": {
    "collapsed": false
   },
   "outputs": [
    {
     "name": "stdout",
     "output_type": "stream",
     "text": [
      "ivy: 22903\n",
      "earlysville: 22901\n",
      "cville: 22902\n"
     ]
    }
   ],
   "source": [
    "for i in zips:\n",
    "    print(i, \": \", zips[i], sep=\"\")"
   ]
  },
  {
   "cell_type": "code",
   "execution_count": 66,
   "metadata": {
    "collapsed": false
   },
   "outputs": [
    {
     "name": "stdout",
     "output_type": "stream",
     "text": [
      "ivy------: ------22903\n",
      "earlysville------: ------22901\n",
      "cville------: ------22902\n"
     ]
    }
   ],
   "source": [
    "for i in zips:\n",
    "    print(i, \": \", zips[i], sep=\"------\")"
   ]
  },
  {
   "cell_type": "code",
   "execution_count": 67,
   "metadata": {
    "collapsed": false
   },
   "outputs": [
    {
     "ename": "NameError",
     "evalue": "name 'N' is not defined",
     "output_type": "error",
     "traceback": [
      "\u001b[0;31m---------------------------------------------------------------------------\u001b[0m",
      "\u001b[0;31mNameError\u001b[0m                                 Traceback (most recent call last)",
      "\u001b[0;32m<ipython-input-67-c01ce8386f45>\u001b[0m in \u001b[0;36m<module>\u001b[0;34m()\u001b[0m\n\u001b[0;32m----> 1\u001b[0;31m \u001b[0mrange\u001b[0m\u001b[0;34m(\u001b[0m\u001b[0;36m1\u001b[0m\u001b[0;34m,\u001b[0m\u001b[0mN\u001b[0m\u001b[0;34m+\u001b[0m\u001b[0;36m1\u001b[0m\u001b[0;34m)\u001b[0m\u001b[0;34m\u001b[0m\u001b[0m\n\u001b[0m",
      "\u001b[0;31mNameError\u001b[0m: name 'N' is not defined"
     ]
    }
   ],
   "source": [
    "range(1,N+1)\n"
   ]
  },
  {
   "cell_type": "code",
   "execution_count": 68,
   "metadata": {
    "collapsed": false
   },
   "outputs": [
    {
     "ename": "NameError",
     "evalue": "name 'N' is not defined",
     "output_type": "error",
     "traceback": [
      "\u001b[0;31m---------------------------------------------------------------------------\u001b[0m",
      "\u001b[0;31mNameError\u001b[0m                                 Traceback (most recent call last)",
      "\u001b[0;32m<ipython-input-68-7b7fb14fd3cc>\u001b[0m in \u001b[0;36m<module>\u001b[0;34m()\u001b[0m\n\u001b[1;32m      1\u001b[0m \u001b[0mfact\u001b[0m\u001b[0;34m=\u001b[0m\u001b[0;36m1\u001b[0m\u001b[0;34m\u001b[0m\u001b[0m\n\u001b[0;32m----> 2\u001b[0;31m \u001b[0;32mfor\u001b[0m \u001b[0mi\u001b[0m \u001b[0;32min\u001b[0m \u001b[0mrange\u001b[0m\u001b[0;34m(\u001b[0m\u001b[0;36m1\u001b[0m\u001b[0;34m,\u001b[0m\u001b[0mN\u001b[0m\u001b[0;34m+\u001b[0m\u001b[0;36m1\u001b[0m\u001b[0;34m)\u001b[0m\u001b[0;34m:\u001b[0m\u001b[0;34m\u001b[0m\u001b[0m\n\u001b[0m\u001b[1;32m      3\u001b[0m   \u001b[0mfact\u001b[0m \u001b[0;34m*=\u001b[0m \u001b[0mi\u001b[0m\u001b[0;34m\u001b[0m\u001b[0m\n",
      "\u001b[0;31mNameError\u001b[0m: name 'N' is not defined"
     ]
    }
   ],
   "source": [
    "fact=1\n",
    "for i in range(1,N+1):\n",
    "  fact *= i\n"
   ]
  },
  {
   "cell_type": "code",
   "execution_count": 69,
   "metadata": {
    "collapsed": true
   },
   "outputs": [],
   "source": [
    "N = 5"
   ]
  },
  {
   "cell_type": "code",
   "execution_count": 70,
   "metadata": {
    "collapsed": true
   },
   "outputs": [],
   "source": [
    "fact=1\n",
    "for i in range(1,N+1):\n",
    "  fact *= i\n",
    "\n"
   ]
  },
  {
   "cell_type": "code",
   "execution_count": 71,
   "metadata": {
    "collapsed": false
   },
   "outputs": [
    {
     "data": {
      "text/plain": [
       "120"
      ]
     },
     "execution_count": 71,
     "metadata": {},
     "output_type": "execute_result"
    }
   ],
   "source": [
    "fact\n",
    "\n"
   ]
  },
  {
   "cell_type": "code",
   "execution_count": 72,
   "metadata": {
    "collapsed": false
   },
   "outputs": [
    {
     "data": {
      "text/plain": [
       "range(1, 6)"
      ]
     },
     "execution_count": 72,
     "metadata": {},
     "output_type": "execute_result"
    }
   ],
   "source": [
    "range(1,N+1\n",
    "     )"
   ]
  },
  {
   "cell_type": "code",
   "execution_count": 73,
   "metadata": {
    "collapsed": false
   },
   "outputs": [
    {
     "ename": "NameError",
     "evalue": "name 'math' is not defined",
     "output_type": "error",
     "traceback": [
      "\u001b[0;31m---------------------------------------------------------------------------\u001b[0m",
      "\u001b[0;31mNameError\u001b[0m                                 Traceback (most recent call last)",
      "\u001b[0;32m<ipython-input-73-cd63f68cad29>\u001b[0m in \u001b[0;36m<module>\u001b[0;34m()\u001b[0m\n\u001b[0;32m----> 1\u001b[0;31m \u001b[0mmath\u001b[0m\u001b[0;34m.\u001b[0m\u001b[0mfactorial\u001b[0m\u001b[0;34m(\u001b[0m\u001b[0mN\u001b[0m\u001b[0;34m)\u001b[0m\u001b[0;34m\u001b[0m\u001b[0m\n\u001b[0m",
      "\u001b[0;31mNameError\u001b[0m: name 'math' is not defined"
     ]
    }
   ],
   "source": [
    "math.factorial(N)"
   ]
  },
  {
   "cell_type": "code",
   "execution_count": 74,
   "metadata": {
    "collapsed": false
   },
   "outputs": [
    {
     "data": {
      "text/plain": [
       "1"
      ]
     },
     "execution_count": 74,
     "metadata": {},
     "output_type": "execute_result"
    }
   ],
   "source": [
    "N%2"
   ]
  },
  {
   "cell_type": "code",
   "execution_count": 75,
   "metadata": {
    "collapsed": false
   },
   "outputs": [
    {
     "data": {
      "text/plain": [
       "5"
      ]
     },
     "execution_count": 75,
     "metadata": {},
     "output_type": "execute_result"
    }
   ],
   "source": [
    "N\n"
   ]
  },
  {
   "cell_type": "code",
   "execution_count": 76,
   "metadata": {
    "collapsed": false
   },
   "outputs": [
    {
     "ename": "NameError",
     "evalue": "name 'math' is not defined",
     "output_type": "error",
     "traceback": [
      "\u001b[0;31m---------------------------------------------------------------------------\u001b[0m",
      "\u001b[0;31mNameError\u001b[0m                                 Traceback (most recent call last)",
      "\u001b[0;32m<ipython-input-76-cd63f68cad29>\u001b[0m in \u001b[0;36m<module>\u001b[0;34m()\u001b[0m\n\u001b[0;32m----> 1\u001b[0;31m \u001b[0mmath\u001b[0m\u001b[0;34m.\u001b[0m\u001b[0mfactorial\u001b[0m\u001b[0;34m(\u001b[0m\u001b[0mN\u001b[0m\u001b[0;34m)\u001b[0m\u001b[0;34m\u001b[0m\u001b[0m\n\u001b[0m",
      "\u001b[0;31mNameError\u001b[0m: name 'math' is not defined"
     ]
    }
   ],
   "source": [
    "math.factorial(N)"
   ]
  },
  {
   "cell_type": "code",
   "execution_count": 77,
   "metadata": {
    "collapsed": true
   },
   "outputs": [],
   "source": [
    "import math"
   ]
  },
  {
   "cell_type": "code",
   "execution_count": 78,
   "metadata": {
    "collapsed": false
   },
   "outputs": [
    {
     "ename": "NameError",
     "evalue": "name 'factorial' is not defined",
     "output_type": "error",
     "traceback": [
      "\u001b[0;31m---------------------------------------------------------------------------\u001b[0m",
      "\u001b[0;31mNameError\u001b[0m                                 Traceback (most recent call last)",
      "\u001b[0;32m<ipython-input-78-fc944a3f5ed7>\u001b[0m in \u001b[0;36m<module>\u001b[0;34m()\u001b[0m\n\u001b[0;32m----> 1\u001b[0;31m \u001b[0mfactorial\u001b[0m\u001b[0;34m(\u001b[0m\u001b[0mN\u001b[0m\u001b[0;34m)\u001b[0m\u001b[0;34m\u001b[0m\u001b[0m\n\u001b[0m",
      "\u001b[0;31mNameError\u001b[0m: name 'factorial' is not defined"
     ]
    }
   ],
   "source": [
    "factorial(N)"
   ]
  },
  {
   "cell_type": "code",
   "execution_count": 79,
   "metadata": {
    "collapsed": false
   },
   "outputs": [
    {
     "data": {
      "text/plain": [
       "120"
      ]
     },
     "execution_count": 79,
     "metadata": {},
     "output_type": "execute_result"
    }
   ],
   "source": [
    "math.factorial(N)"
   ]
  },
  {
   "cell_type": "code",
   "execution_count": 80,
   "metadata": {
    "collapsed": false
   },
   "outputs": [
    {
     "data": {
      "text/plain": [
       "5"
      ]
     },
     "execution_count": 80,
     "metadata": {},
     "output_type": "execute_result"
    }
   ],
   "source": [
    "N\n"
   ]
  },
  {
   "cell_type": "code",
   "execution_count": 81,
   "metadata": {
    "collapsed": true
   },
   "outputs": [],
   "source": [
    "import math as m"
   ]
  },
  {
   "cell_type": "code",
   "execution_count": 82,
   "metadata": {
    "collapsed": false
   },
   "outputs": [
    {
     "data": {
      "text/plain": [
       "120"
      ]
     },
     "execution_count": 82,
     "metadata": {},
     "output_type": "execute_result"
    }
   ],
   "source": [
    "m.factorial(N)"
   ]
  },
  {
   "cell_type": "code",
   "execution_count": null,
   "metadata": {
    "collapsed": true
   },
   "outputs": [],
   "source": []
  }
 ],
 "metadata": {
  "anaconda-cloud": {},
  "kernelspec": {
   "display_name": "Python [py27]",
   "language": "python",
   "name": "Python [py27]"
  },
  "language_info": {
   "codemirror_mode": {
    "name": "ipython",
    "version": 2
   },
   "file_extension": ".py",
   "mimetype": "text/x-python",
   "name": "python",
   "nbconvert_exporter": "python",
   "pygments_lexer": "ipython2",
   "version": "2.7.12"
  }
 },
 "nbformat": 4,
 "nbformat_minor": 0
}
