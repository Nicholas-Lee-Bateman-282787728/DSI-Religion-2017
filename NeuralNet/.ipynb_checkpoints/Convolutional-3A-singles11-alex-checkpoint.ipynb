{
 "cells": [
  {
   "cell_type": "code",
   "execution_count": 9,
   "metadata": {
    "collapsed": false
   },
   "outputs": [],
   "source": [
    "import numpy as np\n",
    "import pandas as pd\n",
    "from tqdm import tqdm\n",
    "\n",
    "import lingualTF as la\n",
    "\n",
    "import tensorflow as tf\n",
    "#import keras\n",
    "\n",
    "from keras.models import Sequential\n",
    "from keras.layers import Convolution1D, MaxPooling1D, AveragePooling1D\n",
    "from keras.layers import Activation, Dropout, Flatten, Dense, BatchNormalization"
   ]
  },
  {
   "cell_type": "code",
   "execution_count": 10,
   "metadata": {
    "collapsed": false
   },
   "outputs": [],
   "source": [
    "####################################\n",
    "# REPLACE THESE WITH CORRECT PATHS #\n",
    "####################################\n",
    "docRanks = pd.read_csv('/Users/Seth/Documents/DSI/Capstone/DSI-Religion-2017/refData/docRanks.csv')\n",
    "#docRanks.head()"
   ]
  },
  {
   "cell_type": "code",
   "execution_count": 47,
   "metadata": {
    "collapsed": true
   },
   "outputs": [],
   "source": [
    "def DSIacc(y_true, y_pred):\n",
    "    return float(len([i for i in range(len(y_pred)) if abs(y_true[i][0]-y_pred[i][0])<=1])/float(len(y_pred)))"
   ]
  },
  {
   "cell_type": "code",
   "execution_count": null,
   "metadata": {
    "collapsed": true
   },
   "outputs": [],
   "source": []
  },
  {
   "cell_type": "markdown",
   "metadata": {},
   "source": [
    "## get data from file (processed in earlier scripts)"
   ]
  },
  {
   "cell_type": "code",
   "execution_count": 11,
   "metadata": {
    "collapsed": false
   },
   "outputs": [
    {
     "data": {
      "text/plain": [
       "(193, 500, 1002)"
      ]
     },
     "execution_count": 11,
     "metadata": {},
     "output_type": "execute_result"
    }
   ],
   "source": [
    "# OR load X matrix from disk (already processed)\n",
    "X = np.load('/Users/Seth/Documents/DSI/Capstone/big-data/X-single-1k.npy')\n",
    "X.shape"
   ]
  },
  {
   "cell_type": "code",
   "execution_count": 12,
   "metadata": {
    "collapsed": false
   },
   "outputs": [
    {
     "data": {
      "text/plain": [
       "(193, 1)"
      ]
     },
     "execution_count": 12,
     "metadata": {},
     "output_type": "execute_result"
    }
   ],
   "source": [
    "# construct Y matrix\n",
    "Y = np.array([np.array([y]) for y in docRanks['rank']])\n",
    "Y.shape"
   ]
  },
  {
   "cell_type": "code",
   "execution_count": 13,
   "metadata": {
    "collapsed": false
   },
   "outputs": [
    {
     "data": {
      "text/plain": [
       "(193, 9)"
      ]
     },
     "execution_count": 13,
     "metadata": {},
     "output_type": "execute_result"
    }
   ],
   "source": [
    "# make a Y vector for classification\n",
    "Y_cat = np.zeros((len(Y),9))\n",
    "\n",
    "for i in range(0,len(Y)):\n",
    "    Y_cat[i][Y[i]-1] = Y[i]\n",
    "\n",
    "Y_cat.shape"
   ]
  },
  {
   "cell_type": "markdown",
   "metadata": {},
   "source": [
    "## shuffle the data into training and testing"
   ]
  },
  {
   "cell_type": "code",
   "execution_count": 14,
   "metadata": {
    "collapsed": false
   },
   "outputs": [
    {
     "data": {
      "text/plain": [
       "Int64Index([ 72,   4,  79, 171, 112,  71,  90,  93, 182, 147,\n",
       "            ...\n",
       "             96,  57, 123, 106,  83,  17,  98,  66, 126, 109],\n",
       "           dtype='int64', length=193)"
      ]
     },
     "execution_count": 14,
     "metadata": {},
     "output_type": "execute_result"
    }
   ],
   "source": [
    "# set the seed if you want to\n",
    "np.random.seed(123)\n",
    "#\n",
    "shuf = docRanks.sample(frac=1).index\n",
    "shuf"
   ]
  },
  {
   "cell_type": "code",
   "execution_count": 15,
   "metadata": {
    "collapsed": true
   },
   "outputs": [],
   "source": [
    "splitPoint = int(len(shuf) * .8)\n",
    "#train = docRanks.iloc[shuf[:splitPoint]]\n",
    "#test = docRanks.iloc[shuf[(splitPoint+1):]]"
   ]
  },
  {
   "cell_type": "code",
   "execution_count": 16,
   "metadata": {
    "collapsed": true
   },
   "outputs": [],
   "source": [
    "X_train = X[shuf[:splitPoint]]\n",
    "Y_train = Y[shuf[:splitPoint]]\n",
    "Y_cat_train = Y_cat[shuf[:splitPoint]]\n",
    "\n",
    "X_test = X[shuf[(splitPoint+1):]]\n",
    "Y_test = Y[shuf[(splitPoint+1):]]\n",
    "Y_cat_test = Y_cat[shuf[(splitPoint+1):]]"
   ]
  },
  {
   "cell_type": "code",
   "execution_count": null,
   "metadata": {
    "collapsed": true
   },
   "outputs": [],
   "source": []
  },
  {
   "cell_type": "markdown",
   "metadata": {
    "collapsed": true
   },
   "source": [
    "## regression model"
   ]
  },
  {
   "cell_type": "code",
   "execution_count": 195,
   "metadata": {
    "collapsed": false
   },
   "outputs": [],
   "source": [
    "model = Sequential()\n",
    "model.add(Convolution1D(64, 11, border_mode='same', input_shape=(X.shape[1],X.shape[2])))\n",
    "model.add(BatchNormalization())\n",
    "model.add(Activation('relu'))\n",
    "model.add(MaxPooling1D(pool_length=3))\n",
    "\n",
    "model.add(Convolution1D(128, 7, border_mode='same'))\n",
    "model.add(BatchNormalization())\n",
    "model.add(Activation('relu'))\n",
    "model.add(MaxPooling1D(pool_length=3))\n",
    "\n",
    "model.add(Convolution1D(192, 3, border_mode='same'))\n",
    "model.add(BatchNormalization())\n",
    "model.add(Activation('relu'))\n",
    "model.add(MaxPooling1D(pool_length=3))\n",
    "\n",
    "model.add(Convolution1D(256, 3, border_mode='same'))\n",
    "model.add(BatchNormalization())\n",
    "model.add(Activation('relu'))\n",
    "model.add(MaxPooling1D(pool_length=3))\n"
   ]
  },
  {
   "cell_type": "code",
   "execution_count": 196,
   "metadata": {
    "collapsed": true
   },
   "outputs": [],
   "source": [
    "model.add(Flatten())  # this converts our 3D feature maps to 1D feature vectors\n",
    "model.add(Dense(4096, init='normal'))\n",
    "model.add(BatchNormalization())\n",
    "model.add(Activation('relu'))\n",
    "\n",
    "#model.add(Dense(4096, init='normal'))\n",
    "model.add(Dense(1000, init='normal'))\n",
    "model.add(BatchNormalization())\n",
    "model.add(Activation('relu'))\n",
    "\n",
    "#model.add(Dense(1000, init='normal'))\n",
    "model.add(Dense(200, init='normal'))\n",
    "model.add(BatchNormalization())\n",
    "model.add(Activation('relu'))"
   ]
  },
  {
   "cell_type": "code",
   "execution_count": 197,
   "metadata": {
    "collapsed": false
   },
   "outputs": [],
   "source": [
    "#\n",
    "#model.add(Dense(9, activation='softmax')) # for categorical_cross_entropy, below (classification)\n",
    "model.add(Dense(1)) # for mse, below (regression)"
   ]
  },
  {
   "cell_type": "code",
   "execution_count": null,
   "metadata": {
    "collapsed": true
   },
   "outputs": [],
   "source": []
  },
  {
   "cell_type": "code",
   "execution_count": 198,
   "metadata": {
    "collapsed": true
   },
   "outputs": [],
   "source": [
    "def DSIacc(y_true, y_pred):\n",
    "    return float(len([i for i in range(len(y_pred)) if abs(y_true[i][0]-y_pred[i][0])<=1])/float(len(y_pred)))"
   ]
  },
  {
   "cell_type": "code",
   "execution_count": 199,
   "metadata": {
    "collapsed": false
   },
   "outputs": [],
   "source": [
    "#model.compile(loss='categorical_cross_entropy', optimizer='rmsprop', metrics=['accuracy'])\n",
    "model.compile(loss='mean_squared_error', optimizer='sgd', metrics=['mean_absolute_error'])"
   ]
  },
  {
   "cell_type": "markdown",
   "metadata": {
    "collapsed": true
   },
   "source": [
    "### Batch size mattered a lot on this one\n",
    "with `batch_size=1` we got huge numbers and 0 accuracy, with `batch_size=154` we got tiny numbers and 23% accuracy (basically all the 1's and maybe a few 2's). With `batch_size=32` we did a little better, but still not convincing..."
   ]
  },
  {
   "cell_type": "code",
   "execution_count": 200,
   "metadata": {
    "collapsed": false
   },
   "outputs": [
    {
     "name": "stdout",
     "output_type": "stream",
     "text": [
      "Epoch 1/10\n",
      "154/154 [==============================] - 13s - loss: 8.6058 - mean_absolute_error: 2.2110    \n",
      "Epoch 2/10\n",
      "154/154 [==============================] - 10s - loss: 3.7054 - mean_absolute_error: 1.4803    \n",
      "Epoch 3/10\n",
      "154/154 [==============================] - 12s - loss: 1.8024 - mean_absolute_error: 1.0464    \n",
      "Epoch 4/10\n",
      "154/154 [==============================] - 12s - loss: 1.2626 - mean_absolute_error: 0.8669    \n",
      "Epoch 5/10\n",
      "154/154 [==============================] - 10s - loss: 0.8530 - mean_absolute_error: 0.7156    \n",
      "Epoch 6/10\n",
      "154/154 [==============================] - 10s - loss: 0.6635 - mean_absolute_error: 0.6333    \n",
      "Epoch 7/10\n",
      "154/154 [==============================] - 10s - loss: 0.7211 - mean_absolute_error: 0.6869    \n",
      "Epoch 8/10\n",
      "154/154 [==============================] - 9s - loss: 0.3463 - mean_absolute_error: 0.4577     \n",
      "Epoch 9/10\n",
      "154/154 [==============================] - 10s - loss: 0.4143 - mean_absolute_error: 0.4794    \n",
      "Epoch 10/10\n",
      "154/154 [==============================] - 10s - loss: 0.3396 - mean_absolute_error: 0.4603    \n"
     ]
    },
    {
     "data": {
      "text/plain": [
       "<keras.callbacks.History at 0x23e14f350>"
      ]
     },
     "execution_count": 200,
     "metadata": {},
     "output_type": "execute_result"
    }
   ],
   "source": [
    "#model.fit(X_train, Y_train, nb_epoch=10, batch_size=1)\n",
    "#model.fit(X_train, Y_train, nb_epoch=10, batch_size= 154)\n",
    "model.fit(X_train, Y_train, nb_epoch=10, batch_size=32) # 32 did way better than 1 on regression (opposite of classification)\n"
   ]
  },
  {
   "cell_type": "markdown",
   "metadata": {},
   "source": [
    "### evaluate"
   ]
  },
  {
   "cell_type": "code",
   "execution_count": 201,
   "metadata": {
    "collapsed": false
   },
   "outputs": [
    {
     "name": "stdout",
     "output_type": "stream",
     "text": [
      "38/38 [==============================] - 3s     \n"
     ]
    },
    {
     "data": {
      "text/plain": [
       "[5.7734026156708991, 1.7655861816908185]"
      ]
     },
     "execution_count": 201,
     "metadata": {},
     "output_type": "execute_result"
    }
   ],
   "source": [
    "model.evaluate(X_test, Y_test, batch_size=1)"
   ]
  },
  {
   "cell_type": "code",
   "execution_count": 202,
   "metadata": {
    "collapsed": false
   },
   "outputs": [
    {
     "data": {
      "text/plain": [
       "array([[ 1.79850388],\n",
       "       [ 1.10067928],\n",
       "       [ 2.12132692],\n",
       "       [ 1.8552072 ],\n",
       "       [ 2.17894769],\n",
       "       [ 1.88807547],\n",
       "       [ 2.08990836],\n",
       "       [ 1.97027564],\n",
       "       [ 1.90136445],\n",
       "       [ 2.4523294 ]], dtype=float32)"
      ]
     },
     "execution_count": 202,
     "metadata": {},
     "output_type": "execute_result"
    }
   ],
   "source": [
    "y_pred = model.predict(X_test)\n",
    "y_pred[:10]"
   ]
  },
  {
   "cell_type": "code",
   "execution_count": 203,
   "metadata": {
    "collapsed": false
   },
   "outputs": [
    {
     "data": {
      "text/plain": [
       "array([[2],\n",
       "       [4],\n",
       "       [5],\n",
       "       [2],\n",
       "       [2],\n",
       "       [1],\n",
       "       [5],\n",
       "       [2],\n",
       "       [3],\n",
       "       [1]])"
      ]
     },
     "execution_count": 203,
     "metadata": {},
     "output_type": "execute_result"
    }
   ],
   "source": [
    "Y_test[:10]"
   ]
  },
  {
   "cell_type": "code",
   "execution_count": 204,
   "metadata": {
    "collapsed": false,
    "scrolled": true
   },
   "outputs": [
    {
     "data": {
      "text/plain": [
       "0.34210526315789475"
      ]
     },
     "execution_count": 204,
     "metadata": {},
     "output_type": "execute_result"
    }
   ],
   "source": [
    "DSIacc(Y_test,y_pred)"
   ]
  },
  {
   "cell_type": "code",
   "execution_count": null,
   "metadata": {
    "collapsed": false
   },
   "outputs": [],
   "source": []
  },
  {
   "cell_type": "code",
   "execution_count": null,
   "metadata": {
    "collapsed": true
   },
   "outputs": [],
   "source": []
  },
  {
   "cell_type": "markdown",
   "metadata": {
    "collapsed": true
   },
   "source": [
    "## classification model"
   ]
  },
  {
   "cell_type": "code",
   "execution_count": 205,
   "metadata": {
    "collapsed": false
   },
   "outputs": [],
   "source": [
    "model = Sequential()\n",
    "model.add(Convolution1D(64, 11, border_mode='same', input_shape=(X.shape[1],X.shape[2])))\n",
    "model.add(BatchNormalization())\n",
    "model.add(Activation('relu'))\n",
    "model.add(MaxPooling1D(pool_length=3))\n",
    "\n",
    "model.add(Convolution1D(128, 7, border_mode='same'))\n",
    "model.add(BatchNormalization())\n",
    "model.add(Activation('relu'))\n",
    "model.add(MaxPooling1D(pool_length=3))\n",
    "\n",
    "model.add(Convolution1D(192, 3, border_mode='same'))\n",
    "model.add(BatchNormalization())\n",
    "model.add(Activation('relu'))\n",
    "model.add(MaxPooling1D(pool_length=3))\n",
    "\n",
    "model.add(Convolution1D(256, 3, border_mode='same'))\n",
    "model.add(BatchNormalization())\n",
    "model.add(Activation('relu'))\n",
    "model.add(MaxPooling1D(pool_length=3))\n"
   ]
  },
  {
   "cell_type": "code",
   "execution_count": 206,
   "metadata": {
    "collapsed": true
   },
   "outputs": [],
   "source": [
    "model.add(Flatten())  # this converts our 3D feature maps to 1D feature vectors\n",
    "model.add(Dense(4096, init='normal'))\n",
    "model.add(BatchNormalization())\n",
    "model.add(Activation('relu'))\n",
    "\n",
    "#model.add(Dense(4096, init='normal'))\n",
    "model.add(Dense(1000, init='normal'))\n",
    "model.add(BatchNormalization())\n",
    "model.add(Activation('relu'))\n",
    "\n",
    "#model.add(Dense(1000, init='normal'))\n",
    "model.add(Dense(200, init='normal'))\n",
    "model.add(BatchNormalization())\n",
    "model.add(Activation('relu'))"
   ]
  },
  {
   "cell_type": "code",
   "execution_count": 207,
   "metadata": {
    "collapsed": false
   },
   "outputs": [],
   "source": [
    "#\n",
    "model.add(Dense(9, activation='softmax')) # for categorical_cross_entropy, below (classification)\n",
    "#model.add(Dense(1)) # for mse, below (regression)"
   ]
  },
  {
   "cell_type": "code",
   "execution_count": null,
   "metadata": {
    "collapsed": true
   },
   "outputs": [],
   "source": []
  },
  {
   "cell_type": "code",
   "execution_count": 208,
   "metadata": {
    "collapsed": false
   },
   "outputs": [],
   "source": [
    "#model.compile(loss='categorical_crossentropy', optimizer='rmsprop', metrics=['accuracy'])\n",
    "model.compile(loss='mean_squared_error', optimizer='sgd', metrics=['mean_absolute_error', 'accuracy'])"
   ]
  },
  {
   "cell_type": "code",
   "execution_count": null,
   "metadata": {
    "collapsed": true
   },
   "outputs": [],
   "source": []
  },
  {
   "cell_type": "code",
   "execution_count": 209,
   "metadata": {
    "collapsed": false
   },
   "outputs": [
    {
     "name": "stdout",
     "output_type": "stream",
     "text": [
      "Epoch 1/10\n",
      "154/154 [==============================] - 16s - loss: 1.7647 - mean_absolute_error: 0.4768 - acc: 0.0909    \n",
      "Epoch 2/10\n",
      "154/154 [==============================] - 10s - loss: 1.6629 - mean_absolute_error: 0.4536 - acc: 0.2792    \n",
      "Epoch 3/10\n",
      "154/154 [==============================] - 11s - loss: 1.5570 - mean_absolute_error: 0.4311 - acc: 0.4610    \n",
      "Epoch 4/10\n",
      "154/154 [==============================] - 10s - loss: 1.4222 - mean_absolute_error: 0.3963 - acc: 0.7338    \n",
      "Epoch 5/10\n",
      "154/154 [==============================] - 11s - loss: 1.2889 - mean_absolute_error: 0.3521 - acc: 0.8442    \n",
      "Epoch 6/10\n",
      "154/154 [==============================] - 11s - loss: 1.2166 - mean_absolute_error: 0.3245 - acc: 0.9286    \n",
      "Epoch 7/10\n",
      "154/154 [==============================] - 10s - loss: 1.1853 - mean_absolute_error: 0.3053 - acc: 0.9740    \n",
      "Epoch 8/10\n",
      "154/154 [==============================] - 10s - loss: 1.1736 - mean_absolute_error: 0.2966 - acc: 0.9870    \n",
      "Epoch 9/10\n",
      "154/154 [==============================] - 10s - loss: 1.1743 - mean_absolute_error: 0.2952 - acc: 0.9870    \n",
      "Epoch 10/10\n",
      "154/154 [==============================] - 11s - loss: 1.1690 - mean_absolute_error: 0.2918 - acc: 0.9935    \n"
     ]
    },
    {
     "data": {
      "text/plain": [
       "<keras.callbacks.History at 0x25253af50>"
      ]
     },
     "execution_count": 209,
     "metadata": {},
     "output_type": "execute_result"
    }
   ],
   "source": [
    "#model.fit(data, labels, nb_epoch=10, batch_size=32) ### generic call from documentation\n",
    "model.fit(X_train,Y_cat_train, nb_epoch=10, batch_size=32)\n",
    "#model.fit(X_train, Y_cat_train, nb_epoch=10, batch_size= 1)"
   ]
  },
  {
   "cell_type": "markdown",
   "metadata": {},
   "source": [
    "### evaluate"
   ]
  },
  {
   "cell_type": "code",
   "execution_count": 210,
   "metadata": {
    "collapsed": false
   },
   "outputs": [
    {
     "name": "stdout",
     "output_type": "stream",
     "text": [
      "38/38 [==============================] - 3s     \n"
     ]
    },
    {
     "data": {
      "text/plain": [
       "[1.5172321210174184, 0.44397439062595367, 0.18421052631578946]"
      ]
     },
     "execution_count": 210,
     "metadata": {},
     "output_type": "execute_result"
    }
   ],
   "source": [
    "model.evaluate(X_test, Y_cat_test, batch_size=1)"
   ]
  },
  {
   "cell_type": "code",
   "execution_count": 211,
   "metadata": {
    "collapsed": false
   },
   "outputs": [
    {
     "data": {
      "text/plain": [
       "[[3], [3], [3], [3], [3], [3], [3], [3], [3], [3]]"
      ]
     },
     "execution_count": 211,
     "metadata": {},
     "output_type": "execute_result"
    }
   ],
   "source": [
    "y_pred = model.predict(X_test)\n",
    "y_pred_class = [[(np.argmax(pred)+1)] for pred in y_pred]\n",
    "y_pred_class[:10]"
   ]
  },
  {
   "cell_type": "code",
   "execution_count": 212,
   "metadata": {
    "collapsed": false
   },
   "outputs": [
    {
     "data": {
      "text/plain": [
       "array([[2],\n",
       "       [4],\n",
       "       [5],\n",
       "       [2],\n",
       "       [2],\n",
       "       [1],\n",
       "       [5],\n",
       "       [2],\n",
       "       [3],\n",
       "       [1]])"
      ]
     },
     "execution_count": 212,
     "metadata": {},
     "output_type": "execute_result"
    }
   ],
   "source": [
    "Y_test[:10]"
   ]
  },
  {
   "cell_type": "code",
   "execution_count": 213,
   "metadata": {
    "collapsed": false,
    "scrolled": false
   },
   "outputs": [
    {
     "data": {
      "text/plain": [
       "0.5263157894736842"
      ]
     },
     "execution_count": 213,
     "metadata": {},
     "output_type": "execute_result"
    }
   ],
   "source": [
    "DSIacc(Y_test,y_pred_class)"
   ]
  },
  {
   "cell_type": "code",
   "execution_count": null,
   "metadata": {
    "collapsed": false
   },
   "outputs": [],
   "source": []
  },
  {
   "cell_type": "markdown",
   "metadata": {
    "collapsed": true
   },
   "source": [
    "# DROPOUT"
   ]
  },
  {
   "cell_type": "markdown",
   "metadata": {
    "collapsed": true
   },
   "source": [
    "## regression model - WITH DROPOUT"
   ]
  },
  {
   "cell_type": "code",
   "execution_count": 219,
   "metadata": {
    "collapsed": false
   },
   "outputs": [],
   "source": [
    "model = Sequential()\n",
    "model.add(Convolution1D(64, 11, border_mode='same', input_shape=(X.shape[1],X.shape[2])))\n",
    "model.add(BatchNormalization())\n",
    "model.add(Activation('relu'))\n",
    "model.add(MaxPooling1D(pool_length=3))\n",
    "\n",
    "model.add(Convolution1D(128, 7, border_mode='same'))\n",
    "model.add(BatchNormalization())\n",
    "model.add(Activation('relu'))\n",
    "model.add(MaxPooling1D(pool_length=3))\n",
    "\n",
    "model.add(Convolution1D(192, 3, border_mode='same'))\n",
    "model.add(BatchNormalization())\n",
    "model.add(Activation('relu'))\n",
    "model.add(MaxPooling1D(pool_length=3))\n",
    "\n",
    "model.add(Convolution1D(256, 3, border_mode='same'))\n",
    "model.add(BatchNormalization())\n",
    "model.add(Activation('relu'))\n",
    "model.add(MaxPooling1D(pool_length=3))\n"
   ]
  },
  {
   "cell_type": "code",
   "execution_count": 220,
   "metadata": {
    "collapsed": true
   },
   "outputs": [],
   "source": [
    "model.add(Flatten())  # this converts our 3D feature maps to 1D feature vectors\n",
    "model.add(Dense(4096, init='normal'))\n",
    "model.add(BatchNormalization())\n",
    "model.add(Activation('relu'))\n",
    "\n",
    "model.add(Dropout(.5))\n",
    "\n",
    "#model.add(Dense(4096, init='normal'))\n",
    "model.add(Dense(1000, init='normal'))\n",
    "model.add(BatchNormalization())\n",
    "model.add(Activation('relu'))\n",
    "\n",
    "model.add(Dropout(.25))\n",
    "\n",
    "#model.add(Dense(1000, init='normal'))\n",
    "model.add(Dense(200, init='normal'))\n",
    "model.add(BatchNormalization())\n",
    "model.add(Activation('relu'))"
   ]
  },
  {
   "cell_type": "code",
   "execution_count": 221,
   "metadata": {
    "collapsed": false
   },
   "outputs": [],
   "source": [
    "#\n",
    "model.add(Dense(1)) # for mse, below (regression)"
   ]
  },
  {
   "cell_type": "code",
   "execution_count": null,
   "metadata": {
    "collapsed": true
   },
   "outputs": [],
   "source": []
  },
  {
   "cell_type": "code",
   "execution_count": 222,
   "metadata": {
    "collapsed": false
   },
   "outputs": [],
   "source": [
    "#model.compile(loss='categorical_crossentropy', optimizer='rmsprop', metrics=['accuracy'])\n",
    "model.compile(loss='mean_squared_error', optimizer='sgd', metrics=['mean_absolute_error', 'accuracy'])"
   ]
  },
  {
   "cell_type": "code",
   "execution_count": null,
   "metadata": {
    "collapsed": true
   },
   "outputs": [],
   "source": []
  },
  {
   "cell_type": "code",
   "execution_count": 223,
   "metadata": {
    "collapsed": false,
    "scrolled": true
   },
   "outputs": [
    {
     "name": "stdout",
     "output_type": "stream",
     "text": [
      "Epoch 1/10\n",
      "154/154 [==============================] - 15s - loss: 7.4111 - mean_absolute_error: 2.1345 - acc: 0.1623    \n",
      "Epoch 2/10\n",
      "154/154 [==============================] - 10s - loss: 3.5947 - mean_absolute_error: 1.4771 - acc: 0.2468    \n",
      "Epoch 3/10\n",
      "154/154 [==============================] - 11s - loss: 3.0613 - mean_absolute_error: 1.3487 - acc: 0.2532    \n",
      "Epoch 4/10\n",
      "154/154 [==============================] - 10s - loss: 2.1505 - mean_absolute_error: 1.1973 - acc: 0.2208    \n",
      "Epoch 5/10\n",
      "154/154 [==============================] - 10s - loss: 1.3124 - mean_absolute_error: 0.9117 - acc: 0.3117    \n",
      "Epoch 6/10\n",
      "154/154 [==============================] - 10s - loss: 1.3108 - mean_absolute_error: 0.9044 - acc: 0.3636    \n",
      "Epoch 7/10\n",
      "154/154 [==============================] - 10s - loss: 1.2004 - mean_absolute_error: 0.8767 - acc: 0.3247    \n",
      "Epoch 8/10\n",
      "154/154 [==============================] - 10s - loss: 1.1854 - mean_absolute_error: 0.8603 - acc: 0.3571    \n",
      "Epoch 9/10\n",
      "154/154 [==============================] - 10s - loss: 1.3502 - mean_absolute_error: 0.8714 - acc: 0.4286    \n",
      "Epoch 10/10\n",
      "154/154 [==============================] - 10s - loss: 1.0951 - mean_absolute_error: 0.8452 - acc: 0.3701    \n"
     ]
    },
    {
     "data": {
      "text/plain": [
       "<keras.callbacks.History at 0x255001e90>"
      ]
     },
     "execution_count": 223,
     "metadata": {},
     "output_type": "execute_result"
    }
   ],
   "source": [
    "#model.fit(X_train, Y_train, nb_epoch=10, batch_size= 1) #just like without dropout, this produced crazy predictions\n",
    "model.fit(X_train,Y_train, nb_epoch=10, batch_size=32)"
   ]
  },
  {
   "cell_type": "markdown",
   "metadata": {},
   "source": [
    "### evaluate"
   ]
  },
  {
   "cell_type": "code",
   "execution_count": 224,
   "metadata": {
    "collapsed": false
   },
   "outputs": [
    {
     "name": "stdout",
     "output_type": "stream",
     "text": [
      "37/38 [============================>.] - ETA: 0s"
     ]
    },
    {
     "data": {
      "text/plain": [
       "[5.977332562992447, 1.8425006646859019, 0.15789473684210525]"
      ]
     },
     "execution_count": 224,
     "metadata": {},
     "output_type": "execute_result"
    }
   ],
   "source": [
    "model.evaluate(X_test, Y_test, batch_size=1)"
   ]
  },
  {
   "cell_type": "code",
   "execution_count": 225,
   "metadata": {
    "collapsed": false
   },
   "outputs": [
    {
     "data": {
      "text/plain": [
       "array([[ 1.48422098],\n",
       "       [ 1.85205781],\n",
       "       [ 1.77789748],\n",
       "       [ 1.37081945],\n",
       "       [ 1.16880774],\n",
       "       [ 1.69702923],\n",
       "       [ 2.09696007],\n",
       "       [ 1.50669611],\n",
       "       [ 1.35655892],\n",
       "       [ 1.50866592]], dtype=float32)"
      ]
     },
     "execution_count": 225,
     "metadata": {},
     "output_type": "execute_result"
    }
   ],
   "source": [
    "y_pred = model.predict(X_test)\n",
    "y_pred[:10]"
   ]
  },
  {
   "cell_type": "code",
   "execution_count": 226,
   "metadata": {
    "collapsed": false
   },
   "outputs": [
    {
     "data": {
      "text/plain": [
       "array([[2],\n",
       "       [4],\n",
       "       [5],\n",
       "       [2],\n",
       "       [2],\n",
       "       [1],\n",
       "       [5],\n",
       "       [2],\n",
       "       [3],\n",
       "       [1]])"
      ]
     },
     "execution_count": 226,
     "metadata": {},
     "output_type": "execute_result"
    }
   ],
   "source": [
    "Y_test[:10]"
   ]
  },
  {
   "cell_type": "code",
   "execution_count": 227,
   "metadata": {
    "collapsed": false,
    "scrolled": true
   },
   "outputs": [
    {
     "data": {
      "text/plain": [
       "0.4473684210526316"
      ]
     },
     "execution_count": 227,
     "metadata": {},
     "output_type": "execute_result"
    }
   ],
   "source": [
    "DSIacc(Y_test,y_pred)"
   ]
  },
  {
   "cell_type": "code",
   "execution_count": null,
   "metadata": {
    "collapsed": false
   },
   "outputs": [],
   "source": []
  },
  {
   "cell_type": "markdown",
   "metadata": {
    "collapsed": true
   },
   "source": [
    "## classification model - WITH DROPOUT"
   ]
  },
  {
   "cell_type": "code",
   "execution_count": 155,
   "metadata": {
    "collapsed": false
   },
   "outputs": [],
   "source": [
    "model = Sequential()\n",
    "model.add(Convolution1D(64, 11, border_mode='same', input_shape=(X.shape[1],X.shape[2])))\n",
    "model.add(BatchNormalization())\n",
    "model.add(Activation('relu'))\n",
    "model.add(MaxPooling1D(pool_length=3))\n",
    "\n",
    "model.add(Convolution1D(128, 7, border_mode='same'))\n",
    "model.add(BatchNormalization())\n",
    "model.add(Activation('relu'))\n",
    "model.add(MaxPooling1D(pool_length=3))\n",
    "\n",
    "model.add(Convolution1D(192, 3, border_mode='same'))\n",
    "model.add(BatchNormalization())\n",
    "model.add(Activation('relu'))\n",
    "model.add(MaxPooling1D(pool_length=3))\n",
    "\n",
    "model.add(Convolution1D(256, 3, border_mode='same'))\n",
    "model.add(BatchNormalization())\n",
    "model.add(Activation('relu'))\n",
    "model.add(MaxPooling1D(pool_length=3))\n"
   ]
  },
  {
   "cell_type": "code",
   "execution_count": 156,
   "metadata": {
    "collapsed": true
   },
   "outputs": [],
   "source": [
    "model.add(Flatten())  # this converts our 3D feature maps to 1D feature vectors\n",
    "model.add(Dense(4096, init='normal'))\n",
    "model.add(BatchNormalization())\n",
    "model.add(Activation('relu'))\n",
    "\n",
    "model.add(Dropout(.5))\n",
    "\n",
    "#model.add(Dense(4096, init='normal'))\n",
    "model.add(Dense(1000, init='normal'))\n",
    "model.add(BatchNormalization())\n",
    "model.add(Activation('relu'))\n",
    "\n",
    "model.add(Dropout(.25))\n",
    "\n",
    "#model.add(Dense(1000, init='normal'))\n",
    "model.add(Dense(200, init='normal'))\n",
    "model.add(BatchNormalization())\n",
    "model.add(Activation('relu'))"
   ]
  },
  {
   "cell_type": "code",
   "execution_count": 157,
   "metadata": {
    "collapsed": false
   },
   "outputs": [],
   "source": [
    "#\n",
    "model.add(Dense(9, activation='softmax')) # for categorical_cross_entropy, below (classification)\n",
    "#model.add(Dense(1)) # for mse, below (regression)"
   ]
  },
  {
   "cell_type": "code",
   "execution_count": null,
   "metadata": {
    "collapsed": true
   },
   "outputs": [],
   "source": []
  },
  {
   "cell_type": "code",
   "execution_count": 158,
   "metadata": {
    "collapsed": false
   },
   "outputs": [],
   "source": [
    "#model.compile(loss='categorical_crossentropy', optimizer='rmsprop', metrics=['accuracy'])\n",
    "model.compile(loss='mean_squared_error', optimizer='sgd', metrics=['mean_absolute_error', 'accuracy'])"
   ]
  },
  {
   "cell_type": "code",
   "execution_count": null,
   "metadata": {
    "collapsed": true
   },
   "outputs": [],
   "source": []
  },
  {
   "cell_type": "code",
   "execution_count": 159,
   "metadata": {
    "collapsed": false,
    "scrolled": true
   },
   "outputs": [
    {
     "name": "stdout",
     "output_type": "stream",
     "text": [
      "Epoch 1/10\n",
      "154/154 [==============================] - 29s - loss: 1.7544 - mean_absolute_error: 0.4767 - acc: 0.1623    \n",
      "Epoch 2/10\n",
      "154/154 [==============================] - 29s - loss: 1.7540 - mean_absolute_error: 0.4766 - acc: 0.1364    \n",
      "Epoch 3/10\n",
      "154/154 [==============================] - 31s - loss: 1.7535 - mean_absolute_error: 0.4765 - acc: 0.1494    \n",
      "Epoch 4/10\n",
      "154/154 [==============================] - 31s - loss: 1.7531 - mean_absolute_error: 0.4765 - acc: 0.1883    \n",
      "Epoch 5/10\n",
      "154/154 [==============================] - 29s - loss: 1.7526 - mean_absolute_error: 0.4764 - acc: 0.1364    \n",
      "Epoch 6/10\n",
      "154/154 [==============================] - 26s - loss: 1.7521 - mean_absolute_error: 0.4763 - acc: 0.1364    \n",
      "Epoch 7/10\n",
      "154/154 [==============================] - 27s - loss: 1.7517 - mean_absolute_error: 0.4762 - acc: 0.1883    \n",
      "Epoch 8/10\n",
      "154/154 [==============================] - 26s - loss: 1.7513 - mean_absolute_error: 0.4761 - acc: 0.1364    \n",
      "Epoch 9/10\n",
      "154/154 [==============================] - 25s - loss: 1.7508 - mean_absolute_error: 0.4760 - acc: 0.1234    \n",
      "Epoch 10/10\n",
      "154/154 [==============================] - 27s - loss: 1.7504 - mean_absolute_error: 0.4759 - acc: 0.1494    \n"
     ]
    },
    {
     "data": {
      "text/plain": [
       "<keras.callbacks.History at 0x22e5745d0>"
      ]
     },
     "execution_count": 159,
     "metadata": {},
     "output_type": "execute_result"
    }
   ],
   "source": [
    "#model.fit(data, labels, nb_epoch=10, batch_size=32) ### generic call from documentation\n",
    "#model.fit(X_train,Y_cat_train, nb_epoch=10, batch_size=32)\n",
    "model.fit(X_train, Y_cat_train, nb_epoch=10, batch_size= 1)"
   ]
  },
  {
   "cell_type": "markdown",
   "metadata": {},
   "source": [
    "### evaluate"
   ]
  },
  {
   "cell_type": "code",
   "execution_count": 160,
   "metadata": {
    "collapsed": false
   },
   "outputs": [
    {
     "name": "stdout",
     "output_type": "stream",
     "text": [
      "38/38 [==============================] - 3s     \n"
     ]
    },
    {
     "data": {
      "text/plain": [
       "[1.628654969758109, 0.45906433737591695, 0.026315789473684209]"
      ]
     },
     "execution_count": 160,
     "metadata": {},
     "output_type": "execute_result"
    }
   ],
   "source": [
    "model.evaluate(X_test, Y_cat_test, batch_size=1)"
   ]
  },
  {
   "cell_type": "code",
   "execution_count": 161,
   "metadata": {
    "collapsed": false
   },
   "outputs": [
    {
     "data": {
      "text/plain": [
       "[[8], [6], [6], [8], [6], [6], [8], [6], [6], [6]]"
      ]
     },
     "execution_count": 161,
     "metadata": {},
     "output_type": "execute_result"
    }
   ],
   "source": [
    "y_pred = model.predict(X_test)\n",
    "y_pred_class = [[(np.argmax(pred)+1)] for pred in y_pred]\n",
    "y_pred_class[:10]"
   ]
  },
  {
   "cell_type": "code",
   "execution_count": 162,
   "metadata": {
    "collapsed": false
   },
   "outputs": [
    {
     "data": {
      "text/plain": [
       "array([[2],\n",
       "       [4],\n",
       "       [5],\n",
       "       [2],\n",
       "       [2],\n",
       "       [1],\n",
       "       [5],\n",
       "       [2],\n",
       "       [3],\n",
       "       [1]])"
      ]
     },
     "execution_count": 162,
     "metadata": {},
     "output_type": "execute_result"
    }
   ],
   "source": [
    "Y_test[:10]"
   ]
  },
  {
   "cell_type": "code",
   "execution_count": 163,
   "metadata": {
    "collapsed": false,
    "scrolled": false
   },
   "outputs": [
    {
     "data": {
      "text/plain": [
       "0.18421052631578946"
      ]
     },
     "execution_count": 163,
     "metadata": {},
     "output_type": "execute_result"
    }
   ],
   "source": [
    "DSIacc(Y_test,y_pred_class)"
   ]
  },
  {
   "cell_type": "code",
   "execution_count": null,
   "metadata": {
    "collapsed": false
   },
   "outputs": [],
   "source": []
  },
  {
   "cell_type": "markdown",
   "metadata": {},
   "source": [
    "## with a larger batch size (spoiler, it does really badly)"
   ]
  },
  {
   "cell_type": "code",
   "execution_count": 132,
   "metadata": {
    "collapsed": true
   },
   "outputs": [],
   "source": [
    "#THE FULL SETUP, compacted\n",
    "model = Sequential(); model.add(Convolution1D(64, 11, border_mode='same', input_shape=(X.shape[1],X.shape[2]))); model.add(BatchNormalization()); model.add(Activation('relu')); model.add(MaxPooling1D(pool_length=3)); model.add(Convolution1D(128, 7, border_mode='same')); model.add(BatchNormalization()); model.add(Activation('relu')); model.add(MaxPooling1D(pool_length=3)); model.add(Convolution1D(192, 3, border_mode='same')); model.add(BatchNormalization()); model.add(Activation('relu')); model.add(MaxPooling1D(pool_length=3)); model.add(Convolution1D(256, 3, border_mode='same')); model.add(BatchNormalization()); model.add(Activation('relu')); model.add(MaxPooling1D(pool_length=3))\n",
    "model.add(Flatten()); model.add(Dense(4096, init='normal')); model.add(BatchNormalization()); model.add(Activation('relu')); model.add(Dropout(.5)); model.add(Dense(1000, init='normal')); model.add(BatchNormalization()); model.add(Activation('relu')); model.add(Dropout(.25)); model.add(Dense(200, init='normal')); model.add(BatchNormalization()); model.add(Activation('relu'))\n",
    "#\n",
    "model.add(Dense(9, activation='softmax')) # for categorical_cross_entropy, below (classification)\n",
    "#model.add(Dense(1)) # for mse, below (regression)\n"
   ]
  },
  {
   "cell_type": "code",
   "execution_count": 133,
   "metadata": {
    "collapsed": false
   },
   "outputs": [],
   "source": [
    "model.compile(loss='mean_squared_error', optimizer='sgd', metrics=['mean_absolute_error', 'accuracy'])"
   ]
  },
  {
   "cell_type": "code",
   "execution_count": null,
   "metadata": {
    "collapsed": true
   },
   "outputs": [],
   "source": []
  },
  {
   "cell_type": "code",
   "execution_count": 134,
   "metadata": {
    "collapsed": false,
    "scrolled": true
   },
   "outputs": [
    {
     "name": "stdout",
     "output_type": "stream",
     "text": [
      "Epoch 1/10\n",
      "154/154 [==============================] - 17s - loss: 1.7685 - mean_absolute_error: 0.4772 - acc: 0.1104\n",
      "Epoch 2/10\n",
      "154/154 [==============================] - 13s - loss: 1.7589 - mean_absolute_error: 0.4756 - acc: 0.1234\n",
      "Epoch 3/10\n",
      "154/154 [==============================] - 14s - loss: 1.7193 - mean_absolute_error: 0.4671 - acc: 0.2273\n",
      "Epoch 4/10\n",
      "154/154 [==============================] - 12s - loss: 1.7050 - mean_absolute_error: 0.4638 - acc: 0.2468\n",
      "Epoch 5/10\n",
      "154/154 [==============================] - 12s - loss: 1.6714 - mean_absolute_error: 0.4573 - acc: 0.3052\n",
      "Epoch 6/10\n",
      "154/154 [==============================] - 11s - loss: 1.6584 - mean_absolute_error: 0.4531 - acc: 0.3766\n",
      "Epoch 7/10\n",
      "154/154 [==============================] - 10s - loss: 1.6316 - mean_absolute_error: 0.4470 - acc: 0.4481\n",
      "Epoch 8/10\n",
      "154/154 [==============================] - 9s - loss: 1.6042 - mean_absolute_error: 0.4421 - acc: 0.4156\n",
      "Epoch 9/10\n",
      "154/154 [==============================] - 13s - loss: 1.5912 - mean_absolute_error: 0.4398 - acc: 0.4870\n",
      "Epoch 10/10\n",
      "154/154 [==============================] - 13s - loss: 1.5510 - mean_absolute_error: 0.4296 - acc: 0.5065\n"
     ]
    },
    {
     "data": {
      "text/plain": [
       "<keras.callbacks.History at 0x2128cdad0>"
      ]
     },
     "execution_count": 134,
     "metadata": {},
     "output_type": "execute_result"
    }
   ],
   "source": [
    "model.fit(X_train,Y_cat_train, nb_epoch=10, batch_size=154)"
   ]
  },
  {
   "cell_type": "markdown",
   "metadata": {},
   "source": [
    "### evaluate"
   ]
  },
  {
   "cell_type": "code",
   "execution_count": 135,
   "metadata": {
    "collapsed": false
   },
   "outputs": [
    {
     "name": "stdout",
     "output_type": "stream",
     "text": [
      "38/38 [==============================] - 4s     \n"
     ]
    },
    {
     "data": {
      "text/plain": [
       "[1.4969771743605012, 0.4399002076763856, 0.18421052631578946]"
      ]
     },
     "execution_count": 135,
     "metadata": {},
     "output_type": "execute_result"
    }
   ],
   "source": [
    "model.evaluate(X_test, Y_cat_test, batch_size=1)"
   ]
  },
  {
   "cell_type": "code",
   "execution_count": 136,
   "metadata": {
    "collapsed": false
   },
   "outputs": [
    {
     "data": {
      "text/plain": [
       "[[3], [3], [3], [3], [3], [3], [3], [3], [3], [3]]"
      ]
     },
     "execution_count": 136,
     "metadata": {},
     "output_type": "execute_result"
    }
   ],
   "source": [
    "y_pred = model.predict(X_test)\n",
    "y_pred_class = [[(np.argmax(pred)+1)] for pred in y_pred]\n",
    "y_pred_class[:10]"
   ]
  },
  {
   "cell_type": "code",
   "execution_count": 137,
   "metadata": {
    "collapsed": false
   },
   "outputs": [
    {
     "data": {
      "text/plain": [
       "array([[2],\n",
       "       [4],\n",
       "       [5],\n",
       "       [2],\n",
       "       [2],\n",
       "       [1],\n",
       "       [5],\n",
       "       [2],\n",
       "       [3],\n",
       "       [1]])"
      ]
     },
     "execution_count": 137,
     "metadata": {},
     "output_type": "execute_result"
    }
   ],
   "source": [
    "Y_test[:10]"
   ]
  },
  {
   "cell_type": "code",
   "execution_count": 138,
   "metadata": {
    "collapsed": false
   },
   "outputs": [
    {
     "data": {
      "text/plain": [
       "0.5263157894736842"
      ]
     },
     "execution_count": 138,
     "metadata": {},
     "output_type": "execute_result"
    }
   ],
   "source": [
    "DSIacc(Y_test,y_pred_class)"
   ]
  },
  {
   "cell_type": "markdown",
   "metadata": {},
   "source": [
    "### NOTE: this looks a little encouraging, but it's not\n",
    "It just guesses 3 for everything, and since about half the examples are 2,3,4, it counts those are correct. Also, if you run this identical thing a few times, it will come out differently, but always picking the same number for every testing observation. Last time it pick 7 for everything and got 10% accuracy.\n",
    "\n",
    "I also tried batch size 32 and got about the same result.\n"
   ]
  },
  {
   "cell_type": "code",
   "execution_count": null,
   "metadata": {
    "collapsed": true
   },
   "outputs": [],
   "source": []
  },
  {
   "cell_type": "markdown",
   "metadata": {},
   "source": [
    "## running for more epochs (back to batch size 1)"
   ]
  },
  {
   "cell_type": "code",
   "execution_count": 139,
   "metadata": {
    "collapsed": true
   },
   "outputs": [],
   "source": [
    "#THE FULL SETUP, compacted\n",
    "model = Sequential(); model.add(Convolution1D(64, 11, border_mode='same', input_shape=(X.shape[1],X.shape[2]))); model.add(BatchNormalization()); model.add(Activation('relu')); model.add(MaxPooling1D(pool_length=3)); model.add(Convolution1D(128, 7, border_mode='same')); model.add(BatchNormalization()); model.add(Activation('relu')); model.add(MaxPooling1D(pool_length=3)); model.add(Convolution1D(192, 3, border_mode='same')); model.add(BatchNormalization()); model.add(Activation('relu')); model.add(MaxPooling1D(pool_length=3)); model.add(Convolution1D(256, 3, border_mode='same')); model.add(BatchNormalization()); model.add(Activation('relu')); model.add(MaxPooling1D(pool_length=3))\n",
    "model.add(Flatten()); model.add(Dense(4096, init='normal')); model.add(BatchNormalization()); model.add(Activation('relu')); model.add(Dropout(.5)); model.add(Dense(1000, init='normal')); model.add(BatchNormalization()); model.add(Activation('relu')); model.add(Dropout(.25)); model.add(Dense(200, init='normal')); model.add(BatchNormalization()); model.add(Activation('relu'))\n",
    "#\n",
    "model.add(Dense(9, activation='softmax')) # for categorical_cross_entropy, below (classification)\n",
    "#model.add(Dense(1)) # for mse, below (regression)\n"
   ]
  },
  {
   "cell_type": "code",
   "execution_count": 140,
   "metadata": {
    "collapsed": false
   },
   "outputs": [],
   "source": [
    "#model.compile(loss='categorical_crossentropy', optimizer='rmsprop', metrics=['accuracy'])\n",
    "model.compile(loss='mean_squared_error', optimizer='sgd', metrics=['mean_absolute_error', 'accuracy'])"
   ]
  },
  {
   "cell_type": "code",
   "execution_count": null,
   "metadata": {
    "collapsed": true
   },
   "outputs": [],
   "source": []
  },
  {
   "cell_type": "code",
   "execution_count": 141,
   "metadata": {
    "collapsed": false,
    "scrolled": true
   },
   "outputs": [
    {
     "name": "stdout",
     "output_type": "stream",
     "text": [
      "Epoch 1/20\n",
      "154/154 [==============================] - 35s - loss: 1.7544 - mean_absolute_error: 0.4767 - acc: 0.1364    \n",
      "Epoch 2/20\n",
      "154/154 [==============================] - 30s - loss: 1.7540 - mean_absolute_error: 0.4766 - acc: 0.1104    \n",
      "Epoch 3/20\n",
      "154/154 [==============================] - 27s - loss: 1.7535 - mean_absolute_error: 0.4765 - acc: 0.2208    \n",
      "Epoch 4/20\n",
      "154/154 [==============================] - 27s - loss: 1.7531 - mean_absolute_error: 0.4764 - acc: 0.2013    \n",
      "Epoch 5/20\n",
      "154/154 [==============================] - 27s - loss: 1.7526 - mean_absolute_error: 0.4764 - acc: 0.1948    \n",
      "Epoch 6/20\n",
      "154/154 [==============================] - 26s - loss: 1.7521 - mean_absolute_error: 0.4763 - acc: 0.1364    \n",
      "Epoch 7/20\n",
      "154/154 [==============================] - 23s - loss: 1.7517 - mean_absolute_error: 0.4762 - acc: 0.1623    \n",
      "Epoch 8/20\n",
      "154/154 [==============================] - 23s - loss: 1.7513 - mean_absolute_error: 0.4761 - acc: 0.1558    \n",
      "Epoch 9/20\n",
      "154/154 [==============================] - 23s - loss: 1.7508 - mean_absolute_error: 0.4760 - acc: 0.1364    \n",
      "Epoch 10/20\n",
      "154/154 [==============================] - 23s - loss: 1.7504 - mean_absolute_error: 0.4759 - acc: 0.1364    \n",
      "Epoch 11/20\n",
      "154/154 [==============================] - 23s - loss: 1.7499 - mean_absolute_error: 0.4758 - acc: 0.1494    \n",
      "Epoch 12/20\n",
      "154/154 [==============================] - 24s - loss: 1.7495 - mean_absolute_error: 0.4758 - acc: 0.1234    \n",
      "Epoch 13/20\n",
      "154/154 [==============================] - 25s - loss: 1.7490 - mean_absolute_error: 0.4757 - acc: 0.1429    \n",
      "Epoch 14/20\n",
      "154/154 [==============================] - 26s - loss: 1.7486 - mean_absolute_error: 0.4756 - acc: 0.1429    \n",
      "Epoch 15/20\n",
      "154/154 [==============================] - 25s - loss: 1.7482 - mean_absolute_error: 0.4755 - acc: 0.1558    \n",
      "Epoch 16/20\n",
      "154/154 [==============================] - 25s - loss: 1.7477 - mean_absolute_error: 0.4754 - acc: 0.1494    \n",
      "Epoch 17/20\n",
      "154/154 [==============================] - 25s - loss: 1.7473 - mean_absolute_error: 0.4753 - acc: 0.1364    \n",
      "Epoch 18/20\n",
      "154/154 [==============================] - 25s - loss: 1.7469 - mean_absolute_error: 0.4752 - acc: 0.1494    \n",
      "Epoch 19/20\n",
      "154/154 [==============================] - 27s - loss: 1.7465 - mean_absolute_error: 0.4751 - acc: 0.1299    \n",
      "Epoch 20/20\n",
      "154/154 [==============================] - 24s - loss: 1.7460 - mean_absolute_error: 0.4750 - acc: 0.1494    \n"
     ]
    },
    {
     "data": {
      "text/plain": [
       "<keras.callbacks.History at 0x218457950>"
      ]
     },
     "execution_count": 141,
     "metadata": {},
     "output_type": "execute_result"
    }
   ],
   "source": [
    "model.fit(X_train, Y_cat_train, nb_epoch=20, batch_size= 1)"
   ]
  },
  {
   "cell_type": "markdown",
   "metadata": {},
   "source": [
    "### evaluate"
   ]
  },
  {
   "cell_type": "code",
   "execution_count": 142,
   "metadata": {
    "collapsed": false
   },
   "outputs": [
    {
     "name": "stdout",
     "output_type": "stream",
     "text": [
      "37/38 [============================>.] - ETA: 0s"
     ]
    },
    {
     "data": {
      "text/plain": [
       "[1.6345029257630046, 0.45906433737591695, 0.026315789473684209]"
      ]
     },
     "execution_count": 142,
     "metadata": {},
     "output_type": "execute_result"
    }
   ],
   "source": [
    "model.evaluate(X_test, Y_cat_test, batch_size=1)"
   ]
  },
  {
   "cell_type": "code",
   "execution_count": 143,
   "metadata": {
    "collapsed": false
   },
   "outputs": [
    {
     "data": {
      "text/plain": [
       "[[8], [8], [4], [8], [8], [7], [3], [8], [8], [8]]"
      ]
     },
     "execution_count": 143,
     "metadata": {},
     "output_type": "execute_result"
    }
   ],
   "source": [
    "y_pred = model.predict(X_test)\n",
    "y_pred_class = [[(np.argmax(pred)+1)] for pred in y_pred]\n",
    "y_pred_class[:10]"
   ]
  },
  {
   "cell_type": "code",
   "execution_count": 144,
   "metadata": {
    "collapsed": false
   },
   "outputs": [
    {
     "data": {
      "text/plain": [
       "array([[2],\n",
       "       [4],\n",
       "       [5],\n",
       "       [2],\n",
       "       [2],\n",
       "       [1],\n",
       "       [5],\n",
       "       [2],\n",
       "       [3],\n",
       "       [1]])"
      ]
     },
     "execution_count": 144,
     "metadata": {},
     "output_type": "execute_result"
    }
   ],
   "source": [
    "Y_test[:10]"
   ]
  },
  {
   "cell_type": "code",
   "execution_count": 145,
   "metadata": {
    "collapsed": false,
    "scrolled": true
   },
   "outputs": [
    {
     "data": {
      "text/plain": [
       "0.18421052631578946"
      ]
     },
     "execution_count": 145,
     "metadata": {},
     "output_type": "execute_result"
    }
   ],
   "source": [
    "DSIacc(Y_test,y_pred_class)"
   ]
  },
  {
   "cell_type": "code",
   "execution_count": null,
   "metadata": {
    "collapsed": true
   },
   "outputs": [],
   "source": []
  },
  {
   "cell_type": "code",
   "execution_count": null,
   "metadata": {
    "collapsed": true
   },
   "outputs": [],
   "source": []
  },
  {
   "cell_type": "code",
   "execution_count": null,
   "metadata": {
    "collapsed": true
   },
   "outputs": [],
   "source": []
  }
 ],
 "metadata": {
  "anaconda-cloud": {},
  "kernelspec": {
   "display_name": "Python [visLang2]",
   "language": "python",
   "name": "Python [visLang2]"
  },
  "language_info": {
   "codemirror_mode": {
    "name": "ipython",
    "version": 2
   },
   "file_extension": ".py",
   "mimetype": "text/x-python",
   "name": "python",
   "nbconvert_exporter": "python",
   "pygments_lexer": "ipython2",
   "version": "2.7.13"
  }
 },
 "nbformat": 4,
 "nbformat_minor": 0
}
