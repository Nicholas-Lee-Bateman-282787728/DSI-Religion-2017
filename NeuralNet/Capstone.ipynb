{
 "cells": [
  {
   "cell_type": "markdown",
   "metadata": {},
   "source": [
    "Preamble"
   ]
  },
  {
   "cell_type": "code",
   "execution_count": 1,
   "metadata": {
    "collapsed": false
   },
   "outputs": [],
   "source": [
    "from __future__ import division\n",
    "import tensorflow as tf\n",
    "import numpy as np\n",
    "import tarfile\n",
    "import os\n",
    "import matplotlib.pyplot as plt\n",
    "import time\n",
    "import pandas as pd"
   ]
  },
  {
   "cell_type": "markdown",
   "metadata": {},
   "source": [
    "Import Data"
   ]
  },
  {
   "cell_type": "code",
   "execution_count": 2,
   "metadata": {
    "collapsed": true
   },
   "outputs": [],
   "source": [
    "def csv_to_numpy_array(filePath, delimiter):\n",
    "    return np.genfromtxt(filePath, delimiter=delimiter, dtype=None)"
   ]
  },
  {
   "cell_type": "code",
   "execution_count": 3,
   "metadata": {
    "collapsed": true
   },
   "outputs": [],
   "source": [
    "# X is the TF matrix, Y is the binary response\n",
    "trainX = csv_to_numpy_array(\"/Users/leighharton/Documents/MSDS/data_dsicap/trainX.csv\", delimiter=\",\")\n",
    "trainY = csv_to_numpy_array(\"/Users/leighharton/Documents/MSDS/data_dsicap/trainY.csv\", delimiter=\",\")\n",
    "testX = csv_to_numpy_array(\"/Users/leighharton/Documents/MSDS/data_dsicap/testX.csv\", delimiter=\",\")\n",
    "testY = csv_to_numpy_array(\"/Users/leighharton/Documents/MSDS/data_dsicap/testY.csv\", delimiter=\",\")"
   ]
  },
  {
   "cell_type": "code",
   "execution_count": 4,
   "metadata": {
    "collapsed": false
   },
   "outputs": [],
   "source": [
    "# remove the index column from dataset\n",
    "trainX = trainX[:,1:707]\n",
    "trainY = trainY[:,1:707]\n",
    "testX = testX[:,1:237]\n",
    "testY = testY[:,1:237]"
   ]
  },
  {
   "cell_type": "code",
   "execution_count": 6,
   "metadata": {
    "collapsed": true
   },
   "outputs": [],
   "source": [
    "# remove column headers\n",
    "trainX = trainX[1:707]\n",
    "trainY = trainY[1:707]\n",
    "testX = testX[1:237]\n",
    "testY = testY[1:237]"
   ]
  },
  {
   "cell_type": "markdown",
   "metadata": {},
   "source": [
    "Global Parameters"
   ]
  },
  {
   "cell_type": "code",
   "execution_count": 7,
   "metadata": {
    "collapsed": true
   },
   "outputs": [],
   "source": [
    "# DATA SET PARAMETERS\n",
    "# get dimensions for different variables and placeholders:\n",
    "# numFeatures = the number of words extracted from each article\n",
    "numFeatures = trainX.shape[1]\n",
    "# numLabels = number of classes we're predicting (here it's just 2 - Dorothy Day and Rabbinic)\n",
    "numLabels = trainY.shape[1]"
   ]
  },
  {
   "cell_type": "code",
   "execution_count": 8,
   "metadata": {
    "collapsed": true
   },
   "outputs": [],
   "source": [
    "# TRAINING SESSION PARAMETERS\n",
    "# number of times we iterate through training data\n",
    "# tensorboard shows that accuracy plateaus at ~25k epochs\n",
    "numEpochs = 27000\n",
    "# a smarter learning rate for gradientOptimizer\n",
    "learningRate = tf.train.exponential_decay(learning_rate = 0.0008,\n",
    "                                          global_step =1,\n",
    "                                          decay_steps = trainX.shape[0],\n",
    "                                          decay_rate = 0.95,\n",
    "                                          staircase = True)"
   ]
  },
  {
   "cell_type": "markdown",
   "metadata": {
    "collapsed": true
   },
   "source": [
    "Placeholders"
   ]
  },
  {
   "cell_type": "code",
   "execution_count": 9,
   "metadata": {
    "collapsed": true
   },
   "outputs": [],
   "source": [
    "# X = X-matrix/feature-matrix/data-matrix...It's a tensor to hold the article data. 'None' here \n",
    "# means that we can hold any number of articles\n",
    "X = tf.placeholder(tf.float32, [None, numFeatures])\n",
    "# yGold = Y-matrix/label-matrix/labels...This will be our correct answers matrix. Every row has\n",
    "# either [1,0] for Dorothy Day or [0,1] for Rabbinic. 'None' here means that we can\n",
    "# hold any number of emails\n",
    "yGold = tf.placeholder(tf.float32, [None, numLabels])"
   ]
  },
  {
   "cell_type": "markdown",
   "metadata": {},
   "source": [
    "Variables"
   ]
  },
  {
   "cell_type": "code",
   "execution_count": 10,
   "metadata": {
    "collapsed": true
   },
   "outputs": [],
   "source": [
    "# Values are randomly sampled from a Gaussian with a standard deviation of:\n",
    "# sqrt(6/(numInputNodes + numOutputNodes + 1))\n",
    "weights = tf.Variable(tf.random_normal([numFeatures,numLabels],\n",
    "                                        mean = 0,\n",
    "                                        stddev = (np.sqrt(6/numFeatures + numLabels + 1)),\n",
    "                                        name = \"weights\"))\n",
    "bias = tf.Variable(tf.random_normal([1,numLabels],\n",
    "                                     mean = 0,\n",
    "                                     stddev = (np.sqrt(6/numFeatures + numLabels + 1)),\n",
    "                                     name = \"bias\"))"
   ]
  },
  {
   "cell_type": "markdown",
   "metadata": {},
   "source": [
    "Ops"
   ]
  },
  {
   "cell_type": "code",
   "execution_count": 11,
   "metadata": {
    "collapsed": true
   },
   "outputs": [],
   "source": [
    "######################\n",
    "### PREDICTION OPS ###\n",
    "######################\n",
    "# INITIALIZE our weights and biases\n",
    "init_OP = tf.initialize_all_variables()\n",
    "# PREDICTION ALGORITHM  i.e. FEEDFORWARD ALGORITHM\n",
    "apply_weights_OP = tf.matmul(X, weights, name = \"apply_weights\")\n",
    "add_bias_OP = tf.add(apply_weights_OP, bias, name = \"add_bias\")\n",
    "activation_OP = tf.nn.sigmoid(add_bias_OP, name = \"activation\")"
   ]
  },
  {
   "cell_type": "code",
   "execution_count": 13,
   "metadata": {
    "collapsed": false
   },
   "outputs": [],
   "source": [
    "#####################\n",
    "### EVALUATION OP ###\n",
    "#####################\n",
    "# COST FUNCTION i.e. MEAN SQUARED ERROR\n",
    "cost_OP = tf.nn.l2_loss(activation_OP-yGold, name = \"squared_error_cost\")"
   ]
  },
  {
   "cell_type": "code",
   "execution_count": 14,
   "metadata": {
    "collapsed": true
   },
   "outputs": [],
   "source": [
    "#######################\n",
    "### OPTIMIZATION OP ###\n",
    "#######################\n",
    "# OPTIMIZATION ALGORITHM i.e. GRADIENT DESCENT\n",
    "training_OP = tf.train.GradientDescentOptimizer(learningRate).minimize(cost_OP)"
   ]
  },
  {
   "cell_type": "markdown",
   "metadata": {},
   "source": [
    "Computational Graph"
   ]
  },
  {
   "cell_type": "code",
   "execution_count": null,
   "metadata": {
    "collapsed": true
   },
   "outputs": [],
   "source": []
  }
 ],
 "metadata": {
  "anaconda-cloud": {},
  "kernelspec": {
   "display_name": "Python [tensorflow]",
   "language": "python",
   "name": "Python [tensorflow]"
  },
  "language_info": {
   "codemirror_mode": {
    "name": "ipython",
    "version": 2
   },
   "file_extension": ".py",
   "mimetype": "text/x-python",
   "name": "python",
   "nbconvert_exporter": "python",
   "pygments_lexer": "ipython2",
   "version": "2.7.12"
  }
 },
 "nbformat": 4,
 "nbformat_minor": 0
}
