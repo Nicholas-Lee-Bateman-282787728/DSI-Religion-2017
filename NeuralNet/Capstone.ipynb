{
 "cells": [
  {
   "cell_type": "markdown",
   "metadata": {},
   "source": [
    "Preamble"
   ]
  },
  {
   "cell_type": "code",
   "execution_count": 1,
   "metadata": {
    "collapsed": false
   },
   "outputs": [],
   "source": [
    "from __future__ import division\n",
    "import tensorflow as tf\n",
    "import numpy as np\n",
    "import tarfile\n",
    "import os\n",
    "import matplotlib.pyplot as plt\n",
    "import time\n",
    "import pandas as pd"
   ]
  },
  {
   "cell_type": "markdown",
   "metadata": {},
   "source": [
    "Import Data"
   ]
  },
  {
   "cell_type": "code",
   "execution_count": 2,
   "metadata": {
    "collapsed": true
   },
   "outputs": [],
   "source": [
    "def csv_to_numpy_array(filePath, delimiter):\n",
    "    return np.genfromtxt(filePath, delimiter=delimiter, dtype=None)"
   ]
  },
  {
   "cell_type": "code",
   "execution_count": 3,
   "metadata": {
    "collapsed": false
   },
   "outputs": [],
   "source": [
    "# X is the TF matrix, Y is the binary response\n",
    "trainX = csv_to_numpy_array(\"trainX.csv\", delimiter=\",\")\n",
    "trainY = csv_to_numpy_array(\"trainY.csv\", delimiter=\",\")\n",
    "testX = csv_to_numpy_array(\"testX.csv\", delimiter=\",\")\n",
    "testY = csv_to_numpy_array(\"testY.csv\", delimiter=\",\")"
   ]
  },
  {
   "cell_type": "code",
   "execution_count": 4,
   "metadata": {
    "collapsed": false
   },
   "outputs": [],
   "source": [
    "# remove the index column from dataset\n",
    "trainX = trainX[:,1:21039]\n",
    "trainY = trainY[:,1:21039]\n",
    "testX = testX[:,1:21039]\n",
    "testY = testY[:,1:21039]"
   ]
  },
  {
   "cell_type": "code",
   "execution_count": 5,
   "metadata": {
    "collapsed": true
   },
   "outputs": [],
   "source": [
    "# remove column headers\n",
    "trainX = trainX[1:21038]\n",
    "trainY = trainY[1:21038]\n",
    "testX = testX[1:21038]\n",
    "testY = testY[1:21038]"
   ]
  },
  {
   "cell_type": "markdown",
   "metadata": {},
   "source": [
    "Global Parameters"
   ]
  },
  {
   "cell_type": "code",
   "execution_count": 6,
   "metadata": {
    "collapsed": true
   },
   "outputs": [],
   "source": [
    "# DATA SET PARAMETERS\n",
    "# get dimensions for different variables and placeholders:\n",
    "# numFeatures = the number of words extracted from each article\n",
    "numFeatures = trainX.shape[1]\n",
    "# numLabels = number of classes we're predicting (here it's 4 - Bahai, DorothyDay, IntegralYoga, and SeaShepherds)\n",
    "numLabels = trainY.shape[1]"
   ]
  },
  {
   "cell_type": "code",
   "execution_count": 7,
   "metadata": {
    "collapsed": true
   },
   "outputs": [],
   "source": [
    "# TRAINING SESSION PARAMETERS\n",
    "# number of times we iterate through training data\n",
    "# tensorboard shows that accuracy plateaus at ~25k epochs\n",
    "numEpochs = 27000\n",
    "# a smarter learning rate for gradientOptimizer\n",
    "learningRate = tf.train.exponential_decay(learning_rate = 0.0008,\n",
    "                                          global_step =1,\n",
    "                                          decay_steps = trainX.shape[0],\n",
    "                                          decay_rate = 0.95,\n",
    "                                          staircase = True)"
   ]
  },
  {
   "cell_type": "markdown",
   "metadata": {
    "collapsed": true
   },
   "source": [
    "Placeholders"
   ]
  },
  {
   "cell_type": "code",
   "execution_count": 8,
   "metadata": {
    "collapsed": true
   },
   "outputs": [],
   "source": [
    "# X = X-matrix/feature-matrix/data-matrix...It's a tensor to hold the article data. 'None' here \n",
    "# means that we can hold any number of articles\n",
    "X = tf.placeholder(tf.float32, [None, numFeatures])\n",
    "# yGold = Y-matrix/label-matrix/labels...This will be our correct answers matrix. Every row has\n",
    "# is binary, with 1 representing their group. 'None' here means that we can hold any number of emails\n",
    "yGold = tf.placeholder(tf.float32, [None, numLabels])"
   ]
  },
  {
   "cell_type": "markdown",
   "metadata": {},
   "source": [
    "Variables"
   ]
  },
  {
   "cell_type": "code",
   "execution_count": 9,
   "metadata": {
    "collapsed": true
   },
   "outputs": [],
   "source": [
    "# Values are randomly sampled from a Gaussian with a standard deviation of:\n",
    "# sqrt(6/(numInputNodes + numOutputNodes + 1))\n",
    "weights = tf.Variable(tf.random_normal([numFeatures,numLabels],\n",
    "                                        mean = 0,\n",
    "                                        stddev = (np.sqrt(6/numFeatures + numLabels + 1)),\n",
    "                                        name = \"weights\"))\n",
    "bias = tf.Variable(tf.random_normal([1,numLabels],\n",
    "                                     mean = 0,\n",
    "                                     stddev = (np.sqrt(6/numFeatures + numLabels + 1)),\n",
    "                                     name = \"bias\"))"
   ]
  },
  {
   "cell_type": "markdown",
   "metadata": {},
   "source": [
    "Ops"
   ]
  },
  {
   "cell_type": "code",
   "execution_count": 10,
   "metadata": {
    "collapsed": true
   },
   "outputs": [],
   "source": [
    "######################\n",
    "### PREDICTION OPS ###\n",
    "######################\n",
    "# INITIALIZE our weights and biases\n",
    "init_OP = tf.initialize_all_variables()\n",
    "# PREDICTION ALGORITHM  i.e. FEEDFORWARD ALGORITHM\n",
    "apply_weights_OP = tf.matmul(X, weights, name = \"apply_weights\")\n",
    "add_bias_OP = tf.add(apply_weights_OP, bias, name = \"add_bias\")\n",
    "activation_OP = tf.nn.sigmoid(add_bias_OP, name = \"activation\") # sigmoid = activation function; output = 0/1"
   ]
  },
  {
   "cell_type": "code",
   "execution_count": 11,
   "metadata": {
    "collapsed": false
   },
   "outputs": [],
   "source": [
    "#####################\n",
    "### EVALUATION OP ###\n",
    "#####################\n",
    "# COST FUNCTION i.e. MEAN SQUARED ERROR\n",
    "cost_OP = tf.nn.l2_loss(activation_OP-yGold, name = \"squared_error_cost\")"
   ]
  },
  {
   "cell_type": "code",
   "execution_count": 12,
   "metadata": {
    "collapsed": true
   },
   "outputs": [],
   "source": [
    "#######################\n",
    "### OPTIMIZATION OP ###\n",
    "#######################\n",
    "# OPTIMIZATION ALGORITHM i.e. GRADIENT DESCENT\n",
    "training_OP = tf.train.GradientDescentOptimizer(learningRate).minimize(cost_OP)"
   ]
  },
  {
   "cell_type": "markdown",
   "metadata": {},
   "source": [
    "Computational Graph and Session"
   ]
  },
  {
   "cell_type": "code",
   "execution_count": 13,
   "metadata": {
    "collapsed": false
   },
   "outputs": [
    {
     "name": "stdout",
     "output_type": "stream",
     "text": [
      "step 0, training accuracy 0.258333\n",
      "step 0, cost 268.488\n",
      "step 0, change in cost268.488\n",
      "step 10, training accuracy 0.258333\n",
      "step 10, cost 267.695\n",
      "step 10, change in cost0.793213\n",
      "step 20, training accuracy 0.258333\n",
      "step 20, cost 267.411\n",
      "step 20, change in cost0.283936\n",
      "step 30, training accuracy 0.258333\n",
      "step 30, cost 265.592\n",
      "step 30, change in cost1.81885\n",
      "step 40, training accuracy 0.258333\n",
      "step 40, cost 265.538\n",
      "step 40, change in cost0.0539551\n",
      "step 50, training accuracy 0.258333\n",
      "step 50, cost 265.521\n",
      "step 50, change in cost0.0176086\n",
      "step 60, training accuracy 0.258333\n",
      "step 60, cost 264.05\n",
      "step 60, change in cost1.47067\n",
      "step 70, training accuracy 0.258333\n",
      "step 70, cost 264.009\n",
      "step 70, change in cost0.0407104\n",
      "step 80, training accuracy 0.258333\n",
      "step 80, cost 263.474\n",
      "step 80, change in cost0.535553\n",
      "step 90, training accuracy 0.258333\n",
      "step 90, cost 262.94\n",
      "step 90, change in cost0.533997\n",
      "step 100, training accuracy 0.258333\n",
      "step 100, cost 262.51\n",
      "step 100, change in cost0.430145\n",
      "step 110, training accuracy 0.258333\n",
      "step 110, cost 262.508\n",
      "step 110, change in cost0.00152588\n",
      "step 120, training accuracy 0.258333\n",
      "step 120, cost 262.507\n",
      "step 120, change in cost0.00109863\n",
      "step 130, training accuracy 0.258333\n",
      "step 130, cost 262.506\n",
      "step 130, change in cost0.00088501\n",
      "step 140, training accuracy 0.258333\n",
      "step 140, cost 262.505\n",
      "step 140, change in cost0.000701904\n",
      "step 150, training accuracy 0.258333\n",
      "step 150, cost 262.505\n",
      "step 150, change in cost0.000640869\n",
      "step 160, training accuracy 0.258333\n",
      "step 160, cost 262.504\n",
      "step 160, change in cost0.000518799\n",
      "step 170, training accuracy 0.258333\n",
      "step 170, cost 262.504\n",
      "step 170, change in cost0.000427246\n",
      "step 180, training accuracy 0.258333\n",
      "step 180, cost 262.503\n",
      "step 180, change in cost0.000427246\n",
      "step 190, training accuracy 0.258333\n",
      "step 190, cost 262.503\n",
      "step 190, change in cost0.000366211\n",
      "step 200, training accuracy 0.258333\n",
      "step 200, cost 262.503\n",
      "step 200, change in cost0.000335693\n",
      "step 210, training accuracy 0.258333\n",
      "step 210, cost 262.502\n",
      "step 210, change in cost0.000274658\n",
      "step 220, training accuracy 0.258333\n",
      "step 220, cost 262.502\n",
      "step 220, change in cost0.000305176\n",
      "step 230, training accuracy 0.258333\n",
      "step 230, cost 262.502\n",
      "step 230, change in cost0.000244141\n",
      "step 240, training accuracy 0.258333\n",
      "step 240, cost 262.502\n",
      "step 240, change in cost0.000244141\n",
      "step 250, training accuracy 0.258333\n",
      "step 250, cost 262.501\n",
      "step 250, change in cost0.000244141\n",
      "step 260, training accuracy 0.258333\n",
      "step 260, cost 262.501\n",
      "step 260, change in cost0.000213623\n",
      "step 270, training accuracy 0.258333\n",
      "step 270, cost 262.501\n",
      "step 270, change in cost0.000213623\n",
      "step 280, training accuracy 0.258333\n",
      "step 280, cost 262.501\n",
      "step 280, change in cost0.000183105\n",
      "step 290, training accuracy 0.258333\n",
      "step 290, cost 262.501\n",
      "step 290, change in cost0.000244141\n",
      "step 300, training accuracy 0.258333\n",
      "step 300, cost 262.5\n",
      "step 300, change in cost0.000183105\n",
      "step 310, training accuracy 0.258333\n",
      "step 310, cost 262.5\n",
      "step 310, change in cost0.000244141\n",
      "step 320, training accuracy 0.258333\n",
      "step 320, cost 262.5\n",
      "step 320, change in cost0.000183105\n",
      "step 330, training accuracy 0.258333\n",
      "step 330, cost 262.5\n",
      "step 330, change in cost0.000244141\n",
      "step 340, training accuracy 0.258333\n",
      "step 340, cost 262.5\n",
      "step 340, change in cost0.000183105\n",
      "step 350, training accuracy 0.258333\n",
      "step 350, cost 262.499\n",
      "step 350, change in cost0.000244141\n",
      "step 360, training accuracy 0.258333\n",
      "step 360, cost 262.499\n",
      "step 360, change in cost0.000244141\n",
      "step 370, training accuracy 0.258333\n",
      "step 370, cost 262.499\n",
      "step 370, change in cost0.000305176\n",
      "step 380, training accuracy 0.258333\n",
      "step 380, cost 262.498\n",
      "step 380, change in cost0.000305176\n",
      "step 390, training accuracy 0.258333\n",
      "step 390, cost 262.498\n",
      "step 390, change in cost0.000366211\n",
      "step 400, training accuracy 0.258333\n",
      "step 400, cost 262.498\n",
      "step 400, change in cost0.000427246\n",
      "step 410, training accuracy 0.258333\n",
      "step 410, cost 262.497\n",
      "step 410, change in cost0.000671387\n",
      "step 420, training accuracy 0.258333\n",
      "step 420, cost 262.496\n",
      "step 420, change in cost0.00128174\n",
      "step 430, training accuracy 0.258333\n",
      "step 430, cost 262.491\n",
      "step 430, change in cost0.00500488\n",
      "step 440, training accuracy 0.258333\n",
      "step 440, cost 261.999\n",
      "step 440, change in cost0.491394\n",
      "step 450, training accuracy 0.258333\n",
      "step 450, cost 261.997\n",
      "step 450, change in cost0.00177002\n",
      "step 460, training accuracy 0.258333\n",
      "step 460, cost 261.997\n",
      "step 460, change in cost0.000671387\n",
      "step 470, training accuracy 0.258333\n",
      "step 470, cost 261.996\n",
      "step 470, change in cost0.000701904\n",
      "step 480, training accuracy 0.258333\n",
      "step 480, cost 261.995\n",
      "step 480, change in cost0.000762939\n",
      "step 490, training accuracy 0.258333\n",
      "step 490, cost 261.994\n",
      "step 490, change in cost0.000915527\n",
      "step 500, training accuracy 0.258333\n",
      "step 500, cost 261.993\n",
      "step 500, change in cost0.00115967\n",
      "step 510, training accuracy 0.258333\n",
      "step 510, cost 261.992\n",
      "step 510, change in cost0.00158691\n",
      "step 520, training accuracy 0.258333\n",
      "step 520, cost 261.989\n",
      "step 520, change in cost0.0022583\n",
      "step 530, training accuracy 0.258333\n",
      "step 530, cost 261.986\n",
      "step 530, change in cost0.003479\n",
      "step 540, training accuracy 0.258333\n",
      "step 540, cost 261.98\n",
      "step 540, change in cost0.00616455\n",
      "step 550, training accuracy 0.258333\n",
      "step 550, cost 261.966\n",
      "step 550, change in cost0.0135498\n",
      "step 560, training accuracy 0.258333\n",
      "step 560, cost 261.921\n",
      "step 560, change in cost0.0451965\n",
      "step 570, training accuracy 0.258333\n",
      "step 570, cost 261.701\n",
      "step 570, change in cost0.21994\n",
      "step 580, training accuracy 0.258333\n",
      "step 580, cost 261.556\n",
      "step 580, change in cost0.145599\n",
      "step 590, training accuracy 0.258333\n",
      "step 590, cost 261.527\n",
      "step 590, change in cost0.0283508\n",
      "step 600, training accuracy 0.258333\n",
      "step 600, cost 261.517\n",
      "step 600, change in cost0.00973511\n",
      "step 610, training accuracy 0.258333\n",
      "step 610, cost 261.513\n",
      "step 610, change in cost0.00466919\n",
      "step 620, training accuracy 0.258333\n",
      "step 620, cost 261.51\n",
      "step 620, change in cost0.00271606\n",
      "step 630, training accuracy 0.258333\n",
      "step 630, cost 261.508\n",
      "step 630, change in cost0.0017395\n",
      "step 640, training accuracy 0.258333\n",
      "step 640, cost 261.507\n",
      "step 640, change in cost0.0012207\n",
      "step 650, training accuracy 0.258333\n",
      "step 650, cost 261.506\n",
      "step 650, change in cost0.000915527\n",
      "step 660, training accuracy 0.258333\n",
      "step 660, cost 261.505\n",
      "step 660, change in cost0.000671387\n",
      "step 670, training accuracy 0.258333\n",
      "step 670, cost 261.505\n",
      "step 670, change in cost0.000549316\n",
      "step 680, training accuracy 0.258333\n",
      "step 680, cost 261.504\n",
      "step 680, change in cost0.000457764\n",
      "step 690, training accuracy 0.258333\n",
      "step 690, cost 261.504\n",
      "step 690, change in cost0.000366211\n",
      "step 700, training accuracy 0.258333\n",
      "step 700, cost 261.504\n",
      "step 700, change in cost0.000274658\n",
      "step 710, training accuracy 0.258333\n",
      "step 710, cost 261.504\n",
      "step 710, change in cost0.000305176\n",
      "step 720, training accuracy 0.258333\n",
      "step 720, cost 261.503\n",
      "step 720, change in cost0.000213623\n",
      "step 730, training accuracy 0.258333\n",
      "step 730, cost 261.503\n",
      "step 730, change in cost0.000183105\n",
      "step 740, training accuracy 0.258333\n",
      "step 740, cost 261.503\n",
      "step 740, change in cost0.000152588\n",
      "step 750, training accuracy 0.258333\n",
      "step 750, cost 261.503\n",
      "step 750, change in cost0.000183105\n",
      "step 760, training accuracy 0.258333\n",
      "step 760, cost 261.503\n",
      "step 760, change in cost0.000152588\n",
      "step 770, training accuracy 0.258333\n",
      "step 770, cost 261.503\n",
      "step 770, change in cost0.00012207\n",
      "step 780, training accuracy 0.258333\n",
      "step 780, cost 261.502\n",
      "step 780, change in cost0.00012207\n",
      "step 790, training accuracy 0.258333\n",
      "step 790, cost 261.502\n",
      "step 790, change in cost9.15527e-05\n",
      "change in cost9.15527e-05; convergence.\n",
      "final accuracy on test set: 0.225806\n"
     ]
    },
    {
     "data": {
      "image/png": "[encoded data removed]",
      "text/plain": [
       "<matplotlib.figure.Figure at 0x111488190>"
      ]
     },
     "metadata": {},
     "output_type": "display_data"
    }
   ],
   "source": [
    "# GRAPH LIVE UPDATING\n",
    "epoch_values = []\n",
    "accuracy_values = []\n",
    "cost_values = []\n",
    "# Turn on interactive plotting\n",
    "plt.ion()\n",
    "# Create the main, super plot\n",
    "fig = plt.figure()\n",
    "# Create two subplots on their own axes and give titles\n",
    "ax1 = plt.subplot(\"211\")\n",
    "ax1.set_title(\"TRAINING ACCURACY\", fontsize=18)\n",
    "ax2 = plt.subplot(\"212\")\n",
    "ax2.set_title(\"TRAINING COST\", fontsize=18)\n",
    "plt.tight_layout()\n",
    "\n",
    "# RUN THE GRAPH\n",
    "\n",
    "# Create a tensorflow session\n",
    "sess = tf.Session()\n",
    "# Initialize all tensorflow variables\n",
    "sess.run(init_OP)\n",
    "\n",
    "# Ops for vizualization\n",
    "# argmax(activation_OP, 1) gives the label our model thought was most likely\n",
    "# argmax(yGold, 1) is the correct label\n",
    "correct_predictions_OP = tf.equal(tf.argmax(activation_OP, 1), tf.argmax(yGold, 1))\n",
    "# False is 0 and True is 1, what was our average?\n",
    "accuracy_OP = tf.reduce_mean(tf.cast(correct_predictions_OP, \"float\"))\n",
    "# Summary op for regression output\n",
    "activation_summary_OP = tf.histogram_summary(\"output\", activation_OP)\n",
    "# Summary op for accuracy\n",
    "accuracy_summary_OP = tf.scalar_summary(\"accuracy\", accuracy_OP)\n",
    "# Summary op for cost\n",
    "cost_summary_OP = tf.scalar_summary(\"cost\", cost_OP)\n",
    "# Summary ops to check how variables (W, b) are updating after each iteration\n",
    "weightSummary = tf.histogram_summary(\"weights\", weights.eval(session=sess))\n",
    "biasSummary = tf.histogram_summary(\"biases\", bias.eval(session=sess))\n",
    "# Merge all summaries\n",
    "all_summary_OPS = tf.merge_all_summaries()\n",
    "# Summary writer\n",
    "writer = tf.train.SummaryWriter(\"summary_logs\", sess.graph)\n",
    "\n",
    "# Initialize reporting variables\n",
    "cost = 0\n",
    "diff = 1\n",
    "\n",
    "# Training epochs\n",
    "for i in range(numEpochs):\n",
    "    if i > 1 and diff < .0001:\n",
    "        print(\"change in cost%g; convergence.\"%diff)\n",
    "        break\n",
    "    else:\n",
    "        # Run training step\n",
    "        step = sess.run(training_OP, feed_dict={X: trainX, yGold: trainY})\n",
    "        # Report occasional stats\n",
    "        if i % 10 == 0:\n",
    "            # Add epoch to epoch_values\n",
    "            epoch_values.append(i)\n",
    "            # Generate accuracy stats on test data\n",
    "            summary_results, train_accuracy, newCost = sess.run(\n",
    "                [all_summary_OPS, accuracy_OP, cost_OP],\n",
    "                feed_dict = {X: trainX, yGold: trainY}\n",
    "            )\n",
    "            # Add accuracy to live graphing variable\n",
    "            accuracy_values.append(train_accuracy)\n",
    "            # Add cost to live graphing variable\n",
    "            cost_values.append(newCost)\n",
    "            # Write summary stats to writer\n",
    "            writer.add_summary(summary_results, i)\n",
    "            # Re-assign values for variables\n",
    "            diff = abs(newCost - cost)\n",
    "            cost = newCost\n",
    "            \n",
    "            # generate print statements\n",
    "            print(\"step %d, training accuracy %g\"%(i, train_accuracy))\n",
    "            print(\"step %d, cost %g\"%(i, newCost))\n",
    "            print(\"step %d, change in cost%g\"%(i, diff))\n",
    "            \n",
    "            # Plot progress to our two subplots\n",
    "            accuracyLine, = ax1.plot(epoch_values, accuracy_values)\n",
    "            costLine, = ax2.plot(epoch_values, cost_values)\n",
    "            fig.canvas.draw()\n",
    "            time.sleep(1)\n",
    "\n",
    "# How well do we perform on held-out test data?\n",
    "print(\"final accuracy on test set: %s\" %str(sess.run(accuracy_OP, feed_dict={X: testX, yGold: testY})))"
   ]
  },
  {
   "cell_type": "markdown",
   "metadata": {},
   "source": [
    "Save the Trained Variables"
   ]
  },
  {
   "cell_type": "code",
   "execution_count": null,
   "metadata": {
    "collapsed": true
   },
   "outputs": [],
   "source": [
    "# Create Saver\n",
    "# saver = tf.train.Saver()\n",
    "# Save variables to .ckpt file\n",
    "# saver.save(sess, \"trained_variables.ckpt\")\n",
    "\n",
    "# Close tensorflow session\n",
    "sess.close()"
   ]
  }
 ],
 "metadata": {
  "anaconda-cloud": {},
  "kernelspec": {
   "display_name": "Python [Root]",
   "language": "python",
   "name": "Python [Root]"
  },
  "language_info": {
   "codemirror_mode": {
    "name": "ipython",
    "version": 3
   },
   "file_extension": ".py",
   "mimetype": "text/x-python",
   "name": "python",
   "nbconvert_exporter": "python",
   "pygments_lexer": "ipython3",
   "version": "3.5.1"
  }
 },
 "nbformat": 4,
 "nbformat_minor": 0
}
