{
 "cells": [
  {
   "cell_type": "markdown",
   "metadata": {},
   "source": [
    "From: https://github.com/tensorflow/tensorflow/blob/master/tensorflow/examples/tutorials/word2vec/word2vec_basic.py"
   ]
  },
  {
   "cell_type": "code",
   "execution_count": 15,
   "metadata": {
    "collapsed": false
   },
   "outputs": [],
   "source": [
    "from __future__ import absolute_import\n",
    "from __future__ import division\n",
    "from __future__ import print_function\n",
    "\n",
    "import collections\n",
    "import math\n",
    "import os\n",
    "import random\n",
    "import zipfile\n",
    "\n",
    "import numpy as np\n",
    "from six.moves import urllib\n",
    "from six.moves import xrange  # pylint: disable=redefined-builtin\n",
    "import tensorflow as tf\n",
    "\n",
    "from sklearn.manifold import TSNE\n",
    "import matplotlib.pyplot as plt\n",
    "%matplotlib inline\n",
    "import scipy\n",
    "import string\n",
    "import nltk"
   ]
  },
  {
   "cell_type": "markdown",
   "metadata": {},
   "source": [
    "## WBC"
   ]
  },
  {
   "cell_type": "markdown",
   "metadata": {},
   "source": [
    "### Step 1: Get the Data.\n",
    "#### Example from orignial code below."
   ]
  },
  {
   "cell_type": "code",
   "execution_count": 2,
   "metadata": {
    "collapsed": true
   },
   "outputs": [],
   "source": [
    "from string import punctuation\n",
    "def strip_punctuation(s):\n",
    "    return ''.join(c for c in s if c not in punctuation)"
   ]
  },
  {
   "cell_type": "code",
   "execution_count": 3,
   "metadata": {
    "collapsed": false
   },
   "outputs": [],
   "source": [
    "subdir = '/Users/leighharton/Documents/MSDS/Capstone/WBC'\n",
    "#filepath = subdir + \"/WBC001.txt\""
   ]
  },
  {
   "cell_type": "code",
   "execution_count": 4,
   "metadata": {
    "collapsed": true
   },
   "outputs": [],
   "source": [
    "#vocabulary = open(filepath).read()\n",
    "#vocabulary = vocabulary.lower()\n",
    "#vocabulary = strip_punctuation(vocabulary)\n",
    "#vocabulary = nltk.word_tokenize(vocabulary)"
   ]
  },
  {
   "cell_type": "code",
   "execution_count": 5,
   "metadata": {
    "collapsed": false
   },
   "outputs": [],
   "source": [
    "vocabulary = []\n",
    "for i in range(423):\n",
    "    if i < 9:\n",
    "        filepath = subdir + \"/WBC00\" + str(i+1) + \".txt\"\n",
    "        words = open(filepath).read()\n",
    "        words = words.lower()\n",
    "        words = strip_punctuation(words)\n",
    "        words = nltk.word_tokenize(words)\n",
    "        #vocabulary = vocabulary + words\n",
    "    elif i < 99:\n",
    "        filepath = subdir + \"/WBC0\" + str(i+1) + \".txt\"\n",
    "        words = open(filepath).read()\n",
    "        words = words.lower()\n",
    "        words = strip_punctuation(words)\n",
    "        words = nltk.word_tokenize(words)\n",
    "    else:\n",
    "        filepath = subdir + \"/WBC\" + str(i+1) + \".txt\"\n",
    "        words = open(filepath).read()\n",
    "        words = words.lower()\n",
    "        words = strip_punctuation(words)\n",
    "        words = nltk.word_tokenize(words)\n",
    "    vocabulary = vocabulary + words"
   ]
  },
  {
   "cell_type": "code",
   "execution_count": 6,
   "metadata": {
    "collapsed": false
   },
   "outputs": [
    {
     "data": {
      "text/plain": [
       "1351279"
      ]
     },
     "execution_count": 6,
     "metadata": {},
     "output_type": "execute_result"
    }
   ],
   "source": [
    "len(vocabulary)"
   ]
  },
  {
   "cell_type": "markdown",
   "metadata": {},
   "source": [
    "### Step 2: Build the dictionary and replace rare words with UNK token."
   ]
  },
  {
   "cell_type": "code",
   "execution_count": 7,
   "metadata": {
    "collapsed": false
   },
   "outputs": [
    {
     "name": "stdout",
     "output_type": "stream",
     "text": [
      "Most common words (+UNK) [['UNK', 11238], ('the', 87564), ('and', 59487), ('of', 55519), ('to', 34720)]\n",
      "Sample data [124, 89, 1074, 1055, 220, 103, 105, 565, 193, 18] ['sunday', 'may', '27', '2007', 'page', '1', 'sermon', 'outline', 'away', 'with']\n"
     ]
    }
   ],
   "source": [
    "vocabulary_size = 20000 # orignial was 50000\n",
    "\n",
    "\"\"\"Process raw inputs into a dataset.\"\"\"\n",
    "def build_dataset(words, n_words):\n",
    "    count = [['UNK', -1]]\n",
    "    count.extend(collections.Counter(words).most_common(n_words - 1))\n",
    "    dictionary = dict()\n",
    "    for word, _ in count:\n",
    "        dictionary[word] = len(dictionary)\n",
    "    data = list()\n",
    "    unk_count = 0\n",
    "    for word in words:\n",
    "        if word in dictionary:\n",
    "            index = dictionary[word]\n",
    "        else:\n",
    "            index = 0  # dictionary['UNK']\n",
    "            unk_count += 1\n",
    "        data.append(index)\n",
    "    count[0][1] = unk_count\n",
    "    reversed_dictionary = dict(zip(dictionary.values(), dictionary.keys()))\n",
    "    return data, count, dictionary, reversed_dictionary\n",
    "\n",
    "data, count, dictionary, reverse_dictionary = build_dataset(vocabulary,\n",
    "                                                            vocabulary_size)\n",
    "del vocabulary  # Hint to reduce memory.\n",
    "print('Most common words (+UNK)', count[:5])\n",
    "print('Sample data', data[:10], [reverse_dictionary[i] for i in data[:10]])\n",
    "\n",
    "data_index = 0"
   ]
  },
  {
   "cell_type": "markdown",
   "metadata": {},
   "source": [
    "### Step 3: Function to generate a training batch for the skip-gram model."
   ]
  },
  {
   "cell_type": "code",
   "execution_count": 8,
   "metadata": {
    "collapsed": false
   },
   "outputs": [
    {
     "name": "stdout",
     "output_type": "stream",
     "text": [
      "89 may -> 1074 27\n",
      "89 may -> 124 sunday\n",
      "1074 27 -> 1055 2007\n",
      "1074 27 -> 89 may\n",
      "1055 2007 -> 220 page\n",
      "1055 2007 -> 1074 27\n",
      "220 page -> 1055 2007\n",
      "220 page -> 103 1\n"
     ]
    }
   ],
   "source": [
    "def generate_batch(batch_size, num_skips, skip_window):\n",
    "    global data_index\n",
    "    assert batch_size % num_skips == 0\n",
    "    assert num_skips <= 2 * skip_window\n",
    "    batch = np.ndarray(shape=(batch_size), dtype=np.int32)\n",
    "    labels = np.ndarray(shape=(batch_size, 1), dtype=np.int32)\n",
    "    span = 2 * skip_window + 1  # [ skip_window target skip_window ]\n",
    "    buffer = collections.deque(maxlen=span)\n",
    "    for _ in range(span):\n",
    "        buffer.append(data[data_index])\n",
    "        data_index = (data_index + 1) % len(data)\n",
    "    for i in range(batch_size // num_skips):\n",
    "        target = skip_window  # target label at the center of the buffer\n",
    "        targets_to_avoid = [skip_window]\n",
    "        for j in range(num_skips):\n",
    "            while target in targets_to_avoid:\n",
    "                target = random.randint(0, span - 1)\n",
    "            targets_to_avoid.append(target)\n",
    "            batch[i * num_skips + j] = buffer[skip_window]\n",
    "            labels[i * num_skips + j, 0] = buffer[target]\n",
    "        buffer.append(data[data_index])\n",
    "        data_index = (data_index + 1) % len(data)\n",
    "    # Backtrack a little bit to avoid skipping words in the end of a batch\n",
    "    data_index = (data_index + len(data) - span) % len(data)\n",
    "    return batch, labels\n",
    "\n",
    "batch, labels = generate_batch(batch_size=8, num_skips=2, skip_window=1)\n",
    "for i in range(8):\n",
    "    print(batch[i], reverse_dictionary[batch[i]],'->', labels[i, 0], reverse_dictionary[labels[i, 0]])"
   ]
  },
  {
   "cell_type": "markdown",
   "metadata": {},
   "source": [
    "### Step 4: Build and train a skip-gram model."
   ]
  },
  {
   "cell_type": "code",
   "execution_count": 9,
   "metadata": {
    "collapsed": false
   },
   "outputs": [
    {
     "name": "stdout",
     "output_type": "stream",
     "text": [
      "156\n"
     ]
    }
   ],
   "source": [
    "for i in xrange(vocabulary_size):\n",
    "    if reverse_dictionary[i] == 'evil':\n",
    "        print(i)"
   ]
  },
  {
   "cell_type": "code",
   "execution_count": 10,
   "metadata": {
    "collapsed": false
   },
   "outputs": [],
   "source": [
    "batch_size = 128\n",
    "embedding_size = 300  # Dimension of the embedding vector.\n",
    "skip_window = 1       # How many words to consider left and right.\n",
    "num_skips = 2         # How many times to reuse an input to generate a label.\n",
    "\n",
    "# We pick a random validation set to sample nearest neighbors. Here we limit the\n",
    "# validation samples to the words that have a low numeric ID, which by\n",
    "# construction are also the most frequent.\n",
    "valid_size = 16     # Random set of words to evaluate similarity on.\n",
    "valid_window = 100  # Only pick dev samples in the head of the distribution.\n",
    "valid_examples = np.array([ 2, 34, 11, 38, 89,  0, 37, 67, \n",
    "                           20, 86,  7,  6, 95, 97, 54, 156])\n",
    "                            # so we can choose which words to graph\n",
    "#valid_examples = np.random.choice(valid_window, valid_size, replace=False)\n",
    "num_sampled = 64    # Number of negative examples to sample.\n",
    "\n",
    "graph = tf.Graph()\n",
    "\n",
    "with graph.as_default():\n",
    "    # Input data.\n",
    "    train_inputs = tf.placeholder(tf.int32, shape=[batch_size])\n",
    "    train_labels = tf.placeholder(tf.int32, shape=[batch_size, 1])\n",
    "    valid_dataset = tf.constant(valid_examples, dtype=tf.int32)\n",
    "\n",
    "    # Ops and variables pinned to the CPU because of missing GPU implementation\n",
    "    with tf.device('/cpu:0'):\n",
    "        # Look up embeddings for inputs.\n",
    "        embeddings = tf.Variable(tf.random_uniform([vocabulary_size, embedding_size], -1.0, 1.0))\n",
    "        embed = tf.nn.embedding_lookup(embeddings, train_inputs)\n",
    "        \n",
    "        # Construct the variables for the NCE loss\n",
    "        nce_weights = tf.Variable(tf.truncated_normal([vocabulary_size, embedding_size],\n",
    "                            stddev=1.0 / math.sqrt(embedding_size)))\n",
    "        nce_biases = tf.Variable(tf.zeros([vocabulary_size]))\n",
    "        \n",
    "        # Compute the average NCE loss for the batch.\n",
    "        # tf.nce_loss automatically draws a new sample of the negative labels each\n",
    "        # time we evaluate the loss.\n",
    "    loss = tf.reduce_mean(tf.nn.nce_loss(weights=nce_weights,\n",
    "                                         biases=nce_biases,\n",
    "                                         labels=train_labels,\n",
    "                                         inputs=embed,\n",
    "                                         num_sampled=num_sampled,\n",
    "                                         num_classes=vocabulary_size))\n",
    "        \n",
    "    # Construct the SGD optimizer using a learning rate of 1.0.\n",
    "    optimizer = tf.train.GradientDescentOptimizer(1.0).minimize(loss)\n",
    "        \n",
    "    # Compute the cosine similarity between minibatch examples and all embeddings.\n",
    "    norm = tf.sqrt(tf.reduce_sum(tf.square(embeddings), 1, keep_dims=True))\n",
    "    normalized_embeddings = embeddings / norm\n",
    "    valid_embeddings = tf.nn.embedding_lookup(normalized_embeddings, valid_dataset)\n",
    "    similarity = tf.matmul(valid_embeddings, normalized_embeddings, transpose_b=True)\n",
    "        \n",
    "    # Add variable initializer.\n",
    "    init = tf.initialize_all_variables()"
   ]
  },
  {
   "cell_type": "markdown",
   "metadata": {},
   "source": [
    "### Step 5: Begin training."
   ]
  },
  {
   "cell_type": "code",
   "execution_count": 11,
   "metadata": {
    "collapsed": false
   },
   "outputs": [
    {
     "name": "stdout",
     "output_type": "stream",
     "text": [
      "Initialized\n",
      "Average loss at step  0 :  258.067687988\n",
      "Nearest to and: 201112, benevolence, sanctification, sleepy, selfwilled, revengeth, footnote, impassioned, urgency, hangings,\n",
      "Nearest to by: gratified, flown, buttend, bed, extol, appointed, suspension, verbiage, negotiate, elijahtype,\n",
      "Nearest to it: 22, senior, thoughtless, lefties, profaneness, pharisees, considerations, withal, 613, 31214,\n",
      "Nearest to will: pretended, hewing, altered, �wherefore, rolypoly, ray, marvel, anointing, snare, parenthetical,\n",
      "Nearest to may: salute, fleeth, 1ki, explain, hag, surrender, ego, grandchildren, hill, fates,\n",
      "Nearest to UNK: 1970, elijahs, sights, handtohand, intended, binding, innumerable, leaders, vengeful, disembodied,\n",
      "Nearest to unto: winds, functional, watchers, overdrive, skill, yes, momentarily, lace, offender, interrupt,\n",
      "Nearest to things: intercessor, mayor, shellfish, besought, dug, 189, 21417, authorized, contempt, deals,\n",
      "Nearest to are: hell, true, occupies, 1710, rescueth, megiddo, outandout, “they, chooseth, map,\n",
      "Nearest to come: 1817, morality, abused, stripe, argument, sections, demonstration, relying, zoroaster, 3228,\n",
      "Nearest to is: indonesia, scofield, sophisticated, selfimportance, wellgrounded, gaining, mr, tex, err, penknife,\n",
      "Nearest to that: gangrene, jogging, preachers, slashed, dared, judgement, revision, drivers, demas, collusion,\n",
      "Nearest to gods: prophecies, midday, dumbdog, endure, 3212, doctrine, succumbing, targumists, daub, 1689,\n",
      "Nearest to about: introspection, analysts, sloppy, wherefore, samaritan, fashion, triggering, utterances, firebrand, allusion,\n",
      "Nearest to wit: leaping, prophetesses, bondmen, foiled, alternate, jumped, uks, 1724, rankimportancestatus, rays,\n",
      "Nearest to evil: weasel, vale, burdensome, almighty, augustine, writhe, skin, jericho, offences, clesias,\n",
      "Average loss at step  2000 :  68.0473315256\n",
      "Average loss at step  4000 :  19.8276289952\n",
      "Average loss at step  6000 :  11.1679283737\n",
      "Average loss at step  8000 :  7.66273621261\n",
      "Average loss at step  10000 :  6.53068123734\n",
      "Nearest to and: to, in, of, that, for, the, �, chair, is, endureth,\n",
      "Nearest to by: of, to, and, upright, in, winepress, for, appointed, bed, verbiage,\n",
      "Nearest to it: �, this, the, 22, to, 613, exceedingly, honor, abel, pharisees,\n",
      "Nearest to will: to, may, pretended, typifies, shepherd, traditions, marvel, snare, appear, zeboim,\n",
      "Nearest to may: will, fleeth, to, salute, yes, explain, and, jason, ego, hill,\n",
      "Nearest to UNK: �, chair, intended, binding, endureth, leaders, elijahs, amaziah, the, defense,\n",
      "Nearest to unto: to, of, and, in, winds, yes, persecute, herdmen, thinking, english,\n",
      "Nearest to things: mayor, besought, contempt, grew, shellfish, the, deals, anthropopatheia, pride, big,\n",
      "Nearest to are: is, and, chair, �, 1710, the, slice, megiddo, having, hell,\n",
      "Nearest to come: abused, morality, preach, demonstration, argument, nineveh, 1817, occasion, consumed, justified,\n",
      "Nearest to is: was, and, in, �, endureth, of, be, chair, are, 241011,\n",
      "Nearest to that: and, �, in, to, the, for, of, chair, boughs, which,\n",
      "Nearest to gods: the, endure, prophecies, doctrine, dumbdog, chair, midday, prot�g�s, 3212, targumists,\n",
      "Nearest to about: in, analysts, wherefore, fashion, utterances, lovingkindness, firebrand, set, samaritan, to,\n",
      "Nearest to wit: leaping, papists, joshua, smote, consideration, execute, uks, swell, reduced, eg,\n",
      "Nearest to evil: weasel, skin, almighty, offences, land, augustine, obtained, jericho, kings, him,\n",
      "Average loss at step  12000 :  5.98577576828\n",
      "Average loss at step  14000 :  5.658296013\n",
      "Average loss at step  16000 :  5.69984209621\n",
      "Average loss at step  18000 :  5.38718915808\n",
      "Average loss at step  20000 :  5.03440478826\n",
      "Nearest to and: for, that, in, of, �, but, is, as, chair, the,\n",
      "Nearest to by: in, to, for, is, of, winepress, upright, 3338, mischievous, alexandria,\n",
      "Nearest to it: he, this, that, god, �, i, them, not, you, 613,\n",
      "Nearest to will: shall, to, may, not, lu, and, shepherd, typifies, yes, marvel,\n",
      "Nearest to may: will, shall, to, fleeth, salute, explain, not, yes, ego, exaltation,\n",
      "Nearest to UNK: �, chair, endureth, god, in, is, that, puritanic, intended, purposed,\n",
      "Nearest to unto: to, in, for, of, and, winds, watchers, persecute, herdmen, skill,\n",
      "Nearest to things: mayor, intercessor, grew, besought, deals, contempt, anthropopatheia, shellfish, responded, eyewitness,\n",
      "Nearest to are: is, were, be, have, �, in, chair, was, slice, and,\n",
      "Nearest to come: 3338, 1817, morality, demonstration, abused, preach, occasion, argument, nineveh, deliver,\n",
      "Nearest to is: was, �, are, in, be, and, for, chair, has, as,\n",
      "Nearest to that: �, and, which, who, in, it, as, for, this, what,\n",
      "Nearest to gods: the, prophecies, endure, his, 3212, doctrine, dumbdog, prot�g�s, chair, midday,\n",
      "Nearest to about: in, analysts, fashion, wherefore, lovingkindness, on, utterances, newspaper, firebrand, samaritan,\n",
      "Nearest to wit: leaping, papists, smote, consideration, himself, joshua, execute, swell, reduced, prophetesses,\n",
      "Nearest to evil: vale, weasel, skin, almighty, augustine, offences, jericho, land, boaz, obtained,\n",
      "Average loss at step  22000 :  4.97028610003\n",
      "Average loss at step  24000 :  4.47267255843\n",
      "Average loss at step  26000 :  4.43771400392\n",
      "Average loss at step  28000 :  4.39461960316\n",
      "Average loss at step  30000 :  4.35391345799\n",
      "Nearest to and: for, chair, but, that, in, as, which, of, endureth, to,\n",
      "Nearest to by: to, in, of, for, winepress, �, is, and, mischievous, he,\n",
      "Nearest to it: he, this, god, �, them, i, that, they, not, you,\n",
      "Nearest to will: shall, to, may, would, can, lu, them, should, not, gano,\n",
      "Nearest to may: will, shall, to, fleeth, salute, should, not, august, exaltation, explain,\n",
      "Nearest to UNK: �, chair, puritanic, endureth, the, bondman, purposed, god, it, 2929,\n",
      "Nearest to unto: to, of, and, in, watchers, persecute, winds, inference, herdmen, yes,\n",
      "Nearest to things: mayor, intercessor, grew, besought, deals, anthropopatheia, responded, eyewitness, arthur, manners,\n",
      "Nearest to are: were, is, be, have, was, �, slice, and, chair, outandout,\n",
      "Nearest to come: 3338, 1817, demonstration, morality, preach, deliver, abused, sections, displeasure, argument,\n",
      "Nearest to is: was, are, be, �, has, in, for, and, hath, shows,\n",
      "Nearest to that: which, and, �, for, this, what, it, as, who, but,\n",
      "Nearest to gods: the, prophecies, his, endure, 3212, dumbdog, doctrine, prot�g�s, reconciled, chair,\n",
      "Nearest to about: in, analysts, on, fashion, lovingkindness, wherefore, newspaper, to, utterances, wipeth,\n",
      "Nearest to wit: papists, leaping, reduced, execute, smote, joshua, consideration, swell, himself, prophetesses,\n",
      "Nearest to evil: vale, weasel, skin, almighty, augustine, boaz, land, offences, jericho, breathed,\n",
      "Average loss at step  32000 :  4.35511746943\n",
      "Average loss at step  34000 :  4.3805366385\n",
      "Average loss at step  36000 :  4.41483935177\n",
      "Average loss at step  38000 :  4.48247102368\n",
      "Average loss at step  40000 :  4.45422156656\n",
      "Nearest to and: but, for, that, chair, the, or, in, of, testator, �,\n",
      "Nearest to by: in, to, is, of, winepress, he, �, with, mischievous, extol,\n",
      "Nearest to it: he, this, god, them, that, �, there, i, you, the,\n",
      "Nearest to will: shall, to, may, would, can, should, must, lu, did, yes,\n",
      "Nearest to may: will, shall, should, to, fleeth, salute, must, ego, not, yes,\n",
      "Nearest to UNK: �, chair, god, that, puritanic, it, endureth, purposed, in, boats,\n",
      "Nearest to unto: to, of, watchers, in, and, persecute, winds, for, herdmen, inference,\n",
      "Nearest to things: mayor, intercessor, grew, besought, responded, arthur, embassy, deals, eyewitness, dye,\n",
      "Nearest to are: were, is, be, have, was, slice, chair, �, satyrs, camaraderie,\n",
      "Nearest to come: 3338, 1817, demonstration, preach, deliver, morality, sections, displeasure, abused, custody,\n",
      "Nearest to is: was, are, be, �, has, in, hath, for, chair, as,\n",
      "Nearest to that: which, �, who, it, and, this, what, as, UNK, in,\n",
      "Nearest to gods: the, his, prophecies, endure, 3212, dumbdog, prot�g�s, reconciled, homosexuals, doctrine,\n",
      "Nearest to about: on, in, analysts, lovingkindness, fashion, introspection, wherefore, newspaper, decline, wipeth,\n",
      "Nearest to wit: papists, leaping, reduced, execute, smote, himself, swell, consideration, joshua, prophetesses,\n",
      "Nearest to evil: vale, weasel, skin, almighty, land, augustine, offences, jericho, boaz, breathed,\n",
      "Average loss at step  42000 :  4.40935376835\n",
      "Average loss at step  44000 :  4.30076048326\n",
      "Average loss at step  46000 :  4.23288003194\n",
      "Average loss at step  48000 :  4.23084766757\n",
      "Average loss at step  50000 :  4.19736847246\n",
      "Nearest to and: but, chair, for, that, in, wilt, be, testator, which, to,\n",
      "Nearest to by: to, in, winepress, mischievous, is, chair, extol, he, are, as,\n",
      "Nearest to it: he, this, there, god, �, them, i, they, that, the,\n",
      "Nearest to will: shall, to, may, would, can, should, must, lu, them, shalt,\n",
      "Nearest to may: shall, will, should, to, fleeth, must, would, salute, not, ego,\n",
      "Nearest to UNK: �, puritanic, chair, 2929, purposed, sermons, it, endureth, condemn, in,\n",
      "Nearest to unto: to, and, watchers, winds, of, in, persecute, inference, herdmen, tight,\n",
      "Nearest to things: intercessor, mayor, words, arthur, grew, responded, besought, embassy, dye, anthropopatheia,\n",
      "Nearest to are: were, is, be, have, slice, was, �, chair, outandout, camaraderie,\n",
      "Nearest to come: 3338, demonstration, 1817, preach, deliver, displeasure, sections, abused, morality, custody,\n",
      "Nearest to is: was, has, are, be, hath, �, had, in, shows, chair,\n",
      "Nearest to that: which, who, what, and, �, it, but, as, this, if,\n",
      "Nearest to gods: his, the, prophecies, endure, 3212, reconciled, dumbdog, prot�g�s, these, chair,\n",
      "Nearest to about: on, lovingkindness, analysts, in, fashion, introspection, to, wipeth, newspaper, wherefore,\n",
      "Nearest to wit: papists, leaping, reduced, execute, joshua, smote, swell, prophetesses, himself, consideration,\n",
      "Nearest to evil: vale, weasel, skin, almighty, boaz, land, one, augustine, offences, jericho,\n",
      "Average loss at step  52000 :  4.18707519805\n",
      "Average loss at step  54000 :  4.22855529332\n",
      "Average loss at step  56000 :  4.2233288368\n",
      "Average loss at step  58000 :  4.31364299893\n",
      "Average loss at step  60000 :  4.34730636668\n",
      "Nearest to and: but, or, chair, for, is, of, that, in, �, ie,\n",
      "Nearest to by: in, to, is, hit, are, of, winepress, �, was, extol,\n",
      "Nearest to it: he, this, god, there, them, �, they, that, i, not,\n",
      "Nearest to will: shall, to, would, may, can, should, must, could, lu, did,\n",
      "Nearest to may: shall, will, should, to, would, must, fleeth, might, salute, not,\n",
      "Nearest to UNK: �, chair, that, puritanic, the, god, it, and, boats, in,\n",
      "Nearest to unto: to, of, watchers, in, winds, and, persecute, by, herdmen, timeline,\n",
      "Nearest to things: words, intercessor, mayor, grew, arthur, responded, embassy, besought, dye, 256,\n",
      "Nearest to are: were, be, is, have, was, slice, chair, and, �, had,\n",
      "Nearest to come: demonstration, preach, 3338, 1817, deliver, displeasure, it, sections, specificity, custody,\n",
      "Nearest to is: was, are, be, has, hath, �, and, as, for, were,\n",
      "Nearest to that: which, this, what, who, and, �, it, UNK, the, but,\n",
      "Nearest to gods: his, the, prophecies, endure, 3212, these, reconciled, dumbdog, homosexuals, prot�g�s,\n",
      "Nearest to about: on, lovingkindness, in, analysts, introspection, wipeth, fashion, triggering, decline, wherefore,\n",
      "Nearest to wit: papists, reduced, leaping, execute, said, me, smote, himself, swell, determinate,\n",
      "Nearest to evil: vale, weasel, skin, almighty, land, good, analysts, boaz, jericho, offences,\n",
      "Average loss at step  62000 :  4.27336078143\n",
      "Average loss at step  64000 :  4.24974393082\n",
      "Average loss at step  66000 :  4.1620444597\n",
      "Average loss at step  68000 :  4.13637702072\n",
      "Average loss at step  70000 :  4.12420795166\n",
      "Nearest to and: but, chair, of, wilt, the, testator, in, be, or, as,\n",
      "Nearest to by: in, to, is, winepress, chair, concision, through, mischievous, with, extol,\n",
      "Nearest to it: he, there, this, god, them, that, �, the, you, they,\n",
      "Nearest to will: shall, would, can, may, to, should, must, lu, could, them,\n",
      "Nearest to may: shall, will, should, would, to, must, fleeth, might, august, salute,\n",
      "Nearest to UNK: �, puritanic, chair, 2216, sermons, purposed, 2929, practicing, seers, the,\n",
      "Nearest to unto: to, of, watchers, and, in, winds, persecute, tight, 56912, herdmen,\n",
      "Nearest to things: words, intercessor, mayor, arthur, grew, responded, embassy, besought, dye, men,\n",
      "Nearest to are: were, is, have, be, slice, and, was, had, camaraderie, satyrs,\n",
      "Nearest to come: demonstration, preach, deliver, 3338, 1817, displeasure, specificity, sections, custody, sequel,\n",
      "Nearest to is: was, has, are, be, hath, had, �, shows, in, chair,\n",
      "Nearest to that: which, who, what, it, but, as, if, �, the, this,\n",
      "Nearest to gods: the, his, prophecies, endure, 3212, reconciled, dumbdog, these, my, homosexuals,\n",
      "Nearest to about: on, lovingkindness, analysts, in, to, wipeth, trace, introspection, newspaper, triggering,\n",
      "Nearest to wit: papists, reduced, said, leaping, execute, me, determinate, you, analog, swell,\n",
      "Nearest to evil: vale, weasel, skin, good, land, ahhh, almighty, pentateuch, one, boaz,\n",
      "Average loss at step  72000 :  4.11001585901\n",
      "Average loss at step  74000 :  4.11556347311\n",
      "Average loss at step  76000 :  4.15355235672\n",
      "Average loss at step  78000 :  4.15815619802\n",
      "Average loss at step  80000 :  4.25249048698\n",
      "Nearest to and: but, chair, of, is, be, that, for, or, ie, in,\n",
      "Nearest to by: in, to, through, of, is, winepress, unto, concision, hit, mischievous,\n",
      "Nearest to it: he, this, there, god, them, that, �, not, they, the,\n",
      "Nearest to will: shall, would, can, may, to, should, must, could, might, lu,\n",
      "Nearest to may: shall, will, should, would, must, to, might, fleeth, can, ego,\n",
      "Nearest to UNK: �, chair, boats, the, puritanic, pickling, god, that, and, it,\n",
      "Nearest to unto: to, of, watchers, winds, in, by, vindicating, and, with, into,\n",
      "Nearest to things: words, intercessor, mayor, arthur, responded, embassy, men, 256, grew, dye,\n",
      "Nearest to are: were, be, is, have, was, slice, and, been, chair, satyrs,\n",
      "Nearest to come: preach, deliver, demonstration, 3338, 1817, sequel, displeasure, custody, specificity, sections,\n",
      "Nearest to is: was, has, are, be, hath, and, �, in, shows, does,\n",
      "Nearest to that: which, what, who, this, and, it, as, god, �, the,\n",
      "Nearest to gods: his, the, prophecies, endure, 3212, reconciled, these, my, dumbdog, homosexuals,\n",
      "Nearest to about: on, lovingkindness, in, analysts, wipeth, introspection, trace, decline, triggering, aggregate,\n",
      "Nearest to wit: papists, said, reduced, me, leaping, execute, determinate, hasty, you, smote,\n",
      "Nearest to evil: vale, weasel, good, skin, land, analysts, ahhh, almighty, tolerable, one,\n",
      "Average loss at step  82000 :  4.24693176854\n",
      "Average loss at step  84000 :  4.20186797643\n",
      "Average loss at step  86000 :  4.12721615183\n",
      "Average loss at step  88000 :  4.06763877988\n",
      "Average loss at step  90000 :  4.06928670704\n",
      "Nearest to and: but, chair, of, in, wilt, as, testator, �, all, which,\n",
      "Nearest to by: in, chair, through, hit, concision, winepress, is, extol, was, mischievous,\n",
      "Nearest to it: he, this, there, god, that, them, �, the, you, tibni,\n",
      "Nearest to will: shall, would, can, may, should, to, must, could, lu, might,\n",
      "Nearest to may: shall, will, should, would, must, might, to, can, fleeth, ego,\n",
      "Nearest to UNK: �, puritanic, chair, and, that, in, regarded, seers, 2216, it,\n",
      "Nearest to unto: to, watchers, of, in, winds, and, into, 56912, vindicating, herdmen,\n",
      "Nearest to things: words, intercessor, arthur, men, mayor, embassy, responded, grew, besought, condemnatory,\n",
      "Nearest to are: were, is, have, be, slice, been, and, had, was, camaraderie,\n",
      "Nearest to come: deliver, preach, demonstration, 3338, custody, there, displeasure, 1817, sequel, specificity,\n",
      "Nearest to is: was, has, are, be, hath, in, had, shows, �, chair,\n",
      "Nearest to that: which, what, who, it, but, as, if, this, and, improving,\n",
      "Nearest to gods: his, the, prophecies, endure, 3212, reconciled, my, these, dumbdog, homosexuals,\n",
      "Nearest to about: on, lovingkindness, wipeth, analysts, trace, triggering, 167, aggregate, newspaper, introspection,\n",
      "Nearest to wit: papists, said, reduced, me, leaping, determinate, execute, hasty, analog, pretend,\n",
      "Nearest to evil: vale, weasel, good, skin, one, ahhh, land, pentateuch, analysts, incurs,\n",
      "Average loss at step  92000 :  4.05590880549\n",
      "Average loss at step  94000 :  4.03884590364\n",
      "Average loss at step  96000 :  4.07504963076\n",
      "Average loss at step  98000 :  4.10649968648\n",
      "Average loss at step  100000 :  4.1449823674\n",
      "Nearest to and: but, chair, is, for, or, of, that, testator, the, in,\n",
      "Nearest to by: in, through, to, of, is, hit, winepress, concision, chair, unto,\n",
      "Nearest to it: he, this, there, god, them, they, you, not, and, that,\n",
      "Nearest to will: shall, would, can, may, should, to, must, might, could, lu,\n",
      "Nearest to may: shall, will, should, would, must, might, to, can, ego, fleeth,\n",
      "Nearest to UNK: �, the, chair, and, is, pickling, puritanic, boats, that, god,\n",
      "Nearest to unto: to, and, watchers, of, vindicating, against, winds, tight, stretch, herdmen,\n",
      "Nearest to things: words, men, intercessor, arthur, mayor, embassy, 256, perisheth, grew, responded,\n",
      "Nearest to are: were, is, be, have, slice, was, been, satyrs, and, chair,\n",
      "Nearest to come: deliver, preach, demonstration, sequel, custody, 3338, specificity, there, displeasure, 1817,\n",
      "Nearest to is: was, are, has, be, in, and, hath, of, does, �,\n",
      "Nearest to that: which, what, who, and, this, it, if, god, UNK, as,\n",
      "Nearest to gods: his, the, prophecies, endure, 3212, reconciled, my, these, dumbdog, homosexuals,\n",
      "Nearest to about: on, lovingkindness, analysts, trace, wipeth, aggregate, decline, in, triggering, 167,\n",
      "Nearest to wit: papists, said, reduced, me, lord, determinate, scourge, anticipate, winked, hasty,\n",
      "Nearest to evil: vale, weasel, good, analysts, ahhh, skin, tolerable, one, incurs, land,\n"
     ]
    }
   ],
   "source": [
    "num_steps = 100001\n",
    "\n",
    "with tf.Session(graph=graph) as session:\n",
    "    # We must initialize all variables before we use them.\n",
    "    init.run()\n",
    "    print('Initialized')\n",
    "    \n",
    "    average_loss = 0\n",
    "    for step in xrange(num_steps):\n",
    "        batch_inputs, batch_labels = generate_batch(batch_size, num_skips, skip_window)\n",
    "        feed_dict = {train_inputs: batch_inputs, train_labels: batch_labels}\n",
    "        \n",
    "        # We perform one update step by evaluating the optimizer op (including it\n",
    "        # in the list of returned values for session.run()\n",
    "        _, loss_val = session.run([optimizer, loss], feed_dict=feed_dict)\n",
    "        average_loss += loss_val\n",
    "        \n",
    "        if step % 2000 == 0:\n",
    "            if step > 0:\n",
    "                average_loss /= 2000\n",
    "                # The average loss is an estimate of the loss over the last 2000 batches.\n",
    "            print('Average loss at step ', step, ': ', average_loss)\n",
    "            average_loss = 0\n",
    "        \n",
    "        # Note that this is expensive (~20% slowdown if computed every 500 steps)\n",
    "        if step % 10000 == 0:\n",
    "            sim = similarity.eval()\n",
    "            for i in xrange(valid_size):\n",
    "                valid_word = reverse_dictionary[valid_examples[i]]\n",
    "                top_k = 10  # number of nearest neighbors\n",
    "                nearest = (-sim[i, :]).argsort()[1:top_k + 1]\n",
    "                log_str = 'Nearest to %s:' % valid_word\n",
    "                for k in xrange(top_k):\n",
    "                    close_word = reverse_dictionary[nearest[k]]\n",
    "                    log_str = '%s %s,' % (log_str, close_word)\n",
    "                print(log_str)\n",
    "    \n",
    "    final_embeddings = normalized_embeddings.eval()"
   ]
  },
  {
   "cell_type": "code",
   "execution_count": 12,
   "metadata": {
    "collapsed": false
   },
   "outputs": [
    {
     "name": "stdout",
     "output_type": "stream",
     "text": [
      "Nearest to evil: vale, weasel, good, analysts, ahhh, skin, tolerable, one, incurs, land,\n"
     ]
    }
   ],
   "source": [
    "embed_a = final_embeddings[156]\n",
    "word = reverse_dictionary[156]\n",
    "top_k = 10\n",
    "nearest = (-sim[15, :]).argsort()[1:top_k + 1]\n",
    "log_str = 'Nearest to %s:' % word\n",
    "for k in xrange(top_k):\n",
    "    close_word = reverse_dictionary[nearest[k]]\n",
    "    if k == 0:\n",
    "        embed_b = final_embeddings[nearest[k]]\n",
    "    if k == 1:\n",
    "        embed_c = final_embeddings[nearest[k]]\n",
    "    if k == 2:\n",
    "        embed_d = final_embeddings[nearest[k]]\n",
    "    if k == 3:\n",
    "        embed_e = final_embeddings[nearest[k]]\n",
    "    if k == 4:\n",
    "        embed_f = final_embeddings[nearest[k]]\n",
    "    if k == 5:\n",
    "        embed_g = final_embeddings[nearest[k]]\n",
    "    if k == 6:\n",
    "        embed_h = final_embeddings[nearest[k]]\n",
    "    if k == 7:\n",
    "        embed_i = final_embeddings[nearest[k]]\n",
    "    if k == 8:\n",
    "        embed_j = final_embeddings[nearest[k]]\n",
    "    if k == 9:\n",
    "        embed_k = final_embeddings[nearest[k]]     \n",
    "    log_str = '%s %s,' % (log_str, close_word)\n",
    "print(log_str)"
   ]
  },
  {
   "cell_type": "code",
   "execution_count": 13,
   "metadata": {
    "collapsed": false
   },
   "outputs": [
    {
     "name": "stdout",
     "output_type": "stream",
     "text": [
      "<type 'numpy.ndarray'>\n",
      "(11, 300)\n",
      "<type 'tuple'>\n",
      "11\n"
     ]
    }
   ],
   "source": [
    "WBC_wv = np.vstack((embed_a,embed_b,embed_c,embed_d,embed_e,embed_f,embed_g,\n",
    "                    embed_h,embed_i,embed_j,embed_k))\n",
    "print(type(WBC_wv))\n",
    "print(WBC_wv.shape)\n",
    "\n",
    "\n",
    "WBC_vocab = ('evil', 'vale', 'weasel', 'good', 'analysts', 'ahhh',\n",
    "             'skin', 'tolerable', 'one', 'incurs', 'land')\n",
    "print(type(WBC_vocab))\n",
    "print(len(WBC_vocab))"
   ]
  },
  {
   "cell_type": "markdown",
   "metadata": {},
   "source": [
    "### Step 6: Visualize the embeddings."
   ]
  },
  {
   "cell_type": "code",
   "execution_count": 20,
   "metadata": {
    "collapsed": false
   },
   "outputs": [
    {
     "data": {
      "image/png": "[encoded data removed]",
      "text/plain": [
       "<matplotlib.figure.Figure at 0x1142c3a90>"
      ]
     },
     "metadata": {},
     "output_type": "display_data"
    }
   ],
   "source": [
    "tsne = TSNE(n_components=2, random_state=0)\n",
    "np.set_printoptions(suppress=True)\n",
    "Y = tsne.fit_transform(WBC_wv[:11,:])\n",
    " \n",
    "plt.scatter(Y[:, 0], Y[:, 1])\n",
    "plt.axis([-0.0003,0.0003,-0.0003,0.0003])\n",
    "for label, x, y in zip(WBC_vocab, Y[:, 0], Y[:, 1]):\n",
    "    plt.annotate(label, xy=(x, y), xytext=(0, 0), textcoords='offset points')\n",
    "plt.savefig('WBC_embeddings.pdf')\n",
    "plt.show()"
   ]
  },
  {
   "cell_type": "markdown",
   "metadata": {},
   "source": [
    "## John Piper"
   ]
  },
  {
   "cell_type": "markdown",
   "metadata": {},
   "source": [
    "### Step 1: Get the Data."
   ]
  },
  {
   "cell_type": "code",
   "execution_count": 21,
   "metadata": {
    "collapsed": true
   },
   "outputs": [],
   "source": [
    "subdir = '/Users/leighharton/Documents/MSDS/Capstone/JohnPiper'\n",
    "#filepath = subdir + \"/JohnPiper001.txt\""
   ]
  },
  {
   "cell_type": "code",
   "execution_count": 22,
   "metadata": {
    "collapsed": false
   },
   "outputs": [],
   "source": [
    "vocabulary = []\n",
    "for i in range(579):\n",
    "    if i < 9:\n",
    "        filepath = subdir + \"/JohnPiper00\" + str(i+1) + \".txt\"\n",
    "        words = open(filepath).read()\n",
    "        words = words.lower()\n",
    "        words = strip_punctuation(words)\n",
    "        words = nltk.word_tokenize(words)\n",
    "        #vocabulary = vocabulary + words\n",
    "    elif i < 99:\n",
    "        filepath = subdir + \"/JohnPiper0\" + str(i+1) + \".txt\"\n",
    "        words = open(filepath).read()\n",
    "        words = words.lower()\n",
    "        words = strip_punctuation(words)\n",
    "        words = nltk.word_tokenize(words)\n",
    "    else:\n",
    "        filepath = subdir + \"/JohnPiper\" + str(i+1) + \".txt\"\n",
    "        words = open(filepath).read()\n",
    "        words = words.lower()\n",
    "        words = strip_punctuation(words)\n",
    "        words = nltk.word_tokenize(words)\n",
    "    vocabulary = vocabulary + words"
   ]
  },
  {
   "cell_type": "code",
   "execution_count": 23,
   "metadata": {
    "collapsed": false
   },
   "outputs": [
    {
     "data": {
      "text/plain": [
       "1537468"
      ]
     },
     "execution_count": 23,
     "metadata": {},
     "output_type": "execute_result"
    }
   ],
   "source": [
    "len(vocabulary)"
   ]
  },
  {
   "cell_type": "markdown",
   "metadata": {},
   "source": [
    "### Step 2: Build the dictionary and replace rare words with UNK token."
   ]
  },
  {
   "cell_type": "code",
   "execution_count": 24,
   "metadata": {
    "collapsed": false
   },
   "outputs": [
    {
     "name": "stdout",
     "output_type": "stream",
     "text": [
      "Most common words (+UNK) [['UNK', 27504], ('the', 94854), ('and', 56556), ('of', 53648), ('to', 44191)]\n",
      "Sample data [42, 1, 55, 1029, 282, 189, 2, 329, 294, 14] ['if', 'the', 'lord', 'wills', 'both', 'today', 'and', 'next', 'week', 'we']\n"
     ]
    }
   ],
   "source": [
    "vocabulary_size = 20000 # orignial was 50000\n",
    "\n",
    "\"\"\"Process raw inputs into a dataset.\"\"\"\n",
    "def build_dataset(words, n_words):\n",
    "    count = [['UNK', -1]]\n",
    "    count.extend(collections.Counter(words).most_common(n_words - 1))\n",
    "    dictionary = dict()\n",
    "    for word, _ in count:\n",
    "        dictionary[word] = len(dictionary)\n",
    "    data = list()\n",
    "    unk_count = 0\n",
    "    for word in words:\n",
    "        if word in dictionary:\n",
    "            index = dictionary[word]\n",
    "        else:\n",
    "            index = 0  # dictionary['UNK']\n",
    "            unk_count += 1\n",
    "        data.append(index)\n",
    "    count[0][1] = unk_count\n",
    "    reversed_dictionary = dict(zip(dictionary.values(), dictionary.keys()))\n",
    "    return data, count, dictionary, reversed_dictionary\n",
    "\n",
    "data, count, dictionary, reverse_dictionary = build_dataset(vocabulary,\n",
    "                                                            vocabulary_size)\n",
    "del vocabulary  # Hint to reduce memory.\n",
    "print('Most common words (+UNK)', count[:5])\n",
    "print('Sample data', data[:10], [reverse_dictionary[i] for i in data[:10]])\n",
    "\n",
    "data_index = 0"
   ]
  },
  {
   "cell_type": "markdown",
   "metadata": {},
   "source": [
    "### Step 3: Function to generate a training batch for the skip-gram model."
   ]
  },
  {
   "cell_type": "code",
   "execution_count": 25,
   "metadata": {
    "collapsed": false
   },
   "outputs": [
    {
     "name": "stdout",
     "output_type": "stream",
     "text": [
      "1 the -> 55 lord\n",
      "1 the -> 42 if\n",
      "55 lord -> 1 the\n",
      "55 lord -> 1029 wills\n",
      "1029 wills -> 282 both\n",
      "1029 wills -> 55 lord\n",
      "282 both -> 1029 wills\n",
      "282 both -> 189 today\n"
     ]
    }
   ],
   "source": [
    "def generate_batch(batch_size, num_skips, skip_window):\n",
    "    global data_index\n",
    "    assert batch_size % num_skips == 0\n",
    "    assert num_skips <= 2 * skip_window\n",
    "    batch = np.ndarray(shape=(batch_size), dtype=np.int32)\n",
    "    labels = np.ndarray(shape=(batch_size, 1), dtype=np.int32)\n",
    "    span = 2 * skip_window + 1  # [ skip_window target skip_window ]\n",
    "    buffer = collections.deque(maxlen=span)\n",
    "    for _ in range(span):\n",
    "        buffer.append(data[data_index])\n",
    "        data_index = (data_index + 1) % len(data)\n",
    "    for i in range(batch_size // num_skips):\n",
    "        target = skip_window  # target label at the center of the buffer\n",
    "        targets_to_avoid = [skip_window]\n",
    "        for j in range(num_skips):\n",
    "            while target in targets_to_avoid:\n",
    "                target = random.randint(0, span - 1)\n",
    "            targets_to_avoid.append(target)\n",
    "            batch[i * num_skips + j] = buffer[skip_window]\n",
    "            labels[i * num_skips + j, 0] = buffer[target]\n",
    "        buffer.append(data[data_index])\n",
    "        data_index = (data_index + 1) % len(data)\n",
    "    # Backtrack a little bit to avoid skipping words in the end of a batch\n",
    "    data_index = (data_index + len(data) - span) % len(data)\n",
    "    return batch, labels\n",
    "\n",
    "batch, labels = generate_batch(batch_size=8, num_skips=2, skip_window=1)\n",
    "for i in range(8):\n",
    "    print(batch[i], reverse_dictionary[batch[i]],'->', labels[i, 0], reverse_dictionary[labels[i, 0]])"
   ]
  },
  {
   "cell_type": "markdown",
   "metadata": {},
   "source": [
    "### Step 4: Build and train a skip-gram model."
   ]
  },
  {
   "cell_type": "code",
   "execution_count": 26,
   "metadata": {
    "collapsed": false
   },
   "outputs": [
    {
     "name": "stdout",
     "output_type": "stream",
     "text": [
      "261\n"
     ]
    }
   ],
   "source": [
    "for i in xrange(vocabulary_size):\n",
    "    if reverse_dictionary[i] == 'evil':\n",
    "        print(i)"
   ]
  },
  {
   "cell_type": "code",
   "execution_count": 27,
   "metadata": {
    "collapsed": false
   },
   "outputs": [],
   "source": [
    "batch_size = 128\n",
    "embedding_size = 300  # Dimension of the embedding vector.\n",
    "skip_window = 1       # How many words to consider left and right.\n",
    "num_skips = 2         # How many times to reuse an input to generate a label.\n",
    "\n",
    "# We pick a random validation set to sample nearest neighbors. Here we limit the\n",
    "# validation samples to the words that have a low numeric ID, which by\n",
    "# construction are also the most frequent.\n",
    "valid_size = 16     # Random set of words to evaluate similarity on.\n",
    "valid_window = 100  # Only pick dev samples in the head of the distribution.\n",
    "valid_examples = np.array([ 2, 34, 11, 38, 89,  0, 37, 67, \n",
    "                           20, 86,  7,  6, 95, 97, 54, 261])\n",
    "                            # so we can choose which words to graph\n",
    "#valid_examples = np.random.choice(valid_window, valid_size, replace=False)\n",
    "num_sampled = 64    # Number of negative examples to sample.\n",
    "\n",
    "graph = tf.Graph()\n",
    "\n",
    "with graph.as_default():\n",
    "    # Input data.\n",
    "    train_inputs = tf.placeholder(tf.int32, shape=[batch_size])\n",
    "    train_labels = tf.placeholder(tf.int32, shape=[batch_size, 1])\n",
    "    valid_dataset = tf.constant(valid_examples, dtype=tf.int32)\n",
    "\n",
    "    # Ops and variables pinned to the CPU because of missing GPU implementation\n",
    "    with tf.device('/cpu:0'):\n",
    "        # Look up embeddings for inputs.\n",
    "        embeddings = tf.Variable(tf.random_uniform([vocabulary_size, embedding_size], -1.0, 1.0))\n",
    "        embed = tf.nn.embedding_lookup(embeddings, train_inputs)\n",
    "        \n",
    "        # Construct the variables for the NCE loss\n",
    "        nce_weights = tf.Variable(tf.truncated_normal([vocabulary_size, embedding_size],\n",
    "                            stddev=1.0 / math.sqrt(embedding_size)))\n",
    "        nce_biases = tf.Variable(tf.zeros([vocabulary_size]))\n",
    "        \n",
    "        # Compute the average NCE loss for the batch.\n",
    "        # tf.nce_loss automatically draws a new sample of the negative labels each\n",
    "        # time we evaluate the loss.\n",
    "    loss = tf.reduce_mean(tf.nn.nce_loss(weights=nce_weights,\n",
    "                                         biases=nce_biases,\n",
    "                                         labels=train_labels,\n",
    "                                         inputs=embed,\n",
    "                                         num_sampled=num_sampled,\n",
    "                                         num_classes=vocabulary_size))\n",
    "        \n",
    "    # Construct the SGD optimizer using a learning rate of 1.0.\n",
    "    optimizer = tf.train.GradientDescentOptimizer(1.0).minimize(loss)\n",
    "        \n",
    "    # Compute the cosine similarity between minibatch examples and all embeddings.\n",
    "    norm = tf.sqrt(tf.reduce_sum(tf.square(embeddings), 1, keep_dims=True))\n",
    "    normalized_embeddings = embeddings / norm\n",
    "    valid_embeddings = tf.nn.embedding_lookup(normalized_embeddings, valid_dataset)\n",
    "    similarity = tf.matmul(valid_embeddings, normalized_embeddings, transpose_b=True)\n",
    "        \n",
    "    # Add variable initializer.\n",
    "    init = tf.initialize_all_variables()"
   ]
  },
  {
   "cell_type": "markdown",
   "metadata": {},
   "source": [
    "### Step 5: Begin training."
   ]
  },
  {
   "cell_type": "code",
   "execution_count": 28,
   "metadata": {
    "collapsed": false
   },
   "outputs": [
    {
     "name": "stdout",
     "output_type": "stream",
     "text": [
      "Initialized\n",
      "Average loss at step  0 :  270.370941162\n",
      "Nearest to and: perplexity, vacation, purposeful, johnstones, 83539, fake, denominational, showing, impoverished, wondered,\n",
      "Nearest to by: feast, tried, needy, rome, ingathering, geographically, misplaced, assignments, willgive, princess,\n",
      "Nearest to for: obstetrician, 197, lawyer, concluded, commandest, sojourner, thirty, lighting, death, canst,\n",
      "Nearest to jesus: threatening, thereof, assertion, reign, unlawful, thishe, startle, canaanites, solemnity, diverted,\n",
      "Nearest to into: ourgreat, imitator, reminded, dump, weeps, glasses, armed, passively, paris, everywhere,\n",
      "Nearest to UNK: 19961997, democratic, summarizing, bruise, galaxy, little, usthats, ties, looking, cloaked,\n",
      "Nearest to they: trivial, andon, amerciful, 2014, government, birthday, 4216, sanity, thence, 248,\n",
      "Nearest to gods: liberty, will, millennium, thewill, wheelchair, personnel, rouse, equip, alienates, exalts,\n",
      "Nearest to are: preparation, wherefore, unaware, efforts, 921, completion, wait, hardening, see, 318,\n",
      "Nearest to out: lashes, crossway, attains, aparticular, injohn, speed, clang, manmade, andworship, thewonder,\n",
      "Nearest to that: commerce, ascribe, simplybeing, subdues, exceeds, vacuum, aging, let�s, noisy, itwith,\n",
      "Nearest to in: criticism, minister, city, snatched, invincibility, 173031, verse2, undone, 46, vocations,\n",
      "Nearest to 1: ecclesiastical, bite, organic, edify, interpretthe, terminal, undemocratic, weighs, pommerantz, evenafterwards,\n",
      "Nearest to said: forchrists, mycovenant, 175, pleabargaining, participate, 1519, megive, 1128, accident, ofjohn,\n",
      "Nearest to my: 3240, expense, whatthe, machines, convention, joke, spheres, atlantic, vocation, astray,\n",
      "Nearest to evil: 1994, throughsacrificial, telescope, jewelry, persistent, 785, themwe, thatto, uswe, holiest,\n",
      "Average loss at step  2000 :  66.6603492696\n",
      "Average loss at step  4000 :  18.6151548281\n",
      "Average loss at step  6000 :  11.0020133302\n",
      "Average loss at step  8000 :  8.79838743532\n",
      "Average loss at step  10000 :  6.77160472238\n",
      "Nearest to and: in, is, to, that, of, but, the, UNK, for, you,\n",
      "Nearest to by: in, feast, is, walking, of, and, cravings, misplaced, 84, are,\n",
      "Nearest to for: and, to, of, in, is, that, when, last, through, obstetrician,\n",
      "Nearest to jesus: god, threatening, worldly, the, finally, reign, social, locust, thereof, ofhis,\n",
      "Nearest to into: to, weeps, in, and, dump, of, distinguishing, armed, reminded, everywhere,\n",
      "Nearest to UNK: and, in, god, that, the, is, radically, you, not, locust,\n",
      "Nearest to they: we, you, trivial, i, he, to, andon, and, democrat, it,\n",
      "Nearest to gods: the, liberty, will, his, to, 1911, exalts, worldwide, regret, earnestness,\n",
      "Nearest to are: is, and, be, preparation, locust, unaware, see, efforts, collector, betroth,\n",
      "Nearest to out: legalism, the, well, warn, locust, 1989, manmade, fullness, thousand, sort,\n",
      "Nearest to that: and, in, UNK, of, to, the, it, for, what, he,\n",
      "Nearest to in: of, and, is, to, that, UNK, for, by, from, at,\n",
      "Nearest to 1: the, and, bite, commonwealth, slaughter, iswhere, weighs, UNK, 31014, persecuted,\n",
      "Nearest to said: sin, accident, task, attendance, wait, grudge, secular, 1519, included, represents,\n",
      "Nearest to my: his, the, lawful, vocation, expense, effort, grow, UNK, astray, whatthe,\n",
      "Nearest to evil: yes, persistent, radically, purifies, summer, jewelry, maturity, alienated, collapses, regards,\n",
      "Average loss at step  12000 :  5.72920769393\n",
      "Average loss at step  14000 :  5.43966419423\n",
      "Average loss at step  16000 :  5.28879389143\n",
      "Average loss at step  18000 :  5.30858256555\n",
      "Average loss at step  20000 :  5.84396030176\n",
      "Nearest to and: but, is, UNK, or, in, that, for, you, thereforebecause, to,\n",
      "Nearest to by: in, is, are, and, feast, for, walking, rome, 84, to,\n",
      "Nearest to for: and, in, to, of, is, UNK, that, with, or, through,\n",
      "Nearest to jesus: god, he, worldly, threatening, you, locust, it, the, finally, ofhis,\n",
      "Nearest to into: to, imitator, ourgreat, weeps, in, and, from, distinguishing, glasses, dump,\n",
      "Nearest to UNK: that, god, and, in, you, it, the, is, not, for,\n",
      "Nearest to they: we, you, i, he, it, trivial, andon, to, not, coast,\n",
      "Nearest to gods: the, his, liberty, will, god, trace, exalts, and, original, earnestness,\n",
      "Nearest to are: is, were, be, have, and, unaware, locust, for, by, preparation,\n",
      "Nearest to out: selflove, manmade, legalism, wondered, warn, injohn, well, fullness, ich, locust,\n",
      "Nearest to that: UNK, it, and, what, this, in, god, for, which, to,\n",
      "Nearest to in: to, of, UNK, and, is, for, with, from, by, that,\n",
      "Nearest to 1: UNK, the, organic, tostrive, commonwealth, bite, pommerantz, ecclesiastical, terminal, persecuted,\n",
      "Nearest to said: ich, attendance, task, sin, accident, futile, 1519, ofjohn, believe, 175,\n",
      "Nearest to my: his, the, your, our, UNK, lawful, vocation, their, effort, expense,\n",
      "Nearest to evil: 1994, throughsacrificial, jewelry, persistent, purifies, summer, collapses, yes, telescope, older,\n",
      "Average loss at step  22000 :  5.33557320523\n",
      "Average loss at step  24000 :  4.81577630794\n",
      "Average loss at step  26000 :  4.54105939317\n",
      "Average loss at step  28000 :  4.37148006415\n",
      "Average loss at step  30000 :  4.41428834271\n",
      "Nearest to and: or, but, UNK, for, that, is, in, you, q, thereforebecause,\n",
      "Nearest to by: in, is, are, feast, with, rome, walking, to, for, of,\n",
      "Nearest to for: and, in, is, to, UNK, that, of, but, when, as,\n",
      "Nearest to jesus: god, he, it, the, worldly, you, finally, thereof, that, threatening,\n",
      "Nearest to into: to, in, imitator, from, ourgreat, weeps, distinguishing, admits, of, fuel,\n",
      "Nearest to UNK: that, god, and, you, in, for, thereforebecause, so, the, is,\n",
      "Nearest to they: we, you, i, he, it, trivial, andon, to, not, coast,\n",
      "Nearest to gods: his, the, liberty, god, will, billions, trace, millennium, outwardly, exalts,\n",
      "Nearest to are: were, is, be, have, for, unaware, and, by, was, y2k,\n",
      "Nearest to out: clang, selflove, manmade, legalism, wondered, aparticular, injohn, warn, ich, fullness,\n",
      "Nearest to that: UNK, what, this, it, and, for, in, which, god, of,\n",
      "Nearest to in: of, to, for, UNK, and, with, from, at, is, by,\n",
      "Nearest to 1: UNK, ecclesiastical, organic, bite, pommerantz, tostrive, commonwealth, the, terminal, undeserving,\n",
      "Nearest to said: ich, attendance, sin, ofjohn, says, task, futile, UNK, 1519, believe,\n",
      "Nearest to my: his, your, our, the, their, lawful, effort, vocation, grow, expense,\n",
      "Nearest to evil: 1994, jewelry, purifies, summer, collapses, chasm, older, throughsacrificial, yes, not,\n",
      "Average loss at step  32000 :  4.46098418152\n",
      "Average loss at step  34000 :  4.43286122882\n",
      "Average loss at step  36000 :  4.31260381806\n",
      "Average loss at step  38000 :  4.32164427733\n",
      "Average loss at step  40000 :  4.33140573943\n",
      "Nearest to and: but, or, is, you, in, thereforebecause, UNK, that, as, for,\n",
      "Nearest to by: in, is, with, feast, are, was, rome, be, 84, cravings,\n",
      "Nearest to for: in, to, and, is, that, as, of, with, locust, but,\n",
      "Nearest to jesus: god, he, it, christ, you, worldly, the, paul, that, us,\n",
      "Nearest to into: to, from, imitator, ourgreat, of, weeps, and, in, distinguishing, admits,\n",
      "Nearest to UNK: god, and, in, that, you, q, the, what, as, thereforebecause,\n",
      "Nearest to they: we, i, you, he, it, there, to, andon, trivial, and,\n",
      "Nearest to gods: his, the, liberty, god, trace, enlightens, billions, jump, recalls, will,\n",
      "Nearest to are: were, is, be, have, unaware, was, and, y2k, for, by,\n",
      "Nearest to out: clang, selflove, legalism, manmade, wondered, warn, injohn, sort, construction, aparticular,\n",
      "Nearest to that: what, it, this, god, and, UNK, which, when, for, if,\n",
      "Nearest to in: of, with, at, and, for, from, is, to, UNK, by,\n",
      "Nearest to 1: UNK, ecclesiastical, the, tostrive, pommerantz, bite, commonwealth, organic, iswhere, weighs,\n",
      "Nearest to said: says, ich, sin, futile, ofjohn, attendance, fruitof, 1519, believe, task,\n",
      "Nearest to my: his, your, our, the, their, lawful, effort, vocation, grow, 3240,\n",
      "Nearest to evil: jewelry, 1994, collapses, purifies, ghost, summer, chasm, throughsacrificial, older, thatto,\n",
      "Average loss at step  42000 :  4.35031967056\n",
      "Average loss at step  44000 :  4.40014373565\n",
      "Average loss at step  46000 :  4.38540210426\n",
      "Average loss at step  48000 :  4.23538794971\n",
      "Average loss at step  50000 :  4.34550157177\n",
      "Nearest to and: but, or, is, UNK, for, that, you, to, the, q,\n",
      "Nearest to by: in, is, feast, with, rome, are, of, be, 84, was,\n",
      "Nearest to for: to, and, is, in, that, but, of, if, UNK, as,\n",
      "Nearest to jesus: god, he, the, christ, it, paul, that, worldly, you, him,\n",
      "Nearest to into: to, from, imitator, ourgreat, in, weeps, of, 622, distinguishing, admits,\n",
      "Nearest to UNK: that, and, the, in, god, you, this, q, develop, thereforebecause,\n",
      "Nearest to they: we, i, you, he, it, there, the, andon, to, trivial,\n",
      "Nearest to gods: his, the, liberty, trace, billions, jump, this, my, enlightens, outwardly,\n",
      "Nearest to are: were, is, be, have, unaware, was, and, y2k, do, sanctifies,\n",
      "Nearest to out: clang, selflove, legalism, injohn, them, manmade, construction, warn, wondered, ich,\n",
      "Nearest to that: this, what, it, UNK, and, which, god, for, when, if,\n",
      "Nearest to in: to, of, from, at, with, UNK, for, and, is, by,\n",
      "Nearest to 1: UNK, ecclesiastical, tostrive, organic, pommerantz, commonwealth, bite, verse, 14b, interpretthe,\n",
      "Nearest to said: says, ich, sin, ofjohn, attendance, futile, say, believe, fruitof, UNK,\n",
      "Nearest to my: his, your, the, our, their, lawful, effort, a, this, grow,\n",
      "Nearest to evil: jewelry, collapses, ghost, chasm, purifies, throughsacrificial, thatto, summer, 1994, older,\n",
      "Average loss at step  52000 :  4.22759051418\n",
      "Average loss at step  54000 :  4.26808950019\n",
      "Average loss at step  56000 :  4.31258865941\n",
      "Average loss at step  58000 :  4.3050791477\n",
      "Average loss at step  60000 :  4.19593051493\n",
      "Nearest to and: but, or, for, is, that, you, UNK, as, q, in,\n",
      "Nearest to by: in, is, with, be, are, feast, was, for, rome, not,\n",
      "Nearest to for: to, in, and, of, is, that, with, as, are, but,\n",
      "Nearest to jesus: god, he, it, christ, the, paul, you, i, worldly, that,\n",
      "Nearest to into: to, from, imitator, in, ourgreat, of, weeps, through, admits, distinguishing,\n",
      "Nearest to UNK: god, in, that, q, you, the, so, and, as, thereforebecause,\n",
      "Nearest to they: we, i, you, he, there, it, to, who, trivial, not,\n",
      "Nearest to gods: his, the, liberty, billions, god, jump, trace, my, christs, outwardly,\n",
      "Nearest to are: were, is, be, have, unaware, y2k, was, for, by, do,\n",
      "Nearest to out: clang, selflove, them, legalism, injohn, construction, sort, evangelicalobedience, manmade, wondered,\n",
      "Nearest to that: what, it, this, god, when, UNK, which, if, and, to,\n",
      "Nearest to in: at, of, for, to, from, is, with, by, UNK, thereforebecause,\n",
      "Nearest to 1: UNK, ecclesiastical, commonwealth, tostrive, pommerantz, organic, bite, 2, verse, 14b,\n",
      "Nearest to said: says, ich, say, sin, futile, ofjohn, attendance, fruitof, believe, 1519,\n",
      "Nearest to my: his, your, the, our, their, lawful, effort, a, 3240, brake,\n",
      "Nearest to evil: collapses, jewelry, ghost, purifies, not, chasm, throughsacrificial, summer, older, 1994,\n",
      "Average loss at step  62000 :  4.20604061377\n",
      "Average loss at step  64000 :  4.22350117636\n",
      "Average loss at step  66000 :  4.24278767467\n",
      "Average loss at step  68000 :  4.27996086156\n",
      "Average loss at step  70000 :  4.27681560326\n",
      "Nearest to and: but, or, UNK, as, that, thereforebecause, q, is, you, for,\n",
      "Nearest to by: in, is, with, rome, feast, be, are, categories, was, through,\n",
      "Nearest to for: to, in, is, of, that, and, UNK, if, as, when,\n",
      "Nearest to jesus: god, he, christ, it, paul, the, that, worldly, him, you,\n",
      "Nearest to into: from, to, imitator, ourgreat, distinguishing, weeps, 622, admits, through, masterplanning,\n",
      "Nearest to UNK: that, god, you, the, and, this, what, as, it, so,\n",
      "Nearest to they: we, i, you, he, there, it, not, the, andon, coast,\n",
      "Nearest to gods: his, the, liberty, this, jump, billions, trace, my, outwardly, of,\n",
      "Nearest to are: were, is, be, have, unaware, was, y2k, been, sanctifies, wait,\n",
      "Nearest to out: clang, selflove, them, injohn, legalism, away, construction, evangelicalobedience, warn, god,\n",
      "Nearest to that: what, this, it, UNK, when, if, which, god, and, for,\n",
      "Nearest to in: to, at, is, of, for, from, by, with, thereforebecause, when,\n",
      "Nearest to 1: UNK, 2, ecclesiastical, tostrive, bite, verse, pommerantz, commonwealth, 14b, organic,\n",
      "Nearest to said: says, ich, say, futile, sin, ofjohn, attendance, fruitof, believe, 1519,\n",
      "Nearest to my: his, your, our, the, their, lawful, a, effort, 3240, this,\n",
      "Nearest to evil: collapses, jewelry, ghost, purifies, chasm, thatto, throughsacrificial, summer, regards, older,\n",
      "Average loss at step  72000 :  4.13508514309\n",
      "Average loss at step  74000 :  4.25408352757\n",
      "Average loss at step  76000 :  4.15950338447\n",
      "Average loss at step  78000 :  4.18955329669\n",
      "Average loss at step  80000 :  4.23933014214\n",
      "Nearest to and: but, UNK, or, is, you, that, q, thereforebecause, will, the,\n",
      "Nearest to by: is, in, are, feast, rome, with, through, was, be, lonely,\n",
      "Nearest to for: to, in, UNK, and, is, that, of, if, as, remnant,\n",
      "Nearest to jesus: god, he, christ, paul, it, that, worldly, him, the, you,\n",
      "Nearest to into: from, to, imitator, ourgreat, through, 622, admits, weeps, masterplanning, distinguishing,\n",
      "Nearest to UNK: and, you, that, so, god, all, in, what, thereforebecause, this,\n",
      "Nearest to they: we, you, i, he, there, it, the, to, aperson, and,\n",
      "Nearest to gods: his, the, liberty, billions, christs, trace, outwardly, jump, god, affectionately,\n",
      "Nearest to are: were, is, be, have, unaware, by, y2k, sanctifies, was, been,\n",
      "Nearest to out: clang, them, selflove, away, injohn, evangelicalobedience, legalism, construction, sort, beholding,\n",
      "Nearest to that: what, this, UNK, it, which, when, if, and, mourns, jesus,\n",
      "Nearest to in: from, of, at, to, UNK, is, with, for, when, through,\n",
      "Nearest to 1: 2, ecclesiastical, UNK, tostrive, verse, bite, pommerantz, 14b, commonwealth, 536,\n",
      "Nearest to said: says, say, ich, futile, sin, ofjohn, attendance, fruitof, infreedom, 1519,\n",
      "Nearest to my: his, your, our, their, the, lawful, effort, stumble, voodoo, her,\n",
      "Nearest to evil: not, collapses, jewelry, ghost, chasm, purifies, summer, thatto, older, love,\n",
      "Average loss at step  82000 :  4.22900616908\n",
      "Average loss at step  84000 :  4.12907369244\n",
      "Average loss at step  86000 :  4.14057285202\n",
      "Average loss at step  88000 :  4.15324082923\n",
      "Average loss at step  90000 :  4.17572666597\n",
      "Nearest to and: but, UNK, is, that, or, thereforebecause, you, for, exercising, of,\n",
      "Nearest to by: in, is, with, are, be, through, rome, was, 84, feast,\n",
      "Nearest to for: to, in, of, and, is, that, it, UNK, ladder, if,\n",
      "Nearest to jesus: god, he, christ, paul, it, him, you, that, worldly, thishe,\n",
      "Nearest to into: from, imitator, of, through, 622, ourgreat, admits, to, masterplanning, distinguishing,\n",
      "Nearest to UNK: and, god, you, that, the, what, in, is, it, q,\n",
      "Nearest to they: we, you, i, he, there, it, to, andon, the, aperson,\n",
      "Nearest to gods: his, the, liberty, my, billions, christs, jump, trace, outwardly, affectionately,\n",
      "Nearest to are: were, is, be, have, unaware, been, was, by, sanctifies, do,\n",
      "Nearest to out: clang, them, selflove, away, evangelicalobedience, injohn, construction, legalism, beholding, warn,\n",
      "Nearest to that: what, this, it, god, and, when, UNK, which, if, 91god,\n",
      "Nearest to in: at, of, from, for, with, UNK, is, on, to, thereforebecause,\n",
      "Nearest to 1: 2, bite, ecclesiastical, tostrive, verse, 14b, pommerantz, 536, commonwealth, scrape,\n",
      "Nearest to said: says, say, ich, futile, sin, ofjohn, believe, fruitof, attendance, infreedom,\n",
      "Nearest to my: his, your, the, our, their, lawful, this, gods, a, stumble,\n",
      "Nearest to evil: collapses, you, ghost, jewelry, purifies, thatto, chasm, older, throughsacrificial, summer,\n",
      "Average loss at step  92000 :  4.21044075227\n",
      "Average loss at step  94000 :  4.20461079669\n",
      "Average loss at step  96000 :  4.07561145413\n",
      "Average loss at step  98000 :  4.19444222081\n",
      "Average loss at step  100000 :  4.11224573672\n",
      "Nearest to and: but, or, UNK, is, that, you, in, the, verse, q,\n",
      "Nearest to by: in, is, through, with, rome, feast, are, categories, 84, be,\n",
      "Nearest to for: to, of, is, and, in, if, that, when, but, with,\n",
      "Nearest to jesus: god, he, christ, the, paul, it, him, worldly, you, that,\n",
      "Nearest to into: from, imitator, through, of, to, in, admits, ourgreat, 622, masterplanning,\n",
      "Nearest to UNK: god, and, you, life, that, this, in, the, is, what,\n",
      "Nearest to they: we, you, i, he, there, it, the, to, in, of,\n",
      "Nearest to gods: his, the, liberty, christs, billions, this, outwardly, trace, my, god,\n",
      "Nearest to are: were, is, be, have, unaware, been, do, wait, jeopardizes, was,\n",
      "Nearest to out: them, away, clang, selflove, evangelicalobedience, injohn, construction, off, legalism, ourweaknesses,\n",
      "Nearest to that: what, this, it, when, god, and, which, the, of, UNK,\n",
      "Nearest to in: of, at, to, and, with, by, is, from, thereforebecause, we,\n",
      "Nearest to 1: 2, UNK, verse, ecclesiastical, 14b, tostrive, pommerantz, bite, 536, commonwealth,\n",
      "Nearest to said: says, say, ich, sin, futile, ofjohn, fruitof, proclaiming, infreedom, attendance,\n",
      "Nearest to my: your, his, our, the, their, lawful, effort, this, her, stumble,\n",
      "Nearest to evil: collapses, ghost, jewelry, not, chasm, purifies, thatto, summer, you, love,\n"
     ]
    }
   ],
   "source": [
    "num_steps = 100001\n",
    "\n",
    "with tf.Session(graph=graph) as session:\n",
    "    # We must initialize all variables before we use them.\n",
    "    init.run()\n",
    "    print('Initialized')\n",
    "    \n",
    "    average_loss = 0\n",
    "    for step in xrange(num_steps):\n",
    "        batch_inputs, batch_labels = generate_batch(batch_size, num_skips, skip_window)\n",
    "        feed_dict = {train_inputs: batch_inputs, train_labels: batch_labels}\n",
    "        \n",
    "        # We perform one update step by evaluating the optimizer op (including it\n",
    "        # in the list of returned values for session.run()\n",
    "        _, loss_val = session.run([optimizer, loss], feed_dict=feed_dict)\n",
    "        average_loss += loss_val\n",
    "        \n",
    "        if step % 2000 == 0:\n",
    "            if step > 0:\n",
    "                average_loss /= 2000\n",
    "                # The average loss is an estimate of the loss over the last 2000 batches.\n",
    "            print('Average loss at step ', step, ': ', average_loss)\n",
    "            average_loss = 0\n",
    "        \n",
    "        # Note that this is expensive (~20% slowdown if computed every 500 steps)\n",
    "        if step % 10000 == 0:\n",
    "            sim = similarity.eval()\n",
    "            for i in xrange(valid_size):\n",
    "                valid_word = reverse_dictionary[valid_examples[i]]\n",
    "                top_k = 10  # number of nearest neighbors\n",
    "                nearest = (-sim[i, :]).argsort()[1:top_k + 1]\n",
    "                log_str = 'Nearest to %s:' % valid_word\n",
    "                for k in xrange(top_k):\n",
    "                    close_word = reverse_dictionary[nearest[k]]\n",
    "                    log_str = '%s %s,' % (log_str, close_word)\n",
    "                print(log_str)\n",
    "    \n",
    "    final_embeddings = normalized_embeddings.eval()"
   ]
  },
  {
   "cell_type": "code",
   "execution_count": 29,
   "metadata": {
    "collapsed": false
   },
   "outputs": [
    {
     "name": "stdout",
     "output_type": "stream",
     "text": [
      "Nearest to evil: collapses, ghost, jewelry, not, chasm, purifies, thatto, summer, you, love,\n"
     ]
    }
   ],
   "source": [
    "embed_a = final_embeddings[261]\n",
    "word = reverse_dictionary[261]\n",
    "top_k = 10\n",
    "nearest = (-sim[15, :]).argsort()[1:top_k + 1]\n",
    "log_str = 'Nearest to %s:' % word\n",
    "for k in xrange(top_k):\n",
    "    close_word = reverse_dictionary[nearest[k]]\n",
    "    if k == 0:\n",
    "        embed_b = final_embeddings[nearest[k]]\n",
    "    if k == 1:\n",
    "        embed_c = final_embeddings[nearest[k]]\n",
    "    if k == 2:\n",
    "        embed_d = final_embeddings[nearest[k]]\n",
    "    if k == 3:\n",
    "        embed_e = final_embeddings[nearest[k]]\n",
    "    if k == 4:\n",
    "        embed_f = final_embeddings[nearest[k]]\n",
    "    if k == 5:\n",
    "        embed_g = final_embeddings[nearest[k]]\n",
    "    if k == 6:\n",
    "        embed_h = final_embeddings[nearest[k]]\n",
    "    if k == 7:\n",
    "        embed_i = final_embeddings[nearest[k]]\n",
    "    if k == 8:\n",
    "        embed_j = final_embeddings[nearest[k]]\n",
    "    if k == 9:\n",
    "        embed_k = final_embeddings[nearest[k]]     \n",
    "    log_str = '%s %s,' % (log_str, close_word)\n",
    "print(log_str)"
   ]
  },
  {
   "cell_type": "code",
   "execution_count": 30,
   "metadata": {
    "collapsed": false
   },
   "outputs": [
    {
     "name": "stdout",
     "output_type": "stream",
     "text": [
      "<type 'numpy.ndarray'>\n",
      "(11, 300)\n",
      "<type 'tuple'>\n",
      "11\n"
     ]
    }
   ],
   "source": [
    "JohnPiper_wv = np.vstack((embed_a,embed_b,embed_c,embed_d,embed_e,embed_f,embed_g,\n",
    "                    embed_h,embed_i,embed_j,embed_k))\n",
    "print(type(JohnPiper_wv))\n",
    "print(JohnPiper_wv.shape)\n",
    "\n",
    "\n",
    "JohnPiper_vocab = ('evil', 'collapses', 'ghost', 'jewelry', 'not', 'chasm',\n",
    "             'purifies', 'thatto', 'summer', 'you', 'love')\n",
    "print(type(JohnPiper_vocab))\n",
    "print(len(JohnPiper_vocab))"
   ]
  },
  {
   "cell_type": "markdown",
   "metadata": {},
   "source": [
    "### Step 6: Visualize the embeddings."
   ]
  },
  {
   "cell_type": "code",
   "execution_count": 31,
   "metadata": {
    "collapsed": false
   },
   "outputs": [
    {
     "data": {
      "image/png": "[encoded data removed]",
      "text/plain": [
       "<matplotlib.figure.Figure at 0x1156622d0>"
      ]
     },
     "metadata": {},
     "output_type": "display_data"
    }
   ],
   "source": [
    "tsne = TSNE(n_components=2, random_state=0)\n",
    "np.set_printoptions(suppress=True)\n",
    "Y = tsne.fit_transform(JohnPiper_wv[:11,:])\n",
    " \n",
    "plt.scatter(Y[:, 0], Y[:, 1])\n",
    "plt.axis([-0.0003,0.0003,-0.0003,0.0003])\n",
    "for label, x, y in zip(JohnPiper_vocab, Y[:, 0], Y[:, 1]):\n",
    "    plt.annotate(label, xy=(x, y), xytext=(0, 0), textcoords='offset points')\n",
    "plt.savefig('JohnPiper_embeddings.pdf')\n",
    "plt.show()"
   ]
  },
  {
   "cell_type": "markdown",
   "metadata": {
    "collapsed": true
   },
   "source": [
    "### Extras"
   ]
  },
  {
   "cell_type": "markdown",
   "metadata": {},
   "source": [
    "#### Import Data"
   ]
  },
  {
   "cell_type": "code",
   "execution_count": 2,
   "metadata": {
    "collapsed": false
   },
   "outputs": [
    {
     "name": "stdout",
     "output_type": "stream",
     "text": [
      "Found and verified text8.zip\n",
      "Data size 17005207\n"
     ]
    }
   ],
   "source": [
    "url = 'http://mattmahoney.net/dc/'\n",
    "\n",
    "\"\"\"Download a file if not present, and make sure it's the right size.\"\"\"\n",
    "def maybe_download(filename, expected_bytes):\n",
    "    if not os.path.exists(filename):\n",
    "        filename, _ = urllib.request.urlretrieve(url + filename, filename)\n",
    "    statinfo = os.stat(filename)\n",
    "    if statinfo.st_size == expected_bytes:\n",
    "        print('Found and verified', filename)\n",
    "    else:\n",
    "        print(statinfo.st_size)\n",
    "        raise Exception('Failed to verify ' + filename + '. Can you get to it with a browser?')\n",
    "    return filename\n",
    "\n",
    "filename = maybe_download('text8.zip', 31344016)\n",
    "\n",
    "# Read the data into a list of strings.\n",
    "\"\"\"Extract the first file enclosed in a zip file as a list of words.\"\"\"\n",
    "def read_data(filename):\n",
    "    with zipfile.ZipFile(filename) as f:\n",
    "        data = tf.compat.as_str(f.read(f.namelist()[0])).split()\n",
    "    return data\n",
    "\n",
    "vocabulary = read_data(filename)\n",
    "print('Data size', len(vocabulary))"
   ]
  },
  {
   "cell_type": "markdown",
   "metadata": {},
   "source": [
    "#### Visualize Embeddings"
   ]
  },
  {
   "cell_type": "code",
   "execution_count": 7,
   "metadata": {
    "collapsed": false
   },
   "outputs": [
    {
     "data": {
      "image/png": "[encoded data removed]",
      "text/plain": [
       "<matplotlib.figure.Figure at 0x11d2b6f90>"
      ]
     },
     "metadata": {},
     "output_type": "display_data"
    }
   ],
   "source": [
    "def plot_with_labels(low_dim_embs, labels, filename='tsne.png'):\n",
    "    assert low_dim_embs.shape[0] >= len(labels), 'More labels than embeddings'\n",
    "    plt.figure(figsize=(18, 18))  # in inches\n",
    "    for i, label in enumerate(labels):\n",
    "        x, y = low_dim_embs[i, :]\n",
    "        plt.scatter(x, y)\n",
    "        plt.annotate(label,\n",
    "                     xy=(x, y),\n",
    "                     xytext=(5, 2),\n",
    "                     textcoords='offset points',\n",
    "                     ha='right',\n",
    "                     va='bottom')\n",
    "    \n",
    "    plt.savefig(filename)\n",
    "\n",
    "try:\n",
    "    # pylint: disable=g-import-not-at-top\n",
    "    from sklearn.manifold import TSNE\n",
    "    import matplotlib.pyplot as plt\n",
    "    \n",
    "    tsne = TSNE(perplexity=30, n_components=2, init='pca', n_iter=5000)\n",
    "    plot_only = 150\n",
    "    low_dim_embs = tsne.fit_transform(final_embeddings[:plot_only, :])\n",
    "    labels = [reverse_dictionary[i] for i in xrange(plot_only)]\n",
    "    plot_with_labels(low_dim_embs, labels)\n",
    "\n",
    "except ImportError:\n",
    "    print('Please install sklearn, matplotlib, and scipy to show embeddings.')"
   ]
  },
  {
   "cell_type": "code",
   "execution_count": null,
   "metadata": {
    "collapsed": true
   },
   "outputs": [],
   "source": []
  }
 ],
 "metadata": {
  "anaconda-cloud": {},
  "kernelspec": {
   "display_name": "Python [tensorflow]",
   "language": "python",
   "name": "Python [tensorflow]"
  },
  "language_info": {
   "codemirror_mode": {
    "name": "ipython",
    "version": 2
   },
   "file_extension": ".py",
   "mimetype": "text/x-python",
   "name": "python",
   "nbconvert_exporter": "python",
   "pygments_lexer": "ipython2",
   "version": "2.7.12"
  }
 },
 "nbformat": 4,
 "nbformat_minor": 0
}
