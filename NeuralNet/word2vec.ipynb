{
 "cells": [
  {
   "cell_type": "markdown",
   "metadata": {},
   "source": [
    "From: https://github.com/tensorflow/tensorflow/blob/master/tensorflow/examples/tutorials/word2vec/word2vec_basic.py"
   ]
  },
  {
   "cell_type": "code",
   "execution_count": 1,
   "metadata": {
    "collapsed": false
   },
   "outputs": [],
   "source": [
    "from __future__ import absolute_import\n",
    "from __future__ import division\n",
    "from __future__ import print_function\n",
    "\n",
    "import collections\n",
    "import math\n",
    "import os\n",
    "import random\n",
    "import zipfile\n",
    "\n",
    "import numpy as np\n",
    "from six.moves import urllib\n",
    "from six.moves import xrange  # pylint: disable=redefined-builtin\n",
    "import tensorflow as tf\n",
    "\n",
    "from sklearn.manifold import TSNE\n",
    "import matplotlib.pyplot as plt\n",
    "%matplotlib inline\n",
    "import scipy\n",
    "import string\n",
    "import nltk"
   ]
  },
  {
   "cell_type": "markdown",
   "metadata": {},
   "source": [
    "## WBC"
   ]
  },
  {
   "cell_type": "markdown",
   "metadata": {},
   "source": [
    "### Step 1: Get the Data.\n",
    "#### Example from orignial code below."
   ]
  },
  {
   "cell_type": "code",
   "execution_count": 2,
   "metadata": {
    "collapsed": true
   },
   "outputs": [],
   "source": [
    "from string import punctuation\n",
    "def strip_punctuation(s):\n",
    "    return ''.join(c for c in s if c not in punctuation)"
   ]
  },
  {
   "cell_type": "code",
   "execution_count": 3,
   "metadata": {
    "collapsed": false
   },
   "outputs": [],
   "source": [
    "subdir = '/Users/leighharton/Documents/MSDS/Capstone/WBC'\n",
    "#filepath = subdir + \"/WBC001.txt\""
   ]
  },
  {
   "cell_type": "code",
   "execution_count": 4,
   "metadata": {
    "collapsed": true
   },
   "outputs": [],
   "source": [
    "#vocabulary = open(filepath).read()\n",
    "#vocabulary = vocabulary.lower()\n",
    "#vocabulary = strip_punctuation(vocabulary)\n",
    "#vocabulary = nltk.word_tokenize(vocabulary)"
   ]
  },
  {
   "cell_type": "code",
   "execution_count": 5,
   "metadata": {
    "collapsed": false
   },
   "outputs": [],
   "source": [
    "vocabulary = []\n",
    "for i in range(423):\n",
    "    if i < 9:\n",
    "        filepath = subdir + \"/WBC00\" + str(i+1) + \".txt\"\n",
    "        words = open(filepath).read()\n",
    "        words = words.lower()\n",
    "        words = strip_punctuation(words)\n",
    "        words = nltk.word_tokenize(words)\n",
    "        #vocabulary = vocabulary + words\n",
    "    elif i < 99:\n",
    "        filepath = subdir + \"/WBC0\" + str(i+1) + \".txt\"\n",
    "        words = open(filepath).read()\n",
    "        words = words.lower()\n",
    "        words = strip_punctuation(words)\n",
    "        words = nltk.word_tokenize(words)\n",
    "    else:\n",
    "        filepath = subdir + \"/WBC\" + str(i+1) + \".txt\"\n",
    "        words = open(filepath).read()\n",
    "        words = words.lower()\n",
    "        words = strip_punctuation(words)\n",
    "        words = nltk.word_tokenize(words)\n",
    "    vocabulary = vocabulary + words"
   ]
  },
  {
   "cell_type": "code",
   "execution_count": 6,
   "metadata": {
    "collapsed": false
   },
   "outputs": [
    {
     "data": {
      "text/plain": [
       "1351279"
      ]
     },
     "execution_count": 6,
     "metadata": {},
     "output_type": "execute_result"
    }
   ],
   "source": [
    "len(vocabulary)"
   ]
  },
  {
   "cell_type": "markdown",
   "metadata": {},
   "source": [
    "### Step 2: Build the dictionary and replace rare words with UNK token."
   ]
  },
  {
   "cell_type": "code",
   "execution_count": 7,
   "metadata": {
    "collapsed": false
   },
   "outputs": [
    {
     "name": "stdout",
     "output_type": "stream",
     "text": [
      "Most common words (+UNK) [['UNK', 38977], ('the', 87564), ('and', 59487), ('of', 55519), ('to', 34720)]\n",
      "Sample data [124, 89, 1074, 1055, 220, 103, 105, 565, 193, 18] ['sunday', 'may', '27', '2007', 'page', '1', 'sermon', 'outline', 'away', 'with']\n"
     ]
    }
   ],
   "source": [
    "vocabulary_size = 10000 # orignial was 50000\n",
    "\n",
    "\"\"\"Process raw inputs into a dataset.\"\"\"\n",
    "def build_dataset(words, n_words):\n",
    "    count = [['UNK', -1]]\n",
    "    count.extend(collections.Counter(words).most_common(n_words - 1))\n",
    "    dictionary = dict()\n",
    "    for word, _ in count:\n",
    "        dictionary[word] = len(dictionary)\n",
    "    data = list()\n",
    "    unk_count = 0\n",
    "    for word in words:\n",
    "        if word in dictionary:\n",
    "            index = dictionary[word]\n",
    "        else:\n",
    "            index = 0  # dictionary['UNK']\n",
    "            unk_count += 1\n",
    "        data.append(index)\n",
    "    count[0][1] = unk_count\n",
    "    reversed_dictionary = dict(zip(dictionary.values(), dictionary.keys()))\n",
    "    return data, count, dictionary, reversed_dictionary\n",
    "\n",
    "data, count, dictionary, reverse_dictionary = build_dataset(vocabulary,\n",
    "                                                            vocabulary_size)\n",
    "del vocabulary  # Hint to reduce memory.\n",
    "print('Most common words (+UNK)', count[:5])\n",
    "print('Sample data', data[:10], [reverse_dictionary[i] for i in data[:10]])\n",
    "\n",
    "data_index = 0"
   ]
  },
  {
   "cell_type": "markdown",
   "metadata": {},
   "source": [
    "### Step 3: Function to generate a training batch for the skip-gram model."
   ]
  },
  {
   "cell_type": "code",
   "execution_count": 8,
   "metadata": {
    "collapsed": false
   },
   "outputs": [
    {
     "name": "stdout",
     "output_type": "stream",
     "text": [
      "89 may -> 124 sunday\n",
      "89 may -> 1074 27\n",
      "1074 27 -> 1055 2007\n",
      "1074 27 -> 89 may\n",
      "1055 2007 -> 1074 27\n",
      "1055 2007 -> 220 page\n",
      "220 page -> 1055 2007\n",
      "220 page -> 103 1\n"
     ]
    }
   ],
   "source": [
    "def generate_batch(batch_size, num_skips, skip_window):\n",
    "    global data_index\n",
    "    assert batch_size % num_skips == 0\n",
    "    assert num_skips <= 2 * skip_window\n",
    "    batch = np.ndarray(shape=(batch_size), dtype=np.int32)\n",
    "    labels = np.ndarray(shape=(batch_size, 1), dtype=np.int32)\n",
    "    span = 2 * skip_window + 1  # [ skip_window target skip_window ]\n",
    "    buffer = collections.deque(maxlen=span)\n",
    "    for _ in range(span):\n",
    "        buffer.append(data[data_index])\n",
    "        data_index = (data_index + 1) % len(data)\n",
    "    for i in range(batch_size // num_skips):\n",
    "        target = skip_window  # target label at the center of the buffer\n",
    "        targets_to_avoid = [skip_window]\n",
    "        for j in range(num_skips):\n",
    "            while target in targets_to_avoid:\n",
    "                target = random.randint(0, span - 1)\n",
    "            targets_to_avoid.append(target)\n",
    "            batch[i * num_skips + j] = buffer[skip_window]\n",
    "            labels[i * num_skips + j, 0] = buffer[target]\n",
    "        buffer.append(data[data_index])\n",
    "        data_index = (data_index + 1) % len(data)\n",
    "    # Backtrack a little bit to avoid skipping words in the end of a batch\n",
    "    data_index = (data_index + len(data) - span) % len(data)\n",
    "    return batch, labels\n",
    "\n",
    "batch, labels = generate_batch(batch_size=8, num_skips=2, skip_window=1)\n",
    "for i in range(8):\n",
    "    print(batch[i], reverse_dictionary[batch[i]],'->', labels[i, 0], reverse_dictionary[labels[i, 0]])"
   ]
  },
  {
   "cell_type": "markdown",
   "metadata": {},
   "source": [
    "### Step 4: Build and train a skip-gram model."
   ]
  },
  {
   "cell_type": "code",
   "execution_count": 9,
   "metadata": {
    "collapsed": false
   },
   "outputs": [
    {
     "name": "stdout",
     "output_type": "stream",
     "text": [
      "156\n"
     ]
    }
   ],
   "source": [
    "for i in xrange(vocabulary_size):\n",
    "    if reverse_dictionary[i] == 'evil':\n",
    "        print(i)"
   ]
  },
  {
   "cell_type": "code",
   "execution_count": 10,
   "metadata": {
    "collapsed": false
   },
   "outputs": [],
   "source": [
    "batch_size = 128\n",
    "embedding_size = 300  # Dimension of the embedding vector.\n",
    "skip_window = 1       # How many words to consider left and right.\n",
    "num_skips = 2         # How many times to reuse an input to generate a label.\n",
    "\n",
    "# We pick a random validation set to sample nearest neighbors. Here we limit the\n",
    "# validation samples to the words that have a low numeric ID, which by\n",
    "# construction are also the most frequent.\n",
    "valid_size = 16     # Random set of words to evaluate similarity on.\n",
    "valid_window = 100  # Only pick dev samples in the head of the distribution.\n",
    "valid_examples = np.array([ 2, 34, 11, 38, 89,  0, 37, 67, \n",
    "                           20, 86,  7,  6, 95, 97, 54, 156])\n",
    "                            # so we can choose which words to graph\n",
    "#valid_examples = np.random.choice(valid_window, valid_size, replace=False)\n",
    "num_sampled = 64    # Number of negative examples to sample.\n",
    "\n",
    "graph = tf.Graph()\n",
    "\n",
    "with graph.as_default():\n",
    "    # Input data.\n",
    "    train_inputs = tf.placeholder(tf.int32, shape=[batch_size])\n",
    "    train_labels = tf.placeholder(tf.int32, shape=[batch_size, 1])\n",
    "    valid_dataset = tf.constant(valid_examples, dtype=tf.int32)\n",
    "\n",
    "    # Ops and variables pinned to the CPU because of missing GPU implementation\n",
    "    with tf.device('/cpu:0'):\n",
    "        # Look up embeddings for inputs.\n",
    "        embeddings = tf.Variable(tf.random_uniform([vocabulary_size, embedding_size], -1.0, 1.0))\n",
    "        embed = tf.nn.embedding_lookup(embeddings, train_inputs)\n",
    "        \n",
    "        # Construct the variables for the NCE loss\n",
    "        nce_weights = tf.Variable(tf.truncated_normal([vocabulary_size, embedding_size],\n",
    "                            stddev=1.0 / math.sqrt(embedding_size)))\n",
    "        nce_biases = tf.Variable(tf.zeros([vocabulary_size]))\n",
    "        \n",
    "        # Compute the average NCE loss for the batch.\n",
    "        # tf.nce_loss automatically draws a new sample of the negative labels each\n",
    "        # time we evaluate the loss.\n",
    "    loss = tf.reduce_mean(tf.nn.nce_loss(weights=nce_weights,\n",
    "                                         biases=nce_biases,\n",
    "                                         labels=train_labels,\n",
    "                                         inputs=embed,\n",
    "                                         num_sampled=num_sampled,\n",
    "                                         num_classes=vocabulary_size))\n",
    "        \n",
    "    # Construct the SGD optimizer using a learning rate of 1.0.\n",
    "    optimizer = tf.train.GradientDescentOptimizer(1.0).minimize(loss)\n",
    "        \n",
    "    # Compute the cosine similarity between minibatch examples and all embeddings.\n",
    "    norm = tf.sqrt(tf.reduce_sum(tf.square(embeddings), 1, keep_dims=True))\n",
    "    normalized_embeddings = embeddings / norm\n",
    "    valid_embeddings = tf.nn.embedding_lookup(normalized_embeddings, valid_dataset)\n",
    "    similarity = tf.matmul(valid_embeddings, normalized_embeddings, transpose_b=True)\n",
    "        \n",
    "    # Add variable initializer.\n",
    "    init = tf.initialize_all_variables()"
   ]
  },
  {
   "cell_type": "markdown",
   "metadata": {},
   "source": [
    "### Step 5: Begin training."
   ]
  },
  {
   "cell_type": "code",
   "execution_count": 11,
   "metadata": {
    "collapsed": false
   },
   "outputs": [
    {
     "name": "stdout",
     "output_type": "stream",
     "text": [
      "Initialized\n",
      "Average loss at step  0 :  242.164413452\n",
      "Nearest to and: large, experienced, arabic, loving, resting, intelligent, talks, oracles, sojourn, circumstance,\n",
      "Nearest to by: retired, couple, zippor, apocalyptic, characteristic, admonition, film, bay, 145, adorn,\n",
      "Nearest to it: patient, maintain, tis, agreeing, fundamentally, compassion, pour, standing, fierce, beebe,\n",
      "Nearest to will: pestilence, held, meditation, concord, 1622, licked, awful, unseen, son, 2313,\n",
      "Nearest to may: marvelous, desiring, whereunto, correct, reasons, injury, received, dirty, utilized, four,\n",
      "Nearest to UNK: tomb, paradox, winepress, faint, acknowledgement, authentic, mistaken, community, nimrod, story,\n",
      "Nearest to unto: alter, reach, ashes, strategy, explore, effeminate, sobering, rolls, judges, visions,\n",
      "Nearest to things: adamant, bloodthirsty, putteth, advantages, woods, nebat, intreated, wives, lie, ends,\n",
      "Nearest to are: dozens, seeketh, partial, withstand, beor, genocide, johnson, subjection, bruises, 123,\n",
      "Nearest to come: enabled, beef, sorer, thessalonians, monstrously, finally, prophesying, thereby, restored, conquer,\n",
      "Nearest to is: offends, vs, strengthened, played, finding, sad, council, guess, branded, corners,\n",
      "Nearest to that: inwardly, unknown, agent, clever, publishing, pickets, countless, messenger, 95, stoop,\n",
      "Nearest to gods: orange, higher, landmark, 1013, vipers, broken, dragon, heart, ah, glorifying,\n",
      "Nearest to about: 311, dressed, information, murmurings, fired, imputeth, graciously, schroeder, midianites, useth,\n",
      "Nearest to wit: cyrus, whom, infamous, hordes, joyous, opinion, powers, values, hangs, administer,\n",
      "Nearest to evil: nevertheless, centurion, madison, cut, gratify, established, mind, 118, usual, sends,\n",
      "Average loss at step  2000 :  41.1908102326\n",
      "Average loss at step  4000 :  8.47123514605\n",
      "Average loss at step  6000 :  5.86140703392\n",
      "Average loss at step  8000 :  5.11544322896\n",
      "Average loss at step  10000 :  4.86000965941\n",
      "Nearest to and: chair, of, to, for, in, the, is, �, that, which,\n",
      "Nearest to by: of, for, admonition, in, to, zippor, characteristic, retired, couple, 145,\n",
      "Nearest to it: he, �, maintain, pour, compassion, i, patient, chair, one, disputing,\n",
      "Nearest to will: to, pestilence, held, awful, liveth, meditation, knew, shall, pope, concord,\n",
      "Nearest to may: sermon, correct, whereunto, reasons, to, teach, and, marvelous, received, acceptable,\n",
      "Nearest to UNK: chair, �, prot�g�s, herdmen, in, and, that, paradox, endureth, 1,\n",
      "Nearest to unto: and, to, alter, ashes, of, reach, strategy, effeminate, endureth, miraculous,\n",
      "Nearest to things: bloodthirsty, putteth, ends, 22, lie, adamant, wives, dedication, advantages, woods,\n",
      "Nearest to are: dozens, is, and, seeketh, levels, beor, subjection, for, miracle, withstand,\n",
      "Nearest to come: enabled, finally, thereby, thessalonians, sorer, prophesying, chair, yet, gather, refreshing,\n",
      "Nearest to is: was, and, in, samaria, are, �, branded, sinner, chair, until,\n",
      "Nearest to that: and, continuum, UNK, �, for, which, to, chair, meek, in,\n",
      "Nearest to gods: the, ah, orange, higher, landmark, absalom, god, dragon, vipers, males,\n",
      "Nearest to about: information, 311, imputeth, to, chair, dressed, murmurings, midianites, dung, blatantly,\n",
      "Nearest to wit: whom, cyrus, opinion, hordes, february, administer, powers, going, describing, enlightened,\n",
      "Nearest to evil: UNK, nevertheless, centurion, cut, mind, usual, savour, 4000, established, sends,\n",
      "Average loss at step  12000 :  4.74383292425\n",
      "Average loss at step  14000 :  4.70131989408\n",
      "Average loss at step  16000 :  4.76310799932\n",
      "Average loss at step  18000 :  4.66533959413\n",
      "Average loss at step  20000 :  4.56147150648\n",
      "Nearest to and: chair, for, that, but, of, in, as, or, �, prot�g�s,\n",
      "Nearest to by: in, for, admonition, characteristic, to, of, couple, apocalyptic, from, is,\n",
      "Nearest to it: he, that, i, there, this, they, chair, god, �, pour,\n",
      "Nearest to will: to, shall, pestilence, can, should, awful, held, liveth, could, defective,\n",
      "Nearest to may: shall, must, to, whereunto, correct, reasons, received, memory, desiring, sermon,\n",
      "Nearest to UNK: �, prot�g�s, chair, herdmen, shortly, in, endureth, that, outline, apples,\n",
      "Nearest to unto: to, of, alter, in, and, effeminate, ashes, strategy, reach, wast,\n",
      "Nearest to things: adamant, ends, bloodthirsty, putteth, advantages, 22, lie, dedication, woods, levi,\n",
      "Nearest to are: is, were, be, was, dozens, subjection, have, levels, seeketh, miracle,\n",
      "Nearest to come: enabled, finally, thereby, sorer, thessalonians, restored, prophesying, yet, you, monstrously,\n",
      "Nearest to is: was, are, in, be, chair, �, has, and, hath, for,\n",
      "Nearest to that: which, and, �, it, UNK, chair, in, who, continuum, for,\n",
      "Nearest to gods: the, orange, ah, his, landmark, higher, males, vipers, absalom, glorifying,\n",
      "Nearest to about: information, 311, to, imputeth, murmurings, chair, problems, blatantly, fired, midianites,\n",
      "Nearest to wit: whom, cyrus, opinion, hordes, UNK, administer, february, going, describing, powers,\n",
      "Nearest to evil: nevertheless, UNK, cut, centurion, mind, usual, craft, madison, established, savour,\n",
      "Average loss at step  22000 :  4.53985220969\n",
      "Average loss at step  24000 :  4.37878633559\n",
      "Average loss at step  26000 :  4.34842557037\n",
      "Average loss at step  28000 :  4.32559099877\n",
      "Average loss at step  30000 :  4.30073101795\n",
      "Nearest to and: chair, but, for, as, in, that, which, or, of, unto,\n",
      "Nearest to by: in, for, couple, from, admonition, characteristic, to, apocalyptic, of, with,\n",
      "Nearest to it: he, this, god, there, chair, they, i, that, �, leprosy,\n",
      "Nearest to will: shall, to, can, should, pestilence, could, awful, liveth, held, defective,\n",
      "Nearest to may: shall, to, must, sermon, correct, will, whereunto, reasons, memory, desiring,\n",
      "Nearest to UNK: chair, �, prot�g�s, herdmen, endureth, in, paradox, covet, 3338, endeavor,\n",
      "Nearest to unto: to, and, of, alter, effeminate, strategy, ashes, reach, in, miraculous,\n",
      "Nearest to things: adamant, ends, 22, dedication, bloodthirsty, putteth, advantages, woods, lie, diseased,\n",
      "Nearest to are: is, were, be, have, was, subjection, miracle, endureth, levels, dozens,\n",
      "Nearest to come: enabled, finally, thereby, prophesying, restored, sorer, thessalonians, gather, held, foolishly,\n",
      "Nearest to is: was, are, be, has, hath, chair, �, were, and, in,\n",
      "Nearest to that: which, and, continuum, it, for, chair, this, not, pleaseth, as,\n",
      "Nearest to gods: the, his, ah, orange, landmark, higher, god, establish, wronged, damnation,\n",
      "Nearest to about: information, 311, imputeth, murmurings, submitted, midianites, lifelong, chair, fired, to,\n",
      "Nearest to wit: cyrus, whom, hordes, february, you, opinion, going, administer, surprised, participate,\n",
      "Nearest to evil: UNK, nevertheless, centurion, craft, cut, usual, established, dominated, mind, savour,\n",
      "Average loss at step  32000 :  4.31120263827\n",
      "Average loss at step  34000 :  4.33411289036\n",
      "Average loss at step  36000 :  4.37260063362\n",
      "Average loss at step  38000 :  4.43001062167\n",
      "Average loss at step  40000 :  4.41281379032\n",
      "Nearest to and: chair, but, for, that, or, the, ie, which, as, shall,\n",
      "Nearest to by: in, from, is, for, couple, are, of, characteristic, to, admonition,\n",
      "Nearest to it: he, this, god, that, there, i, chair, they, them, to,\n",
      "Nearest to will: shall, to, can, should, would, could, may, pestilence, must, chair,\n",
      "Nearest to may: shall, will, must, to, correct, whereunto, sermon, might, memory, can,\n",
      "Nearest to UNK: �, chair, prot�g�s, herdmen, endureth, in, god, wash, that, outline,\n",
      "Nearest to unto: to, of, alter, effeminate, and, 2912, before, strategy, reach, in,\n",
      "Nearest to things: adamant, ends, 22, advantages, putteth, dedication, bloodthirsty, diseased, lie, words,\n",
      "Nearest to are: were, is, be, have, was, miracle, subjection, levels, by, endureth,\n",
      "Nearest to come: enabled, finally, thereby, sorer, prophesying, restored, held, thessalonians, gather, brought,\n",
      "Nearest to is: was, are, be, has, chair, hath, �, were, in, for,\n",
      "Nearest to that: which, and, it, who, �, this, chair, for, UNK, clint,\n",
      "Nearest to gods: his, the, orange, ah, landmark, higher, establish, damnation, glorifying, administering,\n",
      "Nearest to about: information, 311, imputeth, to, submitted, blatantly, lifelong, murmurings, fired, chair,\n",
      "Nearest to wit: cyrus, whom, hordes, opinion, UNK, participate, february, surprised, going, administer,\n",
      "Nearest to evil: nevertheless, craft, UNK, dominated, cut, centurion, established, mind, monday, usual,\n",
      "Average loss at step  42000 :  4.37245719671\n",
      "Average loss at step  44000 :  4.27723060989\n",
      "Average loss at step  46000 :  4.22155591106\n",
      "Average loss at step  48000 :  4.22306316602\n",
      "Average loss at step  50000 :  4.19538991678\n",
      "Nearest to and: but, chair, as, that, in, for, to, which, triggered, not,\n",
      "Nearest to by: in, from, grind, couple, as, characteristic, to, when, admonition, exhorting,\n",
      "Nearest to it: he, there, this, god, chair, them, they, that, i, �,\n",
      "Nearest to will: shall, can, to, should, would, could, may, pestilence, might, must,\n",
      "Nearest to may: shall, will, must, to, sermon, might, can, whereunto, correct, would,\n",
      "Nearest to UNK: chair, �, prot�g�s, herdmen, in, paradox, neighbor, wash, judgment, endureth,\n",
      "Nearest to unto: to, alter, effeminate, and, 2912, of, in, among, strategy, reach,\n",
      "Nearest to things: adamant, words, ends, 22, dedication, advantages, diseased, woods, putteth, them,\n",
      "Nearest to are: were, is, have, be, miracle, levels, subjection, was, endureth, seeketh,\n",
      "Nearest to come: enabled, finally, thereby, prophesying, sorer, restored, held, brought, gather, foolishly,\n",
      "Nearest to is: was, are, has, be, hath, chair, were, had, in, �,\n",
      "Nearest to that: which, it, and, who, continuum, chair, what, not, as, �,\n",
      "Nearest to gods: his, the, ah, orange, higher, landmark, establish, wronged, advent, administering,\n",
      "Nearest to about: information, 311, imputeth, murmurings, submitted, fired, lifelong, blatantly, median, midianites,\n",
      "Nearest to wit: cyrus, whom, said, february, participate, you, hordes, values, surprised, opinion,\n",
      "Nearest to evil: UNK, craft, dominated, nevertheless, established, monday, cut, usual, centurion, obeyeth,\n",
      "Average loss at step  52000 :  4.19413960505\n",
      "Average loss at step  54000 :  4.23010169303\n",
      "Average loss at step  56000 :  4.23156223059\n",
      "Average loss at step  58000 :  4.31541239452\n",
      "Average loss at step  60000 :  4.35042005658\n",
      "Nearest to and: but, chair, or, for, is, that, as, ie, of, in,\n",
      "Nearest to by: in, of, is, are, grind, from, exhorting, couple, has, as,\n",
      "Nearest to it: he, god, this, them, that, there, chair, they, i, UNK,\n",
      "Nearest to will: shall, can, to, should, would, could, may, must, might, pestilence,\n",
      "Nearest to may: shall, will, must, might, can, would, should, to, whereunto, sermon,\n",
      "Nearest to UNK: �, chair, prot�g�s, herdmen, in, it, that, god, endureth, thunder,\n",
      "Nearest to unto: to, of, effeminate, alter, 2912, before, chair, among, in, against,\n",
      "Nearest to things: words, ends, adamant, 22, diseased, advantages, them, dedication, putteth, levi,\n",
      "Nearest to are: were, be, is, have, was, and, levels, miracle, by, endureth,\n",
      "Nearest to come: enabled, finally, prophesying, brought, sorer, held, thereby, restored, gather, foolishly,\n",
      "Nearest to is: was, be, are, has, hath, chair, and, were, �, loves,\n",
      "Nearest to that: which, this, it, who, and, what, UNK, the, clint, but,\n",
      "Nearest to gods: his, the, landmark, orange, ah, establish, higher, advent, administering, wronged,\n",
      "Nearest to about: information, 311, imputeth, submitted, blatantly, lifelong, median, fired, murmurings, to,\n",
      "Nearest to wit: cyrus, said, whom, him, participate, february, hordes, surprised, going, values,\n",
      "Nearest to evil: craft, dominated, monday, established, cut, nevertheless, obeyeth, goings, together, usual,\n",
      "Average loss at step  62000 :  4.28195410252\n",
      "Average loss at step  64000 :  4.25272324419\n",
      "Average loss at step  66000 :  4.17167754507\n",
      "Average loss at step  68000 :  4.1473894552\n",
      "Average loss at step  70000 :  4.14141992819\n",
      "Nearest to and: but, chair, of, the, as, in, are, or, unto, gets,\n",
      "Nearest to by: in, grind, from, as, when, couple, is, exhorting, has, insight,\n",
      "Nearest to it: he, god, there, this, chair, that, them, they, him, �,\n",
      "Nearest to will: shall, can, should, would, to, could, may, might, must, pestilence,\n",
      "Nearest to may: shall, will, to, must, might, would, can, sermon, should, whereunto,\n",
      "Nearest to UNK: chair, prot�g�s, �, herdmen, paradox, neighbor, in, endeavor, transgressors, see,\n",
      "Nearest to unto: to, and, of, alter, effeminate, among, 2912, in, chair, before,\n",
      "Nearest to things: words, adamant, ends, 22, diseased, them, dedication, advantages, woods, obey,\n",
      "Nearest to are: were, is, be, have, and, miracle, levels, was, endureth, subjection,\n",
      "Nearest to come: enabled, finally, prophesying, brought, thereby, sorer, held, gather, restored, foolishly,\n",
      "Nearest to is: was, has, be, are, hath, chair, were, had, loves, does,\n",
      "Nearest to that: which, it, who, what, visited, continuum, as, chair, not, pleaseth,\n",
      "Nearest to gods: his, the, orange, ah, establish, advent, wronged, landmark, higher, treasurest,\n",
      "Nearest to about: information, 311, imputeth, submitted, fired, murmurings, lifelong, median, blatantly, millennial,\n",
      "Nearest to wit: cyrus, said, participate, february, values, him, april, surprised, lord, hordes,\n",
      "Nearest to evil: craft, dominated, established, monday, UNK, cut, obeyeth, hindu, goings, usual,\n",
      "Average loss at step  72000 :  4.12797200048\n",
      "Average loss at step  74000 :  4.13636419451\n",
      "Average loss at step  76000 :  4.17688534963\n",
      "Average loss at step  78000 :  4.17825299311\n",
      "Average loss at step  80000 :  4.27232554281\n",
      "Nearest to and: chair, but, of, or, for, that, is, as, be, in,\n",
      "Nearest to by: in, of, grind, exhorting, has, from, as, couple, when, characteristic,\n",
      "Nearest to it: he, this, that, god, them, chair, there, i, they, him,\n",
      "Nearest to will: shall, can, should, would, to, could, may, might, must, pestilence,\n",
      "Nearest to may: shall, will, must, would, might, can, should, to, sermon, whereunto,\n",
      "Nearest to UNK: �, chair, prot�g�s, herdmen, in, god, that, and, it, trespasses,\n",
      "Nearest to unto: to, of, effeminate, alter, chair, 2912, and, before, against, among,\n",
      "Nearest to things: words, ends, adamant, diseased, them, advantages, 22, men, dedication, putteth,\n",
      "Nearest to are: were, be, is, have, was, and, levels, miracle, endureth, subjection,\n",
      "Nearest to come: enabled, finally, brought, prophesying, held, sorer, restored, chair, gather, thereby,\n",
      "Nearest to is: was, be, are, has, hath, chair, and, were, does, in,\n",
      "Nearest to that: which, it, and, what, who, this, UNK, chair, god, earthy,\n",
      "Nearest to gods: his, the, landmark, advent, establish, mechanism, wronged, treasurest, administering, orange,\n",
      "Nearest to about: information, imputeth, 311, median, submitted, fired, blatantly, lifelong, amid, murmurings,\n",
      "Nearest to wit: said, cyrus, him, participate, whom, you, surprised, values, february, april,\n",
      "Nearest to evil: craft, dominated, monday, established, cut, obeyeth, UNK, goings, hindu, gladness,\n",
      "Average loss at step  82000 :  4.26573923504\n",
      "Average loss at step  84000 :  4.22308313632\n",
      "Average loss at step  86000 :  4.14867310023\n",
      "Average loss at step  88000 :  4.09576479459\n",
      "Average loss at step  90000 :  4.09414814639\n",
      "Nearest to and: but, chair, of, in, say, the, are, that, UNK, as,\n",
      "Nearest to by: in, grind, from, exhorting, couple, as, employer, has, insight, 59,\n",
      "Nearest to it: he, god, this, that, chair, there, them, they, the, �,\n",
      "Nearest to will: shall, can, would, should, to, could, may, might, must, pestilence,\n",
      "Nearest to may: shall, will, to, must, would, might, can, should, sermon, whereunto,\n",
      "Nearest to UNK: �, prot�g�s, chair, herdmen, the, transgressors, paradox, syrians, of, in,\n",
      "Nearest to unto: to, alter, of, among, effeminate, 2912, chair, giveth, arguing, against,\n",
      "Nearest to things: words, adamant, ends, them, diseased, 22, men, advantages, regions, dedication,\n",
      "Nearest to are: were, is, have, be, and, miracle, subjection, derision, was, levels,\n",
      "Nearest to come: enabled, finally, brought, prophesying, gather, held, result, foolishly, sorer, thereby,\n",
      "Nearest to is: was, has, are, be, hath, chair, were, in, and, had,\n",
      "Nearest to that: which, it, what, who, and, UNK, god, chair, pleaseth, visited,\n",
      "Nearest to gods: his, the, advent, wronged, establish, orange, treasurest, landmark, higher, ah,\n",
      "Nearest to about: imputeth, 311, information, submitted, fired, median, amid, blatantly, murmurings, lifelong,\n",
      "Nearest to wit: said, cyrus, him, participate, lord, you, us, values, surprised, april,\n",
      "Nearest to evil: craft, dominated, monday, established, UNK, obeyeth, cut, hindu, goings, patriarchs,\n",
      "Average loss at step  92000 :  4.08560527134\n",
      "Average loss at step  94000 :  4.0725264039\n",
      "Average loss at step  96000 :  4.10861370599\n",
      "Average loss at step  98000 :  4.14324987185\n",
      "Average loss at step  100000 :  4.17933655655\n",
      "Nearest to and: chair, but, or, of, is, for, the, UNK, that, to,\n",
      "Nearest to by: in, of, grind, exhorting, has, is, from, employer, as, couple,\n",
      "Nearest to it: he, this, god, them, there, chair, they, him, that, i,\n",
      "Nearest to will: shall, can, would, should, could, might, to, may, must, pestilence,\n",
      "Nearest to may: shall, will, must, would, might, can, should, to, sermon, november,\n",
      "Nearest to UNK: chair, �, prot�g�s, the, herdmen, god, and, is, in, shield,\n",
      "Nearest to unto: to, and, chair, of, alter, effeminate, against, in, 2912, lord,\n",
      "Nearest to things: words, diseased, ends, adamant, them, men, 22, advantages, speeches, time,\n",
      "Nearest to are: were, be, is, have, was, and, miracle, levels, subjection, derision,\n",
      "Nearest to come: enabled, finally, brought, prophesying, held, gather, intercession, survive, sorer, foolishly,\n",
      "Nearest to is: was, has, be, are, hath, chair, and, UNK, in, of,\n",
      "Nearest to that: which, what, and, it, who, this, god, UNK, but, earthy,\n",
      "Nearest to gods: his, the, administering, mechanism, wronged, treasurest, advent, establish, landmark, visitation,\n",
      "Nearest to about: imputeth, information, 311, median, submitted, fired, amid, lifelong, blatantly, murmurings,\n",
      "Nearest to wit: said, cyrus, lord, him, participate, february, values, me, april, whom,\n",
      "Nearest to evil: craft, dominated, monday, established, obeyeth, goings, gladness, hindu, cut, condones,\n"
     ]
    }
   ],
   "source": [
    "num_steps = 100001\n",
    "\n",
    "with tf.Session(graph=graph) as session:\n",
    "    # We must initialize all variables before we use them.\n",
    "    init.run()\n",
    "    print('Initialized')\n",
    "    \n",
    "    average_loss = 0\n",
    "    for step in xrange(num_steps):\n",
    "        batch_inputs, batch_labels = generate_batch(batch_size, num_skips, skip_window)\n",
    "        feed_dict = {train_inputs: batch_inputs, train_labels: batch_labels}\n",
    "        \n",
    "        # We perform one update step by evaluating the optimizer op (including it\n",
    "        # in the list of returned values for session.run()\n",
    "        _, loss_val = session.run([optimizer, loss], feed_dict=feed_dict)\n",
    "        average_loss += loss_val\n",
    "        \n",
    "        if step % 2000 == 0:\n",
    "            if step > 0:\n",
    "                average_loss /= 2000\n",
    "                # The average loss is an estimate of the loss over the last 2000 batches.\n",
    "            print('Average loss at step ', step, ': ', average_loss)\n",
    "            average_loss = 0\n",
    "        \n",
    "        # Note that this is expensive (~20% slowdown if computed every 500 steps)\n",
    "        if step % 10000 == 0:\n",
    "            sim = similarity.eval()\n",
    "            for i in xrange(valid_size):\n",
    "                valid_word = reverse_dictionary[valid_examples[i]]\n",
    "                top_k = 10  # number of nearest neighbors\n",
    "                nearest = (-sim[i, :]).argsort()[1:top_k + 1]\n",
    "                log_str = 'Nearest to %s:' % valid_word\n",
    "                for k in xrange(top_k):\n",
    "                    close_word = reverse_dictionary[nearest[k]]\n",
    "                    log_str = '%s %s,' % (log_str, close_word)\n",
    "                print(log_str)\n",
    "    \n",
    "    final_embeddings = normalized_embeddings.eval()"
   ]
  },
  {
   "cell_type": "code",
   "execution_count": 12,
   "metadata": {
    "collapsed": false
   },
   "outputs": [
    {
     "name": "stdout",
     "output_type": "stream",
     "text": [
      "Nearest to evil: craft, dominated, monday, established, obeyeth, goings, gladness, hindu, cut, condones,\n"
     ]
    }
   ],
   "source": [
    "embed_a = final_embeddings[156]\n",
    "word = reverse_dictionary[156]\n",
    "top_k = 10\n",
    "nearest = (-sim[15, :]).argsort()[1:top_k + 1]\n",
    "log_str = 'Nearest to %s:' % word\n",
    "for k in xrange(top_k):\n",
    "    close_word = reverse_dictionary[nearest[k]]\n",
    "    if k == 0:\n",
    "        embed_b = final_embeddings[nearest[k]]\n",
    "    if k == 1:\n",
    "        embed_c = final_embeddings[nearest[k]]\n",
    "    if k == 2:\n",
    "        embed_d = final_embeddings[nearest[k]]\n",
    "    if k == 3:\n",
    "        embed_e = final_embeddings[nearest[k]]\n",
    "    if k == 4:\n",
    "        embed_f = final_embeddings[nearest[k]]\n",
    "    if k == 5:\n",
    "        embed_g = final_embeddings[nearest[k]]\n",
    "    if k == 6:\n",
    "        embed_h = final_embeddings[nearest[k]]\n",
    "    if k == 7:\n",
    "        embed_i = final_embeddings[nearest[k]]\n",
    "    if k == 8:\n",
    "        embed_j = final_embeddings[nearest[k]]\n",
    "    if k == 9:\n",
    "        embed_k = final_embeddings[nearest[k]]     \n",
    "    log_str = '%s %s,' % (log_str, close_word)\n",
    "print(log_str)"
   ]
  },
  {
   "cell_type": "code",
   "execution_count": 13,
   "metadata": {
    "collapsed": false
   },
   "outputs": [
    {
     "name": "stdout",
     "output_type": "stream",
     "text": [
      "<type 'numpy.ndarray'>\n",
      "(11, 300)\n",
      "<type 'tuple'>\n",
      "11\n"
     ]
    }
   ],
   "source": [
    "WBC_wv = np.vstack((embed_a,embed_b,embed_c,embed_d,embed_e,embed_f,embed_g,\n",
    "                    embed_h,embed_i,embed_j,embed_k))\n",
    "print(type(WBC_wv))\n",
    "print(WBC_wv.shape)\n",
    "\n",
    "\n",
    "WBC_vocab = ('evil', 'craft', 'dominated', 'monday', 'established', 'obeyeth',\n",
    "             'goings', 'gladness', 'hindu', 'cut', 'condones')\n",
    "print(type(WBC_vocab))\n",
    "print(len(WBC_vocab))"
   ]
  },
  {
   "cell_type": "markdown",
   "metadata": {},
   "source": [
    "### Step 6: Visualize the embeddings."
   ]
  },
  {
   "cell_type": "code",
   "execution_count": 14,
   "metadata": {
    "collapsed": false
   },
   "outputs": [
    {
     "data": {
      "image/png": "[encoded data removed]",
      "text/plain": [
       "<matplotlib.figure.Figure at 0x10469a3d0>"
      ]
     },
     "metadata": {},
     "output_type": "display_data"
    }
   ],
   "source": [
    "tsne = TSNE(n_components=2, random_state=0)\n",
    "np.set_printoptions(suppress=True)\n",
    "Y = tsne.fit_transform(WBC_wv[:11,:])\n",
    " \n",
    "plt.scatter(Y[:, 0], Y[:, 1])\n",
    "plt.axis([-0.0003,0.0003,-0.0003,0.0003])\n",
    "for label, x, y in zip(WBC_vocab, Y[:, 0], Y[:, 1]):\n",
    "    plt.annotate(label, xy=(x, y), xytext=(0, 0), textcoords='offset points')\n",
    "plt.savefig('WBC_embeddings.pdf')\n",
    "plt.show()"
   ]
  },
  {
   "cell_type": "markdown",
   "metadata": {},
   "source": [
    "## John Piper"
   ]
  },
  {
   "cell_type": "markdown",
   "metadata": {},
   "source": [
    "### Step 1: Get the Data."
   ]
  },
  {
   "cell_type": "code",
   "execution_count": 20,
   "metadata": {
    "collapsed": true
   },
   "outputs": [],
   "source": [
    "subdir = '/Users/leighharton/Documents/MSDS/Capstone/JohnPiper'\n",
    "#filepath = subdir + \"/JohnPiper001.txt\""
   ]
  },
  {
   "cell_type": "code",
   "execution_count": 21,
   "metadata": {
    "collapsed": false
   },
   "outputs": [],
   "source": [
    "vocabulary = []\n",
    "for i in range(579):\n",
    "    if i < 9:\n",
    "        filepath = subdir + \"/JohnPiper00\" + str(i+1) + \".txt\"\n",
    "        words = open(filepath).read()\n",
    "        words = words.lower()\n",
    "        words = strip_punctuation(words)\n",
    "        words = nltk.word_tokenize(words)\n",
    "        #vocabulary = vocabulary + words\n",
    "    elif i < 99:\n",
    "        filepath = subdir + \"/JohnPiper0\" + str(i+1) + \".txt\"\n",
    "        words = open(filepath).read()\n",
    "        words = words.lower()\n",
    "        words = strip_punctuation(words)\n",
    "        words = nltk.word_tokenize(words)\n",
    "    else:\n",
    "        filepath = subdir + \"/JohnPiper\" + str(i+1) + \".txt\"\n",
    "        words = open(filepath).read()\n",
    "        words = words.lower()\n",
    "        words = strip_punctuation(words)\n",
    "        words = nltk.word_tokenize(words)\n",
    "    vocabulary = vocabulary + words"
   ]
  },
  {
   "cell_type": "code",
   "execution_count": 22,
   "metadata": {
    "collapsed": false
   },
   "outputs": [
    {
     "data": {
      "text/plain": [
       "1537468"
      ]
     },
     "execution_count": 22,
     "metadata": {},
     "output_type": "execute_result"
    }
   ],
   "source": [
    "len(vocabulary)"
   ]
  },
  {
   "cell_type": "markdown",
   "metadata": {},
   "source": [
    "### Step 2: Build the dictionary and replace rare words with UNK token."
   ]
  },
  {
   "cell_type": "code",
   "execution_count": 23,
   "metadata": {
    "collapsed": false
   },
   "outputs": [
    {
     "name": "stdout",
     "output_type": "stream",
     "text": [
      "Most common words (+UNK) [['UNK', 54308], ('the', 94854), ('and', 56556), ('of', 53648), ('to', 44191)]\n",
      "Sample data [42, 1, 55, 1029, 282, 189, 2, 329, 294, 14] ['if', 'the', 'lord', 'wills', 'both', 'today', 'and', 'next', 'week', 'we']\n"
     ]
    }
   ],
   "source": [
    "vocabulary_size = 10000 # orignial was 50000\n",
    "\n",
    "\"\"\"Process raw inputs into a dataset.\"\"\"\n",
    "def build_dataset(words, n_words):\n",
    "    count = [['UNK', -1]]\n",
    "    count.extend(collections.Counter(words).most_common(n_words - 1))\n",
    "    dictionary = dict()\n",
    "    for word, _ in count:\n",
    "        dictionary[word] = len(dictionary)\n",
    "    data = list()\n",
    "    unk_count = 0\n",
    "    for word in words:\n",
    "        if word in dictionary:\n",
    "            index = dictionary[word]\n",
    "        else:\n",
    "            index = 0  # dictionary['UNK']\n",
    "            unk_count += 1\n",
    "        data.append(index)\n",
    "    count[0][1] = unk_count\n",
    "    reversed_dictionary = dict(zip(dictionary.values(), dictionary.keys()))\n",
    "    return data, count, dictionary, reversed_dictionary\n",
    "\n",
    "data, count, dictionary, reverse_dictionary = build_dataset(vocabulary,\n",
    "                                                            vocabulary_size)\n",
    "del vocabulary  # Hint to reduce memory.\n",
    "print('Most common words (+UNK)', count[:5])\n",
    "print('Sample data', data[:10], [reverse_dictionary[i] for i in data[:10]])\n",
    "\n",
    "data_index = 0"
   ]
  },
  {
   "cell_type": "markdown",
   "metadata": {},
   "source": [
    "### Step 3: Function to generate a training batch for the skip-gram model."
   ]
  },
  {
   "cell_type": "code",
   "execution_count": 24,
   "metadata": {
    "collapsed": false
   },
   "outputs": [
    {
     "name": "stdout",
     "output_type": "stream",
     "text": [
      "1 the -> 55 lord\n",
      "1 the -> 42 if\n",
      "55 lord -> 1 the\n",
      "55 lord -> 1029 wills\n",
      "1029 wills -> 55 lord\n",
      "1029 wills -> 282 both\n",
      "282 both -> 189 today\n",
      "282 both -> 1029 wills\n"
     ]
    }
   ],
   "source": [
    "def generate_batch(batch_size, num_skips, skip_window):\n",
    "    global data_index\n",
    "    assert batch_size % num_skips == 0\n",
    "    assert num_skips <= 2 * skip_window\n",
    "    batch = np.ndarray(shape=(batch_size), dtype=np.int32)\n",
    "    labels = np.ndarray(shape=(batch_size, 1), dtype=np.int32)\n",
    "    span = 2 * skip_window + 1  # [ skip_window target skip_window ]\n",
    "    buffer = collections.deque(maxlen=span)\n",
    "    for _ in range(span):\n",
    "        buffer.append(data[data_index])\n",
    "        data_index = (data_index + 1) % len(data)\n",
    "    for i in range(batch_size // num_skips):\n",
    "        target = skip_window  # target label at the center of the buffer\n",
    "        targets_to_avoid = [skip_window]\n",
    "        for j in range(num_skips):\n",
    "            while target in targets_to_avoid:\n",
    "                target = random.randint(0, span - 1)\n",
    "            targets_to_avoid.append(target)\n",
    "            batch[i * num_skips + j] = buffer[skip_window]\n",
    "            labels[i * num_skips + j, 0] = buffer[target]\n",
    "        buffer.append(data[data_index])\n",
    "        data_index = (data_index + 1) % len(data)\n",
    "    # Backtrack a little bit to avoid skipping words in the end of a batch\n",
    "    data_index = (data_index + len(data) - span) % len(data)\n",
    "    return batch, labels\n",
    "\n",
    "batch, labels = generate_batch(batch_size=8, num_skips=2, skip_window=1)\n",
    "for i in range(8):\n",
    "    print(batch[i], reverse_dictionary[batch[i]],'->', labels[i, 0], reverse_dictionary[labels[i, 0]])"
   ]
  },
  {
   "cell_type": "markdown",
   "metadata": {},
   "source": [
    "### Step 4: Build and train a skip-gram model."
   ]
  },
  {
   "cell_type": "code",
   "execution_count": 25,
   "metadata": {
    "collapsed": false
   },
   "outputs": [
    {
     "name": "stdout",
     "output_type": "stream",
     "text": [
      "261\n"
     ]
    }
   ],
   "source": [
    "for i in xrange(vocabulary_size):\n",
    "    if reverse_dictionary[i] == 'evil':\n",
    "        print(i)"
   ]
  },
  {
   "cell_type": "code",
   "execution_count": 26,
   "metadata": {
    "collapsed": false
   },
   "outputs": [],
   "source": [
    "batch_size = 128\n",
    "embedding_size = 300  # Dimension of the embedding vector.\n",
    "skip_window = 1       # How many words to consider left and right.\n",
    "num_skips = 2         # How many times to reuse an input to generate a label.\n",
    "\n",
    "# We pick a random validation set to sample nearest neighbors. Here we limit the\n",
    "# validation samples to the words that have a low numeric ID, which by\n",
    "# construction are also the most frequent.\n",
    "valid_size = 16     # Random set of words to evaluate similarity on.\n",
    "valid_window = 100  # Only pick dev samples in the head of the distribution.\n",
    "valid_examples = np.array([ 2, 34, 11, 38, 89,  0, 37, 67, \n",
    "                           20, 86,  7,  6, 95, 97, 54, 261])\n",
    "                            # so we can choose which words to graph\n",
    "#valid_examples = np.random.choice(valid_window, valid_size, replace=False)\n",
    "num_sampled = 64    # Number of negative examples to sample.\n",
    "\n",
    "graph = tf.Graph()\n",
    "\n",
    "with graph.as_default():\n",
    "    # Input data.\n",
    "    train_inputs = tf.placeholder(tf.int32, shape=[batch_size])\n",
    "    train_labels = tf.placeholder(tf.int32, shape=[batch_size, 1])\n",
    "    valid_dataset = tf.constant(valid_examples, dtype=tf.int32)\n",
    "\n",
    "    # Ops and variables pinned to the CPU because of missing GPU implementation\n",
    "    with tf.device('/cpu:0'):\n",
    "        # Look up embeddings for inputs.\n",
    "        embeddings = tf.Variable(tf.random_uniform([vocabulary_size, embedding_size], -1.0, 1.0))\n",
    "        embed = tf.nn.embedding_lookup(embeddings, train_inputs)\n",
    "        \n",
    "        # Construct the variables for the NCE loss\n",
    "        nce_weights = tf.Variable(tf.truncated_normal([vocabulary_size, embedding_size],\n",
    "                            stddev=1.0 / math.sqrt(embedding_size)))\n",
    "        nce_biases = tf.Variable(tf.zeros([vocabulary_size]))\n",
    "        \n",
    "        # Compute the average NCE loss for the batch.\n",
    "        # tf.nce_loss automatically draws a new sample of the negative labels each\n",
    "        # time we evaluate the loss.\n",
    "    loss = tf.reduce_mean(tf.nn.nce_loss(weights=nce_weights,\n",
    "                                         biases=nce_biases,\n",
    "                                         labels=train_labels,\n",
    "                                         inputs=embed,\n",
    "                                         num_sampled=num_sampled,\n",
    "                                         num_classes=vocabulary_size))\n",
    "        \n",
    "    # Construct the SGD optimizer using a learning rate of 1.0.\n",
    "    optimizer = tf.train.GradientDescentOptimizer(1.0).minimize(loss)\n",
    "        \n",
    "    # Compute the cosine similarity between minibatch examples and all embeddings.\n",
    "    norm = tf.sqrt(tf.reduce_sum(tf.square(embeddings), 1, keep_dims=True))\n",
    "    normalized_embeddings = embeddings / norm\n",
    "    valid_embeddings = tf.nn.embedding_lookup(normalized_embeddings, valid_dataset)\n",
    "    similarity = tf.matmul(valid_embeddings, normalized_embeddings, transpose_b=True)\n",
    "        \n",
    "    # Add variable initializer.\n",
    "    init = tf.initialize_all_variables()"
   ]
  },
  {
   "cell_type": "markdown",
   "metadata": {},
   "source": [
    "### Step 5: Begin training."
   ]
  },
  {
   "cell_type": "code",
   "execution_count": 27,
   "metadata": {
    "collapsed": false
   },
   "outputs": [
    {
     "name": "stdout",
     "output_type": "stream",
     "text": [
      "Initialized\n",
      "Average loss at step  0 :  235.062103271\n",
      "Nearest to and: highways, help, creating, v13, burning, fuse, passages, 1589, frequently, tidings,\n",
      "Nearest to by: heartily, �this, devote, floods, literally, niv, melody, horrible, displayed, misleading,\n",
      "Nearest to for: trinity, dutiful, compulsion, justifies, empowered, broaden, treating, iraq, gifts, pace,\n",
      "Nearest to jesus: basis, code, display, maildesiringgodorg, 21122, announced, beatitude, spared, admired, hades,\n",
      "Nearest to into: implies, forsaking, alms, girded, anymore, hiding, godthat, overseas, exploitation, adornment,\n",
      "Nearest to UNK: joseph, booths, wantto, preaches, exposed, spends, approves, regards, 2217, could,\n",
      "Nearest to they: door, selfcenteredness, drove, pastor, parts, taught, thatthey, satisfy, sandwich, devotional,\n",
      "Nearest to gods: heroes, harm, camps, coin, thinking, preparedto, putting, pocket, prescribed, 812,\n",
      "Nearest to are: diversity, imperfect, fearof, highlight, smiling, hegives, miriam, commandment, interceding, 717,\n",
      "Nearest to out: isgoing, impartial, invites, price, expressed, banquet, betty, stolen, wrote, unbelievers,\n",
      "Nearest to that: sow, sinless, mingled, above, remarkable, nothave, yoke, ball, overthrown, pretty,\n",
      "Nearest to in: usand, testament, pull, fifteen, 82830, unreasonable, hardships, jackson, judged, oil,\n",
      "Nearest to 1: sophisticated, pitch, foothold, beg, desperately, protector, risks, inconsistent, reckons, necessity,\n",
      "Nearest to said: laws, inverse, doesn146t, relevance, selfsacrificing, anxieties, teams, strand, structure, descendants,\n",
      "Nearest to my: staggering, 83, merited, correlation, zero, unintelligible, summary, classes, 1245, 87,\n",
      "Nearest to evil: longs, oversee, dear, appoints, abominates, returned, person, revived, games, pursued,\n",
      "Average loss at step  2000 :  40.1658247933\n",
      "Average loss at step  4000 :  8.19129189026\n",
      "Average loss at step  6000 :  6.07931787479\n",
      "Average loss at step  8000 :  5.42404726493\n",
      "Average loss at step  10000 :  4.99716558218\n",
      "Nearest to and: is, to, in, UNK, of, that, or, for, you, the,\n",
      "Nearest to by: in, to, heartily, boasts, of, is, licentiousness, up, four, professing,\n",
      "Nearest to for: in, and, to, of, is, that, UNK, ofgod, trinity, gifts,\n",
      "Nearest to jesus: basis, kiss, beatitude, glorifies, spared, maildesiringgodorg, thou, display, desired, admired,\n",
      "Nearest to into: in, to, implies, anymore, youre, forsaking, spent, hiding, of, reminded,\n",
      "Nearest to UNK: and, is, aroma, in, that, god, you, vain, betroth, san,\n",
      "Nearest to they: we, you, to, responsible, taught, parts, pastor, door, drove, claimed,\n",
      "Nearest to gods: his, the, harm, heroes, coin, thinking, putting, and, camps, strategically,\n",
      "Nearest to are: is, and, commandment, ie, fearof, miriam, ps, highlight, imperfect, of,\n",
      "Nearest to out: betty, invites, isgoing, price, unbelievers, banquet, channel, expressed, horrid, overwhelming,\n",
      "Nearest to that: and, UNK, in, to, of, sow, it, the, for, malice,\n",
      "Nearest to in: of, to, is, and, for, UNK, that, from, pull, with,\n",
      "Nearest to 1: UNK, sophisticated, necessity, beg, desperately, inheriting, foothold, risks, pains, boldness,\n",
      "Nearest to said: inverse, laws, descendants, relevance, structure, UNK, talk, anxieties, christs, superficial,\n",
      "Nearest to my: the, summary, zero, idolaters, small, staggering, ways, allegiance, which, licentiousness,\n",
      "Nearest to evil: appoints, dear, longs, returned, minister, person, abominates, games, bear, opportunity,\n",
      "Average loss at step  12000 :  4.77715470791\n",
      "Average loss at step  14000 :  4.65795630133\n",
      "Average loss at step  16000 :  4.60730845547\n",
      "Average loss at step  18000 :  4.61985523415\n",
      "Average loss at step  20000 :  4.60406323123\n",
      "Nearest to and: UNK, or, but, that, for, is, in, to, thereforebecause, you,\n",
      "Nearest to by: in, is, for, to, are, heartily, lacking, 1996, with, four,\n",
      "Nearest to for: in, and, to, UNK, of, is, that, with, by, he,\n",
      "Nearest to jesus: it, god, basis, he, kiss, this, that, UNK, the, stepped,\n",
      "Nearest to into: to, in, anymore, from, of, spent, implies, reminded, forsaking, youre,\n",
      "Nearest to UNK: that, you, and, god, thereforebecause, the, it, is, for, in,\n",
      "Nearest to they: we, you, i, he, to, it, there, responsible, claimed, taught,\n",
      "Nearest to gods: his, the, heroes, harm, thinking, coin, revival, strategically, camps, reproduction,\n",
      "Nearest to are: is, were, be, and, have, fearof, pardon, UNK, for, miriam,\n",
      "Nearest to out: betty, invites, isgoing, price, unbelievers, banquet, affects, overwhelming, UNK, openly,\n",
      "Nearest to that: UNK, it, what, and, this, thereforebecause, god, which, to, the,\n",
      "Nearest to in: of, to, for, with, is, and, UNK, from, by, ich,\n",
      "Nearest to 1: sophisticated, necessity, desperately, inheriting, beg, poverty, willnot, foothold, risks, thessalonica,\n",
      "Nearest to said: laws, inverse, doesn146t, relevance, descendants, structure, talk, anxieties, and, superficial,\n",
      "Nearest to my: the, his, UNK, summary, zero, your, idolaters, you, staggering, licentiousness,\n",
      "Nearest to evil: dear, appoints, oversee, longs, returned, minister, revived, games, abominates, separated,\n",
      "Average loss at step  22000 :  4.5169883374\n",
      "Average loss at step  24000 :  4.4108418169\n",
      "Average loss at step  26000 :  4.46505337095\n",
      "Average loss at step  28000 :  4.34517387104\n",
      "Average loss at step  30000 :  4.369481143\n",
      "Nearest to and: or, but, UNK, for, is, that, in, of, thereforebecause, ich,\n",
      "Nearest to by: in, are, is, with, for, to, �this, of, be, lacking,\n",
      "Nearest to for: in, and, to, UNK, is, of, that, but, are, with,\n",
      "Nearest to jesus: god, it, he, basis, kiss, the, glorifies, maildesiringgodorg, UNK, stepped,\n",
      "Nearest to into: to, in, of, from, anymore, spent, reminded, forsaking, godthat, implies,\n",
      "Nearest to UNK: that, you, and, in, the, god, thereforebecause, is, for, all,\n",
      "Nearest to they: we, you, i, he, there, it, responsible, claimed, to, things,\n",
      "Nearest to gods: his, the, heroes, harm, revival, coin, thinking, reproduction, prescribed, theseare,\n",
      "Nearest to are: were, is, be, and, for, have, by, miriam, fearof, ie,\n",
      "Nearest to out: betty, invites, impartial, isgoing, price, unbelievers, overwhelming, banquet, affects, openly,\n",
      "Nearest to that: UNK, what, this, it, and, which, for, thereforebecause, sow, to,\n",
      "Nearest to in: to, with, of, UNK, for, from, at, and, ich, is,\n",
      "Nearest to 1: sophisticated, desperately, necessity, UNK, 2, inheriting, beg, foothold, willnot, risks,\n",
      "Nearest to said: laws, inverse, doesn146t, relevance, descendants, structure, talk, anxieties, selfsacrificing, charismatic,\n",
      "Nearest to my: his, your, the, our, summary, zero, idolaters, licentiousness, explicit, san,\n",
      "Nearest to evil: dear, minister, appoints, oversee, longs, returned, person, games, separated, revived,\n",
      "Average loss at step  32000 :  4.37238042808\n",
      "Average loss at step  34000 :  4.38497304022\n",
      "Average loss at step  36000 :  4.30566370022\n",
      "Average loss at step  38000 :  4.30815657187\n",
      "Average loss at step  40000 :  4.31865510321\n",
      "Nearest to and: but, or, for, UNK, is, you, that, thereforebecause, as, god,\n",
      "Nearest to by: in, with, is, are, be, �this, for, to, lacking, was,\n",
      "Nearest to for: to, and, in, that, is, of, with, as, but, empowered,\n",
      "Nearest to jesus: god, he, it, basis, you, kiss, christ, the, this, glorifies,\n",
      "Nearest to into: to, of, from, anymore, spent, in, reminded, godthat, forsaking, implies,\n",
      "Nearest to UNK: god, and, thereforebecause, you, in, betroth, the, today146s, aroma, that,\n",
      "Nearest to they: we, i, you, he, there, it, to, claimed, responsible, paul,\n",
      "Nearest to gods: his, the, heroes, harm, thinking, revival, reproduction, theseare, coin, prescribed,\n",
      "Nearest to are: were, is, be, have, and, by, was, as, fearof, miriam,\n",
      "Nearest to out: betty, impartial, invites, isgoing, all, price, finances, openly, unbelievers, affects,\n",
      "Nearest to that: what, it, this, and, god, thereforebecause, which, UNK, for, when,\n",
      "Nearest to in: with, of, to, at, is, for, UNK, by, from, and,\n",
      "Nearest to 1: 2, sophisticated, necessity, desperately, inheriting, beg, risks, the, foothold, willnot,\n",
      "Nearest to said: laws, inverse, doesn146t, relevance, descendants, structure, talk, anxieties, charismatic, entered,\n",
      "Nearest to my: his, your, our, the, idolaters, zero, summary, their, explicit, licentiousness,\n",
      "Nearest to evil: dear, minister, oversee, longs, appoints, returned, games, separated, opportunity, revived,\n",
      "Average loss at step  42000 :  4.33719122386\n",
      "Average loss at step  44000 :  4.32340092576\n",
      "Average loss at step  46000 :  4.31926241577\n",
      "Average loss at step  48000 :  4.22542235112\n",
      "Average loss at step  50000 :  4.34296541703\n",
      "Nearest to and: but, or, for, UNK, thereforebecause, that, is, as, you, to,\n",
      "Nearest to by: in, is, with, are, be, of, �this, to, sources, was,\n",
      "Nearest to for: and, to, in, that, but, of, is, if, with, he,\n",
      "Nearest to jesus: god, he, it, christ, the, kiss, basis, him, glorifies, you,\n",
      "Nearest to into: to, from, of, in, anymore, spent, reminded, godthat, forsaking, implies,\n",
      "Nearest to UNK: and, you, thereforebecause, that, all, the, in, god, is, licentiousness,\n",
      "Nearest to they: we, you, i, he, there, it, to, claimed, responsible, paul,\n",
      "Nearest to gods: his, the, heroes, revival, your, harm, thinking, reproduction, prescribed, theseare,\n",
      "Nearest to are: were, is, be, have, was, by, 6b, and, been, miriam,\n",
      "Nearest to out: betty, impartial, invites, all, isgoing, off, finances, back, affects, openly,\n",
      "Nearest to that: this, what, which, it, and, UNK, for, god, thereforebecause, when,\n",
      "Nearest to in: to, with, of, from, at, is, UNK, for, on, by,\n",
      "Nearest to 1: 2, desperately, UNK, sophisticated, necessity, inheriting, risks, beg, willnot, 21a,\n",
      "Nearest to said: laws, doesn146t, relevance, and, descendants, inverse, says, structure, now, charismatic,\n",
      "Nearest to my: your, his, our, the, their, summary, idolaters, zero, licentiousness, san,\n",
      "Nearest to evil: minister, dear, oversee, appoints, longs, separated, returned, games, opportunity, soldiers,\n",
      "Average loss at step  52000 :  4.23888832748\n",
      "Average loss at step  54000 :  4.26647532237\n",
      "Average loss at step  56000 :  4.28212546623\n",
      "Average loss at step  58000 :  4.29909186137\n",
      "Average loss at step  60000 :  4.21190724552\n",
      "Nearest to and: but, or, for, UNK, to, thereforebecause, ich, that, so, you,\n",
      "Nearest to by: in, be, with, are, for, is, was, �this, boasts, he,\n",
      "Nearest to for: to, and, in, of, is, that, with, as, are, empowered,\n",
      "Nearest to jesus: god, he, it, christ, the, you, kiss, paul, basis, him,\n",
      "Nearest to into: from, to, of, anymore, in, spent, reminded, godthat, forsaking, through,\n",
      "Nearest to UNK: thereforebecause, god, and, all, aroma, but, you, that, betroth, is,\n",
      "Nearest to they: we, i, you, he, there, it, claimed, to, responsible, paul,\n",
      "Nearest to gods: his, heroes, the, revival, theseare, harm, thinking, prescribed, reproduction, your,\n",
      "Nearest to are: were, is, be, have, was, by, for, fearof, been, 6b,\n",
      "Nearest to out: betty, impartial, off, invites, back, all, isgoing, finances, openly, affects,\n",
      "Nearest to that: what, it, this, god, which, when, UNK, thereforebecause, if, and,\n",
      "Nearest to in: of, at, for, to, with, is, through, from, by, thereforebecause,\n",
      "Nearest to 1: 2, UNK, necessity, desperately, sophisticated, inheriting, beg, 21a, verse, risks,\n",
      "Nearest to said: says, laws, doesn146t, relevance, descendants, inverse, structure, say, charismatic, writes,\n",
      "Nearest to my: your, his, our, the, their, idolaters, zero, summary, a, explicit,\n",
      "Nearest to evil: dear, minister, oversee, longs, appoints, separated, games, opportunity, returned, soldiers,\n",
      "Average loss at step  62000 :  4.22698544252\n",
      "Average loss at step  64000 :  4.233637025\n",
      "Average loss at step  66000 :  4.25345773518\n",
      "Average loss at step  68000 :  4.24496263599\n",
      "Average loss at step  70000 :  4.24823458242\n",
      "Nearest to and: but, UNK, or, as, for, that, you, is, so, ich,\n",
      "Nearest to by: in, is, be, with, �this, are, for, lacking, was, boasts,\n",
      "Nearest to for: to, and, in, of, that, is, UNK, as, empowered, he,\n",
      "Nearest to jesus: god, christ, he, it, him, paul, basis, the, that, kiss,\n",
      "Nearest to into: from, to, anymore, of, reminded, spent, godthat, in, forsaking, through,\n",
      "Nearest to UNK: that, and, god, you, thereforebecause, this, what, the, as, one,\n",
      "Nearest to they: we, i, you, he, there, it, claimed, paul, things, responsible,\n",
      "Nearest to gods: his, the, heroes, revival, thinking, reproduction, theseare, prescribed, harm, your,\n",
      "Nearest to are: were, is, be, have, was, been, 6b, had, and, fearof,\n",
      "Nearest to out: betty, back, off, impartial, UNK, isgoing, finances, up, invites, belonged,\n",
      "Nearest to that: what, this, UNK, it, which, thereforebecause, when, for, god, and,\n",
      "Nearest to in: of, at, is, to, with, for, through, by, from, on,\n",
      "Nearest to 1: 2, desperately, necessity, sophisticated, inheriting, 21a, verse, willnot, risks, beg,\n",
      "Nearest to said: says, laws, doesn146t, relevance, descendants, say, writes, structure, christ, september,\n",
      "Nearest to my: your, his, our, the, their, idolaters, UNK, zero, licentiousness, summary,\n",
      "Nearest to evil: minister, oversee, dear, longs, separated, appoints, opportunity, soldiers, games, demonstration,\n",
      "Average loss at step  72000 :  4.15126171923\n",
      "Average loss at step  74000 :  4.27177625299\n",
      "Average loss at step  76000 :  4.18468474638\n",
      "Average loss at step  78000 :  4.20596336818\n",
      "Average loss at step  80000 :  4.2253390342\n",
      "Nearest to and: but, UNK, or, the, you, for, that, will, is, thereforebecause,\n",
      "Nearest to by: is, are, in, with, be, �this, recognized, sources, lacking, boasts,\n",
      "Nearest to for: to, in, and, UNK, as, that, empowered, is, of, but,\n",
      "Nearest to jesus: god, christ, he, it, paul, him, the, that, kiss, glorifies,\n",
      "Nearest to into: from, to, of, spent, anymore, godthat, through, in, reminded, forsaking,\n",
      "Nearest to UNK: and, you, that, all, god, the, thereforebecause, this, in, what,\n",
      "Nearest to they: we, i, you, he, there, it, claimed, responsible, the, things,\n",
      "Nearest to gods: his, the, heroes, revival, your, theseare, reproduction, thinking, prescribed, harm,\n",
      "Nearest to are: were, is, be, have, by, 6b, miriam, been, had, was,\n",
      "Nearest to out: back, off, betty, impartial, up, invites, all, finances, isgoing, openly,\n",
      "Nearest to that: what, UNK, this, which, it, when, if, thereforebecause, god, and,\n",
      "Nearest to in: with, of, UNK, from, to, at, through, he, for, is,\n",
      "Nearest to 1: 2, necessity, desperately, sophisticated, inheriting, 21a, beg, UNK, foothold, risks,\n",
      "Nearest to said: says, say, laws, writes, doesn146t, descendants, september, relevance, now, december,\n",
      "Nearest to my: your, his, our, their, the, idolaters, zero, explicit, summary, licentiousness,\n",
      "Nearest to evil: minister, oversee, dear, separated, soldiers, demonstration, longs, games, opportunity, appoints,\n",
      "Average loss at step  82000 :  4.23807089639\n",
      "Average loss at step  84000 :  4.15877508008\n",
      "Average loss at step  86000 :  4.16893797147\n",
      "Average loss at step  88000 :  4.18082739449\n",
      "Average loss at step  90000 :  4.20088863277\n",
      "Nearest to and: UNK, but, or, is, for, that, you, will, the, thereforebecause,\n",
      "Nearest to by: in, is, with, be, are, for, was, �this, from, of,\n",
      "Nearest to for: to, and, in, of, that, is, UNK, empowered, as, with,\n",
      "Nearest to jesus: god, christ, he, paul, him, it, you, kiss, glorifies, basis,\n",
      "Nearest to into: from, of, to, anymore, through, godthat, spent, reminded, in, forsaking,\n",
      "Nearest to UNK: and, you, god, the, one, thereforebecause, that, in, is, do,\n",
      "Nearest to they: we, i, you, he, there, it, claimed, to, things, paul,\n",
      "Nearest to gods: his, the, heroes, revival, theseare, thinking, reproduction, prescribed, god, this,\n",
      "Nearest to are: were, be, is, have, was, been, and, 6b, had, by,\n",
      "Nearest to out: back, off, betty, impartial, up, finances, isgoing, invites, belonged, openly,\n",
      "Nearest to that: what, this, god, it, UNK, and, which, if, thereforebecause, when,\n",
      "Nearest to in: of, at, UNK, on, for, with, is, by, from, to,\n",
      "Nearest to 1: 2, necessity, desperately, sophisticated, inheriting, verse, 21a, risks, the, beg,\n",
      "Nearest to said: says, say, laws, writes, now, september, relevance, descendants, doesn146t, charismatic,\n",
      "Nearest to my: your, his, our, the, their, idolaters, zero, we, you, explicit,\n",
      "Nearest to evil: minister, oversee, dear, separated, soldiers, opportunity, demonstration, longs, games, appoints,\n",
      "Average loss at step  92000 :  4.19931665528\n",
      "Average loss at step  94000 :  4.19523747504\n",
      "Average loss at step  96000 :  4.1024986093\n",
      "Average loss at step  98000 :  4.21907388282\n",
      "Average loss at step  100000 :  4.14825683892\n",
      "Nearest to and: but, or, UNK, in, that, is, thereforebecause, you, of, verse,\n",
      "Nearest to by: in, with, is, be, are, of, was, �this, recognized, sources,\n",
      "Nearest to for: to, of, that, he, in, and, empowered, with, because, but,\n",
      "Nearest to jesus: god, christ, he, it, him, paul, the, kiss, glorifies, what,\n",
      "Nearest to into: from, in, to, through, of, anymore, godthat, spent, on, forsaking,\n",
      "Nearest to UNK: and, you, god, the, thereforebecause, in, is, representative, that, do,\n",
      "Nearest to they: we, you, i, he, there, it, paul, claimed, things, responsible,\n",
      "Nearest to gods: his, the, heroes, revival, theseare, your, reproduction, prescribed, my, thinking,\n",
      "Nearest to are: were, be, is, have, been, miriam, was, had, 6b, by,\n",
      "Nearest to out: back, off, up, betty, impartial, finances, isgoing, slavery, belonged, all,\n",
      "Nearest to that: what, this, which, and, it, when, because, god, if, thereforebecause,\n",
      "Nearest to in: with, of, to, and, from, on, through, thereforebecause, is, ich,\n",
      "Nearest to 1: 2, necessity, desperately, 21a, sophisticated, inheriting, verse, risks, beg, foothold,\n",
      "Nearest to said: says, say, laws, writes, now, christ, descendants, doesn146t, september, UNK,\n",
      "Nearest to my: your, his, our, their, the, idolaters, a, zero, explicit, licentiousness,\n",
      "Nearest to evil: minister, oversee, dear, demonstration, soldiers, reason, separated, opportunity, games, ratherthan,\n"
     ]
    }
   ],
   "source": [
    "num_steps = 100001\n",
    "\n",
    "with tf.Session(graph=graph) as session:\n",
    "    # We must initialize all variables before we use them.\n",
    "    init.run()\n",
    "    print('Initialized')\n",
    "    \n",
    "    average_loss = 0\n",
    "    for step in xrange(num_steps):\n",
    "        batch_inputs, batch_labels = generate_batch(batch_size, num_skips, skip_window)\n",
    "        feed_dict = {train_inputs: batch_inputs, train_labels: batch_labels}\n",
    "        \n",
    "        # We perform one update step by evaluating the optimizer op (including it\n",
    "        # in the list of returned values for session.run()\n",
    "        _, loss_val = session.run([optimizer, loss], feed_dict=feed_dict)\n",
    "        average_loss += loss_val\n",
    "        \n",
    "        if step % 2000 == 0:\n",
    "            if step > 0:\n",
    "                average_loss /= 2000\n",
    "                # The average loss is an estimate of the loss over the last 2000 batches.\n",
    "            print('Average loss at step ', step, ': ', average_loss)\n",
    "            average_loss = 0\n",
    "        \n",
    "        # Note that this is expensive (~20% slowdown if computed every 500 steps)\n",
    "        if step % 10000 == 0:\n",
    "            sim = similarity.eval()\n",
    "            for i in xrange(valid_size):\n",
    "                valid_word = reverse_dictionary[valid_examples[i]]\n",
    "                top_k = 10  # number of nearest neighbors\n",
    "                nearest = (-sim[i, :]).argsort()[1:top_k + 1]\n",
    "                log_str = 'Nearest to %s:' % valid_word\n",
    "                for k in xrange(top_k):\n",
    "                    close_word = reverse_dictionary[nearest[k]]\n",
    "                    log_str = '%s %s,' % (log_str, close_word)\n",
    "                print(log_str)\n",
    "    \n",
    "    final_embeddings = normalized_embeddings.eval()"
   ]
  },
  {
   "cell_type": "code",
   "execution_count": 28,
   "metadata": {
    "collapsed": false
   },
   "outputs": [
    {
     "name": "stdout",
     "output_type": "stream",
     "text": [
      "Nearest to evil: minister, oversee, dear, demonstration, soldiers, reason, separated, opportunity, games, ratherthan,\n"
     ]
    }
   ],
   "source": [
    "embed_a = final_embeddings[261]\n",
    "word = reverse_dictionary[261]\n",
    "top_k = 10\n",
    "nearest = (-sim[15, :]).argsort()[1:top_k + 1]\n",
    "log_str = 'Nearest to %s:' % word\n",
    "for k in xrange(top_k):\n",
    "    close_word = reverse_dictionary[nearest[k]]\n",
    "    if k == 0:\n",
    "        embed_b = final_embeddings[nearest[k]]\n",
    "    if k == 1:\n",
    "        embed_c = final_embeddings[nearest[k]]\n",
    "    if k == 2:\n",
    "        embed_d = final_embeddings[nearest[k]]\n",
    "    if k == 3:\n",
    "        embed_e = final_embeddings[nearest[k]]\n",
    "    if k == 4:\n",
    "        embed_f = final_embeddings[nearest[k]]\n",
    "    if k == 5:\n",
    "        embed_g = final_embeddings[nearest[k]]\n",
    "    if k == 6:\n",
    "        embed_h = final_embeddings[nearest[k]]\n",
    "    if k == 7:\n",
    "        embed_i = final_embeddings[nearest[k]]\n",
    "    if k == 8:\n",
    "        embed_j = final_embeddings[nearest[k]]\n",
    "    if k == 9:\n",
    "        embed_k = final_embeddings[nearest[k]]     \n",
    "    log_str = '%s %s,' % (log_str, close_word)\n",
    "print(log_str)"
   ]
  },
  {
   "cell_type": "code",
   "execution_count": 29,
   "metadata": {
    "collapsed": false
   },
   "outputs": [
    {
     "name": "stdout",
     "output_type": "stream",
     "text": [
      "<type 'numpy.ndarray'>\n",
      "(11, 300)\n",
      "<type 'tuple'>\n",
      "11\n"
     ]
    }
   ],
   "source": [
    "JohnPiper_wv = np.vstack((embed_a,embed_b,embed_c,embed_d,embed_e,embed_f,embed_g,\n",
    "                    embed_h,embed_i,embed_j,embed_k))\n",
    "print(type(JohnPiper_wv))\n",
    "print(JohnPiper_wv.shape)\n",
    "\n",
    "\n",
    "JohnPiper_vocab = ('evil', 'minister', 'oversee', 'dear', 'demonstration', 'soldiers',\n",
    "             'reason', 'separated', 'opportunity', 'games', 'ratherthan')\n",
    "print(type(JohnPiper_vocab))\n",
    "print(len(JohnPiper_vocab))"
   ]
  },
  {
   "cell_type": "markdown",
   "metadata": {},
   "source": [
    "### Step 6: Visualize the embeddings."
   ]
  },
  {
   "cell_type": "code",
   "execution_count": 30,
   "metadata": {
    "collapsed": false
   },
   "outputs": [
    {
     "data": {
      "image/png": "[encoded data removed]",
      "text/plain": [
       "<matplotlib.figure.Figure at 0x10d542c50>"
      ]
     },
     "metadata": {},
     "output_type": "display_data"
    }
   ],
   "source": [
    "tsne = TSNE(n_components=2, random_state=0)\n",
    "np.set_printoptions(suppress=True)\n",
    "Y = tsne.fit_transform(JohnPiper_wv[:11,:])\n",
    " \n",
    "plt.scatter(Y[:, 0], Y[:, 1])\n",
    "plt.axis([-0.0003,0.0003,-0.0003,0.0003])\n",
    "for label, x, y in zip(JohnPiper_vocab, Y[:, 0], Y[:, 1]):\n",
    "    plt.annotate(label, xy=(x, y), xytext=(0, 0), textcoords='offset points')\n",
    "plt.savefig('JohnPiper_embeddings.pdf')\n",
    "plt.show()"
   ]
  },
  {
   "cell_type": "markdown",
   "metadata": {
    "collapsed": true
   },
   "source": [
    "### Extras"
   ]
  },
  {
   "cell_type": "markdown",
   "metadata": {},
   "source": [
    "#### Import Data"
   ]
  },
  {
   "cell_type": "code",
   "execution_count": 2,
   "metadata": {
    "collapsed": false
   },
   "outputs": [
    {
     "name": "stdout",
     "output_type": "stream",
     "text": [
      "Found and verified text8.zip\n",
      "Data size 17005207\n"
     ]
    }
   ],
   "source": [
    "url = 'http://mattmahoney.net/dc/'\n",
    "\n",
    "\"\"\"Download a file if not present, and make sure it's the right size.\"\"\"\n",
    "def maybe_download(filename, expected_bytes):\n",
    "    if not os.path.exists(filename):\n",
    "        filename, _ = urllib.request.urlretrieve(url + filename, filename)\n",
    "    statinfo = os.stat(filename)\n",
    "    if statinfo.st_size == expected_bytes:\n",
    "        print('Found and verified', filename)\n",
    "    else:\n",
    "        print(statinfo.st_size)\n",
    "        raise Exception('Failed to verify ' + filename + '. Can you get to it with a browser?')\n",
    "    return filename\n",
    "\n",
    "filename = maybe_download('text8.zip', 31344016)\n",
    "\n",
    "# Read the data into a list of strings.\n",
    "\"\"\"Extract the first file enclosed in a zip file as a list of words.\"\"\"\n",
    "def read_data(filename):\n",
    "    with zipfile.ZipFile(filename) as f:\n",
    "        data = tf.compat.as_str(f.read(f.namelist()[0])).split()\n",
    "    return data\n",
    "\n",
    "vocabulary = read_data(filename)\n",
    "print('Data size', len(vocabulary))"
   ]
  },
  {
   "cell_type": "markdown",
   "metadata": {},
   "source": [
    "#### Visualize Embeddings"
   ]
  },
  {
   "cell_type": "code",
   "execution_count": 7,
   "metadata": {
    "collapsed": false
   },
   "outputs": [
    {
     "data": {
      "image/png": "[encoded data removed]",
      "text/plain": [
       "<matplotlib.figure.Figure at 0x11d2b6f90>"
      ]
     },
     "metadata": {},
     "output_type": "display_data"
    }
   ],
   "source": [
    "def plot_with_labels(low_dim_embs, labels, filename='tsne.png'):\n",
    "    assert low_dim_embs.shape[0] >= len(labels), 'More labels than embeddings'\n",
    "    plt.figure(figsize=(18, 18))  # in inches\n",
    "    for i, label in enumerate(labels):\n",
    "        x, y = low_dim_embs[i, :]\n",
    "        plt.scatter(x, y)\n",
    "        plt.annotate(label,\n",
    "                     xy=(x, y),\n",
    "                     xytext=(5, 2),\n",
    "                     textcoords='offset points',\n",
    "                     ha='right',\n",
    "                     va='bottom')\n",
    "    \n",
    "    plt.savefig(filename)\n",
    "\n",
    "try:\n",
    "    # pylint: disable=g-import-not-at-top\n",
    "    from sklearn.manifold import TSNE\n",
    "    import matplotlib.pyplot as plt\n",
    "    \n",
    "    tsne = TSNE(perplexity=30, n_components=2, init='pca', n_iter=5000)\n",
    "    plot_only = 150\n",
    "    low_dim_embs = tsne.fit_transform(final_embeddings[:plot_only, :])\n",
    "    labels = [reverse_dictionary[i] for i in xrange(plot_only)]\n",
    "    plot_with_labels(low_dim_embs, labels)\n",
    "\n",
    "except ImportError:\n",
    "    print('Please install sklearn, matplotlib, and scipy to show embeddings.')"
   ]
  },
  {
   "cell_type": "code",
   "execution_count": null,
   "metadata": {
    "collapsed": true
   },
   "outputs": [],
   "source": []
  }
 ],
 "metadata": {
  "anaconda-cloud": {},
  "kernelspec": {
   "display_name": "Python [tensorflow]",
   "language": "python",
   "name": "Python [tensorflow]"
  },
  "language_info": {
   "codemirror_mode": {
    "name": "ipython",
    "version": 2
   },
   "file_extension": ".py",
   "mimetype": "text/x-python",
   "name": "python",
   "nbconvert_exporter": "python",
   "pygments_lexer": "ipython2",
   "version": "2.7.12"
  }
 },
 "nbformat": 4,
 "nbformat_minor": 0
}
