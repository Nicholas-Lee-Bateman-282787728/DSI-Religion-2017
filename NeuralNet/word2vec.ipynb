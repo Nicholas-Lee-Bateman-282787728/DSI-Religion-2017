{
 "cells": [
  {
   "cell_type": "markdown",
   "metadata": {},
   "source": [
    "From: https://github.com/tensorflow/tensorflow/blob/master/tensorflow/examples/tutorials/word2vec/word2vec_basic.py"
   ]
  },
  {
   "cell_type": "code",
   "execution_count": 21,
   "metadata": {
    "collapsed": false
   },
   "outputs": [],
   "source": [
    "from __future__ import absolute_import\n",
    "from __future__ import division\n",
    "from __future__ import print_function\n",
    "\n",
    "import collections\n",
    "import math\n",
    "import os\n",
    "import random\n",
    "import zipfile\n",
    "\n",
    "import numpy as np\n",
    "from six.moves import urllib\n",
    "from six.moves import xrange  # pylint: disable=redefined-builtin\n",
    "import tensorflow as tf\n",
    "\n",
    "import sklearn\n",
    "import matplotlib\n",
    "%matplotlib inline\n",
    "import scipy\n",
    "import string\n",
    "import nltk"
   ]
  },
  {
   "cell_type": "markdown",
   "metadata": {},
   "source": [
    "## WBC"
   ]
  },
  {
   "cell_type": "markdown",
   "metadata": {},
   "source": [
    "### Step 1: Get the Data.\n",
    "#### Example from orignial code below."
   ]
  },
  {
   "cell_type": "code",
   "execution_count": 22,
   "metadata": {
    "collapsed": true
   },
   "outputs": [],
   "source": [
    "from string import punctuation\n",
    "def strip_punctuation(s):\n",
    "    return ''.join(c for c in s if c not in punctuation)"
   ]
  },
  {
   "cell_type": "code",
   "execution_count": 23,
   "metadata": {
    "collapsed": false
   },
   "outputs": [],
   "source": [
    "subdir = '/Users/leighharton/Documents/MSDS/Capstone/WBC'\n",
    "#filepath = subdir + \"/WBC001.txt\""
   ]
  },
  {
   "cell_type": "code",
   "execution_count": 60,
   "metadata": {
    "collapsed": true
   },
   "outputs": [],
   "source": [
    "#vocabulary = open(filepath).read()\n",
    "#vocabulary = vocabulary.lower()\n",
    "#vocabulary = strip_punctuation(vocabulary)\n",
    "#vocabulary = nltk.word_tokenize(vocabulary)"
   ]
  },
  {
   "cell_type": "code",
   "execution_count": 25,
   "metadata": {
    "collapsed": false
   },
   "outputs": [],
   "source": [
    "vocabulary = []\n",
    "for i in range(423):\n",
    "    if i < 9:\n",
    "        filepath = subdir + \"/WBC00\" + str(i+1) + \".txt\"\n",
    "        words = open(filepath).read()\n",
    "        words = words.lower()\n",
    "        words = strip_punctuation(words)\n",
    "        words = nltk.word_tokenize(words)\n",
    "        #vocabulary = vocabulary + words\n",
    "    elif i < 99:\n",
    "        filepath = subdir + \"/WBC0\" + str(i+1) + \".txt\"\n",
    "        words = open(filepath).read()\n",
    "        words = words.lower()\n",
    "        words = strip_punctuation(words)\n",
    "        words = nltk.word_tokenize(words)\n",
    "    else:\n",
    "        filepath = subdir + \"/WBC\" + str(i+1) + \".txt\"\n",
    "        words = open(filepath).read()\n",
    "        words = words.lower()\n",
    "        words = strip_punctuation(words)\n",
    "        words = nltk.word_tokenize(words)\n",
    "    vocabulary = vocabulary + words"
   ]
  },
  {
   "cell_type": "code",
   "execution_count": 26,
   "metadata": {
    "collapsed": false
   },
   "outputs": [
    {
     "data": {
      "text/plain": [
       "1351279"
      ]
     },
     "execution_count": 26,
     "metadata": {},
     "output_type": "execute_result"
    }
   ],
   "source": [
    "len(vocabulary)"
   ]
  },
  {
   "cell_type": "markdown",
   "metadata": {},
   "source": [
    "### Step 2: Build the dictionary and replace rare words with UNK token."
   ]
  },
  {
   "cell_type": "code",
   "execution_count": 27,
   "metadata": {
    "collapsed": false
   },
   "outputs": [
    {
     "name": "stdout",
     "output_type": "stream",
     "text": [
      "Most common words (+UNK) [['UNK', 11238], ('the', 87564), ('and', 59487), ('of', 55519), ('to', 34720)]\n",
      "Sample data [124, 89, 1074, 1055, 220, 103, 105, 565, 193, 18] ['sunday', 'may', '27', '2007', 'page', '1', 'sermon', 'outline', 'away', 'with']\n"
     ]
    }
   ],
   "source": [
    "vocabulary_size = 20000 # orignial was 50000\n",
    "\n",
    "\"\"\"Process raw inputs into a dataset.\"\"\"\n",
    "def build_dataset(words, n_words):\n",
    "    count = [['UNK', -1]]\n",
    "    count.extend(collections.Counter(words).most_common(n_words - 1))\n",
    "    dictionary = dict()\n",
    "    for word, _ in count:\n",
    "        dictionary[word] = len(dictionary)\n",
    "    data = list()\n",
    "    unk_count = 0\n",
    "    for word in words:\n",
    "        if word in dictionary:\n",
    "            index = dictionary[word]\n",
    "        else:\n",
    "            index = 0  # dictionary['UNK']\n",
    "            unk_count += 1\n",
    "        data.append(index)\n",
    "    count[0][1] = unk_count\n",
    "    reversed_dictionary = dict(zip(dictionary.values(), dictionary.keys()))\n",
    "    return data, count, dictionary, reversed_dictionary\n",
    "\n",
    "data, count, dictionary, reverse_dictionary = build_dataset(vocabulary,\n",
    "                                                            vocabulary_size)\n",
    "del vocabulary  # Hint to reduce memory.\n",
    "print('Most common words (+UNK)', count[:5])\n",
    "print('Sample data', data[:10], [reverse_dictionary[i] for i in data[:10]])\n",
    "\n",
    "data_index = 0"
   ]
  },
  {
   "cell_type": "markdown",
   "metadata": {},
   "source": [
    "### Step 3: Function to generate a training batch for the skip-gram model."
   ]
  },
  {
   "cell_type": "code",
   "execution_count": 28,
   "metadata": {
    "collapsed": false
   },
   "outputs": [
    {
     "name": "stdout",
     "output_type": "stream",
     "text": [
      "89 may -> 1074 27\n",
      "89 may -> 124 sunday\n",
      "1074 27 -> 89 may\n",
      "1074 27 -> 1055 2007\n",
      "1055 2007 -> 1074 27\n",
      "1055 2007 -> 220 page\n",
      "220 page -> 103 1\n",
      "220 page -> 1055 2007\n"
     ]
    }
   ],
   "source": [
    "def generate_batch(batch_size, num_skips, skip_window):\n",
    "    global data_index\n",
    "    assert batch_size % num_skips == 0\n",
    "    assert num_skips <= 2 * skip_window\n",
    "    batch = np.ndarray(shape=(batch_size), dtype=np.int32)\n",
    "    labels = np.ndarray(shape=(batch_size, 1), dtype=np.int32)\n",
    "    span = 2 * skip_window + 1  # [ skip_window target skip_window ]\n",
    "    buffer = collections.deque(maxlen=span)\n",
    "    for _ in range(span):\n",
    "        buffer.append(data[data_index])\n",
    "        data_index = (data_index + 1) % len(data)\n",
    "    for i in range(batch_size // num_skips):\n",
    "        target = skip_window  # target label at the center of the buffer\n",
    "        targets_to_avoid = [skip_window]\n",
    "        for j in range(num_skips):\n",
    "            while target in targets_to_avoid:\n",
    "                target = random.randint(0, span - 1)\n",
    "            targets_to_avoid.append(target)\n",
    "            batch[i * num_skips + j] = buffer[skip_window]\n",
    "            labels[i * num_skips + j, 0] = buffer[target]\n",
    "        buffer.append(data[data_index])\n",
    "        data_index = (data_index + 1) % len(data)\n",
    "    # Backtrack a little bit to avoid skipping words in the end of a batch\n",
    "    data_index = (data_index + len(data) - span) % len(data)\n",
    "    return batch, labels\n",
    "\n",
    "batch, labels = generate_batch(batch_size=8, num_skips=2, skip_window=1)\n",
    "for i in range(8):\n",
    "    print(batch[i], reverse_dictionary[batch[i]],'->', labels[i, 0], reverse_dictionary[labels[i, 0]])"
   ]
  },
  {
   "cell_type": "markdown",
   "metadata": {},
   "source": [
    "### Step 4: Build and train a skip-gram model."
   ]
  },
  {
   "cell_type": "code",
   "execution_count": 44,
   "metadata": {
    "collapsed": false
   },
   "outputs": [
    {
     "name": "stdout",
     "output_type": "stream",
     "text": [
      "156\n"
     ]
    }
   ],
   "source": [
    "for i in xrange(vocabulary_size):\n",
    "    if reverse_dictionary[i] == 'evil':\n",
    "        print(i)"
   ]
  },
  {
   "cell_type": "code",
   "execution_count": 45,
   "metadata": {
    "collapsed": false
   },
   "outputs": [],
   "source": [
    "batch_size = 128\n",
    "embedding_size = 300  # Dimension of the embedding vector.\n",
    "skip_window = 1       # How many words to consider left and right.\n",
    "num_skips = 2         # How many times to reuse an input to generate a label.\n",
    "\n",
    "# We pick a random validation set to sample nearest neighbors. Here we limit the\n",
    "# validation samples to the words that have a low numeric ID, which by\n",
    "# construction are also the most frequent.\n",
    "valid_size = 16     # Random set of words to evaluate similarity on.\n",
    "valid_window = 100  # Only pick dev samples in the head of the distribution.\n",
    "valid_examples = np.array([ 2, 34, 11, 38, 89,  0, 37, 67, \n",
    "                           20, 86,  7,  6, 95, 97, 54, 156])\n",
    "                            # so we can choose which words to graph\n",
    "#valid_examples = np.random.choice(valid_window, valid_size, replace=False)\n",
    "num_sampled = 64    # Number of negative examples to sample.\n",
    "\n",
    "graph = tf.Graph()\n",
    "\n",
    "with graph.as_default():\n",
    "    # Input data.\n",
    "    train_inputs = tf.placeholder(tf.int32, shape=[batch_size])\n",
    "    train_labels = tf.placeholder(tf.int32, shape=[batch_size, 1])\n",
    "    valid_dataset = tf.constant(valid_examples, dtype=tf.int32)\n",
    "\n",
    "    # Ops and variables pinned to the CPU because of missing GPU implementation\n",
    "    with tf.device('/cpu:0'):\n",
    "        # Look up embeddings for inputs.\n",
    "        embeddings = tf.Variable(tf.random_uniform([vocabulary_size, embedding_size], -1.0, 1.0))\n",
    "        embed = tf.nn.embedding_lookup(embeddings, train_inputs)\n",
    "        \n",
    "        # Construct the variables for the NCE loss\n",
    "        nce_weights = tf.Variable(tf.truncated_normal([vocabulary_size, embedding_size],\n",
    "                            stddev=1.0 / math.sqrt(embedding_size)))\n",
    "        nce_biases = tf.Variable(tf.zeros([vocabulary_size]))\n",
    "        \n",
    "        # Compute the average NCE loss for the batch.\n",
    "        # tf.nce_loss automatically draws a new sample of the negative labels each\n",
    "        # time we evaluate the loss.\n",
    "    loss = tf.reduce_mean(tf.nn.nce_loss(weights=nce_weights,\n",
    "                                         biases=nce_biases,\n",
    "                                         labels=train_labels,\n",
    "                                         inputs=embed,\n",
    "                                         num_sampled=num_sampled,\n",
    "                                         num_classes=vocabulary_size))\n",
    "        \n",
    "    # Construct the SGD optimizer using a learning rate of 1.0.\n",
    "    optimizer = tf.train.GradientDescentOptimizer(1.0).minimize(loss)\n",
    "        \n",
    "    # Compute the cosine similarity between minibatch examples and all embeddings.\n",
    "    norm = tf.sqrt(tf.reduce_sum(tf.square(embeddings), 1, keep_dims=True))\n",
    "    normalized_embeddings = embeddings / norm\n",
    "    valid_embeddings = tf.nn.embedding_lookup(normalized_embeddings, valid_dataset)\n",
    "    similarity = tf.matmul(valid_embeddings, normalized_embeddings, transpose_b=True)\n",
    "        \n",
    "    # Add variable initializer.\n",
    "    init = tf.initialize_all_variables()"
   ]
  },
  {
   "cell_type": "markdown",
   "metadata": {},
   "source": [
    "### Step 5: Begin training."
   ]
  },
  {
   "cell_type": "code",
   "execution_count": 46,
   "metadata": {
    "collapsed": false
   },
   "outputs": [
    {
     "name": "stdout",
     "output_type": "stream",
     "text": [
      "Initialized\n",
      "Average loss at step  0 :  261.735656738\n",
      "Nearest to and: worries, shaking, defenced, 24445, molded, immutable, assaying, 12930, equipment, undertakes,\n",
      "Nearest to by: clearer, 1898, looseliving, philemons, counsel, 313, scepters, glittering, birthday, mexican,\n",
      "Nearest to it: menace, resound, hungred, occult, highpriest, desk, obliges, waving, meetinghouse, killed,\n",
      "Nearest to will: 23710, imply, clutches, murder, imprecation, beautifully, leavened, domination, 61113, refused,\n",
      "Nearest to may: lucet, salome, sir, flags, assuming, brazen, 92224, calif, vicinity, 221620,\n",
      "Nearest to UNK: pleasurable, clung, gloomy, completed, armed, archangel, class, meantime, shame, fortify,\n",
      "Nearest to unto: saturation, mercifully, owens, shackles, amendments, i’m, 1134, accuse, citizen, stubbornness,\n",
      "Nearest to things: respect, 2911, ouai, convince, presidents, impelled, shop, chronic, lighteth, coverup,\n",
      "Nearest to are: fleeing, threshingfloors, plundered, stirring, loftiness, shockingbible, celebrated, referencing, rightness, induced,\n",
      "Nearest to come: bloodless, furnishes, impressing, stirs, hall, impassiblity, floated, leave, 1660, intelligent,\n",
      "Nearest to is: articulating, 12829, interactions, bustling, nehemiah, theocracy, thorn, avenger, persevering, 1st,\n",
      "Nearest to that: clamor, dude, shutting, manifested, board, owed, black, 1sa, 2810, conferences,\n",
      "Nearest to gods: beza, flocks, 92836, slusher, afterlife, pits, 1010, nowglorified, obedience, future,\n",
      "Nearest to about: scandals, wildfires, equation, drafting, into, afore, accordance, maelstrom, century, alteration,\n",
      "Nearest to wit: pose, assassination, 1788, properly, british, 2910, bowels, riffraff, rumprangers, pained,\n",
      "Nearest to evil: shinto, suspended, womenservants, rump, stead, education, drowned, jehoshua, assumes, circus,\n",
      "Average loss at step  2000 :  67.9130745547\n",
      "Average loss at step  4000 :  19.3948795919\n",
      "Average loss at step  6000 :  11.2964808905\n",
      "Average loss at step  8000 :  8.35513968074\n",
      "Average loss at step  10000 :  6.82085481989\n",
      "Nearest to and: of, in, to, that, but, the, is, for, or, prot�g�s,\n",
      "Nearest to by: of, in, 1898, philemons, is, clearer, prot�g�s, laboring, 313, and,\n",
      "Nearest to it: judgest, he, that, not, dwell, you, sihon, the, pitched, god,\n",
      "Nearest to will: to, and, shall, are, dominant, domination, should, graves, girt, vipers,\n",
      "Nearest to may: prot�g�s, neighbors, rephidim, flags, salome, despiseth, lucet, brazen, jealousies, inhabiters,\n",
      "Nearest to UNK: prot�g�s, in, shame, honey, armed, that, class, despiseth, despite, and,\n",
      "Nearest to unto: to, in, of, and, oppress, mercifully, owens, saturation, anthropopatheia, execution,\n",
      "Nearest to things: respect, convince, presidents, lighteth, dispute, carried, the, and, 2911, freewill,\n",
      "Nearest to are: were, is, and, fleeing, uzziah, the, in, fetters, will, have,\n",
      "Nearest to come: leave, intelligent, hall, infirmities, intent, captain, dispensation, faithfulness, worshipped, 12th,\n",
      "Nearest to is: was, and, in, are, prot�g�s, to, be, of, attributes, 51,\n",
      "Nearest to that: and, in, to, for, of, the, judgest, prot�g�s, as, this,\n",
      "Nearest to gods: flocks, the, beza, obedience, his, resemble, righteous, scribes, shalt, casts,\n",
      "Nearest to about: into, and, wildfires, century, afore, accordance, seconds, maelstrom, demonpossessed, to,\n",
      "Nearest to wit: properly, bowels, british, persecutor, pained, marry, injured, dramatic, judgest, discard,\n",
      "Nearest to evil: suspended, stead, education, drowned, rump, shinto, forbid, esteem, 10000, sworn,\n",
      "Average loss at step  12000 :  6.11612875438\n",
      "Average loss at step  14000 :  5.55101256478\n",
      "Average loss at step  16000 :  5.30818862331\n",
      "Average loss at step  18000 :  5.18903718531\n",
      "Average loss at step  20000 :  4.97560402036\n",
      "Nearest to and: that, but, or, for, in, of, the, as, is, to,\n",
      "Nearest to by: in, is, to, 1898, clearer, of, prot�g�s, 313, philemons, and,\n",
      "Nearest to it: he, that, the, not, i, god, they, judgest, we, this,\n",
      "Nearest to will: to, shall, should, dominant, may, must, can, and, domination, diligent,\n",
      "Nearest to may: shall, to, will, neighbors, rephidim, prot�g�s, flags, inhabiters, salome, jealousies,\n",
      "Nearest to UNK: prot�g�s, in, �, battlefields, apa, despiseth, shame, god, topic, that,\n",
      "Nearest to unto: to, of, in, and, oppress, owens, saturation, mercifully, stubbornness, roar,\n",
      "Nearest to things: respect, convince, lighteth, dispute, presidents, ouai, 2911, 1125, coverup, walks,\n",
      "Nearest to are: were, is, be, fleeing, have, was, and, in, uzziah, �,\n",
      "Nearest to come: leave, hall, intelligent, intent, floated, infirmities, it, worshipped, impressing, clay,\n",
      "Nearest to is: was, are, be, in, and, prot�g�s, �, has, by, for,\n",
      "Nearest to that: and, in, which, the, for, it, this, as, to, of,\n",
      "Nearest to gods: his, the, flocks, resemble, beza, 92836, obedience, scribes, labors, righteous,\n",
      "Nearest to about: into, omri, wildfires, scandals, in, from, to, drafting, sounded, century,\n",
      "Nearest to wit: properly, persecutor, bowels, dunlap, pained, british, pose, discard, rumprangers, 2910,\n",
      "Nearest to evil: suspended, shinto, womenservants, drowned, stead, education, rump, forbid, jehoshua, esteem,\n",
      "Average loss at step  22000 :  4.92341630054\n",
      "Average loss at step  24000 :  4.55776454973\n",
      "Average loss at step  26000 :  4.47746733081\n",
      "Average loss at step  28000 :  4.47373922157\n",
      "Average loss at step  30000 :  4.38273944068\n",
      "Nearest to and: but, as, or, for, that, is, prot�g�s, in, are, which,\n",
      "Nearest to by: in, is, of, 1898, prot�g�s, with, clearer, 313, philemons, laboring,\n",
      "Nearest to it: he, that, god, they, we, i, not, this, there, you,\n",
      "Nearest to will: shall, to, should, can, must, may, dominant, mocker, would, might,\n",
      "Nearest to may: shall, will, rephidim, to, prot�g�s, neighbors, must, despiseth, flags, jealousies,\n",
      "Nearest to UNK: prot�g�s, �, in, topic, apa, that, battlefields, think, and, god,\n",
      "Nearest to unto: to, in, of, oppress, saturation, mercifully, owens, stubbornness, roar, prot�g�s,\n",
      "Nearest to things: respect, convince, lighteth, presidents, dispute, 1125, ouai, aha, walks, coverup,\n",
      "Nearest to are: were, is, be, have, and, fleeing, was, uzziah, fetters, mix,\n",
      "Nearest to come: hall, intelligent, leave, intent, floated, infirmities, impressing, hooks, worshipped, it,\n",
      "Nearest to is: was, are, be, and, has, �, hath, in, prot�g�s, for,\n",
      "Nearest to that: which, it, and, this, for, what, in, judgest, when, but,\n",
      "Nearest to gods: his, flocks, the, resemble, beza, 92836, shalt, obedience, scribes, labors,\n",
      "Nearest to about: into, omri, wildfires, scandals, from, maelstrom, drafting, sounded, century, accordance,\n",
      "Nearest to wit: persecutor, properly, bowels, discard, dunlap, pained, british, 1535, rumprangers, pose,\n",
      "Nearest to evil: suspended, womenservants, drowned, shinto, education, stead, rump, forbid, jehoshua, extortioners,\n",
      "Average loss at step  32000 :  4.3992177254\n",
      "Average loss at step  34000 :  4.35456290174\n",
      "Average loss at step  36000 :  4.31893307722\n",
      "Average loss at step  38000 :  4.35103474355\n",
      "Average loss at step  40000 :  4.36206831789\n",
      "Nearest to and: but, for, or, that, in, as, is, kill, which, prot�g�s,\n",
      "Nearest to by: in, is, to, 313, 1898, prot�g�s, with, from, as, through,\n",
      "Nearest to it: he, not, god, them, that, this, they, the, i, there,\n",
      "Nearest to will: shall, to, should, can, must, may, would, them, dominant, mocker,\n",
      "Nearest to may: shall, will, must, to, would, neighbors, rephidim, militaryindustrial, prot�g�s, flags,\n",
      "Nearest to UNK: prot�g�s, �, topic, driving, battlefields, apa, god, in, possession, shame,\n",
      "Nearest to unto: to, and, in, of, oppress, roar, mercifully, stubbornness, owens, saturation,\n",
      "Nearest to things: convince, respect, lighteth, men, dispute, presidents, walks, 1125, sleep, aha,\n",
      "Nearest to are: were, is, be, have, was, fleeing, and, mix, �, as,\n",
      "Nearest to come: leave, hall, intelligent, floated, it, intent, impressing, 141415, worshipped, impassiblity,\n",
      "Nearest to is: was, be, are, has, in, �, and, hath, prot�g�s, by,\n",
      "Nearest to that: which, and, it, this, what, judgest, in, who, for, as,\n",
      "Nearest to gods: his, the, flocks, 92836, resemble, clifton, shalt, beza, labors, obedience,\n",
      "Nearest to about: into, omri, wildfires, scandals, from, sounded, maelstrom, in, drafting, accordance,\n",
      "Nearest to wit: persecutor, discard, dunlap, properly, bowels, 1535, pained, rumprangers, british, pose,\n",
      "Nearest to evil: suspended, womenservants, shinto, drowned, education, rump, stead, jehoshua, forbid, moderate,\n",
      "Average loss at step  42000 :  4.39713363862\n",
      "Average loss at step  44000 :  4.401662745\n",
      "Average loss at step  46000 :  4.32906732321\n",
      "Average loss at step  48000 :  4.29128121459\n",
      "Average loss at step  50000 :  4.2570534575\n",
      "Nearest to and: but, for, as, or, of, the, which, is, prot�g�s, in,\n",
      "Nearest to by: in, is, 1898, of, from, as, 313, prot�g�s, with, unsatisfying,\n",
      "Nearest to it: he, god, they, that, i, there, this, christ, we, them,\n",
      "Nearest to will: shall, should, to, can, must, may, would, might, them, resignation,\n",
      "Nearest to may: shall, will, must, would, to, should, can, might, flags, rephidim,\n",
      "Nearest to UNK: �, prot�g�s, in, topic, god, and, that, sheep, apa, rider,\n",
      "Nearest to unto: to, of, oppress, and, in, roar, colour, with, stubbornness, mercifully,\n",
      "Nearest to things: convince, respect, lighteth, men, them, aha, walks, presidents, pethor, 1125,\n",
      "Nearest to are: were, is, be, have, fleeing, was, and, fetters, crimes, uzziah,\n",
      "Nearest to come: hall, intelligent, floated, leave, it, 141415, bloodless, intent, impressing, hooks,\n",
      "Nearest to is: was, are, be, has, hath, �, and, by, prot�g�s, in,\n",
      "Nearest to that: which, this, it, god, what, judgest, who, and, for, UNK,\n",
      "Nearest to gods: his, the, flocks, 92836, resemble, my, clifton, shalt, labors, obedience,\n",
      "Nearest to about: into, omri, wildfires, scandals, maelstrom, drafting, sounded, from, guard, namecalling,\n",
      "Nearest to wit: persecutor, discard, dunlap, properly, 1535, bowels, pained, rumprangers, us, me,\n",
      "Nearest to evil: suspended, womenservants, shinto, drowned, education, rump, jehoshua, stead, forbid, sworn,\n",
      "Average loss at step  52000 :  4.22558359897\n",
      "Average loss at step  54000 :  4.21460503232\n",
      "Average loss at step  56000 :  4.17534103453\n",
      "Average loss at step  58000 :  4.18931328571\n",
      "Average loss at step  60000 :  4.23517260277\n",
      "Nearest to and: but, for, or, that, in, as, is, which, the, shall,\n",
      "Nearest to by: in, is, 313, to, through, from, of, 1898, as, was,\n",
      "Nearest to it: he, god, there, they, that, the, this, i, not, them,\n",
      "Nearest to will: shall, to, should, can, must, would, may, might, them, dominant,\n",
      "Nearest to may: shall, will, must, would, should, can, to, might, militaryindustrial, rephidim,\n",
      "Nearest to UNK: prot�g�s, �, apa, driving, topic, possession, the, battlefields, god, shame,\n",
      "Nearest to unto: to, of, oppress, and, in, mercifully, roar, colour, stubbornness, saturation,\n",
      "Nearest to things: convince, respect, lighteth, men, them, aha, pethor, walks, 1125, timeframe,\n",
      "Nearest to are: were, is, have, be, fleeing, was, and, mix, crimes, as,\n",
      "Nearest to come: floated, hall, leave, intelligent, 141415, impressing, it, intent, offend, worshipped,\n",
      "Nearest to is: was, are, be, has, hath, and, prot�g�s, �, in, thighs,\n",
      "Nearest to that: which, and, what, it, this, judgest, who, for, the, god,\n",
      "Nearest to gods: his, the, 92836, flocks, clifton, my, resemble, labors, shalt, obedience,\n",
      "Nearest to about: omri, wildfires, into, scandals, sounded, maelstrom, drafting, from, guard, accordance,\n",
      "Nearest to wit: discard, persecutor, dunlap, 1535, properly, us, rumprangers, pained, shall, bowels,\n",
      "Nearest to evil: suspended, womenservants, shinto, education, rump, drowned, jehoshua, forbid, stead, life,\n",
      "Average loss at step  62000 :  4.1885897609\n",
      "Average loss at step  64000 :  4.31979963601\n",
      "Average loss at step  66000 :  4.2920995661\n",
      "Average loss at step  68000 :  4.21398708713\n",
      "Average loss at step  70000 :  4.1791350081\n",
      "Nearest to and: but, for, as, in, prot�g�s, which, of, that, ordering, unto,\n",
      "Nearest to by: in, is, 1898, 313, through, from, unsatisfying, of, was, prot�g�s,\n",
      "Nearest to it: he, that, god, this, there, christ, they, them, you, not,\n",
      "Nearest to will: shall, should, can, to, would, must, may, might, resignation, mocker,\n",
      "Nearest to may: shall, will, must, would, should, can, might, to, militaryindustrial, despiseth,\n",
      "Nearest to UNK: �, prot�g�s, in, topic, that, sheep, god, hedge, apa, it,\n",
      "Nearest to unto: to, and, of, oppress, roar, colour, owens, mercifully, prot�g�s, crackers,\n",
      "Nearest to things: convince, respect, men, lighteth, them, aha, pethor, timeframe, offices, platted,\n",
      "Nearest to are: were, be, is, have, fleeing, was, crimes, fetters, mix, 251,\n",
      "Nearest to come: floated, hall, intelligent, leave, 141415, bloodless, impressing, intent, came, offend,\n",
      "Nearest to is: was, are, be, has, hath, prot�g�s, does, �, thighs, in,\n",
      "Nearest to that: which, it, this, what, god, and, who, judgest, the, gnaw,\n",
      "Nearest to gods: his, the, 92836, flocks, clifton, resemble, shalt, labors, obedience, my,\n",
      "Nearest to about: omri, wildfires, into, drafting, scandals, from, maelstrom, sounded, guard, edition,\n",
      "Nearest to wit: discard, persecutor, 1535, dunlap, shall, me, pained, properly, us, rumprangers,\n",
      "Nearest to evil: suspended, womenservants, shinto, drowned, education, rump, jehoshua, UNK, forbid, life,\n",
      "Average loss at step  72000 :  4.14041829407\n",
      "Average loss at step  74000 :  4.13056723523\n",
      "Average loss at step  76000 :  4.11362906444\n",
      "Average loss at step  78000 :  4.09339337587\n",
      "Average loss at step  80000 :  4.12200708926\n",
      "Nearest to and: but, for, or, that, in, as, which, the, of, all,\n",
      "Nearest to by: in, 313, from, is, through, as, was, to, 1898, 1963,\n",
      "Nearest to it: he, there, they, them, god, this, christ, that, satan, i,\n",
      "Nearest to will: shall, should, can, to, would, must, may, might, them, resignation,\n",
      "Nearest to may: shall, will, must, would, should, can, might, to, militaryindustrial, rephidim,\n",
      "Nearest to UNK: prot�g�s, �, apa, you, picture, topic, possession, the, rider, putting,\n",
      "Nearest to unto: to, of, oppress, roar, mercifully, crackers, colour, in, prot�g�s, owens,\n",
      "Nearest to things: convince, men, lighteth, respect, them, aha, words, pethor, platted, timeframe,\n",
      "Nearest to are: were, is, be, have, was, fleeing, crimes, mix, 251, �,\n",
      "Nearest to come: floated, hall, intelligent, leave, came, 141415, bloodless, worshipped, offend, intent,\n",
      "Nearest to is: was, are, be, has, hath, prot�g�s, does, thighs, �, believes,\n",
      "Nearest to that: which, what, it, as, this, who, and, judgest, gnaw, for,\n",
      "Nearest to gods: his, the, 92836, flocks, clifton, labors, shalt, my, resemble, obedience,\n",
      "Nearest to about: omri, wildfires, into, scandals, drafting, warpandwoof, maelstrom, edition, sounded, from,\n",
      "Nearest to wit: discard, persecutor, 1535, dunlap, me, us, shall, lord, said, pained,\n",
      "Nearest to evil: suspended, womenservants, shinto, education, rump, drowned, jehoshua, forbid, life, extortioners,\n",
      "Average loss at step  82000 :  4.14802962565\n",
      "Average loss at step  84000 :  4.18263581634\n",
      "Average loss at step  86000 :  4.23360735846\n",
      "Average loss at step  88000 :  4.19124340963\n",
      "Average loss at step  90000 :  4.13095262146\n",
      "Nearest to and: but, for, not, as, or, the, which, prot�g�s, that, is,\n",
      "Nearest to by: in, is, from, 313, through, be, unsatisfying, to, as, of,\n",
      "Nearest to it: he, that, god, this, christ, there, them, the, i, satan,\n",
      "Nearest to will: shall, should, can, would, must, to, may, might, resignation, could,\n",
      "Nearest to may: shall, will, must, should, would, can, might, to, militaryindustrial, despiseth,\n",
      "Nearest to UNK: �, prot�g�s, in, god, that, and, topic, it, hedge, possession,\n",
      "Nearest to unto: to, oppress, and, roar, colour, mercifully, of, crackers, owens, in,\n",
      "Nearest to things: convince, men, respect, them, lighteth, words, pethor, aha, offices, requital,\n",
      "Nearest to are: were, be, is, have, was, fleeing, crimes, been, fetters, as,\n",
      "Nearest to come: floated, hall, came, intelligent, leave, bloodless, 141415, jerahmeel, offend, carry,\n",
      "Nearest to is: was, be, are, has, hath, prot�g�s, does, in, of, by,\n",
      "Nearest to that: which, it, what, this, god, the, and, UNK, judgest, gnaw,\n",
      "Nearest to gods: his, the, 92836, flocks, clifton, my, labors, resemble, shalt, obedience,\n",
      "Nearest to about: omri, wildfires, drafting, into, scandals, on, edition, else, from, warpandwoof,\n",
      "Nearest to wit: discard, persecutor, 1535, said, shall, me, dunlap, pained, us, properly,\n",
      "Nearest to evil: suspended, womenservants, shinto, education, drowned, jehoshua, rump, forbid, life, UNK,\n",
      "Average loss at step  92000 :  4.09785519886\n",
      "Average loss at step  94000 :  4.06617326522\n",
      "Average loss at step  96000 :  4.06452156091\n",
      "Average loss at step  98000 :  4.03752552795\n",
      "Average loss at step  100000 :  4.04985288775\n",
      "Nearest to and: but, that, of, for, in, to, or, prot�g�s, not, which,\n",
      "Nearest to by: in, is, of, 313, through, to, as, 1898, from, 1963,\n",
      "Nearest to it: he, there, god, they, christ, this, them, i, not, that,\n",
      "Nearest to will: shall, should, can, would, must, may, to, might, them, resignation,\n",
      "Nearest to may: shall, will, should, must, would, can, might, to, militaryindustrial, rephidim,\n",
      "Nearest to UNK: prot�g�s, �, the, putting, picture, rider, topic, god, 2614, 624,\n",
      "Nearest to unto: to, of, roar, oppress, mercifully, crackers, in, and, prot�g�s, colour,\n",
      "Nearest to things: convince, men, them, words, respect, lighteth, pethor, say, requital, aha,\n",
      "Nearest to are: were, is, be, have, fleeing, was, crimes, mix, 251, being,\n",
      "Nearest to come: floated, came, hall, intelligent, leave, jerahmeel, bloodless, 141415, cast, carry,\n",
      "Nearest to is: was, are, be, has, hath, does, prot�g�s, thighs, in, had,\n",
      "Nearest to that: which, and, for, what, god, as, it, this, gnaw, when,\n",
      "Nearest to gods: his, the, 92836, flocks, clifton, labors, my, shalt, resemble, obedience,\n",
      "Nearest to about: omri, wildfires, scandals, drafting, warpandwoof, qualities, edition, on, maelstrom, stubborn,\n",
      "Nearest to wit: said, shall, discard, persecutor, lord, 1535, me, pained, thanks, dunlap,\n",
      "Nearest to evil: suspended, womenservants, shinto, education, life, forbid, jehoshua, drowned, rump, UNK,\n"
     ]
    }
   ],
   "source": [
    "num_steps = 100001\n",
    "\n",
    "with tf.Session(graph=graph) as session:\n",
    "    # We must initialize all variables before we use them.\n",
    "    init.run()\n",
    "    print('Initialized')\n",
    "    \n",
    "    average_loss = 0\n",
    "    for step in xrange(num_steps):\n",
    "        batch_inputs, batch_labels = generate_batch(batch_size, num_skips, skip_window)\n",
    "        feed_dict = {train_inputs: batch_inputs, train_labels: batch_labels}\n",
    "        \n",
    "        # We perform one update step by evaluating the optimizer op (including it\n",
    "        # in the list of returned values for session.run()\n",
    "        _, loss_val = session.run([optimizer, loss], feed_dict=feed_dict)\n",
    "        average_loss += loss_val\n",
    "        \n",
    "        if step % 2000 == 0:\n",
    "            if step > 0:\n",
    "                average_loss /= 2000\n",
    "                # The average loss is an estimate of the loss over the last 2000 batches.\n",
    "            print('Average loss at step ', step, ': ', average_loss)\n",
    "            average_loss = 0\n",
    "        \n",
    "        # Note that this is expensive (~20% slowdown if computed every 500 steps)\n",
    "        if step % 10000 == 0:\n",
    "            sim = similarity.eval()\n",
    "            for i in xrange(valid_size):\n",
    "                valid_word = reverse_dictionary[valid_examples[i]]\n",
    "                top_k = 10  # number of nearest neighbors\n",
    "                nearest = (-sim[i, :]).argsort()[1:top_k + 1]\n",
    "                log_str = 'Nearest to %s:' % valid_word\n",
    "                for k in xrange(top_k):\n",
    "                    close_word = reverse_dictionary[nearest[k]]\n",
    "                    log_str = '%s %s,' % (log_str, close_word)\n",
    "                print(log_str)\n",
    "    \n",
    "    final_embeddings = normalized_embeddings.eval()"
   ]
  },
  {
   "cell_type": "code",
   "execution_count": 48,
   "metadata": {
    "collapsed": false
   },
   "outputs": [
    {
     "name": "stdout",
     "output_type": "stream",
     "text": [
      "Nearest to evil: suspended, womenservants, shinto, education, life, forbid, jehoshua, drowned, rump, UNK,\n"
     ]
    }
   ],
   "source": [
    "embed_a = final_embeddings[156]\n",
    "word = reverse_dictionary[156]\n",
    "top_k = 10\n",
    "nearest = (-sim[15, :]).argsort()[1:top_k + 1]\n",
    "log_str = 'Nearest to %s:' % word\n",
    "for k in xrange(top_k):\n",
    "    close_word = reverse_dictionary[nearest[k]]\n",
    "    if k == 0:\n",
    "        embed_b = final_embeddings[nearest[k]]\n",
    "    if k == 1:\n",
    "        embed_c = final_embeddings[nearest[k]]\n",
    "    if k == 2:\n",
    "        embed_d = final_embeddings[nearest[k]]\n",
    "    if k == 3:\n",
    "        embed_e = final_embeddings[nearest[k]]\n",
    "    if k == 4:\n",
    "        embed_f = final_embeddings[nearest[k]]\n",
    "    if k == 5:\n",
    "        embed_g = final_embeddings[nearest[k]]\n",
    "    if k == 6:\n",
    "        embed_h = final_embeddings[nearest[k]]\n",
    "    if k == 7:\n",
    "        embed_i = final_embeddings[nearest[k]]\n",
    "    if k == 8:\n",
    "        embed_j = final_embeddings[nearest[k]]\n",
    "    if k == 9:\n",
    "        embed_k = final_embeddings[nearest[k]]     \n",
    "    log_str = '%s %s,' % (log_str, close_word)\n",
    "print(log_str)"
   ]
  },
  {
   "cell_type": "code",
   "execution_count": 51,
   "metadata": {
    "collapsed": false
   },
   "outputs": [
    {
     "name": "stdout",
     "output_type": "stream",
     "text": [
      "<type 'numpy.ndarray'>\n",
      "(11, 300)\n",
      "<type 'tuple'>\n",
      "11\n"
     ]
    }
   ],
   "source": [
    "WBC_wv = np.vstack((embed_a,embed_b,embed_c,embed_d,embed_e,embed_f,embed_g,\n",
    "                    embed_h,embed_i,embed_j,embed_k))\n",
    "print(type(WBC_wv))\n",
    "print(WBC_wv.shape)\n",
    "\n",
    "\n",
    "WBC_vocab = ('evil', 'suspended', 'womenservants', 'shinto', 'education', 'life',\n",
    "             'forbid', 'jehoshua', 'drowned', 'rump', 'UNK')\n",
    "print(type(WBC_vocab))\n",
    "print(len(WBC_vocab))"
   ]
  },
  {
   "cell_type": "markdown",
   "metadata": {},
   "source": [
    "### Step 6: Visualize the embeddings."
   ]
  },
  {
   "cell_type": "code",
   "execution_count": 55,
   "metadata": {
    "collapsed": false
   },
   "outputs": [
    {
     "data": {
      "image/png": "[encoded data removed]",
      "text/plain": [
       "<matplotlib.figure.Figure at 0x11f18d490>"
      ]
     },
     "metadata": {},
     "output_type": "display_data"
    }
   ],
   "source": [
    "tsne = TSNE(n_components=2, random_state=0)\n",
    "np.set_printoptions(suppress=True)\n",
    "Y = tsne.fit_transform(WBC_wv[:11,:])\n",
    " \n",
    "plt.scatter(Y[:, 0], Y[:, 1])\n",
    "plt.axis([-0.0003,0.0003,-0.0003,0.0003])\n",
    "for label, x, y in zip(WBC_vocab, Y[:, 0], Y[:, 1]):\n",
    "    plt.annotate(label, xy=(x, y), xytext=(0, 0), textcoords='offset points')\n",
    "plt.show()"
   ]
  },
  {
   "cell_type": "markdown",
   "metadata": {},
   "source": [
    "## John Piper"
   ]
  },
  {
   "cell_type": "markdown",
   "metadata": {},
   "source": [
    "### Step 1: Get the Data."
   ]
  },
  {
   "cell_type": "code",
   "execution_count": 62,
   "metadata": {
    "collapsed": true
   },
   "outputs": [],
   "source": [
    "subdir = '/Users/leighharton/Documents/MSDS/Capstone/JohnPiper'\n",
    "#filepath = subdir + \"/JohnPiper001.txt\""
   ]
  },
  {
   "cell_type": "code",
   "execution_count": 63,
   "metadata": {
    "collapsed": false
   },
   "outputs": [],
   "source": [
    "vocabulary = []\n",
    "for i in range(579):\n",
    "    if i < 9:\n",
    "        filepath = subdir + \"/JohnPiper00\" + str(i+1) + \".txt\"\n",
    "        words = open(filepath).read()\n",
    "        words = words.lower()\n",
    "        words = strip_punctuation(words)\n",
    "        words = nltk.word_tokenize(words)\n",
    "        #vocabulary = vocabulary + words\n",
    "    elif i < 99:\n",
    "        filepath = subdir + \"/JohnPiper0\" + str(i+1) + \".txt\"\n",
    "        words = open(filepath).read()\n",
    "        words = words.lower()\n",
    "        words = strip_punctuation(words)\n",
    "        words = nltk.word_tokenize(words)\n",
    "    else:\n",
    "        filepath = subdir + \"/JohnPiper\" + str(i+1) + \".txt\"\n",
    "        words = open(filepath).read()\n",
    "        words = words.lower()\n",
    "        words = strip_punctuation(words)\n",
    "        words = nltk.word_tokenize(words)\n",
    "    vocabulary = vocabulary + words"
   ]
  },
  {
   "cell_type": "code",
   "execution_count": 64,
   "metadata": {
    "collapsed": false
   },
   "outputs": [
    {
     "data": {
      "text/plain": [
       "1537468"
      ]
     },
     "execution_count": 64,
     "metadata": {},
     "output_type": "execute_result"
    }
   ],
   "source": [
    "len(vocabulary)"
   ]
  },
  {
   "cell_type": "markdown",
   "metadata": {},
   "source": [
    "### Step 2: Build the dictionary and replace rare words with UNK token."
   ]
  },
  {
   "cell_type": "code",
   "execution_count": 65,
   "metadata": {
    "collapsed": false
   },
   "outputs": [
    {
     "name": "stdout",
     "output_type": "stream",
     "text": [
      "Most common words (+UNK) [['UNK', 27504], ('the', 94854), ('and', 56556), ('of', 53648), ('to', 44191)]\n",
      "Sample data [42, 1, 55, 1029, 282, 189, 2, 329, 294, 14] ['if', 'the', 'lord', 'wills', 'both', 'today', 'and', 'next', 'week', 'we']\n"
     ]
    }
   ],
   "source": [
    "vocabulary_size = 20000 # orignial was 50000\n",
    "\n",
    "\"\"\"Process raw inputs into a dataset.\"\"\"\n",
    "def build_dataset(words, n_words):\n",
    "    count = [['UNK', -1]]\n",
    "    count.extend(collections.Counter(words).most_common(n_words - 1))\n",
    "    dictionary = dict()\n",
    "    for word, _ in count:\n",
    "        dictionary[word] = len(dictionary)\n",
    "    data = list()\n",
    "    unk_count = 0\n",
    "    for word in words:\n",
    "        if word in dictionary:\n",
    "            index = dictionary[word]\n",
    "        else:\n",
    "            index = 0  # dictionary['UNK']\n",
    "            unk_count += 1\n",
    "        data.append(index)\n",
    "    count[0][1] = unk_count\n",
    "    reversed_dictionary = dict(zip(dictionary.values(), dictionary.keys()))\n",
    "    return data, count, dictionary, reversed_dictionary\n",
    "\n",
    "data, count, dictionary, reverse_dictionary = build_dataset(vocabulary,\n",
    "                                                            vocabulary_size)\n",
    "del vocabulary  # Hint to reduce memory.\n",
    "print('Most common words (+UNK)', count[:5])\n",
    "print('Sample data', data[:10], [reverse_dictionary[i] for i in data[:10]])\n",
    "\n",
    "data_index = 0"
   ]
  },
  {
   "cell_type": "markdown",
   "metadata": {},
   "source": [
    "### Step 3: Function to generate a training batch for the skip-gram model."
   ]
  },
  {
   "cell_type": "code",
   "execution_count": 66,
   "metadata": {
    "collapsed": false
   },
   "outputs": [
    {
     "name": "stdout",
     "output_type": "stream",
     "text": [
      "1 the -> 55 lord\n",
      "1 the -> 42 if\n",
      "55 lord -> 1 the\n",
      "55 lord -> 1029 wills\n",
      "1029 wills -> 55 lord\n",
      "1029 wills -> 282 both\n",
      "282 both -> 1029 wills\n",
      "282 both -> 189 today\n"
     ]
    }
   ],
   "source": [
    "def generate_batch(batch_size, num_skips, skip_window):\n",
    "    global data_index\n",
    "    assert batch_size % num_skips == 0\n",
    "    assert num_skips <= 2 * skip_window\n",
    "    batch = np.ndarray(shape=(batch_size), dtype=np.int32)\n",
    "    labels = np.ndarray(shape=(batch_size, 1), dtype=np.int32)\n",
    "    span = 2 * skip_window + 1  # [ skip_window target skip_window ]\n",
    "    buffer = collections.deque(maxlen=span)\n",
    "    for _ in range(span):\n",
    "        buffer.append(data[data_index])\n",
    "        data_index = (data_index + 1) % len(data)\n",
    "    for i in range(batch_size // num_skips):\n",
    "        target = skip_window  # target label at the center of the buffer\n",
    "        targets_to_avoid = [skip_window]\n",
    "        for j in range(num_skips):\n",
    "            while target in targets_to_avoid:\n",
    "                target = random.randint(0, span - 1)\n",
    "            targets_to_avoid.append(target)\n",
    "            batch[i * num_skips + j] = buffer[skip_window]\n",
    "            labels[i * num_skips + j, 0] = buffer[target]\n",
    "        buffer.append(data[data_index])\n",
    "        data_index = (data_index + 1) % len(data)\n",
    "    # Backtrack a little bit to avoid skipping words in the end of a batch\n",
    "    data_index = (data_index + len(data) - span) % len(data)\n",
    "    return batch, labels\n",
    "\n",
    "batch, labels = generate_batch(batch_size=8, num_skips=2, skip_window=1)\n",
    "for i in range(8):\n",
    "    print(batch[i], reverse_dictionary[batch[i]],'->', labels[i, 0], reverse_dictionary[labels[i, 0]])"
   ]
  },
  {
   "cell_type": "markdown",
   "metadata": {},
   "source": [
    "### Step 4: Build and train a skip-gram model."
   ]
  },
  {
   "cell_type": "code",
   "execution_count": 67,
   "metadata": {
    "collapsed": false
   },
   "outputs": [
    {
     "name": "stdout",
     "output_type": "stream",
     "text": [
      "261\n"
     ]
    }
   ],
   "source": [
    "for i in xrange(vocabulary_size):\n",
    "    if reverse_dictionary[i] == 'evil':\n",
    "        print(i)"
   ]
  },
  {
   "cell_type": "code",
   "execution_count": 68,
   "metadata": {
    "collapsed": false
   },
   "outputs": [],
   "source": [
    "batch_size = 128\n",
    "embedding_size = 300  # Dimension of the embedding vector.\n",
    "skip_window = 1       # How many words to consider left and right.\n",
    "num_skips = 2         # How many times to reuse an input to generate a label.\n",
    "\n",
    "# We pick a random validation set to sample nearest neighbors. Here we limit the\n",
    "# validation samples to the words that have a low numeric ID, which by\n",
    "# construction are also the most frequent.\n",
    "valid_size = 16     # Random set of words to evaluate similarity on.\n",
    "valid_window = 100  # Only pick dev samples in the head of the distribution.\n",
    "valid_examples = np.array([ 2, 34, 11, 38, 89,  0, 37, 67, \n",
    "                           20, 86,  7,  6, 95, 97, 54, 261])\n",
    "                            # so we can choose which words to graph\n",
    "#valid_examples = np.random.choice(valid_window, valid_size, replace=False)\n",
    "num_sampled = 64    # Number of negative examples to sample.\n",
    "\n",
    "graph = tf.Graph()\n",
    "\n",
    "with graph.as_default():\n",
    "    # Input data.\n",
    "    train_inputs = tf.placeholder(tf.int32, shape=[batch_size])\n",
    "    train_labels = tf.placeholder(tf.int32, shape=[batch_size, 1])\n",
    "    valid_dataset = tf.constant(valid_examples, dtype=tf.int32)\n",
    "\n",
    "    # Ops and variables pinned to the CPU because of missing GPU implementation\n",
    "    with tf.device('/cpu:0'):\n",
    "        # Look up embeddings for inputs.\n",
    "        embeddings = tf.Variable(tf.random_uniform([vocabulary_size, embedding_size], -1.0, 1.0))\n",
    "        embed = tf.nn.embedding_lookup(embeddings, train_inputs)\n",
    "        \n",
    "        # Construct the variables for the NCE loss\n",
    "        nce_weights = tf.Variable(tf.truncated_normal([vocabulary_size, embedding_size],\n",
    "                            stddev=1.0 / math.sqrt(embedding_size)))\n",
    "        nce_biases = tf.Variable(tf.zeros([vocabulary_size]))\n",
    "        \n",
    "        # Compute the average NCE loss for the batch.\n",
    "        # tf.nce_loss automatically draws a new sample of the negative labels each\n",
    "        # time we evaluate the loss.\n",
    "    loss = tf.reduce_mean(tf.nn.nce_loss(weights=nce_weights,\n",
    "                                         biases=nce_biases,\n",
    "                                         labels=train_labels,\n",
    "                                         inputs=embed,\n",
    "                                         num_sampled=num_sampled,\n",
    "                                         num_classes=vocabulary_size))\n",
    "        \n",
    "    # Construct the SGD optimizer using a learning rate of 1.0.\n",
    "    optimizer = tf.train.GradientDescentOptimizer(1.0).minimize(loss)\n",
    "        \n",
    "    # Compute the cosine similarity between minibatch examples and all embeddings.\n",
    "    norm = tf.sqrt(tf.reduce_sum(tf.square(embeddings), 1, keep_dims=True))\n",
    "    normalized_embeddings = embeddings / norm\n",
    "    valid_embeddings = tf.nn.embedding_lookup(normalized_embeddings, valid_dataset)\n",
    "    similarity = tf.matmul(valid_embeddings, normalized_embeddings, transpose_b=True)\n",
    "        \n",
    "    # Add variable initializer.\n",
    "    init = tf.initialize_all_variables()"
   ]
  },
  {
   "cell_type": "markdown",
   "metadata": {},
   "source": [
    "### Step 5: Begin training."
   ]
  },
  {
   "cell_type": "code",
   "execution_count": 69,
   "metadata": {
    "collapsed": false
   },
   "outputs": [
    {
     "name": "stdout",
     "output_type": "stream",
     "text": [
      "Initialized\n",
      "Average loss at step  0 :  246.061569214\n",
      "Nearest to and: beck, introduction, paralysis, machines, windows, covenantcommitment, dally, rushdies, manifestation, utters,\n",
      "Nearest to by: starvation, goto, deadthe, overal, 152526, tear, 31719, june, worried, assurances,\n",
      "Nearest to for: enslavements, disembodied, parables, vacancy, restraints, membership, persistence, aregoing, attribute, withme,\n",
      "Nearest to jesus: 186, christwas, working, tax, brazil, bathed, fullness, reconciledto, selfdeception, samson,\n",
      "Nearest to into: nobel, ai, maninka, floor, constructive, reads, unsafe, delightin, plot, UNK,\n",
      "Nearest to UNK: 634, pastorsand, thegreatest, messiah, pentecost, glassdarkly, thatlove, into, stories, knell,\n",
      "Nearest to they: were, questioned, ceases, persecutor, unpopular, surface, godsaturated, afuture, pertaining, butnow,\n",
      "Nearest to gods: undergo, 1965, horoscope, specific, reconciler, cures, spurred, someone146s, knitter, opposing,\n",
      "Nearest to are: fuse, majestic, nullifies, 195000000, alsoappointed, effective, unhealthy, confront, scribe, 41011,\n",
      "Nearest to out: basics, recoiling, starve, plates, wells, performing, frequently, overwhelm, snap, hymnal,\n",
      "Nearest to that: thelives, clean, 415, globe, rebuilding, 138, aword, sinnersand, thirtynine, paradoxical,\n",
      "Nearest to in: gospelgoes, 1550, suckle, wanders, questionthe, 1156, ofwhom, 2614, goals, jeroboam,\n",
      "Nearest to 1: winefor, 140, 1919, ascending, unfit, homecoming, 96, seco, thattwo, whyare,\n",
      "Nearest to said: muchbetter, diseases, depraved, shalt, inclines, countless, summarizes, contact, college, nine,\n",
      "Nearest to my: distinctive, violates, thescriptures, connects, maleness, dissolves, repents, jump, lifeless, threeparts,\n",
      "Nearest to evil: creatively, repaid, tastebuds, gossiping, 50000, no, transferred, inthis, transgressor, traces,\n",
      "Average loss at step  2000 :  66.7962998478\n",
      "Average loss at step  4000 :  18.6658597125\n",
      "Average loss at step  6000 :  11.0449219503\n",
      "Average loss at step  8000 :  8.84342438614\n",
      "Average loss at step  10000 :  6.76220166028\n",
      "Nearest to and: in, is, to, of, that, UNK, or, for, but, the,\n",
      "Nearest to by: to, and, in, june, is, overal, holds, starvation, of, estranged,\n",
      "Nearest to for: in, and, of, to, is, that, UNK, tales, disrepute, harlotry,\n",
      "Nearest to jesus: he, working, it, samson, jehoshaphat, fullness, reward, others, the, history,\n",
      "Nearest to into: UNK, to, nobel, under, noun, in, reads, ai, of, and,\n",
      "Nearest to UNK: and, god, that, the, is, in, you, tide, it, stories,\n",
      "Nearest to they: we, you, and, were, i, godsaturated, israelites, ceases, babylonians, disposition,\n",
      "Nearest to gods: the, their, 32, horoscope, interpretation, trajectory, our, andto, earned, his,\n",
      "Nearest to are: is, and, nullifies, whats, majestic, of, try, be, interpreted, captain,\n",
      "Nearest to out: recoiling, performing, pitchers, overwhelm, plates, demands, executive, departure, example, taste,\n",
      "Nearest to that: and, in, UNK, it, of, to, the, this, for, is,\n",
      "Nearest to in: of, and, to, is, for, that, UNK, from, with, at,\n",
      "Nearest to 1: winefor, 96, 1919, and, unfit, currents, accepted, UNK, 140, per,\n",
      "Nearest to said: depraved, shalt, college, contact, nine, countless, inclines, judah, demands, doom,\n",
      "Nearest to my: the, and, distinctive, repents, taken, jump, his, connects, collector, silenced,\n",
      "Nearest to evil: no, coming, enough, inthis, creatively, fathers, 118, bitter, primarily, sorrow,\n",
      "Average loss at step  12000 :  5.6954681859\n",
      "Average loss at step  14000 :  5.39869828916\n",
      "Average loss at step  16000 :  5.26611511493\n",
      "Average loss at step  18000 :  5.29758032465\n",
      "Average loss at step  20000 :  5.87206321418\n",
      "Nearest to and: UNK, but, or, in, that, is, for, you, to, ich,\n",
      "Nearest to by: in, for, is, to, starvation, holds, overal, june, shrinks, are,\n",
      "Nearest to for: in, and, to, UNK, of, is, with, that, are, was,\n",
      "Nearest to jesus: he, god, it, that, the, fullness, samson, reward, working, jehoshaphat,\n",
      "Nearest to into: to, of, nobel, in, under, and, tape, plot, noun, UNK,\n",
      "Nearest to UNK: that, and, it, god, you, in, the, is, for, this,\n",
      "Nearest to they: we, you, i, he, it, were, and, babylonians, godsaturated, pertaining,\n",
      "Nearest to gods: the, his, their, undergo, interpretation, 32, 1965, my, horoscope, a,\n",
      "Nearest to are: is, were, be, and, for, have, nullifies, UNK, ich, was,\n",
      "Nearest to out: overwhelm, frequently, starve, plates, 3000, recoiling, basics, performing, demands, pitchers,\n",
      "Nearest to that: UNK, it, and, this, what, god, in, for, to, if,\n",
      "Nearest to in: of, to, for, and, is, with, UNK, from, at, by,\n",
      "Nearest to 1: winefor, 96, unfit, ascending, seco, 1919, illustrate, accepted, rains, allof,\n",
      "Nearest to said: depraved, shalt, muchbetter, contact, doom, nine, countless, college, overwhelming, antichrist,\n",
      "Nearest to my: the, his, your, distinctive, repents, jump, our, and, taken, their,\n",
      "Nearest to evil: creatively, transgressor, repaid, specialize, inthis, no, fatalism, transferred, 50000, sorrow,\n",
      "Average loss at step  22000 :  5.34147611392\n",
      "Average loss at step  24000 :  4.79960548258\n",
      "Average loss at step  26000 :  4.54822182858\n",
      "Average loss at step  28000 :  4.36283042502\n",
      "Average loss at step  30000 :  4.41778196287\n",
      "Nearest to and: but, or, UNK, in, that, for, is, you, ich, of,\n",
      "Nearest to by: in, for, is, holds, starvation, are, overal, with, from, of,\n",
      "Nearest to for: in, and, of, to, that, is, UNK, with, as, on,\n",
      "Nearest to jesus: he, god, it, the, christ, that, samson, others, christs, reward,\n",
      "Nearest to into: to, nobel, under, in, of, maninka, tape, plot, noun, and,\n",
      "Nearest to UNK: that, god, and, you, in, the, it, but, is, for,\n",
      "Nearest to they: we, you, i, he, it, there, godsaturated, who, and, realized,\n",
      "Nearest to gods: his, the, their, 1965, horoscope, my, undergo, interpretation, trajectory, tolerance,\n",
      "Nearest to are: were, be, is, have, for, and, nullifies, ich, interpreted, by,\n",
      "Nearest to out: basics, overwhelm, demands, recoiling, 3000, frequently, conceal, starve, performing, lean,\n",
      "Nearest to that: UNK, this, what, it, and, for, to, in, of, god,\n",
      "Nearest to in: of, to, for, with, and, UNK, from, is, at, on,\n",
      "Nearest to 1: winefor, UNK, rains, 96, unfit, 1919, ascending, illustrate, viewing, seco,\n",
      "Nearest to said: depraved, shalt, doom, nine, muchbetter, contact, countless, college, overwhelming, allsatisfying,\n",
      "Nearest to my: his, your, the, our, their, distinctive, repents, and, jump, procedure,\n",
      "Nearest to evil: creatively, transgressor, specialize, repaid, inthis, no, fatalism, 50000, transferred, sorrow,\n",
      "Average loss at step  32000 :  4.4647390492\n",
      "Average loss at step  34000 :  4.43322703373\n",
      "Average loss at step  36000 :  4.31700985324\n",
      "Average loss at step  38000 :  4.32032114661\n",
      "Average loss at step  40000 :  4.33136083078\n",
      "Nearest to and: or, but, is, you, that, for, in, UNK, sift, as,\n",
      "Nearest to by: in, is, with, was, holds, are, from, to, overal, starvation,\n",
      "Nearest to for: in, and, to, is, with, as, that, of, are, so,\n",
      "Nearest to jesus: god, he, it, christ, you, the, this, that, samson, reconciledto,\n",
      "Nearest to into: to, nobel, of, under, in, tape, maninka, plot, thisroom, accolades,\n",
      "Nearest to UNK: god, in, and, that, you, it, the, as, what, dich,\n",
      "Nearest to they: we, i, you, he, it, there, to, paul, who, realized,\n",
      "Nearest to gods: his, the, their, my, horoscope, your, 1965, interpretation, againstthe, this,\n",
      "Nearest to are: were, is, be, have, and, for, as, interpreted, was, scribe,\n",
      "Nearest to out: basics, down, overwhelm, 1950, demands, 3000, recoiling, wells, lean, conceal,\n",
      "Nearest to that: what, it, this, and, god, UNK, to, for, if, when,\n",
      "Nearest to in: with, of, is, for, from, at, to, and, UNK, by,\n",
      "Nearest to 1: winefor, rains, 2, UNK, unfit, 96, illustrate, 1919, ascending, viewing,\n",
      "Nearest to said: depraved, shalt, doom, nine, muchbetter, contact, allsatisfying, countless, antichrist, acknowledged,\n",
      "Nearest to my: his, your, the, our, their, repents, jump, gods, distinctive, procedure,\n",
      "Nearest to evil: creatively, transgressor, specialize, repaid, no, inthis, 50000, fatalism, transferred, sorrow,\n",
      "Average loss at step  42000 :  4.35566071332\n",
      "Average loss at step  44000 :  4.40721714878\n",
      "Average loss at step  46000 :  4.38746233594\n",
      "Average loss at step  48000 :  4.23157003033\n",
      "Average loss at step  50000 :  4.34203101587\n",
      "Nearest to and: but, or, is, for, the, UNK, you, that, ich, to,\n",
      "Nearest to by: in, is, with, from, of, are, starvation, holds, was, overal,\n",
      "Nearest to for: to, in, and, that, of, is, as, but, with, if,\n",
      "Nearest to jesus: he, god, it, christ, the, that, this, christs, him, samson,\n",
      "Nearest to into: to, of, nobel, under, in, maninka, from, tape, thisroom, keeps,\n",
      "Nearest to UNK: that, god, and, in, the, you, but, it, is, this,\n",
      "Nearest to they: we, i, you, he, it, there, the, realized, who, to,\n",
      "Nearest to gods: his, the, their, my, your, 1965, againstthe, undergo, horoscope, someone146s,\n",
      "Nearest to are: were, be, is, have, was, interpreted, by, and, for, as,\n",
      "Nearest to out: basics, down, overwhelm, conceal, demands, lean, 3000, law, starve, wells,\n",
      "Nearest to that: this, what, it, UNK, and, for, god, when, which, if,\n",
      "Nearest to in: to, of, with, for, at, from, is, UNK, by, on,\n",
      "Nearest to 1: 2, winefor, UNK, rains, viewing, ascending, unfit, 96, illustrate, allof,\n",
      "Nearest to said: depraved, says, shalt, doom, contact, nine, acknowledged, sink, countless, muchbetter,\n",
      "Nearest to my: his, your, the, our, their, repents, distinctive, procedure, jump, and,\n",
      "Nearest to evil: creatively, transgressor, repaid, specialize, inthis, 50000, no, fatalism, 712, 118,\n",
      "Average loss at step  52000 :  4.22736763406\n",
      "Average loss at step  54000 :  4.26931295502\n",
      "Average loss at step  56000 :  4.3142987206\n",
      "Average loss at step  58000 :  4.30540599084\n",
      "Average loss at step  60000 :  4.19521150231\n",
      "Nearest to and: but, or, for, is, you, UNK, that, ich, sift, to,\n",
      "Nearest to by: in, is, with, for, through, from, was, holds, of, are,\n",
      "Nearest to for: in, to, and, of, as, that, with, are, is, by,\n",
      "Nearest to jesus: god, he, it, christ, the, that, you, paul, christs, i,\n",
      "Nearest to into: to, nobel, under, in, maninka, thisroom, of, keeps, tape, accolades,\n",
      "Nearest to UNK: god, the, in, that, and, you, but, this, it, what,\n",
      "Nearest to they: we, i, you, he, it, there, who, realized, to, paul,\n",
      "Nearest to gods: his, the, my, their, god, againstthe, 1965, horoscope, harassment, scoffed,\n",
      "Nearest to are: were, be, is, have, for, and, interpreted, was, by, as,\n",
      "Nearest to out: down, basics, conceal, wells, overwhelm, lean, 3000, demands, law, 1950,\n",
      "Nearest to that: what, it, this, god, when, UNK, and, if, but, because,\n",
      "Nearest to in: at, of, for, to, is, with, UNK, as, from, by,\n",
      "Nearest to 1: 2, UNK, rains, winefor, unfit, ascending, 96, illustrate, viewing, 1919,\n",
      "Nearest to said: says, depraved, shalt, doom, you, contact, precinct, acknowledged, say, sink,\n",
      "Nearest to my: his, your, our, the, their, gods, renters, repents, distinctive, jump,\n",
      "Nearest to evil: creatively, repaid, transgressor, specialize, fatalism, inthis, no, 50000, 712, challenged,\n",
      "Average loss at step  62000 :  4.20992968154\n",
      "Average loss at step  64000 :  4.22191274023\n",
      "Average loss at step  66000 :  4.23939803362\n",
      "Average loss at step  68000 :  4.27973264551\n",
      "Average loss at step  70000 :  4.27690897954\n",
      "Nearest to and: but, or, UNK, is, as, so, you, for, that, the,\n",
      "Nearest to by: in, through, is, holds, from, was, understandable, starvation, of, for,\n",
      "Nearest to for: in, that, to, and, of, as, is, UNK, with, when,\n",
      "Nearest to jesus: god, he, it, christ, that, the, him, this, you, paul,\n",
      "Nearest to into: to, of, from, nobel, under, keeps, maninka, in, thisroom, tape,\n",
      "Nearest to UNK: that, and, you, god, as, the, what, this, but, it,\n",
      "Nearest to they: we, i, you, he, it, there, realized, the, paul, not,\n",
      "Nearest to gods: his, the, my, their, againstthe, god, harassment, 1965, this, undergo,\n",
      "Nearest to are: were, be, is, have, interpreted, was, as, alsoappointed, ich, 1965,\n",
      "Nearest to out: down, basics, conceal, wells, lean, overwhelm, demands, encounter, 3000, 1950,\n",
      "Nearest to that: what, this, UNK, it, god, when, for, if, and, because,\n",
      "Nearest to in: at, of, is, to, for, from, UNK, with, by, as,\n",
      "Nearest to 1: 2, rains, winefor, unfit, ascending, illustrate, 96, regulates, that, viewing,\n",
      "Nearest to said: says, depraved, shalt, doom, say, precinct, contact, sink, you, 1980s,\n",
      "Nearest to my: his, your, our, their, the, renters, gods, repents, spite, procedure,\n",
      "Nearest to evil: creatively, repaid, transgressor, specialize, fatalism, no, 50000, inthis, 712, constituted,\n",
      "Average loss at step  72000 :  4.13473398316\n",
      "Average loss at step  74000 :  4.25786840034\n",
      "Average loss at step  76000 :  4.15966143775\n",
      "Average loss at step  78000 :  4.19198117888\n",
      "Average loss at step  80000 :  4.23477128851\n",
      "Nearest to and: but, UNK, or, ich, for, you, will, is, that, of,\n",
      "Nearest to by: is, in, through, holds, from, with, starvation, understandable, overal, refiners,\n",
      "Nearest to for: to, and, in, of, UNK, as, that, if, with, is,\n",
      "Nearest to jesus: god, he, it, christ, paul, that, christs, the, him, i,\n",
      "Nearest to into: to, nobel, under, of, maninka, keeps, thisroom, from, is, accolades,\n",
      "Nearest to UNK: and, that, you, what, god, but, this, in, all, it,\n",
      "Nearest to they: we, i, you, he, it, there, realized, she, to, 250000,\n",
      "Nearest to gods: his, the, my, againstthe, their, harassment, 1965, your, scoffed, horoscope,\n",
      "Nearest to are: were, be, is, have, interpreted, alsoappointed, 1965, by, ich, being,\n",
      "Nearest to out: down, basics, conceal, wells, 3000, lean, demands, overwhelm, starve, encounter,\n",
      "Nearest to that: what, UNK, this, it, which, and, when, if, jesus, here,\n",
      "Nearest to in: of, with, to, at, from, UNK, for, is, when, on,\n",
      "Nearest to 1: 2, rains, winefor, UNK, ascending, illustrate, unfit, 96, regulates, now,\n",
      "Nearest to said: says, say, depraved, shalt, doom, precinct, movie, acknowledged, sink, untie,\n",
      "Nearest to my: his, your, our, their, the, renters, gods, spite, repents, distinctive,\n",
      "Nearest to evil: creatively, repaid, specialize, transgressor, fatalism, no, 50000, inthis, 712, bitter,\n",
      "Average loss at step  82000 :  4.23270455599\n",
      "Average loss at step  84000 :  4.13060100758\n",
      "Average loss at step  86000 :  4.1440139358\n",
      "Average loss at step  88000 :  4.15256582022\n",
      "Average loss at step  90000 :  4.17991489732\n",
      "Nearest to and: but, UNK, is, or, that, for, you, will, ich, sift,\n",
      "Nearest to by: in, is, through, was, holds, with, from, understandable, are, for,\n",
      "Nearest to for: to, in, and, of, is, that, with, UNK, as, so,\n",
      "Nearest to jesus: god, he, christ, it, you, paul, him, the, that, christs,\n",
      "Nearest to into: of, nobel, under, to, from, keeps, thisroom, maninka, in, sober,\n",
      "Nearest to UNK: and, the, you, that, god, in, what, it, is, one,\n",
      "Nearest to they: we, i, you, he, there, it, realized, to, paul, 250000,\n",
      "Nearest to gods: his, the, my, againstthe, their, harassment, imputed, 1965, god, necessities,\n",
      "Nearest to are: were, is, be, have, interpreted, was, alsoappointed, been, being, 1965,\n",
      "Nearest to out: down, basics, conceal, wells, 1950, demands, prior, overwhelm, 3000, lean,\n",
      "Nearest to that: what, this, it, and, UNK, god, if, when, because, for,\n",
      "Nearest to in: at, of, for, UNK, is, from, to, by, with, on,\n",
      "Nearest to 1: 2, rains, winefor, ascending, that, illustrate, unfit, regulates, viewing, 96,\n",
      "Nearest to said: says, say, shalt, precinct, depraved, untie, doom, sink, aims, 1980s,\n",
      "Nearest to my: your, his, the, our, their, gods, renters, spite, procedure, repents,\n",
      "Nearest to evil: creatively, repaid, transgressor, specialize, fatalism, 50000, inthis, no, 712, bitter,\n",
      "Average loss at step  92000 :  4.21039484119\n",
      "Average loss at step  94000 :  4.20537334919\n",
      "Average loss at step  96000 :  4.07547167015\n",
      "Average loss at step  98000 :  4.19269915867\n",
      "Average loss at step  100000 :  4.1061011337\n",
      "Nearest to and: but, or, UNK, in, you, that, is, the, of, as,\n",
      "Nearest to by: in, is, through, holds, understandable, overal, from, starvation, of, are,\n",
      "Nearest to for: to, of, that, in, is, and, as, if, do, with,\n",
      "Nearest to jesus: god, he, christ, it, the, paul, him, christs, what, you,\n",
      "Nearest to into: of, to, nobel, under, in, from, keeps, thisroom, maninka, sober,\n",
      "Nearest to UNK: and, you, god, in, is, that, the, this, life, but,\n",
      "Nearest to they: we, i, you, he, there, it, realized, 250000, she, paul,\n",
      "Nearest to gods: his, the, my, againstthe, their, harassment, 1965, imputed, god, necessities,\n",
      "Nearest to are: were, be, is, have, interpreted, been, being, was, 1965, alsoappointed,\n",
      "Nearest to out: down, basics, conceal, demands, prior, wells, back, lean, 3000, her�,\n",
      "Nearest to that: what, this, it, when, and, god, because, UNK, if, of,\n",
      "Nearest to in: of, with, and, to, from, is, on, UNK, at, by,\n",
      "Nearest to 1: 2, UNK, rains, illustrate, ascending, 96, winefor, unfit, that, thattwo,\n",
      "Nearest to said: says, say, shalt, precinct, doom, failed, depraved, would, untie, you,\n",
      "Nearest to my: your, his, our, their, the, spite, renters, gods, repents, i,\n",
      "Nearest to evil: repaid, creatively, transgressor, specialize, fatalism, 50000, no, inthis, bitter, 712,\n"
     ]
    }
   ],
   "source": [
    "num_steps = 100001\n",
    "\n",
    "with tf.Session(graph=graph) as session:\n",
    "    # We must initialize all variables before we use them.\n",
    "    init.run()\n",
    "    print('Initialized')\n",
    "    \n",
    "    average_loss = 0\n",
    "    for step in xrange(num_steps):\n",
    "        batch_inputs, batch_labels = generate_batch(batch_size, num_skips, skip_window)\n",
    "        feed_dict = {train_inputs: batch_inputs, train_labels: batch_labels}\n",
    "        \n",
    "        # We perform one update step by evaluating the optimizer op (including it\n",
    "        # in the list of returned values for session.run()\n",
    "        _, loss_val = session.run([optimizer, loss], feed_dict=feed_dict)\n",
    "        average_loss += loss_val\n",
    "        \n",
    "        if step % 2000 == 0:\n",
    "            if step > 0:\n",
    "                average_loss /= 2000\n",
    "                # The average loss is an estimate of the loss over the last 2000 batches.\n",
    "            print('Average loss at step ', step, ': ', average_loss)\n",
    "            average_loss = 0\n",
    "        \n",
    "        # Note that this is expensive (~20% slowdown if computed every 500 steps)\n",
    "        if step % 10000 == 0:\n",
    "            sim = similarity.eval()\n",
    "            for i in xrange(valid_size):\n",
    "                valid_word = reverse_dictionary[valid_examples[i]]\n",
    "                top_k = 10  # number of nearest neighbors\n",
    "                nearest = (-sim[i, :]).argsort()[1:top_k + 1]\n",
    "                log_str = 'Nearest to %s:' % valid_word\n",
    "                for k in xrange(top_k):\n",
    "                    close_word = reverse_dictionary[nearest[k]]\n",
    "                    log_str = '%s %s,' % (log_str, close_word)\n",
    "                print(log_str)\n",
    "    \n",
    "    final_embeddings = normalized_embeddings.eval()"
   ]
  },
  {
   "cell_type": "code",
   "execution_count": 70,
   "metadata": {
    "collapsed": false
   },
   "outputs": [
    {
     "name": "stdout",
     "output_type": "stream",
     "text": [
      "Nearest to evil: repaid, creatively, transgressor, specialize, fatalism, 50000, no, inthis, bitter, 712,\n"
     ]
    }
   ],
   "source": [
    "embed_a = final_embeddings[261]\n",
    "word = reverse_dictionary[261]\n",
    "top_k = 10\n",
    "nearest = (-sim[15, :]).argsort()[1:top_k + 1]\n",
    "log_str = 'Nearest to %s:' % word\n",
    "for k in xrange(top_k):\n",
    "    close_word = reverse_dictionary[nearest[k]]\n",
    "    if k == 0:\n",
    "        embed_b = final_embeddings[nearest[k]]\n",
    "    if k == 1:\n",
    "        embed_c = final_embeddings[nearest[k]]\n",
    "    if k == 2:\n",
    "        embed_d = final_embeddings[nearest[k]]\n",
    "    if k == 3:\n",
    "        embed_e = final_embeddings[nearest[k]]\n",
    "    if k == 4:\n",
    "        embed_f = final_embeddings[nearest[k]]\n",
    "    if k == 5:\n",
    "        embed_g = final_embeddings[nearest[k]]\n",
    "    if k == 6:\n",
    "        embed_h = final_embeddings[nearest[k]]\n",
    "    if k == 7:\n",
    "        embed_i = final_embeddings[nearest[k]]\n",
    "    if k == 8:\n",
    "        embed_j = final_embeddings[nearest[k]]\n",
    "    if k == 9:\n",
    "        embed_k = final_embeddings[nearest[k]]     \n",
    "    log_str = '%s %s,' % (log_str, close_word)\n",
    "print(log_str)"
   ]
  },
  {
   "cell_type": "code",
   "execution_count": 71,
   "metadata": {
    "collapsed": false
   },
   "outputs": [
    {
     "name": "stdout",
     "output_type": "stream",
     "text": [
      "<type 'numpy.ndarray'>\n",
      "(11, 300)\n",
      "<type 'tuple'>\n",
      "11\n"
     ]
    }
   ],
   "source": [
    "JohnPiper_wv = np.vstack((embed_a,embed_b,embed_c,embed_d,embed_e,embed_f,embed_g,\n",
    "                    embed_h,embed_i,embed_j,embed_k))\n",
    "print(type(JohnPiper_wv))\n",
    "print(JohnPiper_wv.shape)\n",
    "\n",
    "\n",
    "JohnPiper_vocab = ('evil', 'repaid', 'creatively', 'transgressor', 'specialize', 'fatalism',\n",
    "             '500', 'no', 'inthis', 'bitter', '712')\n",
    "print(type(JohnPiper_vocab))\n",
    "print(len(JohnPiper_vocab))"
   ]
  },
  {
   "cell_type": "markdown",
   "metadata": {},
   "source": [
    "### Step 6: Visualize the embeddings."
   ]
  },
  {
   "cell_type": "code",
   "execution_count": 72,
   "metadata": {
    "collapsed": false
   },
   "outputs": [
    {
     "data": {
      "image/png": "[encoded data removed]",
      "text/plain": [
       "<matplotlib.figure.Figure at 0x11e547590>"
      ]
     },
     "metadata": {},
     "output_type": "display_data"
    }
   ],
   "source": [
    "tsne = TSNE(n_components=2, random_state=0)\n",
    "np.set_printoptions(suppress=True)\n",
    "Y = tsne.fit_transform(JohnPiper_wv[:11,:])\n",
    " \n",
    "plt.scatter(Y[:, 0], Y[:, 1])\n",
    "plt.axis([-0.0003,0.0003,-0.0003,0.0003])\n",
    "for label, x, y in zip(JohnPiper_vocab, Y[:, 0], Y[:, 1]):\n",
    "    plt.annotate(label, xy=(x, y), xytext=(0, 0), textcoords='offset points')\n",
    "plt.show()"
   ]
  },
  {
   "cell_type": "markdown",
   "metadata": {
    "collapsed": true
   },
   "source": [
    "### Extras"
   ]
  },
  {
   "cell_type": "markdown",
   "metadata": {},
   "source": [
    "#### Import Data"
   ]
  },
  {
   "cell_type": "code",
   "execution_count": 2,
   "metadata": {
    "collapsed": false
   },
   "outputs": [
    {
     "name": "stdout",
     "output_type": "stream",
     "text": [
      "Found and verified text8.zip\n",
      "Data size 17005207\n"
     ]
    }
   ],
   "source": [
    "url = 'http://mattmahoney.net/dc/'\n",
    "\n",
    "\"\"\"Download a file if not present, and make sure it's the right size.\"\"\"\n",
    "def maybe_download(filename, expected_bytes):\n",
    "    if not os.path.exists(filename):\n",
    "        filename, _ = urllib.request.urlretrieve(url + filename, filename)\n",
    "    statinfo = os.stat(filename)\n",
    "    if statinfo.st_size == expected_bytes:\n",
    "        print('Found and verified', filename)\n",
    "    else:\n",
    "        print(statinfo.st_size)\n",
    "        raise Exception('Failed to verify ' + filename + '. Can you get to it with a browser?')\n",
    "    return filename\n",
    "\n",
    "filename = maybe_download('text8.zip', 31344016)\n",
    "\n",
    "# Read the data into a list of strings.\n",
    "\"\"\"Extract the first file enclosed in a zip file as a list of words.\"\"\"\n",
    "def read_data(filename):\n",
    "    with zipfile.ZipFile(filename) as f:\n",
    "        data = tf.compat.as_str(f.read(f.namelist()[0])).split()\n",
    "    return data\n",
    "\n",
    "vocabulary = read_data(filename)\n",
    "print('Data size', len(vocabulary))"
   ]
  },
  {
   "cell_type": "markdown",
   "metadata": {},
   "source": [
    "#### Visualize Embeddings"
   ]
  },
  {
   "cell_type": "code",
   "execution_count": 7,
   "metadata": {
    "collapsed": false
   },
   "outputs": [
    {
     "data": {
      "image/png": "[encoded data removed]",
      "text/plain": [
       "<matplotlib.figure.Figure at 0x11d2b6f90>"
      ]
     },
     "metadata": {},
     "output_type": "display_data"
    }
   ],
   "source": [
    "def plot_with_labels(low_dim_embs, labels, filename='tsne.png'):\n",
    "    assert low_dim_embs.shape[0] >= len(labels), 'More labels than embeddings'\n",
    "    plt.figure(figsize=(18, 18))  # in inches\n",
    "    for i, label in enumerate(labels):\n",
    "        x, y = low_dim_embs[i, :]\n",
    "        plt.scatter(x, y)\n",
    "        plt.annotate(label,\n",
    "                     xy=(x, y),\n",
    "                     xytext=(5, 2),\n",
    "                     textcoords='offset points',\n",
    "                     ha='right',\n",
    "                     va='bottom')\n",
    "    \n",
    "    plt.savefig(filename)\n",
    "\n",
    "try:\n",
    "    # pylint: disable=g-import-not-at-top\n",
    "    from sklearn.manifold import TSNE\n",
    "    import matplotlib.pyplot as plt\n",
    "    \n",
    "    tsne = TSNE(perplexity=30, n_components=2, init='pca', n_iter=5000)\n",
    "    plot_only = 150\n",
    "    low_dim_embs = tsne.fit_transform(final_embeddings[:plot_only, :])\n",
    "    labels = [reverse_dictionary[i] for i in xrange(plot_only)]\n",
    "    plot_with_labels(low_dim_embs, labels)\n",
    "\n",
    "except ImportError:\n",
    "    print('Please install sklearn, matplotlib, and scipy to show embeddings.')"
   ]
  },
  {
   "cell_type": "code",
   "execution_count": null,
   "metadata": {
    "collapsed": true
   },
   "outputs": [],
   "source": []
  }
 ],
 "metadata": {
  "anaconda-cloud": {},
  "kernelspec": {
   "display_name": "Python [tensorflow]",
   "language": "python",
   "name": "Python [tensorflow]"
  },
  "language_info": {
   "codemirror_mode": {
    "name": "ipython",
    "version": 2
   },
   "file_extension": ".py",
   "mimetype": "text/x-python",
   "name": "python",
   "nbconvert_exporter": "python",
   "pygments_lexer": "ipython2",
   "version": "2.7.12"
  }
 },
 "nbformat": 4,
 "nbformat_minor": 0
}
