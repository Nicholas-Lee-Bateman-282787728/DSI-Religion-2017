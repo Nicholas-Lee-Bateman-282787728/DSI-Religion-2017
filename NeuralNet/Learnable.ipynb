{
 "cells": [
  {
   "cell_type": "markdown",
   "metadata": {},
   "source": [
    "Notes for next steps for Learable/Yassine's method:\n",
    "\n",
    "-do this but for words on each side of keyword\n",
    "-output of function will be dictionary with keyword and an array - the array will be of size occurances x 300 = This is the input for clustering"
   ]
  },
  {
   "cell_type": "code",
   "execution_count": 1,
   "metadata": {
    "collapsed": false
   },
   "outputs": [
    {
     "name": "stdout",
     "output_type": "stream",
     "text": [
      "[nltk_data] Downloading package wordnet to\n",
      "[nltk_data]     /Users/leighharton/nltk_data...\n",
      "[nltk_data]   Package wordnet is already up-to-date!\n",
      "[nltk_data] Downloading package maxent_treebank_pos_tagger to\n",
      "[nltk_data]     /Users/leighharton/nltk_data...\n",
      "[nltk_data]   Package maxent_treebank_pos_tagger is already up-to-\n",
      "[nltk_data]       date!\n"
     ]
    }
   ],
   "source": [
    "import numpy as np\n",
    "from scipy import spatial # for the cosine distance\n",
    "import lingualTF as la # to get our tokenizing function"
   ]
  },
  {
   "cell_type": "code",
   "execution_count": 2,
   "metadata": {
    "collapsed": true
   },
   "outputs": [],
   "source": [
    "# get 300 dim preset embeddings\n",
    "filename = 'glove.6B/glove.6B.300d.txt'"
   ]
  },
  {
   "cell_type": "code",
   "execution_count": 6,
   "metadata": {
    "collapsed": false
   },
   "outputs": [],
   "source": [
    "# transform file into a dictionary where key = word, value = embedding array\n",
    "words = open(filename).read().splitlines()\n",
    "embedDict = { }\n",
    "for word in words:\n",
    "    thisword = word.split(\" \")\n",
    "    embedDict[thisword[0]] = np.array([float(x) for x in thisword[1:]])"
   ]
  },
  {
   "cell_type": "markdown",
   "metadata": {},
   "source": [
    "Analogy Test"
   ]
  },
  {
   "cell_type": "code",
   "execution_count": 8,
   "metadata": {
    "collapsed": false
   },
   "outputs": [],
   "source": [
    "queentest = embedDict['king'] - embedDict['man'] + embedDict['woman']"
   ]
  },
  {
   "cell_type": "code",
   "execution_count": 9,
   "metadata": {
    "collapsed": false
   },
   "outputs": [
    {
     "data": {
      "text/plain": [
       "0.91075472627405152"
      ]
     },
     "execution_count": 9,
     "metadata": {},
     "output_type": "execute_result"
    }
   ],
   "source": [
    "spatial.distance.cosine(embedDict['car'], queentest)"
   ]
  },
  {
   "cell_type": "markdown",
   "metadata": {},
   "source": [
    "Try out method with sentences"
   ]
  },
  {
   "cell_type": "code",
   "execution_count": 10,
   "metadata": {
    "collapsed": false
   },
   "outputs": [],
   "source": [
    "# tokenize sentences\n",
    "sentence1 = la.cleanTokens(la.rawToTokenList('Our sentence is cool.'), stem = False)\n",
    "sentence2 = la.cleanTokens(la.rawToTokenList('Our sentence is radical.'), stem = False)\n",
    "sentence3 = la.cleanTokens(la.rawToTokenList('Quick brown fox jumped over the dog.'), stem = False)"
   ]
  },
  {
   "cell_type": "code",
   "execution_count": 11,
   "metadata": {
    "collapsed": false
   },
   "outputs": [],
   "source": [
    "# get sentence vectors\n",
    "sent1Vect = [embedDict[word] for word in sentence1]\n",
    "sent2Vect = [embedDict[word] for word in sentence2]\n",
    "sent3Vect = [embedDict[word] for word in sentence3]"
   ]
  },
  {
   "cell_type": "code",
   "execution_count": 12,
   "metadata": {
    "collapsed": false
   },
   "outputs": [],
   "source": [
    "# average the vectors\n",
    "sent1done = np.mean(sent1Vect, axis = 0)\n",
    "sent2done = np.mean(sent2Vect, axis = 0)\n",
    "sent3done = np.mean(sent3Vect, axis = 0)"
   ]
  },
  {
   "cell_type": "code",
   "execution_count": 13,
   "metadata": {
    "collapsed": false
   },
   "outputs": [
    {
     "data": {
      "text/plain": [
       "0.44493435386977842"
      ]
     },
     "execution_count": 13,
     "metadata": {},
     "output_type": "execute_result"
    }
   ],
   "source": [
    "spatial.distance.cosine(sent1done, sent3done)"
   ]
  }
 ],
 "metadata": {
  "anaconda-cloud": {},
  "kernelspec": {
   "display_name": "Python [py27]",
   "language": "python",
   "name": "Python [py27]"
  },
  "language_info": {
   "codemirror_mode": {
    "name": "ipython",
    "version": 2
   },
   "file_extension": ".py",
   "mimetype": "text/x-python",
   "name": "python",
   "nbconvert_exporter": "python",
   "pygments_lexer": "ipython2",
   "version": "2.7.12"
  }
 },
 "nbformat": 4,
 "nbformat_minor": 0
}
