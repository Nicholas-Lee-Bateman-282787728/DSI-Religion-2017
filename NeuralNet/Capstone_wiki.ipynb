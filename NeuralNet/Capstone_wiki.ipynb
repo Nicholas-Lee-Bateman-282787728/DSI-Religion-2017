{
 "cells": [
  {
   "cell_type": "markdown",
   "metadata": {},
   "source": [
    "Preamble"
   ]
  },
  {
   "cell_type": "code",
   "execution_count": 1,
   "metadata": {
    "collapsed": false
   },
   "outputs": [],
   "source": [
    "from __future__ import division\n",
    "import tensorflow as tf\n",
    "import numpy as np\n",
    "import tarfile\n",
    "import os\n",
    "import matplotlib.pyplot as plt\n",
    "import time\n",
    "import pandas as pd"
   ]
  },
  {
   "cell_type": "markdown",
   "metadata": {},
   "source": [
    "Import Data"
   ]
  },
  {
   "cell_type": "code",
   "execution_count": 2,
   "metadata": {
    "collapsed": true
   },
   "outputs": [],
   "source": [
    "def csv_to_numpy_array(filePath, delimiter):\n",
    "    return np.genfromtxt(filePath, delimiter=delimiter, dtype=None)"
   ]
  },
  {
   "cell_type": "code",
   "execution_count": 19,
   "metadata": {
    "collapsed": false
   },
   "outputs": [],
   "source": [
    "# X is the TF matrix, Y is the binary response\n",
    "trainX = csv_to_numpy_array(\"trainXwiki.csv\", delimiter=\",\")\n",
    "trainY = csv_to_numpy_array(\"trainYwiki.csv\", delimiter=\",\")\n",
    "testX = csv_to_numpy_array(\"testXwiki.csv\", delimiter=\",\")\n",
    "testY = csv_to_numpy_array(\"testYwiki.csv\", delimiter=\",\")"
   ]
  },
  {
   "cell_type": "code",
   "execution_count": 20,
   "metadata": {
    "collapsed": false
   },
   "outputs": [],
   "source": [
    "# remove the index column from dataset\n",
    "trainX = trainX[:,1:14520]\n",
    "trainY = trainY[:,1:14520]\n",
    "testX = testX[:,1:14520]\n",
    "testY = testY[:,1:14520]"
   ]
  },
  {
   "cell_type": "code",
   "execution_count": 21,
   "metadata": {
    "collapsed": true
   },
   "outputs": [],
   "source": [
    "# remove column headers\n",
    "trainX = trainX[1:14519]\n",
    "trainY = trainY[1:14519]\n",
    "testX = testX[1:14519]\n",
    "testY = testY[1:14519]"
   ]
  },
  {
   "cell_type": "markdown",
   "metadata": {},
   "source": [
    "Global Parameters"
   ]
  },
  {
   "cell_type": "code",
   "execution_count": 24,
   "metadata": {
    "collapsed": true
   },
   "outputs": [],
   "source": [
    "# DATA SET PARAMETERS\n",
    "# get dimensions for different variables and placeholders:\n",
    "# numFeatures = the number of words extracted from each article\n",
    "numFeatures = trainX.shape[1]\n",
    "# numLabels = number of classes we're predicting (here it's 4 - Bahai, DorothyDay, IntegralYoga, and SeaShepherds)\n",
    "numLabels = trainY.shape[1]"
   ]
  },
  {
   "cell_type": "code",
   "execution_count": 25,
   "metadata": {
    "collapsed": true
   },
   "outputs": [],
   "source": [
    "# TRAINING SESSION PARAMETERS\n",
    "# number of times we iterate through training data\n",
    "# tensorboard shows that accuracy plateaus at ~25k epochs\n",
    "numEpochs = 27000\n",
    "# a smarter learning rate for gradientOptimizer\n",
    "learningRate = tf.train.exponential_decay(learning_rate = 0.0008,\n",
    "                                          global_step =1,\n",
    "                                          decay_steps = trainX.shape[0],\n",
    "                                          decay_rate = 0.95,\n",
    "                                          staircase = True)"
   ]
  },
  {
   "cell_type": "markdown",
   "metadata": {
    "collapsed": true
   },
   "source": [
    "Placeholders"
   ]
  },
  {
   "cell_type": "code",
   "execution_count": 26,
   "metadata": {
    "collapsed": true
   },
   "outputs": [],
   "source": [
    "# X = X-matrix/feature-matrix/data-matrix...It's a tensor to hold the article data. 'None' here \n",
    "# means that we can hold any number of articles\n",
    "X = tf.placeholder(tf.float32, [None, numFeatures])\n",
    "# yGold = Y-matrix/label-matrix/labels...This will be our correct answers matrix. Every row has\n",
    "# is binary, with 1 representing their group. 'None' here means that we can hold any number of emails\n",
    "yGold = tf.placeholder(tf.float32, [None, numLabels])"
   ]
  },
  {
   "cell_type": "markdown",
   "metadata": {},
   "source": [
    "Variables"
   ]
  },
  {
   "cell_type": "code",
   "execution_count": 27,
   "metadata": {
    "collapsed": true
   },
   "outputs": [],
   "source": [
    "# Values are randomly sampled from a Gaussian with a standard deviation of:\n",
    "# sqrt(6/(numInputNodes + numOutputNodes + 1))\n",
    "weights = tf.Variable(tf.random_normal([numFeatures,numLabels],\n",
    "                                        mean = 0,\n",
    "                                        stddev = (np.sqrt(6/numFeatures + numLabels + 1)),\n",
    "                                        name = \"weights\"))\n",
    "bias = tf.Variable(tf.random_normal([1,numLabels],\n",
    "                                     mean = 0,\n",
    "                                     stddev = (np.sqrt(6/numFeatures + numLabels + 1)),\n",
    "                                     name = \"bias\"))"
   ]
  },
  {
   "cell_type": "markdown",
   "metadata": {},
   "source": [
    "Ops"
   ]
  },
  {
   "cell_type": "code",
   "execution_count": 28,
   "metadata": {
    "collapsed": true
   },
   "outputs": [],
   "source": [
    "######################\n",
    "### PREDICTION OPS ###\n",
    "######################\n",
    "# INITIALIZE our weights and biases\n",
    "init_OP = tf.initialize_all_variables()\n",
    "# PREDICTION ALGORITHM  i.e. FEEDFORWARD ALGORITHM\n",
    "apply_weights_OP = tf.matmul(X, weights, name = \"apply_weights\")\n",
    "add_bias_OP = tf.add(apply_weights_OP, bias, name = \"add_bias\")\n",
    "activation_OP = tf.nn.sigmoid(add_bias_OP, name = \"activation\") # sigmoid = activation function; output = 0/1"
   ]
  },
  {
   "cell_type": "code",
   "execution_count": 29,
   "metadata": {
    "collapsed": false
   },
   "outputs": [],
   "source": [
    "#####################\n",
    "### EVALUATION OP ###\n",
    "#####################\n",
    "# COST FUNCTION i.e. MEAN SQUARED ERROR\n",
    "cost_OP = tf.nn.l2_loss(activation_OP-yGold, name = \"squared_error_cost\")"
   ]
  },
  {
   "cell_type": "code",
   "execution_count": 30,
   "metadata": {
    "collapsed": true
   },
   "outputs": [],
   "source": [
    "#######################\n",
    "### OPTIMIZATION OP ###\n",
    "#######################\n",
    "# OPTIMIZATION ALGORITHM i.e. GRADIENT DESCENT\n",
    "training_OP = tf.train.GradientDescentOptimizer(learningRate).minimize(cost_OP)"
   ]
  },
  {
   "cell_type": "markdown",
   "metadata": {},
   "source": [
    "Computational Graph and Session"
   ]
  },
  {
   "cell_type": "code",
   "execution_count": 31,
   "metadata": {
    "collapsed": false
   },
   "outputs": [
    {
     "name": "stdout",
     "output_type": "stream",
     "text": [
      "step 0, training accuracy 0.201681\n",
      "step 0, cost 266.612\n",
      "step 0, change in cost266.612\n",
      "step 10, training accuracy 0.201681\n",
      "step 10, cost 265.653\n",
      "step 10, change in cost0.958801\n",
      "step 20, training accuracy 0.201681\n",
      "step 20, cost 265.56\n",
      "step 20, change in cost0.0925903\n",
      "step 30, training accuracy 0.201681\n",
      "step 30, cost 265.464\n",
      "step 30, change in cost0.0965881\n",
      "step 40, training accuracy 0.201681\n",
      "step 40, cost 264.537\n",
      "step 40, change in cost0.927063\n",
      "step 50, training accuracy 0.201681\n",
      "step 50, cost 264.518\n",
      "step 50, change in cost0.0186462\n",
      "step 60, training accuracy 0.201681\n",
      "step 60, cost 264.504\n",
      "step 60, change in cost0.0135803\n",
      "step 70, training accuracy 0.201681\n",
      "step 70, cost 264.365\n",
      "step 70, change in cost0.139008\n",
      "step 80, training accuracy 0.201681\n",
      "step 80, cost 263.533\n",
      "step 80, change in cost0.832153\n",
      "step 90, training accuracy 0.201681\n",
      "step 90, cost 263.514\n",
      "step 90, change in cost0.0187683\n",
      "step 100, training accuracy 0.201681\n",
      "step 100, cost 263.511\n",
      "step 100, change in cost0.0038147\n",
      "step 110, training accuracy 0.201681\n",
      "step 110, cost 263.508\n",
      "step 110, change in cost0.00219727\n",
      "step 120, training accuracy 0.201681\n",
      "step 120, cost 263.507\n",
      "step 120, change in cost0.00158691\n",
      "step 130, training accuracy 0.201681\n",
      "step 130, cost 263.506\n",
      "step 130, change in cost0.0012207\n",
      "step 140, training accuracy 0.201681\n",
      "step 140, cost 263.505\n",
      "step 140, change in cost0.00106812\n",
      "step 150, training accuracy 0.201681\n",
      "step 150, cost 263.504\n",
      "step 150, change in cost0.000915527\n",
      "step 160, training accuracy 0.201681\n",
      "step 160, cost 263.503\n",
      "step 160, change in cost0.000823975\n",
      "step 170, training accuracy 0.201681\n",
      "step 170, cost 263.502\n",
      "step 170, change in cost0.000762939\n",
      "step 180, training accuracy 0.201681\n",
      "step 180, cost 263.501\n",
      "step 180, change in cost0.000701904\n",
      "step 190, training accuracy 0.201681\n",
      "step 190, cost 263.501\n",
      "step 190, change in cost0.000701904\n",
      "step 200, training accuracy 0.201681\n",
      "step 200, cost 263.5\n",
      "step 200, change in cost0.000701904\n",
      "step 210, training accuracy 0.201681\n",
      "step 210, cost 263.499\n",
      "step 210, change in cost0.000701904\n",
      "step 220, training accuracy 0.201681\n",
      "step 220, cost 263.499\n",
      "step 220, change in cost0.000732422\n",
      "step 230, training accuracy 0.201681\n",
      "step 230, cost 263.498\n",
      "step 230, change in cost0.000793457\n",
      "step 240, training accuracy 0.201681\n",
      "step 240, cost 263.497\n",
      "step 240, change in cost0.00088501\n",
      "step 250, training accuracy 0.201681\n",
      "step 250, cost 263.496\n",
      "step 250, change in cost0.00100708\n",
      "step 260, training accuracy 0.201681\n",
      "step 260, cost 263.495\n",
      "step 260, change in cost0.00119019\n",
      "step 270, training accuracy 0.201681\n",
      "step 270, cost 263.493\n",
      "step 270, change in cost0.00146484\n",
      "step 280, training accuracy 0.201681\n",
      "step 280, cost 263.491\n",
      "step 280, change in cost0.00189209\n",
      "step 290, training accuracy 0.201681\n",
      "step 290, cost 263.489\n",
      "step 290, change in cost0.00265503\n",
      "step 300, training accuracy 0.201681\n",
      "step 300, cost 263.485\n",
      "step 300, change in cost0.00387573\n",
      "step 310, training accuracy 0.201681\n",
      "step 310, cost 263.478\n",
      "step 310, change in cost0.00650024\n",
      "step 320, training accuracy 0.201681\n",
      "step 320, cost 263.465\n",
      "step 320, change in cost0.0129395\n",
      "step 330, training accuracy 0.201681\n",
      "step 330, cost 263.429\n",
      "step 330, change in cost0.0358276\n",
      "step 340, training accuracy 0.201681\n",
      "step 340, cost 263.257\n",
      "step 340, change in cost0.172852\n",
      "step 350, training accuracy 0.201681\n",
      "step 350, cost 263.042\n",
      "step 350, change in cost0.214508\n",
      "step 360, training accuracy 0.201681\n",
      "step 360, cost 263.017\n",
      "step 360, change in cost0.0255432\n",
      "step 370, training accuracy 0.201681\n",
      "step 370, cost 263.01\n",
      "step 370, change in cost0.00646973\n",
      "step 380, training accuracy 0.201681\n",
      "step 380, cost 263.007\n",
      "step 380, change in cost0.00280762\n",
      "step 390, training accuracy 0.201681\n",
      "step 390, cost 263.006\n",
      "step 390, change in cost0.00158691\n",
      "step 400, training accuracy 0.201681\n",
      "step 400, cost 263.005\n",
      "step 400, change in cost0.0010376\n",
      "step 410, training accuracy 0.201681\n",
      "step 410, cost 263.004\n",
      "step 410, change in cost0.000732422\n",
      "step 420, training accuracy 0.201681\n",
      "step 420, cost 263.003\n",
      "step 420, change in cost0.000579834\n",
      "step 430, training accuracy 0.201681\n",
      "step 430, cost 263.003\n",
      "step 430, change in cost0.000427246\n",
      "step 440, training accuracy 0.201681\n",
      "step 440, cost 263.003\n",
      "step 440, change in cost0.000366211\n",
      "step 450, training accuracy 0.201681\n",
      "step 450, cost 263.002\n",
      "step 450, change in cost0.000335693\n",
      "step 460, training accuracy 0.201681\n",
      "step 460, cost 263.002\n",
      "step 460, change in cost0.000305176\n",
      "step 470, training accuracy 0.201681\n",
      "step 470, cost 263.002\n",
      "step 470, change in cost0.000274658\n",
      "step 480, training accuracy 0.201681\n",
      "step 480, cost 263.001\n",
      "step 480, change in cost0.000213623\n",
      "step 490, training accuracy 0.201681\n",
      "step 490, cost 263.001\n",
      "step 490, change in cost0.000213623\n",
      "step 500, training accuracy 0.201681\n",
      "step 500, cost 263.001\n",
      "step 500, change in cost0.000244141\n",
      "step 510, training accuracy 0.201681\n",
      "step 510, cost 263.001\n",
      "step 510, change in cost0.000213623\n",
      "step 520, training accuracy 0.201681\n",
      "step 520, cost 263.001\n",
      "step 520, change in cost0.000183105\n",
      "step 530, training accuracy 0.201681\n",
      "step 530, cost 263\n",
      "step 530, change in cost0.000213623\n",
      "step 540, training accuracy 0.201681\n",
      "step 540, cost 263\n",
      "step 540, change in cost0.000244141\n",
      "step 550, training accuracy 0.201681\n",
      "step 550, cost 263\n",
      "step 550, change in cost0.000244141\n",
      "step 560, training accuracy 0.201681\n",
      "step 560, cost 263\n",
      "step 560, change in cost0.000213623\n",
      "step 570, training accuracy 0.201681\n",
      "step 570, cost 262.999\n",
      "step 570, change in cost0.000274658\n",
      "step 580, training accuracy 0.201681\n",
      "step 580, cost 262.999\n",
      "step 580, change in cost0.000244141\n",
      "step 590, training accuracy 0.201681\n",
      "step 590, cost 262.999\n",
      "step 590, change in cost0.000335693\n",
      "step 600, training accuracy 0.201681\n",
      "step 600, cost 262.998\n",
      "step 600, change in cost0.000335693\n",
      "step 610, training accuracy 0.201681\n",
      "step 610, cost 262.998\n",
      "step 610, change in cost0.000366211\n",
      "step 620, training accuracy 0.201681\n",
      "step 620, cost 262.998\n",
      "step 620, change in cost0.000427246\n",
      "step 630, training accuracy 0.201681\n",
      "step 630, cost 262.997\n",
      "step 630, change in cost0.000549316\n",
      "step 640, training accuracy 0.201681\n",
      "step 640, cost 262.996\n",
      "step 640, change in cost0.000640869\n",
      "step 650, training accuracy 0.201681\n",
      "step 650, cost 262.996\n",
      "step 650, change in cost0.000793457\n",
      "step 660, training accuracy 0.201681\n",
      "step 660, cost 262.995\n",
      "step 660, change in cost0.0010376\n",
      "step 670, training accuracy 0.201681\n",
      "step 670, cost 262.993\n",
      "step 670, change in cost0.00140381\n",
      "step 680, training accuracy 0.201681\n",
      "step 680, cost 262.991\n",
      "step 680, change in cost0.00201416\n",
      "step 690, training accuracy 0.201681\n",
      "step 690, cost 262.988\n",
      "step 690, change in cost0.00326538\n",
      "step 700, training accuracy 0.201681\n",
      "step 700, cost 262.982\n",
      "step 700, change in cost0.00585938\n",
      "step 710, training accuracy 0.201681\n",
      "step 710, cost 262.968\n",
      "step 710, change in cost0.0136719\n",
      "step 720, training accuracy 0.201681\n",
      "step 720, cost 262.913\n",
      "step 720, change in cost0.0557251\n",
      "step 730, training accuracy 0.201681\n",
      "step 730, cost 262.574\n",
      "step 730, change in cost0.338623\n",
      "step 740, training accuracy 0.201681\n",
      "step 740, cost 262.513\n",
      "step 740, change in cost0.0607605\n",
      "step 750, training accuracy 0.201681\n",
      "step 750, cost 262.502\n",
      "step 750, change in cost0.0109558\n",
      "step 760, training accuracy 0.201681\n",
      "step 760, cost 262.005\n",
      "step 760, change in cost0.49704\n",
      "step 770, training accuracy 0.201681\n",
      "step 770, cost 262.003\n",
      "step 770, change in cost0.00253296\n",
      "step 780, training accuracy 0.201681\n",
      "step 780, cost 262.002\n",
      "step 780, change in cost0.000427246\n",
      "step 790, training accuracy 0.201681\n",
      "step 790, cost 262.002\n",
      "step 790, change in cost0.000244141\n",
      "step 800, training accuracy 0.201681\n",
      "step 800, cost 262.002\n",
      "step 800, change in cost0.00012207\n",
      "step 810, training accuracy 0.201681\n",
      "step 810, cost 262.002\n",
      "step 810, change in cost0.00012207\n",
      "step 820, training accuracy 0.201681\n",
      "step 820, cost 262.002\n",
      "step 820, change in cost0.00012207\n",
      "step 830, training accuracy 0.201681\n",
      "step 830, cost 262.002\n",
      "step 830, change in cost6.10352e-05\n",
      "change in cost6.10352e-05; convergence.\n",
      "final accuracy on test set: 0.166667\n"
     ]
    },
    {
     "data": {
      "image/png": "[encoded data removed]",
      "text/plain": [
       "<matplotlib.figure.Figure at 0x10fd94c50>"
      ]
     },
     "metadata": {},
     "output_type": "display_data"
    }
   ],
   "source": [
    "# GRAPH LIVE UPDATING\n",
    "epoch_values = []\n",
    "accuracy_values = []\n",
    "cost_values = []\n",
    "# Turn on interactive plotting\n",
    "plt.ion()\n",
    "# Create the main, super plot\n",
    "fig = plt.figure()\n",
    "# Create two subplots on their own axes and give titles\n",
    "ax1 = plt.subplot(\"211\")\n",
    "ax1.set_title(\"TRAINING ACCURACY\", fontsize=18)\n",
    "ax2 = plt.subplot(\"212\")\n",
    "ax2.set_title(\"TRAINING COST\", fontsize=18)\n",
    "plt.tight_layout()\n",
    "\n",
    "# RUN THE GRAPH\n",
    "\n",
    "# Create a tensorflow session\n",
    "sess = tf.Session()\n",
    "# Initialize all tensorflow variables\n",
    "sess.run(init_OP)\n",
    "\n",
    "# Ops for vizualization\n",
    "# argmax(activation_OP, 1) gives the label our model thought was most likely\n",
    "# argmax(yGold, 1) is the correct label\n",
    "correct_predictions_OP = tf.equal(tf.argmax(activation_OP, 1), tf.argmax(yGold, 1))\n",
    "# False is 0 and True is 1, what was our average?\n",
    "accuracy_OP = tf.reduce_mean(tf.cast(correct_predictions_OP, \"float\"))\n",
    "# Summary op for regression output\n",
    "activation_summary_OP = tf.histogram_summary(\"output\", activation_OP)\n",
    "# Summary op for accuracy\n",
    "accuracy_summary_OP = tf.scalar_summary(\"accuracy\", accuracy_OP)\n",
    "# Summary op for cost\n",
    "cost_summary_OP = tf.scalar_summary(\"cost\", cost_OP)\n",
    "# Summary ops to check how variables (W, b) are updating after each iteration\n",
    "weightSummary = tf.histogram_summary(\"weights\", weights.eval(session=sess))\n",
    "biasSummary = tf.histogram_summary(\"biases\", bias.eval(session=sess))\n",
    "# Merge all summaries\n",
    "all_summary_OPS = tf.merge_all_summaries()\n",
    "# Summary writer\n",
    "writer = tf.train.SummaryWriter(\"summary_logs\", sess.graph)\n",
    "\n",
    "# Initialize reporting variables\n",
    "cost = 0\n",
    "diff = 1\n",
    "\n",
    "# Training epochs\n",
    "for i in range(numEpochs):\n",
    "    if i > 1 and diff < .0001:\n",
    "        print(\"change in cost%g; convergence.\"%diff)\n",
    "        break\n",
    "    else:\n",
    "        # Run training step\n",
    "        step = sess.run(training_OP, feed_dict={X: trainX, yGold: trainY})\n",
    "        # Report occasional stats\n",
    "        if i % 10 == 0:\n",
    "            # Add epoch to epoch_values\n",
    "            epoch_values.append(i)\n",
    "            # Generate accuracy stats on test data\n",
    "            summary_results, train_accuracy, newCost = sess.run(\n",
    "                [all_summary_OPS, accuracy_OP, cost_OP],\n",
    "                feed_dict = {X: trainX, yGold: trainY}\n",
    "            )\n",
    "            # Add accuracy to live graphing variable\n",
    "            accuracy_values.append(train_accuracy)\n",
    "            # Add cost to live graphing variable\n",
    "            cost_values.append(newCost)\n",
    "            # Write summary stats to writer\n",
    "            writer.add_summary(summary_results, i)\n",
    "            # Re-assign values for variables\n",
    "            diff = abs(newCost - cost)\n",
    "            cost = newCost\n",
    "            \n",
    "            # generate print statements\n",
    "            print(\"step %d, training accuracy %g\"%(i, train_accuracy))\n",
    "            print(\"step %d, cost %g\"%(i, newCost))\n",
    "            print(\"step %d, change in cost%g\"%(i, diff))\n",
    "            \n",
    "            # Plot progress to our two subplots\n",
    "            accuracyLine, = ax1.plot(epoch_values, accuracy_values)\n",
    "            costLine, = ax2.plot(epoch_values, cost_values)\n",
    "            fig.canvas.draw()\n",
    "            time.sleep(1)\n",
    "\n",
    "# How well do we perform on held-out test data?\n",
    "print(\"final accuracy on test set: %s\" %str(sess.run(accuracy_OP, feed_dict={X: testX, yGold: testY})))"
   ]
  },
  {
   "cell_type": "markdown",
   "metadata": {},
   "source": [
    "Save the Trained Variables"
   ]
  },
  {
   "cell_type": "code",
   "execution_count": null,
   "metadata": {
    "collapsed": true
   },
   "outputs": [],
   "source": [
    "# Create Saver\n",
    "# saver = tf.train.Saver()\n",
    "# Save variables to .ckpt file\n",
    "# saver.save(sess, \"trained_variables.ckpt\")\n",
    "\n",
    "# Close tensorflow session\n",
    "sess.close()"
   ]
  }
 ],
 "metadata": {
  "anaconda-cloud": {},
  "kernelspec": {
   "display_name": "Python [tensorflow]",
   "language": "python",
   "name": "Python [tensorflow]"
  },
  "language_info": {
   "codemirror_mode": {
    "name": "ipython",
    "version": 2
   },
   "file_extension": ".py",
   "mimetype": "text/x-python",
   "name": "python",
   "nbconvert_exporter": "python",
   "pygments_lexer": "ipython2",
   "version": "2.7.12"
  }
 },
 "nbformat": 4,
 "nbformat_minor": 0
}
